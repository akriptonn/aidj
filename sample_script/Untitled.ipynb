{
 "cells": [
  {
   "cell_type": "code",
   "execution_count": null,
   "metadata": {},
   "outputs": [],
   "source": [
    "#Load The library, Make sure the library and the script in same folder"
   ]
  },
  {
   "cell_type": "code",
   "execution_count": 1,
   "metadata": {},
   "outputs": [],
   "source": [
    "\n",
    "\n",
    "import sys\n",
    "sys.path.append(\"..\") # Adds higher directory to python modules path.\n",
    "\n",
    "import mss"
   ]
  },
  {
   "cell_type": "code",
   "execution_count": 2,
   "metadata": {},
   "outputs": [],
   "source": [
    "#Instantiate MusicSelectionSystem Library, and Load config file with music Path"
   ]
  },
  {
   "cell_type": "code",
   "execution_count": 3,
   "metadata": {},
   "outputs": [
    {
     "name": "stdout",
     "output_type": "stream",
     "text": [
      "The ../ujicoba\\01 Kristianex _ Roy Orion - Arcane (Extended.wav songs format not supported, skipped\n",
      "The ../ujicoba\\01 Siks _ Alex Pizzuti - Vibe (Extended Mix).wav songs format not supported, skipped\n"
     ]
    }
   ],
   "source": [
    "ms = mss.MusicSelectionSystem('../config/mss.json','../ujicoba')"
   ]
  },
  {
   "cell_type": "code",
   "execution_count": 12,
   "metadata": {},
   "outputs": [
    {
     "data": {
      "text/plain": [
       "'../ujicoba\\\\02 Alone (feat. Stefflon Don) [Calvin Harris.mp3'"
      ]
     },
     "execution_count": 12,
     "metadata": {},
     "output_type": "execute_result"
    }
   ],
   "source": [
    "ms.getNextMusic()"
   ]
  },
  {
   "cell_type": "code",
   "execution_count": null,
   "metadata": {},
   "outputs": [],
   "source": [
    "#show all music stored in MSS"
   ]
  },
  {
   "cell_type": "code",
   "execution_count": null,
   "metadata": {},
   "outputs": [],
   "source": []
  },
  {
   "cell_type": "code",
   "execution_count": null,
   "metadata": {},
   "outputs": [],
   "source": [
    "ms.Database.ref_song_list"
   ]
  },
  {
   "cell_type": "code",
   "execution_count": null,
   "metadata": {},
   "outputs": [],
   "source": [
    "#add new music to MSS and show stored music in MSS"
   ]
  },
  {
   "cell_type": "code",
   "execution_count": null,
   "metadata": {},
   "outputs": [],
   "source": [
    "ms.addSong('../Thesis/Dataset/files/FUTURE HOUSE/ϟ Merk _ Kremont - Turn It Around (Original .mp3')\n",
    "ms.Database.ref_song_list"
   ]
  },
  {
   "cell_type": "code",
   "execution_count": null,
   "metadata": {},
   "outputs": [],
   "source": [
    "#Show music in each key"
   ]
  },
  {
   "cell_type": "code",
   "execution_count": null,
   "metadata": {},
   "outputs": [],
   "source": [
    "from mss.util import fileParser\n",
    "tfa = fileParser.parse_args_json(ms.settings, {'key_models': {\"iterator\":\"id\", \"feature\":'name'}})['key_models']\n",
    "ms.Database.mainArr[1]\n",
    "num = 0\n",
    "for musics in ms.Database.mainArr[1]:\n",
    "    try:\n",
    "        print(tfa[num])\n",
    "    except:\n",
    "        continue\n",
    "    num +=1\n",
    "    for music in musics:\n",
    "        print(ms.Database.ref_song_list[music])"
   ]
  },
  {
   "cell_type": "code",
   "execution_count": null,
   "metadata": {},
   "outputs": [],
   "source": [
    "#show music in each genre"
   ]
  },
  {
   "cell_type": "code",
   "execution_count": null,
   "metadata": {},
   "outputs": [],
   "source": [
    "from mss.util import fileParser\n",
    "tfa = fileParser.parse_args_json(ms.settings, {'genre_models': {\"iterator\":\"id\", \"feature\":'name'}})['genre_models']\n",
    "ms.Database.mainArr[0]\n",
    "num = 0\n",
    "for musics in ms.Database.mainArr[0]:\n",
    "    try:\n",
    "        print(tfa[num])\n",
    "    except:\n",
    "        continue\n",
    "    num +=1\n",
    "    for music in musics:\n",
    "        print(ms.Database.ref_song_list[music])"
   ]
  },
  {
   "cell_type": "code",
   "execution_count": null,
   "metadata": {},
   "outputs": [],
   "source": [
    "#show how to produce cache from music library"
   ]
  },
  {
   "cell_type": "code",
   "execution_count": null,
   "metadata": {},
   "outputs": [],
   "source": [
    "import mss\n",
    "mss.exportCache('../Thesis/Dataset/files', 'tmp/complete.bin')"
   ]
  },
  {
   "cell_type": "code",
   "execution_count": null,
   "metadata": {},
   "outputs": [],
   "source": [
    "#unit testing"
   ]
  },
  {
   "cell_type": "code",
   "execution_count": null,
   "metadata": {},
   "outputs": [],
   "source": [
    "import sys\n",
    "sys.path.append(\"..\") # Adds higher directory to python modules path.\n"
   ]
  },
  {
   "cell_type": "code",
   "execution_count": null,
   "metadata": {},
   "outputs": [],
   "source": [
    "from mss.core.MusicLoader import MusicLoader"
   ]
  },
  {
   "cell_type": "code",
   "execution_count": null,
   "metadata": {},
   "outputs": [],
   "source": [
    "ml = MusicLoader()"
   ]
  },
  {
   "cell_type": "code",
   "execution_count": null,
   "metadata": {},
   "outputs": [],
   "source": [
    "ml.retrieveDataset(\"D:\\\\Music\")"
   ]
  },
  {
   "cell_type": "code",
   "execution_count": null,
   "metadata": {},
   "outputs": [],
   "source": [
    "ml.retrieveDataset('D:\\\\Music\\\\[►] Third Party, Pete K, Cory Lasser - Like .mp3')"
   ]
  },
  {
   "cell_type": "code",
   "execution_count": null,
   "metadata": {},
   "outputs": [],
   "source": [
    "ml.retrieveDataset('D:\\\\tzt.txt')"
   ]
  },
  {
   "cell_type": "code",
   "execution_count": null,
   "metadata": {},
   "outputs": [],
   "source": [
    "ml.retrieveDataset('D:\\\\Legacy\\\\hw2\\\\hw2')"
   ]
  },
  {
   "cell_type": "code",
   "execution_count": null,
   "metadata": {},
   "outputs": [],
   "source": [
    "from mss.core.MusicLoader import MusicLoader\n",
    "from mss.core.Storage import Storage"
   ]
  },
  {
   "cell_type": "code",
   "execution_count": null,
   "metadata": {},
   "outputs": [],
   "source": [
    "stor = Storage(\"tesuto/bin.bin\", ['satu', 'dua'])"
   ]
  },
  {
   "cell_type": "code",
   "execution_count": null,
   "metadata": {},
   "outputs": [],
   "source": [
    "stor.addData({\"satu\": [1,1,1,1], \"dua\": [2,2,2,2]})"
   ]
  },
  {
   "cell_type": "code",
   "execution_count": null,
   "metadata": {},
   "outputs": [],
   "source": [
    "stor.data"
   ]
  },
  {
   "cell_type": "code",
   "execution_count": null,
   "metadata": {},
   "outputs": [],
   "source": [
    "stor.addColumn([\"satu\", \"dua\"])"
   ]
  },
  {
   "cell_type": "code",
   "execution_count": null,
   "metadata": {},
   "outputs": [],
   "source": [
    "stor.data"
   ]
  },
  {
   "cell_type": "code",
   "execution_count": null,
   "metadata": {},
   "outputs": [],
   "source": [
    "stor.removeColumn(\"dua\")"
   ]
  },
  {
   "cell_type": "code",
   "execution_count": null,
   "metadata": {},
   "outputs": [],
   "source": [
    "stor.data"
   ]
  },
  {
   "cell_type": "code",
   "execution_count": null,
   "metadata": {},
   "outputs": [],
   "source": [
    "stor.resetStorage()"
   ]
  },
  {
   "cell_type": "code",
   "execution_count": null,
   "metadata": {},
   "outputs": [],
   "source": [
    "stor.data"
   ]
  },
  {
   "cell_type": "code",
   "execution_count": null,
   "metadata": {},
   "outputs": [],
   "source": [
    "stor.loadStorage()"
   ]
  },
  {
   "cell_type": "code",
   "execution_count": null,
   "metadata": {},
   "outputs": [],
   "source": [
    "stor._list_column_"
   ]
  },
  {
   "cell_type": "code",
   "execution_count": null,
   "metadata": {},
   "outputs": [],
   "source": [
    "ml = MusicLoader()\n",
    "data = {\n",
    "                'spectral_contrast' : [],\n",
    "                'song_dir': [],\n",
    "                'melspectogram': []\n",
    "        }\n",
    "stor.addColumn(['spectral_contrast', 'song_dir', 'melspectogram'])\n",
    "# check is the song exist in the storage or not\n",
    "if ('D:\\\\Music\\\\[►] Third Party, Pete K, Cory Lasser - Like .mp3' in stor.data['song_dir']):\n",
    "    print(\"shouldnt run this\")\n",
    "    stor.data['spectral_contrast'] = stor.data['spectral_contrast'][stor.data['song_dir'].index('D:\\\\Music\\\\[►] Third Party, Pete K, Cory Lasser - Like .mp3')]\n",
    "    stor.data['melspectogram'] = stor.data['spectral_contrast'][stor.data['song_dir'].index('D:\\\\Music\\\\[►] Third Party, Pete K, Cory Lasser - Like .mp3')]\n",
    "else: \n",
    "    print(\"should run this\")\n",
    "    data = ml.retrieveDataset('D:\\\\Music\\\\[►] Third Party, Pete K, Cory Lasser - Like .mp3')\n",
    "    stor.addData(data)\n",
    "    \n",
    "if ('D:\\\\Music\\\\[►] Third Party, Pete K, Cory Lasser - Like .mp3' in stor.data['song_dir']):\n",
    "    print(\"should run this\")\n",
    "    data['spectral_contrast'] = stor.data['spectral_contrast'][stor.data['song_dir'].index('D:\\\\Music\\\\[►] Third Party, Pete K, Cory Lasser - Like .mp3')]\n",
    "    data['melspectogram'] = stor.data['spectral_contrast'][stor.data['song_dir'].index('D:\\\\Music\\\\[►] Third Party, Pete K, Cory Lasser - Like .mp3')]\n",
    "    \n",
    "else: \n",
    "    print(\"shouldnt run this\")\n",
    "    ml.retrieveDataset('D:\\\\Music\\\\[►] Third Party, Pete K, Cory Lasser - Like .mp3')\n",
    "    stor.addData(data)\n",
    "    \n",
    "if ('D:\\\\Music\\\\Valy Mo - Brain Rock [www.slider.kz].mp3' in stor.data['song_dir']):\n",
    "    print(\"shouldnt run this\")\n",
    "    data['spectral_contrast'] = stor.data['spectral_contrast'][stor.data['song_dir'].index('D:\\\\Music\\\\Valy Mo - Brain Rock [www.slider.kz].mp3')]\n",
    "    data['melspectogram'] = stor.data['spectral_contrast'][stor.data['song_dir'].index('D:\\\\Music\\\\Valy Mo - Brain Rock [www.slider.kz].mp3')]\n",
    "else: \n",
    "    print(\"should run this\")\n",
    "    ml.retrieveDataset('D:\\\\Music\\\\Valy Mo - Brain Rock [www.slider.kz].mp3')\n",
    "    stor.addData(data)\n"
   ]
  },
  {
   "cell_type": "code",
   "execution_count": null,
   "metadata": {},
   "outputs": [],
   "source": [
    "stor.data"
   ]
  },
  {
   "cell_type": "code",
   "execution_count": null,
   "metadata": {},
   "outputs": [],
   "source": []
  }
 ],
 "metadata": {
  "kernelspec": {
   "display_name": "Python 3 (ipykernel)",
   "language": "python",
   "name": "python3"
  },
  "language_info": {
   "codemirror_mode": {
    "name": "ipython",
    "version": 3
   },
   "file_extension": ".py",
   "mimetype": "text/x-python",
   "name": "python",
   "nbconvert_exporter": "python",
   "pygments_lexer": "ipython3",
   "version": "3.8.11"
  }
 },
 "nbformat": 4,
 "nbformat_minor": 4
}
