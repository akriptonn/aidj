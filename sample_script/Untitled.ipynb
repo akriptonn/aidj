{
 "cells": [
  {
   "cell_type": "code",
   "execution_count": null,
   "metadata": {},
   "outputs": [],
   "source": [
    "#Load The library, Make sure the library and the script in same folder"
   ]
  },
  {
   "cell_type": "code",
   "execution_count": 6,
   "metadata": {},
   "outputs": [],
   "source": [
    "\n",
    "\n",
    "import sys\n",
    "sys.path.append(\"..\") # Adds higher directory to python modules path.\n",
    "\n",
    "import mss"
   ]
  },
  {
   "cell_type": "code",
   "execution_count": 5,
   "metadata": {},
   "outputs": [],
   "source": [
    "#Instantiate MusicSelectionSystem Library, and Load config file with music Path"
   ]
  },
  {
   "cell_type": "code",
   "execution_count": 10,
   "metadata": {},
   "outputs": [
    {
     "name": "stdout",
     "output_type": "stream",
     "text": [
      "../../Thesis/Dataset/tesuto\n",
      "missing KEVU x SaberZ - Dream Team (Extended Mix) [www.slider.kz].mp3\n"
     ]
    },
    {
     "name": "stderr",
     "output_type": "stream",
     "text": [
      "/home/akriptonn/anaconda3/envs/aidj/lib/python3.8/site-packages/librosa/core/audio.py:162: UserWarning: PySoundFile failed. Trying audioread instead.\n",
      "  warnings.warn(\"PySoundFile failed. Trying audioread instead.\")\n"
     ]
    },
    {
     "name": "stdout",
     "output_type": "stream",
     "text": [
      "(65, 13)\n",
      "(65, 13)\n",
      "(65, 13)\n",
      "(65, 13)\n",
      "(65, 13)\n",
      "(65, 13)\n",
      "(65, 13)\n",
      "(65, 13)\n",
      "(65, 13)\n",
      "(65, 13)\n",
      "[3, 3, 3, 1]\n",
      "['../../Thesis/Dataset/tesuto/13355827_Like_This_Club_Mix.mp3', '../../Thesis/Dataset/tesuto/13587149_Click_Original_Mix.mp3', '../../Thesis/Dataset/tesuto/21. Guru Josh Projekt vs Blinders and more -.mp3', '../../Thesis/Dataset/tesuto/KEVU x SaberZ - Dream Team (Extended Mix) [www.slider.kz].mp3']\n",
      "(0, 3)\n",
      "(1, 3)\n",
      "(2, 3)\n",
      "(3, 1)\n",
      "['../../Thesis/Dataset/tesuto/KEVU x SaberZ - Dream Team (Extended Mix) [www.slider.kz].mp3', '../../Thesis/Dataset/tesuto/13355827_Like_This_Club_Mix.mp3', '../../Thesis/Dataset/tesuto/13587149_Click_Original_Mix.mp3', '../../Thesis/Dataset/tesuto/21. Guru Josh Projekt vs Blinders and more -.mp3']\n"
     ]
    }
   ],
   "source": [
    "ms = mss.MusicSelectionSystem('../config/mss.json','../../Thesis/Dataset/tesuto')"
   ]
  },
  {
   "cell_type": "code",
   "execution_count": null,
   "metadata": {},
   "outputs": [],
   "source": [
    "#Get the next music to be played"
   ]
  },
  {
   "cell_type": "code",
   "execution_count": 14,
   "metadata": {},
   "outputs": [
    {
     "name": "stdout",
     "output_type": "stream",
     "text": [
      "Not found\n",
      "1 8\n"
     ]
    },
    {
     "data": {
      "text/plain": [
       "'../Thesis/Dataset/tesuto/13587149_Click_Original_Mix.mp3'"
      ]
     },
     "execution_count": 14,
     "metadata": {},
     "output_type": "execute_result"
    }
   ],
   "source": [
    "ms.getNextMusic(crowd=1)"
   ]
  },
  {
   "cell_type": "code",
   "execution_count": null,
   "metadata": {},
   "outputs": [],
   "source": [
    "#show all music stored in MSS"
   ]
  },
  {
   "cell_type": "code",
   "execution_count": 4,
   "metadata": {},
   "outputs": [
    {
     "data": {
      "text/plain": [
       "['../Thesis/Dataset/tesuto/KEVU x SaberZ - Dream Team (Extended Mix) [www.slider.kz].mp3',\n",
       " '../Thesis/Dataset/tesuto/13355827_Like_This_Club_Mix.mp3',\n",
       " '../Thesis/Dataset/tesuto/13587149_Click_Original_Mix.mp3',\n",
       " '../Thesis/Dataset/tesuto/21. Guru Josh Projekt vs Blinders and more -.mp3']"
      ]
     },
     "execution_count": 4,
     "metadata": {},
     "output_type": "execute_result"
    }
   ],
   "source": [
    "ms.Database.ref_song_list"
   ]
  },
  {
   "cell_type": "code",
   "execution_count": null,
   "metadata": {},
   "outputs": [],
   "source": [
    "#add new music to MSS and show stored music in MSS"
   ]
  },
  {
   "cell_type": "code",
   "execution_count": null,
   "metadata": {},
   "outputs": [],
   "source": [
    "ms.addSong('../Thesis/Dataset/files/FUTURE HOUSE/ϟ Merk _ Kremont - Turn It Around (Original .mp3')\n",
    "ms.Database.ref_song_list"
   ]
  },
  {
   "cell_type": "code",
   "execution_count": null,
   "metadata": {},
   "outputs": [],
   "source": [
    "#Show music in each key"
   ]
  },
  {
   "cell_type": "code",
   "execution_count": null,
   "metadata": {},
   "outputs": [],
   "source": [
    "from mss.util import fileParser\n",
    "tfa = fileParser.parse_args_json(ms.settings, {'key_models': {\"iterator\":\"id\", \"feature\":'name'}})['key_models']\n",
    "ms.Database.mainArr[1]\n",
    "num = 0\n",
    "for musics in ms.Database.mainArr[1]:\n",
    "    try:\n",
    "        print(tfa[num])\n",
    "    except:\n",
    "        continue\n",
    "    num +=1\n",
    "    for music in musics:\n",
    "        print(ms.Database.ref_song_list[music])"
   ]
  },
  {
   "cell_type": "code",
   "execution_count": null,
   "metadata": {},
   "outputs": [],
   "source": [
    "#show music in each genre"
   ]
  },
  {
   "cell_type": "code",
   "execution_count": null,
   "metadata": {},
   "outputs": [],
   "source": [
    "from mss.util import fileParser\n",
    "tfa = fileParser.parse_args_json(ms.settings, {'genre_models': {\"iterator\":\"id\", \"feature\":'name'}})['genre_models']\n",
    "ms.Database.mainArr[0]\n",
    "num = 0\n",
    "for musics in ms.Database.mainArr[0]:\n",
    "    try:\n",
    "        print(tfa[num])\n",
    "    except:\n",
    "        continue\n",
    "    num +=1\n",
    "    for music in musics:\n",
    "        print(ms.Database.ref_song_list[music])"
   ]
  },
  {
   "cell_type": "code",
   "execution_count": null,
   "metadata": {},
   "outputs": [],
   "source": [
    "#show how to produce cache from music library"
   ]
  },
  {
   "cell_type": "code",
   "execution_count": 15,
   "metadata": {},
   "outputs": [
    {
     "name": "stdout",
     "output_type": "stream",
     "text": [
      "\n",
      "Processing files\n",
      "\n",
      "Processing ELECTRO HOUSE\n"
     ]
    },
    {
     "name": "stderr",
     "output_type": "stream",
     "text": [
      "/home/akriptonn/anaconda3/envs/aidj/lib/python3.8/site-packages/librosa/core/audio.py:162: UserWarning: PySoundFile failed. Trying audioread instead.\n",
      "  warnings.warn(\"PySoundFile failed. Trying audioread instead.\")\n"
     ]
    },
    {
     "name": "stdout",
     "output_type": "stream",
     "text": [
      "(65, 13)\n",
      "(65, 13)\n",
      "(65, 13)\n",
      "(65, 13)\n",
      "(65, 13)\n",
      "(65, 13)\n",
      "(65, 13)\n",
      "(65, 13)\n",
      "(65, 13)\n",
      "(65, 13)\n"
     ]
    },
    {
     "name": "stderr",
     "output_type": "stream",
     "text": [
      "/home/akriptonn/anaconda3/envs/aidj/lib/python3.8/site-packages/librosa/core/audio.py:162: UserWarning: PySoundFile failed. Trying audioread instead.\n",
      "  warnings.warn(\"PySoundFile failed. Trying audioread instead.\")\n"
     ]
    },
    {
     "name": "stdout",
     "output_type": "stream",
     "text": [
      "(65, 13)\n",
      "(65, 13)\n",
      "(65, 13)\n",
      "(65, 13)\n",
      "(65, 13)\n",
      "(65, 13)\n",
      "(65, 13)\n",
      "(65, 13)\n",
      "(65, 13)\n",
      "(65, 13)\n"
     ]
    },
    {
     "name": "stderr",
     "output_type": "stream",
     "text": [
      "/home/akriptonn/anaconda3/envs/aidj/lib/python3.8/site-packages/librosa/core/audio.py:162: UserWarning: PySoundFile failed. Trying audioread instead.\n",
      "  warnings.warn(\"PySoundFile failed. Trying audioread instead.\")\n"
     ]
    },
    {
     "name": "stdout",
     "output_type": "stream",
     "text": [
      "(65, 13)\n",
      "(65, 13)\n",
      "(65, 13)\n",
      "(65, 13)\n",
      "(65, 13)\n",
      "(65, 13)\n",
      "(65, 13)\n",
      "(65, 13)\n",
      "(65, 13)\n",
      "(65, 13)\n"
     ]
    },
    {
     "name": "stderr",
     "output_type": "stream",
     "text": [
      "/home/akriptonn/anaconda3/envs/aidj/lib/python3.8/site-packages/librosa/core/audio.py:162: UserWarning: PySoundFile failed. Trying audioread instead.\n",
      "  warnings.warn(\"PySoundFile failed. Trying audioread instead.\")\n"
     ]
    },
    {
     "name": "stdout",
     "output_type": "stream",
     "text": [
      "(65, 13)\n",
      "(65, 13)\n",
      "(65, 13)\n",
      "(65, 13)\n",
      "(65, 13)\n",
      "(65, 13)\n",
      "(65, 13)\n",
      "(65, 13)\n",
      "(65, 13)\n",
      "(65, 13)\n"
     ]
    },
    {
     "name": "stderr",
     "output_type": "stream",
     "text": [
      "/home/akriptonn/anaconda3/envs/aidj/lib/python3.8/site-packages/librosa/core/audio.py:162: UserWarning: PySoundFile failed. Trying audioread instead.\n",
      "  warnings.warn(\"PySoundFile failed. Trying audioread instead.\")\n"
     ]
    },
    {
     "name": "stdout",
     "output_type": "stream",
     "text": [
      "(65, 13)\n",
      "(65, 13)\n",
      "(65, 13)\n",
      "(65, 13)\n",
      "(65, 13)\n",
      "(65, 13)\n",
      "(65, 13)\n",
      "(65, 13)\n",
      "(65, 13)\n",
      "(65, 13)\n"
     ]
    },
    {
     "name": "stderr",
     "output_type": "stream",
     "text": [
      "/home/akriptonn/anaconda3/envs/aidj/lib/python3.8/site-packages/librosa/core/audio.py:162: UserWarning: PySoundFile failed. Trying audioread instead.\n",
      "  warnings.warn(\"PySoundFile failed. Trying audioread instead.\")\n"
     ]
    },
    {
     "name": "stdout",
     "output_type": "stream",
     "text": [
      "(65, 13)\n",
      "(65, 13)\n",
      "(65, 13)\n",
      "(65, 13)\n",
      "(65, 13)\n",
      "(65, 13)\n",
      "(65, 13)\n",
      "(65, 13)\n",
      "(65, 13)\n",
      "(65, 13)\n"
     ]
    },
    {
     "name": "stderr",
     "output_type": "stream",
     "text": [
      "/home/akriptonn/anaconda3/envs/aidj/lib/python3.8/site-packages/librosa/core/audio.py:162: UserWarning: PySoundFile failed. Trying audioread instead.\n",
      "  warnings.warn(\"PySoundFile failed. Trying audioread instead.\")\n"
     ]
    },
    {
     "name": "stdout",
     "output_type": "stream",
     "text": [
      "(65, 13)\n",
      "(65, 13)\n",
      "(65, 13)\n",
      "(65, 13)\n",
      "(65, 13)\n",
      "(65, 13)\n",
      "(65, 13)\n",
      "(65, 13)\n",
      "(65, 13)\n",
      "(65, 13)\n"
     ]
    },
    {
     "name": "stderr",
     "output_type": "stream",
     "text": [
      "/home/akriptonn/anaconda3/envs/aidj/lib/python3.8/site-packages/librosa/core/audio.py:162: UserWarning: PySoundFile failed. Trying audioread instead.\n",
      "  warnings.warn(\"PySoundFile failed. Trying audioread instead.\")\n"
     ]
    },
    {
     "name": "stdout",
     "output_type": "stream",
     "text": [
      "(65, 13)\n",
      "(65, 13)\n",
      "(65, 13)\n",
      "(65, 13)\n",
      "(65, 13)\n",
      "(65, 13)\n",
      "(65, 13)\n",
      "(65, 13)\n",
      "(65, 13)\n",
      "(65, 13)\n"
     ]
    },
    {
     "name": "stderr",
     "output_type": "stream",
     "text": [
      "/home/akriptonn/anaconda3/envs/aidj/lib/python3.8/site-packages/librosa/core/audio.py:162: UserWarning: PySoundFile failed. Trying audioread instead.\n",
      "  warnings.warn(\"PySoundFile failed. Trying audioread instead.\")\n"
     ]
    },
    {
     "name": "stdout",
     "output_type": "stream",
     "text": [
      "(65, 13)\n",
      "(65, 13)\n",
      "(65, 13)\n",
      "(65, 13)\n",
      "(65, 13)\n",
      "(65, 13)\n",
      "(65, 13)\n",
      "(65, 13)\n",
      "(65, 13)\n",
      "(65, 13)\n"
     ]
    },
    {
     "name": "stderr",
     "output_type": "stream",
     "text": [
      "/home/akriptonn/anaconda3/envs/aidj/lib/python3.8/site-packages/librosa/core/audio.py:162: UserWarning: PySoundFile failed. Trying audioread instead.\n",
      "  warnings.warn(\"PySoundFile failed. Trying audioread instead.\")\n"
     ]
    },
    {
     "name": "stdout",
     "output_type": "stream",
     "text": [
      "(65, 13)\n",
      "(65, 13)\n",
      "(65, 13)\n",
      "(65, 13)\n",
      "(65, 13)\n",
      "(65, 13)\n",
      "(65, 13)\n",
      "(65, 13)\n",
      "(65, 13)\n",
      "(65, 13)\n"
     ]
    },
    {
     "name": "stderr",
     "output_type": "stream",
     "text": [
      "/home/akriptonn/anaconda3/envs/aidj/lib/python3.8/site-packages/librosa/core/audio.py:162: UserWarning: PySoundFile failed. Trying audioread instead.\n",
      "  warnings.warn(\"PySoundFile failed. Trying audioread instead.\")\n"
     ]
    },
    {
     "name": "stdout",
     "output_type": "stream",
     "text": [
      "(65, 13)\n",
      "(65, 13)\n",
      "(65, 13)\n",
      "(65, 13)\n",
      "(65, 13)\n",
      "(65, 13)\n",
      "(65, 13)\n",
      "(65, 13)\n",
      "(65, 13)\n",
      "(65, 13)\n"
     ]
    },
    {
     "name": "stderr",
     "output_type": "stream",
     "text": [
      "/home/akriptonn/anaconda3/envs/aidj/lib/python3.8/site-packages/librosa/core/audio.py:162: UserWarning: PySoundFile failed. Trying audioread instead.\n",
      "  warnings.warn(\"PySoundFile failed. Trying audioread instead.\")\n"
     ]
    },
    {
     "name": "stdout",
     "output_type": "stream",
     "text": [
      "(65, 13)\n",
      "(65, 13)\n",
      "(65, 13)\n",
      "(65, 13)\n",
      "(65, 13)\n",
      "(65, 13)\n",
      "(65, 13)\n",
      "(65, 13)\n",
      "(65, 13)\n",
      "(65, 13)\n"
     ]
    },
    {
     "name": "stderr",
     "output_type": "stream",
     "text": [
      "/home/akriptonn/anaconda3/envs/aidj/lib/python3.8/site-packages/librosa/core/audio.py:162: UserWarning: PySoundFile failed. Trying audioread instead.\n",
      "  warnings.warn(\"PySoundFile failed. Trying audioread instead.\")\n"
     ]
    },
    {
     "name": "stdout",
     "output_type": "stream",
     "text": [
      "(65, 13)\n",
      "(65, 13)\n",
      "(65, 13)\n",
      "(65, 13)\n",
      "(65, 13)\n",
      "(65, 13)\n",
      "(65, 13)\n",
      "(65, 13)\n",
      "(65, 13)\n",
      "(65, 13)\n"
     ]
    },
    {
     "name": "stderr",
     "output_type": "stream",
     "text": [
      "/home/akriptonn/anaconda3/envs/aidj/lib/python3.8/site-packages/librosa/core/audio.py:162: UserWarning: PySoundFile failed. Trying audioread instead.\n",
      "  warnings.warn(\"PySoundFile failed. Trying audioread instead.\")\n"
     ]
    },
    {
     "name": "stdout",
     "output_type": "stream",
     "text": [
      "(65, 13)\n",
      "(65, 13)\n",
      "(65, 13)\n",
      "(65, 13)\n",
      "(65, 13)\n",
      "(65, 13)\n",
      "(65, 13)\n",
      "(65, 13)\n",
      "(65, 13)\n",
      "(65, 13)\n"
     ]
    },
    {
     "name": "stderr",
     "output_type": "stream",
     "text": [
      "/home/akriptonn/anaconda3/envs/aidj/lib/python3.8/site-packages/librosa/core/audio.py:162: UserWarning: PySoundFile failed. Trying audioread instead.\n",
      "  warnings.warn(\"PySoundFile failed. Trying audioread instead.\")\n"
     ]
    },
    {
     "name": "stdout",
     "output_type": "stream",
     "text": [
      "(65, 13)\n",
      "(65, 13)\n",
      "(65, 13)\n",
      "(65, 13)\n",
      "(65, 13)\n",
      "(65, 13)\n",
      "(65, 13)\n",
      "(65, 13)\n",
      "(65, 13)\n",
      "(65, 13)\n"
     ]
    },
    {
     "name": "stderr",
     "output_type": "stream",
     "text": [
      "/home/akriptonn/anaconda3/envs/aidj/lib/python3.8/site-packages/librosa/core/audio.py:162: UserWarning: PySoundFile failed. Trying audioread instead.\n",
      "  warnings.warn(\"PySoundFile failed. Trying audioread instead.\")\n"
     ]
    },
    {
     "name": "stdout",
     "output_type": "stream",
     "text": [
      "(65, 13)\n",
      "(65, 13)\n",
      "(65, 13)\n",
      "(65, 13)\n",
      "(65, 13)\n",
      "(65, 13)\n",
      "(65, 13)\n",
      "(65, 13)\n",
      "(65, 13)\n",
      "(65, 13)\n"
     ]
    },
    {
     "name": "stderr",
     "output_type": "stream",
     "text": [
      "/home/akriptonn/anaconda3/envs/aidj/lib/python3.8/site-packages/librosa/core/audio.py:162: UserWarning: PySoundFile failed. Trying audioread instead.\n",
      "  warnings.warn(\"PySoundFile failed. Trying audioread instead.\")\n"
     ]
    },
    {
     "name": "stdout",
     "output_type": "stream",
     "text": [
      "(65, 13)\n",
      "(65, 13)\n",
      "(65, 13)\n",
      "(65, 13)\n",
      "(65, 13)\n",
      "(65, 13)\n",
      "(65, 13)\n",
      "(65, 13)\n",
      "(65, 13)\n",
      "(65, 13)\n"
     ]
    },
    {
     "name": "stderr",
     "output_type": "stream",
     "text": [
      "/home/akriptonn/anaconda3/envs/aidj/lib/python3.8/site-packages/librosa/core/audio.py:162: UserWarning: PySoundFile failed. Trying audioread instead.\n",
      "  warnings.warn(\"PySoundFile failed. Trying audioread instead.\")\n"
     ]
    },
    {
     "name": "stdout",
     "output_type": "stream",
     "text": [
      "(65, 13)\n",
      "(65, 13)\n",
      "(65, 13)\n",
      "(65, 13)\n",
      "(65, 13)\n",
      "(65, 13)\n",
      "(65, 13)\n",
      "(65, 13)\n",
      "(65, 13)\n",
      "(65, 13)\n"
     ]
    },
    {
     "name": "stderr",
     "output_type": "stream",
     "text": [
      "/home/akriptonn/anaconda3/envs/aidj/lib/python3.8/site-packages/librosa/core/audio.py:162: UserWarning: PySoundFile failed. Trying audioread instead.\n",
      "  warnings.warn(\"PySoundFile failed. Trying audioread instead.\")\n"
     ]
    },
    {
     "name": "stdout",
     "output_type": "stream",
     "text": [
      "(65, 13)\n",
      "(65, 13)\n",
      "(65, 13)\n",
      "(65, 13)\n",
      "(65, 13)\n",
      "(65, 13)\n",
      "(65, 13)\n",
      "(65, 13)\n",
      "(65, 13)\n",
      "(65, 13)\n"
     ]
    },
    {
     "name": "stderr",
     "output_type": "stream",
     "text": [
      "/home/akriptonn/anaconda3/envs/aidj/lib/python3.8/site-packages/librosa/core/audio.py:162: UserWarning: PySoundFile failed. Trying audioread instead.\n",
      "  warnings.warn(\"PySoundFile failed. Trying audioread instead.\")\n"
     ]
    },
    {
     "name": "stdout",
     "output_type": "stream",
     "text": [
      "(65, 13)\n",
      "(65, 13)\n",
      "(65, 13)\n",
      "(65, 13)\n",
      "(65, 13)\n",
      "(65, 13)\n",
      "(65, 13)\n",
      "(65, 13)\n",
      "(65, 13)\n",
      "(65, 13)\n"
     ]
    },
    {
     "name": "stderr",
     "output_type": "stream",
     "text": [
      "/home/akriptonn/anaconda3/envs/aidj/lib/python3.8/site-packages/librosa/core/audio.py:162: UserWarning: PySoundFile failed. Trying audioread instead.\n",
      "  warnings.warn(\"PySoundFile failed. Trying audioread instead.\")\n"
     ]
    },
    {
     "name": "stdout",
     "output_type": "stream",
     "text": [
      "(65, 13)\n",
      "(65, 13)\n",
      "(65, 13)\n",
      "(65, 13)\n",
      "(65, 13)\n",
      "(65, 13)\n",
      "(65, 13)\n",
      "(65, 13)\n",
      "(65, 13)\n",
      "(65, 13)\n"
     ]
    },
    {
     "name": "stderr",
     "output_type": "stream",
     "text": [
      "/home/akriptonn/anaconda3/envs/aidj/lib/python3.8/site-packages/librosa/core/audio.py:162: UserWarning: PySoundFile failed. Trying audioread instead.\n",
      "  warnings.warn(\"PySoundFile failed. Trying audioread instead.\")\n"
     ]
    },
    {
     "name": "stdout",
     "output_type": "stream",
     "text": [
      "(65, 13)\n",
      "(65, 13)\n",
      "(65, 13)\n",
      "(65, 13)\n",
      "(65, 13)\n",
      "(65, 13)\n",
      "(65, 13)\n",
      "(65, 13)\n",
      "(65, 13)\n",
      "(65, 13)\n"
     ]
    },
    {
     "name": "stderr",
     "output_type": "stream",
     "text": [
      "/home/akriptonn/anaconda3/envs/aidj/lib/python3.8/site-packages/librosa/core/audio.py:162: UserWarning: PySoundFile failed. Trying audioread instead.\n",
      "  warnings.warn(\"PySoundFile failed. Trying audioread instead.\")\n"
     ]
    },
    {
     "name": "stdout",
     "output_type": "stream",
     "text": [
      "(65, 13)\n",
      "(65, 13)\n",
      "(65, 13)\n",
      "(65, 13)\n",
      "(65, 13)\n",
      "(65, 13)\n",
      "(65, 13)\n",
      "(65, 13)\n",
      "(65, 13)\n",
      "(65, 13)\n"
     ]
    },
    {
     "name": "stderr",
     "output_type": "stream",
     "text": [
      "/home/akriptonn/anaconda3/envs/aidj/lib/python3.8/site-packages/librosa/core/audio.py:162: UserWarning: PySoundFile failed. Trying audioread instead.\n",
      "  warnings.warn(\"PySoundFile failed. Trying audioread instead.\")\n"
     ]
    },
    {
     "name": "stdout",
     "output_type": "stream",
     "text": [
      "(65, 13)\n",
      "(65, 13)\n",
      "(65, 13)\n",
      "(65, 13)\n",
      "(65, 13)\n",
      "(65, 13)\n",
      "(65, 13)\n",
      "(65, 13)\n",
      "(65, 13)\n",
      "(65, 13)\n"
     ]
    },
    {
     "name": "stderr",
     "output_type": "stream",
     "text": [
      "/home/akriptonn/anaconda3/envs/aidj/lib/python3.8/site-packages/librosa/core/audio.py:162: UserWarning: PySoundFile failed. Trying audioread instead.\n",
      "  warnings.warn(\"PySoundFile failed. Trying audioread instead.\")\n"
     ]
    },
    {
     "name": "stdout",
     "output_type": "stream",
     "text": [
      "(65, 13)\n",
      "(65, 13)\n",
      "(65, 13)\n",
      "(65, 13)\n",
      "(65, 13)\n",
      "(65, 13)\n",
      "(65, 13)\n",
      "(65, 13)\n",
      "(65, 13)\n",
      "(65, 13)\n"
     ]
    },
    {
     "name": "stderr",
     "output_type": "stream",
     "text": [
      "/home/akriptonn/anaconda3/envs/aidj/lib/python3.8/site-packages/librosa/core/audio.py:162: UserWarning: PySoundFile failed. Trying audioread instead.\n",
      "  warnings.warn(\"PySoundFile failed. Trying audioread instead.\")\n"
     ]
    },
    {
     "name": "stdout",
     "output_type": "stream",
     "text": [
      "(65, 13)\n",
      "(65, 13)\n",
      "(65, 13)\n",
      "(65, 13)\n",
      "(65, 13)\n",
      "(65, 13)\n",
      "(65, 13)\n",
      "(65, 13)\n",
      "(65, 13)\n",
      "(65, 13)\n"
     ]
    },
    {
     "name": "stderr",
     "output_type": "stream",
     "text": [
      "/home/akriptonn/anaconda3/envs/aidj/lib/python3.8/site-packages/librosa/core/audio.py:162: UserWarning: PySoundFile failed. Trying audioread instead.\n",
      "  warnings.warn(\"PySoundFile failed. Trying audioread instead.\")\n"
     ]
    },
    {
     "name": "stdout",
     "output_type": "stream",
     "text": [
      "(65, 13)\n",
      "(65, 13)\n",
      "(65, 13)\n",
      "(65, 13)\n",
      "(65, 13)\n",
      "(65, 13)\n",
      "(65, 13)\n",
      "(65, 13)\n",
      "(65, 13)\n",
      "(65, 13)\n"
     ]
    },
    {
     "name": "stderr",
     "output_type": "stream",
     "text": [
      "/home/akriptonn/anaconda3/envs/aidj/lib/python3.8/site-packages/librosa/core/audio.py:162: UserWarning: PySoundFile failed. Trying audioread instead.\n",
      "  warnings.warn(\"PySoundFile failed. Trying audioread instead.\")\n"
     ]
    },
    {
     "name": "stdout",
     "output_type": "stream",
     "text": [
      "(65, 13)\n",
      "(65, 13)\n",
      "(65, 13)\n",
      "(65, 13)\n",
      "(65, 13)\n",
      "(65, 13)\n",
      "(65, 13)\n",
      "(65, 13)\n",
      "(65, 13)\n",
      "(65, 13)\n"
     ]
    },
    {
     "name": "stderr",
     "output_type": "stream",
     "text": [
      "/home/akriptonn/anaconda3/envs/aidj/lib/python3.8/site-packages/librosa/core/audio.py:162: UserWarning: PySoundFile failed. Trying audioread instead.\n",
      "  warnings.warn(\"PySoundFile failed. Trying audioread instead.\")\n"
     ]
    },
    {
     "name": "stdout",
     "output_type": "stream",
     "text": [
      "(65, 13)\n",
      "(65, 13)\n",
      "(65, 13)\n",
      "(65, 13)\n",
      "(65, 13)\n",
      "(65, 13)\n",
      "(65, 13)\n",
      "(65, 13)\n",
      "(65, 13)\n",
      "(65, 13)\n"
     ]
    },
    {
     "name": "stderr",
     "output_type": "stream",
     "text": [
      "/home/akriptonn/anaconda3/envs/aidj/lib/python3.8/site-packages/librosa/core/audio.py:162: UserWarning: PySoundFile failed. Trying audioread instead.\n",
      "  warnings.warn(\"PySoundFile failed. Trying audioread instead.\")\n"
     ]
    },
    {
     "name": "stdout",
     "output_type": "stream",
     "text": [
      "(65, 13)\n",
      "(65, 13)\n",
      "(65, 13)\n",
      "(65, 13)\n",
      "(65, 13)\n",
      "(65, 13)\n",
      "(65, 13)\n",
      "(65, 13)\n",
      "(65, 13)\n",
      "(65, 13)\n"
     ]
    },
    {
     "name": "stderr",
     "output_type": "stream",
     "text": [
      "/home/akriptonn/anaconda3/envs/aidj/lib/python3.8/site-packages/librosa/core/audio.py:162: UserWarning: PySoundFile failed. Trying audioread instead.\n",
      "  warnings.warn(\"PySoundFile failed. Trying audioread instead.\")\n"
     ]
    },
    {
     "name": "stdout",
     "output_type": "stream",
     "text": [
      "(65, 13)\n",
      "(65, 13)\n",
      "(65, 13)\n",
      "(65, 13)\n",
      "(65, 13)\n",
      "(65, 13)\n",
      "(65, 13)\n",
      "(65, 13)\n",
      "(65, 13)\n",
      "(65, 13)\n"
     ]
    },
    {
     "name": "stderr",
     "output_type": "stream",
     "text": [
      "/home/akriptonn/anaconda3/envs/aidj/lib/python3.8/site-packages/librosa/core/audio.py:162: UserWarning: PySoundFile failed. Trying audioread instead.\n",
      "  warnings.warn(\"PySoundFile failed. Trying audioread instead.\")\n"
     ]
    },
    {
     "name": "stdout",
     "output_type": "stream",
     "text": [
      "(65, 13)\n",
      "(65, 13)\n",
      "(65, 13)\n",
      "(65, 13)\n",
      "(65, 13)\n",
      "(65, 13)\n",
      "(65, 13)\n",
      "(65, 13)\n",
      "(65, 13)\n",
      "(65, 13)\n"
     ]
    },
    {
     "name": "stderr",
     "output_type": "stream",
     "text": [
      "/home/akriptonn/anaconda3/envs/aidj/lib/python3.8/site-packages/librosa/core/audio.py:162: UserWarning: PySoundFile failed. Trying audioread instead.\n",
      "  warnings.warn(\"PySoundFile failed. Trying audioread instead.\")\n"
     ]
    },
    {
     "name": "stdout",
     "output_type": "stream",
     "text": [
      "(65, 13)\n",
      "(65, 13)\n",
      "(65, 13)\n",
      "(65, 13)\n",
      "(65, 13)\n",
      "(65, 13)\n",
      "(65, 13)\n",
      "(65, 13)\n",
      "(65, 13)\n",
      "(65, 13)\n"
     ]
    },
    {
     "name": "stderr",
     "output_type": "stream",
     "text": [
      "/home/akriptonn/anaconda3/envs/aidj/lib/python3.8/site-packages/librosa/core/audio.py:162: UserWarning: PySoundFile failed. Trying audioread instead.\n",
      "  warnings.warn(\"PySoundFile failed. Trying audioread instead.\")\n"
     ]
    },
    {
     "name": "stdout",
     "output_type": "stream",
     "text": [
      "(65, 13)\n",
      "(65, 13)\n",
      "(65, 13)\n",
      "(65, 13)\n",
      "(65, 13)\n",
      "(65, 13)\n",
      "(65, 13)\n",
      "(65, 13)\n",
      "(65, 13)\n",
      "(65, 13)\n"
     ]
    },
    {
     "name": "stderr",
     "output_type": "stream",
     "text": [
      "/home/akriptonn/anaconda3/envs/aidj/lib/python3.8/site-packages/librosa/core/audio.py:162: UserWarning: PySoundFile failed. Trying audioread instead.\n",
      "  warnings.warn(\"PySoundFile failed. Trying audioread instead.\")\n"
     ]
    },
    {
     "name": "stdout",
     "output_type": "stream",
     "text": [
      "(65, 13)\n",
      "(65, 13)\n",
      "(65, 13)\n",
      "(65, 13)\n",
      "(65, 13)\n",
      "(65, 13)\n",
      "(65, 13)\n",
      "(65, 13)\n",
      "(65, 13)\n",
      "(65, 13)\n"
     ]
    },
    {
     "name": "stderr",
     "output_type": "stream",
     "text": [
      "/home/akriptonn/anaconda3/envs/aidj/lib/python3.8/site-packages/librosa/core/audio.py:162: UserWarning: PySoundFile failed. Trying audioread instead.\n",
      "  warnings.warn(\"PySoundFile failed. Trying audioread instead.\")\n"
     ]
    },
    {
     "name": "stdout",
     "output_type": "stream",
     "text": [
      "(65, 13)\n",
      "(65, 13)\n",
      "(65, 13)\n",
      "(65, 13)\n",
      "(65, 13)\n",
      "(65, 13)\n",
      "(65, 13)\n",
      "(65, 13)\n",
      "(65, 13)\n",
      "(65, 13)\n"
     ]
    },
    {
     "name": "stderr",
     "output_type": "stream",
     "text": [
      "/home/akriptonn/anaconda3/envs/aidj/lib/python3.8/site-packages/librosa/core/audio.py:162: UserWarning: PySoundFile failed. Trying audioread instead.\n",
      "  warnings.warn(\"PySoundFile failed. Trying audioread instead.\")\n"
     ]
    },
    {
     "name": "stdout",
     "output_type": "stream",
     "text": [
      "(65, 13)\n",
      "(65, 13)\n",
      "(65, 13)\n",
      "(65, 13)\n",
      "(65, 13)\n",
      "(65, 13)\n",
      "(65, 13)\n",
      "(65, 13)\n",
      "(65, 13)\n",
      "(65, 13)\n"
     ]
    },
    {
     "name": "stderr",
     "output_type": "stream",
     "text": [
      "/home/akriptonn/anaconda3/envs/aidj/lib/python3.8/site-packages/librosa/core/audio.py:162: UserWarning: PySoundFile failed. Trying audioread instead.\n",
      "  warnings.warn(\"PySoundFile failed. Trying audioread instead.\")\n"
     ]
    },
    {
     "name": "stdout",
     "output_type": "stream",
     "text": [
      "(65, 13)\n",
      "(65, 13)\n",
      "(65, 13)\n",
      "(65, 13)\n",
      "(65, 13)\n",
      "(65, 13)\n",
      "(65, 13)\n",
      "(65, 13)\n",
      "(65, 13)\n",
      "(65, 13)\n"
     ]
    },
    {
     "name": "stderr",
     "output_type": "stream",
     "text": [
      "/home/akriptonn/anaconda3/envs/aidj/lib/python3.8/site-packages/librosa/core/audio.py:162: UserWarning: PySoundFile failed. Trying audioread instead.\n",
      "  warnings.warn(\"PySoundFile failed. Trying audioread instead.\")\n"
     ]
    },
    {
     "name": "stdout",
     "output_type": "stream",
     "text": [
      "(65, 13)\n",
      "(65, 13)\n",
      "(65, 13)\n",
      "(65, 13)\n",
      "(65, 13)\n",
      "(65, 13)\n",
      "(65, 13)\n",
      "(65, 13)\n",
      "(65, 13)\n",
      "(65, 13)\n"
     ]
    },
    {
     "name": "stderr",
     "output_type": "stream",
     "text": [
      "/home/akriptonn/anaconda3/envs/aidj/lib/python3.8/site-packages/librosa/core/audio.py:162: UserWarning: PySoundFile failed. Trying audioread instead.\n",
      "  warnings.warn(\"PySoundFile failed. Trying audioread instead.\")\n"
     ]
    },
    {
     "name": "stdout",
     "output_type": "stream",
     "text": [
      "(65, 13)\n",
      "(65, 13)\n",
      "(65, 13)\n",
      "(65, 13)\n",
      "(65, 13)\n",
      "(65, 13)\n",
      "(65, 13)\n",
      "(65, 13)\n",
      "(65, 13)\n",
      "(65, 13)\n"
     ]
    },
    {
     "name": "stderr",
     "output_type": "stream",
     "text": [
      "/home/akriptonn/anaconda3/envs/aidj/lib/python3.8/site-packages/librosa/core/audio.py:162: UserWarning: PySoundFile failed. Trying audioread instead.\n",
      "  warnings.warn(\"PySoundFile failed. Trying audioread instead.\")\n"
     ]
    },
    {
     "name": "stdout",
     "output_type": "stream",
     "text": [
      "(65, 13)\n",
      "(65, 13)\n",
      "(65, 13)\n",
      "(65, 13)\n",
      "(65, 13)\n",
      "(65, 13)\n",
      "(65, 13)\n",
      "(65, 13)\n",
      "(65, 13)\n",
      "(65, 13)\n"
     ]
    },
    {
     "name": "stderr",
     "output_type": "stream",
     "text": [
      "/home/akriptonn/anaconda3/envs/aidj/lib/python3.8/site-packages/librosa/core/audio.py:162: UserWarning: PySoundFile failed. Trying audioread instead.\n",
      "  warnings.warn(\"PySoundFile failed. Trying audioread instead.\")\n"
     ]
    },
    {
     "name": "stdout",
     "output_type": "stream",
     "text": [
      "(65, 13)\n",
      "(65, 13)\n",
      "(65, 13)\n",
      "(65, 13)\n",
      "(65, 13)\n",
      "(65, 13)\n",
      "(65, 13)\n",
      "(65, 13)\n",
      "(65, 13)\n",
      "(65, 13)\n"
     ]
    },
    {
     "name": "stderr",
     "output_type": "stream",
     "text": [
      "/home/akriptonn/anaconda3/envs/aidj/lib/python3.8/site-packages/librosa/core/audio.py:162: UserWarning: PySoundFile failed. Trying audioread instead.\n",
      "  warnings.warn(\"PySoundFile failed. Trying audioread instead.\")\n"
     ]
    },
    {
     "name": "stdout",
     "output_type": "stream",
     "text": [
      "(65, 13)\n",
      "(65, 13)\n",
      "(65, 13)\n",
      "(65, 13)\n",
      "(65, 13)\n",
      "(65, 13)\n",
      "(65, 13)\n",
      "(65, 13)\n",
      "(65, 13)\n",
      "(65, 13)\n"
     ]
    },
    {
     "name": "stderr",
     "output_type": "stream",
     "text": [
      "/home/akriptonn/anaconda3/envs/aidj/lib/python3.8/site-packages/librosa/core/audio.py:162: UserWarning: PySoundFile failed. Trying audioread instead.\n",
      "  warnings.warn(\"PySoundFile failed. Trying audioread instead.\")\n"
     ]
    },
    {
     "name": "stdout",
     "output_type": "stream",
     "text": [
      "(65, 13)\n",
      "(65, 13)\n",
      "(65, 13)\n",
      "(65, 13)\n",
      "(65, 13)\n",
      "(65, 13)\n",
      "(65, 13)\n",
      "(65, 13)\n",
      "(65, 13)\n",
      "(65, 13)\n"
     ]
    },
    {
     "name": "stderr",
     "output_type": "stream",
     "text": [
      "/home/akriptonn/anaconda3/envs/aidj/lib/python3.8/site-packages/librosa/core/audio.py:162: UserWarning: PySoundFile failed. Trying audioread instead.\n",
      "  warnings.warn(\"PySoundFile failed. Trying audioread instead.\")\n"
     ]
    },
    {
     "name": "stdout",
     "output_type": "stream",
     "text": [
      "(65, 13)\n",
      "(65, 13)\n",
      "(65, 13)\n",
      "(65, 13)\n",
      "(65, 13)\n",
      "(65, 13)\n",
      "(65, 13)\n",
      "(65, 13)\n",
      "(65, 13)\n",
      "(65, 13)\n"
     ]
    },
    {
     "name": "stderr",
     "output_type": "stream",
     "text": [
      "/home/akriptonn/anaconda3/envs/aidj/lib/python3.8/site-packages/librosa/core/audio.py:162: UserWarning: PySoundFile failed. Trying audioread instead.\n",
      "  warnings.warn(\"PySoundFile failed. Trying audioread instead.\")\n"
     ]
    },
    {
     "name": "stdout",
     "output_type": "stream",
     "text": [
      "(65, 13)\n",
      "(65, 13)\n",
      "(65, 13)\n",
      "(65, 13)\n",
      "(65, 13)\n",
      "(65, 13)\n",
      "(65, 13)\n",
      "(65, 13)\n",
      "(65, 13)\n",
      "(65, 13)\n"
     ]
    },
    {
     "name": "stderr",
     "output_type": "stream",
     "text": [
      "/home/akriptonn/anaconda3/envs/aidj/lib/python3.8/site-packages/librosa/core/audio.py:162: UserWarning: PySoundFile failed. Trying audioread instead.\n",
      "  warnings.warn(\"PySoundFile failed. Trying audioread instead.\")\n"
     ]
    },
    {
     "name": "stdout",
     "output_type": "stream",
     "text": [
      "(65, 13)\n",
      "(65, 13)\n",
      "(65, 13)\n",
      "(65, 13)\n",
      "(65, 13)\n",
      "(65, 13)\n",
      "(65, 13)\n",
      "(65, 13)\n",
      "(65, 13)\n",
      "(65, 13)\n"
     ]
    },
    {
     "name": "stderr",
     "output_type": "stream",
     "text": [
      "/home/akriptonn/anaconda3/envs/aidj/lib/python3.8/site-packages/librosa/core/audio.py:162: UserWarning: PySoundFile failed. Trying audioread instead.\n",
      "  warnings.warn(\"PySoundFile failed. Trying audioread instead.\")\n"
     ]
    },
    {
     "name": "stdout",
     "output_type": "stream",
     "text": [
      "(65, 13)\n",
      "(65, 13)\n",
      "(65, 13)\n",
      "(65, 13)\n",
      "(65, 13)\n",
      "(65, 13)\n",
      "(65, 13)\n",
      "(65, 13)\n",
      "(65, 13)\n",
      "(65, 13)\n"
     ]
    },
    {
     "name": "stderr",
     "output_type": "stream",
     "text": [
      "/home/akriptonn/anaconda3/envs/aidj/lib/python3.8/site-packages/librosa/core/audio.py:162: UserWarning: PySoundFile failed. Trying audioread instead.\n",
      "  warnings.warn(\"PySoundFile failed. Trying audioread instead.\")\n"
     ]
    },
    {
     "name": "stdout",
     "output_type": "stream",
     "text": [
      "(65, 13)\n",
      "(65, 13)\n",
      "(65, 13)\n",
      "(65, 13)\n",
      "(65, 13)\n",
      "(65, 13)\n",
      "(65, 13)\n",
      "(65, 13)\n",
      "(65, 13)\n",
      "(65, 13)\n"
     ]
    },
    {
     "name": "stderr",
     "output_type": "stream",
     "text": [
      "/home/akriptonn/anaconda3/envs/aidj/lib/python3.8/site-packages/librosa/core/audio.py:162: UserWarning: PySoundFile failed. Trying audioread instead.\n",
      "  warnings.warn(\"PySoundFile failed. Trying audioread instead.\")\n"
     ]
    },
    {
     "name": "stdout",
     "output_type": "stream",
     "text": [
      "(65, 13)\n",
      "(65, 13)\n",
      "(65, 13)\n",
      "(65, 13)\n",
      "(65, 13)\n",
      "(65, 13)\n",
      "(65, 13)\n",
      "(65, 13)\n",
      "(65, 13)\n",
      "(65, 13)\n"
     ]
    },
    {
     "name": "stderr",
     "output_type": "stream",
     "text": [
      "/home/akriptonn/anaconda3/envs/aidj/lib/python3.8/site-packages/librosa/core/audio.py:162: UserWarning: PySoundFile failed. Trying audioread instead.\n",
      "  warnings.warn(\"PySoundFile failed. Trying audioread instead.\")\n"
     ]
    },
    {
     "name": "stdout",
     "output_type": "stream",
     "text": [
      "(65, 13)\n",
      "(65, 13)\n",
      "(65, 13)\n",
      "(65, 13)\n",
      "(65, 13)\n",
      "(65, 13)\n",
      "(65, 13)\n",
      "(65, 13)\n",
      "(65, 13)\n",
      "(65, 13)\n"
     ]
    },
    {
     "name": "stderr",
     "output_type": "stream",
     "text": [
      "/home/akriptonn/anaconda3/envs/aidj/lib/python3.8/site-packages/librosa/core/audio.py:162: UserWarning: PySoundFile failed. Trying audioread instead.\n",
      "  warnings.warn(\"PySoundFile failed. Trying audioread instead.\")\n"
     ]
    },
    {
     "name": "stdout",
     "output_type": "stream",
     "text": [
      "(65, 13)\n",
      "(65, 13)\n",
      "(65, 13)\n",
      "(65, 13)\n",
      "(65, 13)\n",
      "(65, 13)\n",
      "(65, 13)\n",
      "(65, 13)\n",
      "(65, 13)\n",
      "(65, 13)\n"
     ]
    },
    {
     "name": "stderr",
     "output_type": "stream",
     "text": [
      "/home/akriptonn/anaconda3/envs/aidj/lib/python3.8/site-packages/librosa/core/audio.py:162: UserWarning: PySoundFile failed. Trying audioread instead.\n",
      "  warnings.warn(\"PySoundFile failed. Trying audioread instead.\")\n"
     ]
    },
    {
     "name": "stdout",
     "output_type": "stream",
     "text": [
      "(65, 13)\n",
      "(65, 13)\n",
      "(65, 13)\n",
      "(65, 13)\n",
      "(65, 13)\n",
      "(65, 13)\n",
      "(65, 13)\n",
      "(65, 13)\n",
      "(65, 13)\n",
      "(65, 13)\n"
     ]
    },
    {
     "name": "stderr",
     "output_type": "stream",
     "text": [
      "/home/akriptonn/anaconda3/envs/aidj/lib/python3.8/site-packages/librosa/core/audio.py:162: UserWarning: PySoundFile failed. Trying audioread instead.\n",
      "  warnings.warn(\"PySoundFile failed. Trying audioread instead.\")\n"
     ]
    },
    {
     "name": "stdout",
     "output_type": "stream",
     "text": [
      "(65, 13)\n",
      "(65, 13)\n",
      "(65, 13)\n",
      "(65, 13)\n",
      "(65, 13)\n",
      "(65, 13)\n",
      "(65, 13)\n",
      "(65, 13)\n",
      "(65, 13)\n",
      "(65, 13)\n"
     ]
    },
    {
     "name": "stderr",
     "output_type": "stream",
     "text": [
      "/home/akriptonn/anaconda3/envs/aidj/lib/python3.8/site-packages/librosa/core/audio.py:162: UserWarning: PySoundFile failed. Trying audioread instead.\n",
      "  warnings.warn(\"PySoundFile failed. Trying audioread instead.\")\n"
     ]
    },
    {
     "name": "stdout",
     "output_type": "stream",
     "text": [
      "(65, 13)\n",
      "(65, 13)\n",
      "(65, 13)\n",
      "(65, 13)\n",
      "(65, 13)\n",
      "(65, 13)\n",
      "(65, 13)\n",
      "(65, 13)\n",
      "(65, 13)\n",
      "(65, 13)\n"
     ]
    },
    {
     "name": "stderr",
     "output_type": "stream",
     "text": [
      "/home/akriptonn/anaconda3/envs/aidj/lib/python3.8/site-packages/librosa/core/audio.py:162: UserWarning: PySoundFile failed. Trying audioread instead.\n",
      "  warnings.warn(\"PySoundFile failed. Trying audioread instead.\")\n"
     ]
    },
    {
     "name": "stdout",
     "output_type": "stream",
     "text": [
      "(65, 13)\n",
      "(65, 13)\n",
      "(65, 13)\n",
      "(65, 13)\n",
      "(65, 13)\n",
      "(65, 13)\n",
      "(65, 13)\n",
      "(65, 13)\n",
      "(65, 13)\n",
      "(65, 13)\n"
     ]
    },
    {
     "name": "stderr",
     "output_type": "stream",
     "text": [
      "/home/akriptonn/anaconda3/envs/aidj/lib/python3.8/site-packages/librosa/core/audio.py:162: UserWarning: PySoundFile failed. Trying audioread instead.\n",
      "  warnings.warn(\"PySoundFile failed. Trying audioread instead.\")\n"
     ]
    },
    {
     "name": "stdout",
     "output_type": "stream",
     "text": [
      "(65, 13)\n",
      "(65, 13)\n",
      "(65, 13)\n",
      "(65, 13)\n",
      "(65, 13)\n",
      "(65, 13)\n",
      "(65, 13)\n",
      "(65, 13)\n",
      "(65, 13)\n",
      "(65, 13)\n"
     ]
    },
    {
     "name": "stderr",
     "output_type": "stream",
     "text": [
      "/home/akriptonn/anaconda3/envs/aidj/lib/python3.8/site-packages/librosa/core/audio.py:162: UserWarning: PySoundFile failed. Trying audioread instead.\n",
      "  warnings.warn(\"PySoundFile failed. Trying audioread instead.\")\n"
     ]
    },
    {
     "name": "stdout",
     "output_type": "stream",
     "text": [
      "(65, 13)\n",
      "(65, 13)\n",
      "(65, 13)\n",
      "(65, 13)\n",
      "(65, 13)\n",
      "(65, 13)\n",
      "(65, 13)\n",
      "(65, 13)\n",
      "(65, 13)\n",
      "(65, 13)\n"
     ]
    },
    {
     "name": "stderr",
     "output_type": "stream",
     "text": [
      "/home/akriptonn/anaconda3/envs/aidj/lib/python3.8/site-packages/librosa/core/audio.py:162: UserWarning: PySoundFile failed. Trying audioread instead.\n",
      "  warnings.warn(\"PySoundFile failed. Trying audioread instead.\")\n"
     ]
    },
    {
     "name": "stdout",
     "output_type": "stream",
     "text": [
      "(65, 13)\n",
      "(65, 13)\n",
      "(65, 13)\n",
      "(65, 13)\n",
      "(65, 13)\n",
      "(65, 13)\n",
      "(65, 13)\n",
      "(65, 13)\n",
      "(65, 13)\n",
      "(65, 13)\n"
     ]
    },
    {
     "name": "stderr",
     "output_type": "stream",
     "text": [
      "/home/akriptonn/anaconda3/envs/aidj/lib/python3.8/site-packages/librosa/core/audio.py:162: UserWarning: PySoundFile failed. Trying audioread instead.\n",
      "  warnings.warn(\"PySoundFile failed. Trying audioread instead.\")\n"
     ]
    },
    {
     "name": "stdout",
     "output_type": "stream",
     "text": [
      "(65, 13)\n",
      "(65, 13)\n",
      "(65, 13)\n",
      "(65, 13)\n",
      "(65, 13)\n",
      "(65, 13)\n",
      "(65, 13)\n",
      "(65, 13)\n",
      "(65, 13)\n",
      "(65, 13)\n"
     ]
    },
    {
     "name": "stderr",
     "output_type": "stream",
     "text": [
      "/home/akriptonn/anaconda3/envs/aidj/lib/python3.8/site-packages/librosa/core/audio.py:162: UserWarning: PySoundFile failed. Trying audioread instead.\n",
      "  warnings.warn(\"PySoundFile failed. Trying audioread instead.\")\n"
     ]
    },
    {
     "name": "stdout",
     "output_type": "stream",
     "text": [
      "(65, 13)\n",
      "(65, 13)\n",
      "(65, 13)\n",
      "(65, 13)\n",
      "(65, 13)\n",
      "(65, 13)\n",
      "(65, 13)\n",
      "(65, 13)\n",
      "(65, 13)\n",
      "(65, 13)\n"
     ]
    },
    {
     "name": "stderr",
     "output_type": "stream",
     "text": [
      "/home/akriptonn/anaconda3/envs/aidj/lib/python3.8/site-packages/librosa/core/audio.py:162: UserWarning: PySoundFile failed. Trying audioread instead.\n",
      "  warnings.warn(\"PySoundFile failed. Trying audioread instead.\")\n"
     ]
    },
    {
     "name": "stdout",
     "output_type": "stream",
     "text": [
      "(65, 13)\n",
      "(65, 13)\n",
      "(65, 13)\n",
      "(65, 13)\n",
      "(65, 13)\n",
      "(65, 13)\n",
      "(65, 13)\n",
      "(65, 13)\n",
      "(65, 13)\n",
      "(65, 13)\n"
     ]
    },
    {
     "name": "stderr",
     "output_type": "stream",
     "text": [
      "/home/akriptonn/anaconda3/envs/aidj/lib/python3.8/site-packages/librosa/core/audio.py:162: UserWarning: PySoundFile failed. Trying audioread instead.\n",
      "  warnings.warn(\"PySoundFile failed. Trying audioread instead.\")\n"
     ]
    },
    {
     "name": "stdout",
     "output_type": "stream",
     "text": [
      "(65, 13)\n",
      "(65, 13)\n",
      "(65, 13)\n",
      "(65, 13)\n",
      "(65, 13)\n",
      "(65, 13)\n",
      "(65, 13)\n",
      "(65, 13)\n",
      "(65, 13)\n",
      "(65, 13)\n"
     ]
    },
    {
     "name": "stderr",
     "output_type": "stream",
     "text": [
      "/home/akriptonn/anaconda3/envs/aidj/lib/python3.8/site-packages/librosa/core/audio.py:162: UserWarning: PySoundFile failed. Trying audioread instead.\n",
      "  warnings.warn(\"PySoundFile failed. Trying audioread instead.\")\n"
     ]
    },
    {
     "name": "stdout",
     "output_type": "stream",
     "text": [
      "(65, 13)\n",
      "(65, 13)\n",
      "(65, 13)\n",
      "(65, 13)\n",
      "(65, 13)\n",
      "(65, 13)\n",
      "(65, 13)\n",
      "(65, 13)\n",
      "(65, 13)\n",
      "(65, 13)\n"
     ]
    },
    {
     "name": "stderr",
     "output_type": "stream",
     "text": [
      "/home/akriptonn/anaconda3/envs/aidj/lib/python3.8/site-packages/librosa/core/audio.py:162: UserWarning: PySoundFile failed. Trying audioread instead.\n",
      "  warnings.warn(\"PySoundFile failed. Trying audioread instead.\")\n"
     ]
    },
    {
     "name": "stdout",
     "output_type": "stream",
     "text": [
      "(65, 13)\n",
      "(65, 13)\n",
      "(65, 13)\n",
      "(65, 13)\n",
      "(65, 13)\n",
      "(65, 13)\n",
      "(65, 13)\n",
      "(65, 13)\n",
      "(65, 13)\n",
      "(65, 13)\n"
     ]
    },
    {
     "name": "stderr",
     "output_type": "stream",
     "text": [
      "/home/akriptonn/anaconda3/envs/aidj/lib/python3.8/site-packages/librosa/core/audio.py:162: UserWarning: PySoundFile failed. Trying audioread instead.\n",
      "  warnings.warn(\"PySoundFile failed. Trying audioread instead.\")\n"
     ]
    },
    {
     "name": "stdout",
     "output_type": "stream",
     "text": [
      "(65, 13)\n",
      "(65, 13)\n",
      "(65, 13)\n",
      "(65, 13)\n",
      "(65, 13)\n",
      "(65, 13)\n",
      "(65, 13)\n",
      "(65, 13)\n",
      "(65, 13)\n",
      "(65, 13)\n"
     ]
    },
    {
     "name": "stderr",
     "output_type": "stream",
     "text": [
      "/home/akriptonn/anaconda3/envs/aidj/lib/python3.8/site-packages/librosa/core/audio.py:162: UserWarning: PySoundFile failed. Trying audioread instead.\n",
      "  warnings.warn(\"PySoundFile failed. Trying audioread instead.\")\n"
     ]
    },
    {
     "name": "stdout",
     "output_type": "stream",
     "text": [
      "(65, 13)\n",
      "(65, 13)\n",
      "(65, 13)\n",
      "(65, 13)\n",
      "(65, 13)\n",
      "(65, 13)\n",
      "(65, 13)\n",
      "(65, 13)\n",
      "(65, 13)\n",
      "(65, 13)\n"
     ]
    },
    {
     "name": "stderr",
     "output_type": "stream",
     "text": [
      "/home/akriptonn/anaconda3/envs/aidj/lib/python3.8/site-packages/librosa/core/audio.py:162: UserWarning: PySoundFile failed. Trying audioread instead.\n",
      "  warnings.warn(\"PySoundFile failed. Trying audioread instead.\")\n"
     ]
    },
    {
     "name": "stdout",
     "output_type": "stream",
     "text": [
      "(65, 13)\n",
      "(65, 13)\n",
      "(65, 13)\n",
      "(65, 13)\n",
      "(65, 13)\n",
      "(65, 13)\n",
      "(65, 13)\n",
      "(65, 13)\n",
      "(65, 13)\n",
      "(65, 13)\n"
     ]
    },
    {
     "name": "stderr",
     "output_type": "stream",
     "text": [
      "/home/akriptonn/anaconda3/envs/aidj/lib/python3.8/site-packages/librosa/core/audio.py:162: UserWarning: PySoundFile failed. Trying audioread instead.\n",
      "  warnings.warn(\"PySoundFile failed. Trying audioread instead.\")\n"
     ]
    },
    {
     "name": "stdout",
     "output_type": "stream",
     "text": [
      "(65, 13)\n",
      "(65, 13)\n",
      "(65, 13)\n",
      "(65, 13)\n",
      "(65, 13)\n",
      "(65, 13)\n",
      "(65, 13)\n",
      "(65, 13)\n",
      "(65, 13)\n",
      "(65, 13)\n"
     ]
    },
    {
     "name": "stderr",
     "output_type": "stream",
     "text": [
      "/home/akriptonn/anaconda3/envs/aidj/lib/python3.8/site-packages/librosa/core/audio.py:162: UserWarning: PySoundFile failed. Trying audioread instead.\n",
      "  warnings.warn(\"PySoundFile failed. Trying audioread instead.\")\n"
     ]
    },
    {
     "name": "stdout",
     "output_type": "stream",
     "text": [
      "(65, 13)\n",
      "(65, 13)\n",
      "(65, 13)\n",
      "(65, 13)\n",
      "(65, 13)\n",
      "(65, 13)\n",
      "(65, 13)\n",
      "(65, 13)\n",
      "(65, 13)\n",
      "(65, 13)\n"
     ]
    },
    {
     "name": "stderr",
     "output_type": "stream",
     "text": [
      "/home/akriptonn/anaconda3/envs/aidj/lib/python3.8/site-packages/librosa/core/audio.py:162: UserWarning: PySoundFile failed. Trying audioread instead.\n",
      "  warnings.warn(\"PySoundFile failed. Trying audioread instead.\")\n"
     ]
    },
    {
     "name": "stdout",
     "output_type": "stream",
     "text": [
      "(65, 13)\n",
      "(65, 13)\n",
      "(65, 13)\n",
      "(65, 13)\n",
      "(65, 13)\n",
      "(65, 13)\n",
      "(65, 13)\n",
      "(65, 13)\n",
      "(65, 13)\n",
      "(65, 13)\n"
     ]
    },
    {
     "name": "stderr",
     "output_type": "stream",
     "text": [
      "/home/akriptonn/anaconda3/envs/aidj/lib/python3.8/site-packages/librosa/core/audio.py:162: UserWarning: PySoundFile failed. Trying audioread instead.\n",
      "  warnings.warn(\"PySoundFile failed. Trying audioread instead.\")\n"
     ]
    },
    {
     "name": "stdout",
     "output_type": "stream",
     "text": [
      "(65, 13)\n",
      "(65, 13)\n",
      "(65, 13)\n",
      "(65, 13)\n",
      "(65, 13)\n",
      "(65, 13)\n",
      "(65, 13)\n",
      "(65, 13)\n",
      "(65, 13)\n",
      "(65, 13)\n"
     ]
    },
    {
     "name": "stderr",
     "output_type": "stream",
     "text": [
      "/home/akriptonn/anaconda3/envs/aidj/lib/python3.8/site-packages/librosa/core/audio.py:162: UserWarning: PySoundFile failed. Trying audioread instead.\n",
      "  warnings.warn(\"PySoundFile failed. Trying audioread instead.\")\n"
     ]
    },
    {
     "name": "stdout",
     "output_type": "stream",
     "text": [
      "(65, 13)\n",
      "(65, 13)\n",
      "(65, 13)\n",
      "(65, 13)\n",
      "(65, 13)\n",
      "(65, 13)\n",
      "(65, 13)\n",
      "(65, 13)\n",
      "(65, 13)\n",
      "(65, 13)\n"
     ]
    },
    {
     "name": "stderr",
     "output_type": "stream",
     "text": [
      "/home/akriptonn/anaconda3/envs/aidj/lib/python3.8/site-packages/librosa/core/audio.py:162: UserWarning: PySoundFile failed. Trying audioread instead.\n",
      "  warnings.warn(\"PySoundFile failed. Trying audioread instead.\")\n"
     ]
    },
    {
     "name": "stdout",
     "output_type": "stream",
     "text": [
      "(65, 13)\n",
      "(65, 13)\n",
      "(65, 13)\n",
      "(65, 13)\n",
      "(65, 13)\n",
      "(65, 13)\n",
      "(65, 13)\n",
      "(65, 13)\n",
      "(65, 13)\n",
      "(65, 13)\n"
     ]
    },
    {
     "name": "stderr",
     "output_type": "stream",
     "text": [
      "/home/akriptonn/anaconda3/envs/aidj/lib/python3.8/site-packages/librosa/core/audio.py:162: UserWarning: PySoundFile failed. Trying audioread instead.\n",
      "  warnings.warn(\"PySoundFile failed. Trying audioread instead.\")\n"
     ]
    },
    {
     "name": "stdout",
     "output_type": "stream",
     "text": [
      "(65, 13)\n",
      "(65, 13)\n",
      "(65, 13)\n",
      "(65, 13)\n",
      "(65, 13)\n",
      "(65, 13)\n",
      "(65, 13)\n",
      "(65, 13)\n",
      "(65, 13)\n",
      "(65, 13)\n"
     ]
    },
    {
     "name": "stderr",
     "output_type": "stream",
     "text": [
      "/home/akriptonn/anaconda3/envs/aidj/lib/python3.8/site-packages/librosa/core/audio.py:162: UserWarning: PySoundFile failed. Trying audioread instead.\n",
      "  warnings.warn(\"PySoundFile failed. Trying audioread instead.\")\n"
     ]
    },
    {
     "name": "stdout",
     "output_type": "stream",
     "text": [
      "(65, 13)\n",
      "(65, 13)\n",
      "(65, 13)\n",
      "(65, 13)\n",
      "(65, 13)\n",
      "(65, 13)\n",
      "(65, 13)\n",
      "(65, 13)\n",
      "(65, 13)\n",
      "(65, 13)\n"
     ]
    },
    {
     "name": "stderr",
     "output_type": "stream",
     "text": [
      "/home/akriptonn/anaconda3/envs/aidj/lib/python3.8/site-packages/librosa/core/audio.py:162: UserWarning: PySoundFile failed. Trying audioread instead.\n",
      "  warnings.warn(\"PySoundFile failed. Trying audioread instead.\")\n"
     ]
    },
    {
     "name": "stdout",
     "output_type": "stream",
     "text": [
      "(65, 13)\n",
      "(65, 13)\n",
      "(65, 13)\n",
      "(65, 13)\n",
      "(65, 13)\n",
      "(65, 13)\n",
      "(65, 13)\n",
      "(65, 13)\n",
      "(65, 13)\n",
      "(65, 13)\n"
     ]
    },
    {
     "name": "stderr",
     "output_type": "stream",
     "text": [
      "/home/akriptonn/anaconda3/envs/aidj/lib/python3.8/site-packages/librosa/core/audio.py:162: UserWarning: PySoundFile failed. Trying audioread instead.\n",
      "  warnings.warn(\"PySoundFile failed. Trying audioread instead.\")\n"
     ]
    },
    {
     "name": "stdout",
     "output_type": "stream",
     "text": [
      "(65, 13)\n",
      "(65, 13)\n",
      "(65, 13)\n",
      "(65, 13)\n",
      "(65, 13)\n",
      "(65, 13)\n",
      "(65, 13)\n",
      "(65, 13)\n",
      "(65, 13)\n",
      "(65, 13)\n"
     ]
    },
    {
     "name": "stderr",
     "output_type": "stream",
     "text": [
      "/home/akriptonn/anaconda3/envs/aidj/lib/python3.8/site-packages/librosa/core/audio.py:162: UserWarning: PySoundFile failed. Trying audioread instead.\n",
      "  warnings.warn(\"PySoundFile failed. Trying audioread instead.\")\n"
     ]
    },
    {
     "name": "stdout",
     "output_type": "stream",
     "text": [
      "(65, 13)\n",
      "(65, 13)\n",
      "(65, 13)\n",
      "(65, 13)\n",
      "(65, 13)\n",
      "(65, 13)\n",
      "(65, 13)\n",
      "(65, 13)\n",
      "(65, 13)\n",
      "(65, 13)\n"
     ]
    },
    {
     "name": "stderr",
     "output_type": "stream",
     "text": [
      "/home/akriptonn/anaconda3/envs/aidj/lib/python3.8/site-packages/librosa/core/audio.py:162: UserWarning: PySoundFile failed. Trying audioread instead.\n",
      "  warnings.warn(\"PySoundFile failed. Trying audioread instead.\")\n"
     ]
    },
    {
     "name": "stdout",
     "output_type": "stream",
     "text": [
      "(65, 13)\n",
      "(65, 13)\n",
      "(65, 13)\n",
      "(65, 13)\n",
      "(65, 13)\n",
      "(65, 13)\n",
      "(65, 13)\n",
      "(65, 13)\n",
      "(65, 13)\n",
      "(65, 13)\n"
     ]
    },
    {
     "name": "stderr",
     "output_type": "stream",
     "text": [
      "/home/akriptonn/anaconda3/envs/aidj/lib/python3.8/site-packages/librosa/core/audio.py:162: UserWarning: PySoundFile failed. Trying audioread instead.\n",
      "  warnings.warn(\"PySoundFile failed. Trying audioread instead.\")\n"
     ]
    },
    {
     "name": "stdout",
     "output_type": "stream",
     "text": [
      "(65, 13)\n",
      "(65, 13)\n",
      "(65, 13)\n",
      "(65, 13)\n",
      "(65, 13)\n",
      "(65, 13)\n",
      "(65, 13)\n",
      "(65, 13)\n",
      "(65, 13)\n",
      "(65, 13)\n"
     ]
    },
    {
     "name": "stderr",
     "output_type": "stream",
     "text": [
      "/home/akriptonn/anaconda3/envs/aidj/lib/python3.8/site-packages/librosa/core/audio.py:162: UserWarning: PySoundFile failed. Trying audioread instead.\n",
      "  warnings.warn(\"PySoundFile failed. Trying audioread instead.\")\n"
     ]
    },
    {
     "name": "stdout",
     "output_type": "stream",
     "text": [
      "(65, 13)\n",
      "(65, 13)\n",
      "(65, 13)\n",
      "(65, 13)\n",
      "(65, 13)\n",
      "(65, 13)\n",
      "(65, 13)\n",
      "(65, 13)\n",
      "(65, 13)\n",
      "(65, 13)\n"
     ]
    },
    {
     "name": "stderr",
     "output_type": "stream",
     "text": [
      "/home/akriptonn/anaconda3/envs/aidj/lib/python3.8/site-packages/librosa/core/audio.py:162: UserWarning: PySoundFile failed. Trying audioread instead.\n",
      "  warnings.warn(\"PySoundFile failed. Trying audioread instead.\")\n"
     ]
    },
    {
     "name": "stdout",
     "output_type": "stream",
     "text": [
      "(65, 13)\n",
      "(65, 13)\n",
      "(65, 13)\n",
      "(65, 13)\n",
      "(65, 13)\n",
      "(65, 13)\n",
      "(65, 13)\n",
      "(65, 13)\n",
      "(65, 13)\n",
      "(65, 13)\n"
     ]
    },
    {
     "name": "stderr",
     "output_type": "stream",
     "text": [
      "/home/akriptonn/anaconda3/envs/aidj/lib/python3.8/site-packages/librosa/core/audio.py:162: UserWarning: PySoundFile failed. Trying audioread instead.\n",
      "  warnings.warn(\"PySoundFile failed. Trying audioread instead.\")\n"
     ]
    },
    {
     "name": "stdout",
     "output_type": "stream",
     "text": [
      "(65, 13)\n",
      "(65, 13)\n",
      "(65, 13)\n",
      "(65, 13)\n",
      "(65, 13)\n",
      "(65, 13)\n",
      "(65, 13)\n",
      "(65, 13)\n",
      "(65, 13)\n",
      "(65, 13)\n"
     ]
    },
    {
     "name": "stderr",
     "output_type": "stream",
     "text": [
      "/home/akriptonn/anaconda3/envs/aidj/lib/python3.8/site-packages/librosa/core/audio.py:162: UserWarning: PySoundFile failed. Trying audioread instead.\n",
      "  warnings.warn(\"PySoundFile failed. Trying audioread instead.\")\n"
     ]
    },
    {
     "name": "stdout",
     "output_type": "stream",
     "text": [
      "(65, 13)\n",
      "(65, 13)\n",
      "(65, 13)\n",
      "(65, 13)\n",
      "(65, 13)\n",
      "(65, 13)\n",
      "(65, 13)\n",
      "(65, 13)\n",
      "(65, 13)\n",
      "(65, 13)\n",
      "\n",
      "Processing BASS HOUSE\n"
     ]
    },
    {
     "name": "stderr",
     "output_type": "stream",
     "text": [
      "/home/akriptonn/anaconda3/envs/aidj/lib/python3.8/site-packages/librosa/core/audio.py:162: UserWarning: PySoundFile failed. Trying audioread instead.\n",
      "  warnings.warn(\"PySoundFile failed. Trying audioread instead.\")\n"
     ]
    },
    {
     "name": "stdout",
     "output_type": "stream",
     "text": [
      "(65, 13)\n",
      "(65, 13)\n",
      "(65, 13)\n",
      "(65, 13)\n",
      "(65, 13)\n",
      "(65, 13)\n",
      "(65, 13)\n",
      "(65, 13)\n",
      "(65, 13)\n",
      "(65, 13)\n"
     ]
    },
    {
     "name": "stderr",
     "output_type": "stream",
     "text": [
      "/home/akriptonn/anaconda3/envs/aidj/lib/python3.8/site-packages/librosa/core/audio.py:162: UserWarning: PySoundFile failed. Trying audioread instead.\n",
      "  warnings.warn(\"PySoundFile failed. Trying audioread instead.\")\n"
     ]
    },
    {
     "name": "stdout",
     "output_type": "stream",
     "text": [
      "(65, 13)\n",
      "(65, 13)\n",
      "(65, 13)\n",
      "(65, 13)\n",
      "(65, 13)\n",
      "(65, 13)\n",
      "(65, 13)\n",
      "(65, 13)\n",
      "(65, 13)\n",
      "(65, 13)\n"
     ]
    },
    {
     "name": "stderr",
     "output_type": "stream",
     "text": [
      "/home/akriptonn/anaconda3/envs/aidj/lib/python3.8/site-packages/librosa/core/audio.py:162: UserWarning: PySoundFile failed. Trying audioread instead.\n",
      "  warnings.warn(\"PySoundFile failed. Trying audioread instead.\")\n"
     ]
    },
    {
     "name": "stdout",
     "output_type": "stream",
     "text": [
      "(65, 13)\n",
      "(65, 13)\n",
      "(65, 13)\n",
      "(65, 13)\n",
      "(65, 13)\n",
      "(65, 13)\n",
      "(65, 13)\n",
      "(65, 13)\n",
      "(65, 13)\n",
      "(65, 13)\n"
     ]
    },
    {
     "name": "stderr",
     "output_type": "stream",
     "text": [
      "/home/akriptonn/anaconda3/envs/aidj/lib/python3.8/site-packages/librosa/core/audio.py:162: UserWarning: PySoundFile failed. Trying audioread instead.\n",
      "  warnings.warn(\"PySoundFile failed. Trying audioread instead.\")\n"
     ]
    },
    {
     "name": "stdout",
     "output_type": "stream",
     "text": [
      "(65, 13)\n",
      "(65, 13)\n",
      "(65, 13)\n",
      "(65, 13)\n",
      "(65, 13)\n",
      "(65, 13)\n",
      "(65, 13)\n",
      "(65, 13)\n",
      "(65, 13)\n",
      "(65, 13)\n"
     ]
    },
    {
     "name": "stderr",
     "output_type": "stream",
     "text": [
      "/home/akriptonn/anaconda3/envs/aidj/lib/python3.8/site-packages/librosa/core/audio.py:162: UserWarning: PySoundFile failed. Trying audioread instead.\n",
      "  warnings.warn(\"PySoundFile failed. Trying audioread instead.\")\n"
     ]
    },
    {
     "name": "stdout",
     "output_type": "stream",
     "text": [
      "(65, 13)\n",
      "(65, 13)\n",
      "(65, 13)\n",
      "(65, 13)\n",
      "(65, 13)\n",
      "(65, 13)\n",
      "(65, 13)\n",
      "(65, 13)\n",
      "(65, 13)\n",
      "(65, 13)\n"
     ]
    },
    {
     "name": "stderr",
     "output_type": "stream",
     "text": [
      "/home/akriptonn/anaconda3/envs/aidj/lib/python3.8/site-packages/librosa/core/audio.py:162: UserWarning: PySoundFile failed. Trying audioread instead.\n",
      "  warnings.warn(\"PySoundFile failed. Trying audioread instead.\")\n"
     ]
    },
    {
     "name": "stdout",
     "output_type": "stream",
     "text": [
      "(65, 13)\n",
      "(65, 13)\n",
      "(65, 13)\n",
      "(65, 13)\n",
      "(65, 13)\n",
      "(65, 13)\n",
      "(65, 13)\n",
      "(65, 13)\n",
      "(65, 13)\n",
      "(65, 13)\n"
     ]
    },
    {
     "name": "stderr",
     "output_type": "stream",
     "text": [
      "/home/akriptonn/anaconda3/envs/aidj/lib/python3.8/site-packages/librosa/core/audio.py:162: UserWarning: PySoundFile failed. Trying audioread instead.\n",
      "  warnings.warn(\"PySoundFile failed. Trying audioread instead.\")\n"
     ]
    },
    {
     "name": "stdout",
     "output_type": "stream",
     "text": [
      "(65, 13)\n",
      "(65, 13)\n",
      "(65, 13)\n",
      "(65, 13)\n",
      "(65, 13)\n",
      "(65, 13)\n",
      "(65, 13)\n",
      "(65, 13)\n",
      "(65, 13)\n",
      "(65, 13)\n"
     ]
    },
    {
     "name": "stderr",
     "output_type": "stream",
     "text": [
      "/home/akriptonn/anaconda3/envs/aidj/lib/python3.8/site-packages/librosa/core/audio.py:162: UserWarning: PySoundFile failed. Trying audioread instead.\n",
      "  warnings.warn(\"PySoundFile failed. Trying audioread instead.\")\n"
     ]
    },
    {
     "name": "stdout",
     "output_type": "stream",
     "text": [
      "(65, 13)\n",
      "(65, 13)\n",
      "(65, 13)\n",
      "(65, 13)\n",
      "(65, 13)\n",
      "(65, 13)\n",
      "(65, 13)\n",
      "(65, 13)\n",
      "(65, 13)\n",
      "(65, 13)\n"
     ]
    },
    {
     "name": "stderr",
     "output_type": "stream",
     "text": [
      "/home/akriptonn/anaconda3/envs/aidj/lib/python3.8/site-packages/librosa/core/audio.py:162: UserWarning: PySoundFile failed. Trying audioread instead.\n",
      "  warnings.warn(\"PySoundFile failed. Trying audioread instead.\")\n"
     ]
    },
    {
     "name": "stdout",
     "output_type": "stream",
     "text": [
      "(65, 13)\n",
      "(65, 13)\n",
      "(65, 13)\n",
      "(65, 13)\n",
      "(65, 13)\n",
      "(65, 13)\n",
      "(65, 13)\n",
      "(65, 13)\n",
      "(65, 13)\n",
      "(65, 13)\n"
     ]
    },
    {
     "name": "stderr",
     "output_type": "stream",
     "text": [
      "/home/akriptonn/anaconda3/envs/aidj/lib/python3.8/site-packages/librosa/core/audio.py:162: UserWarning: PySoundFile failed. Trying audioread instead.\n",
      "  warnings.warn(\"PySoundFile failed. Trying audioread instead.\")\n"
     ]
    },
    {
     "name": "stdout",
     "output_type": "stream",
     "text": [
      "(65, 13)\n",
      "(65, 13)\n",
      "(65, 13)\n",
      "(65, 13)\n",
      "(65, 13)\n",
      "(65, 13)\n",
      "(65, 13)\n",
      "(65, 13)\n",
      "(65, 13)\n",
      "(65, 13)\n"
     ]
    },
    {
     "name": "stderr",
     "output_type": "stream",
     "text": [
      "/home/akriptonn/anaconda3/envs/aidj/lib/python3.8/site-packages/librosa/core/audio.py:162: UserWarning: PySoundFile failed. Trying audioread instead.\n",
      "  warnings.warn(\"PySoundFile failed. Trying audioread instead.\")\n"
     ]
    },
    {
     "name": "stdout",
     "output_type": "stream",
     "text": [
      "(65, 13)\n",
      "(65, 13)\n",
      "(65, 13)\n",
      "(65, 13)\n",
      "(65, 13)\n",
      "(65, 13)\n",
      "(65, 13)\n",
      "(65, 13)\n",
      "(65, 13)\n",
      "(65, 13)\n"
     ]
    },
    {
     "name": "stderr",
     "output_type": "stream",
     "text": [
      "/home/akriptonn/anaconda3/envs/aidj/lib/python3.8/site-packages/librosa/core/audio.py:162: UserWarning: PySoundFile failed. Trying audioread instead.\n",
      "  warnings.warn(\"PySoundFile failed. Trying audioread instead.\")\n"
     ]
    },
    {
     "name": "stdout",
     "output_type": "stream",
     "text": [
      "(65, 13)\n",
      "(65, 13)\n",
      "(65, 13)\n",
      "(65, 13)\n",
      "(65, 13)\n",
      "(65, 13)\n",
      "(65, 13)\n",
      "(65, 13)\n",
      "(65, 13)\n",
      "(65, 13)\n"
     ]
    },
    {
     "name": "stderr",
     "output_type": "stream",
     "text": [
      "/home/akriptonn/anaconda3/envs/aidj/lib/python3.8/site-packages/librosa/core/audio.py:162: UserWarning: PySoundFile failed. Trying audioread instead.\n",
      "  warnings.warn(\"PySoundFile failed. Trying audioread instead.\")\n"
     ]
    },
    {
     "name": "stdout",
     "output_type": "stream",
     "text": [
      "(65, 13)\n",
      "(65, 13)\n",
      "(65, 13)\n",
      "(65, 13)\n",
      "(65, 13)\n",
      "(65, 13)\n",
      "(65, 13)\n",
      "(65, 13)\n",
      "(65, 13)\n",
      "(65, 13)\n"
     ]
    },
    {
     "name": "stderr",
     "output_type": "stream",
     "text": [
      "/home/akriptonn/anaconda3/envs/aidj/lib/python3.8/site-packages/librosa/core/audio.py:162: UserWarning: PySoundFile failed. Trying audioread instead.\n",
      "  warnings.warn(\"PySoundFile failed. Trying audioread instead.\")\n"
     ]
    },
    {
     "name": "stdout",
     "output_type": "stream",
     "text": [
      "(65, 13)\n",
      "(65, 13)\n",
      "(65, 13)\n",
      "(65, 13)\n",
      "(65, 13)\n",
      "(65, 13)\n",
      "(65, 13)\n",
      "(65, 13)\n",
      "(65, 13)\n",
      "(65, 13)\n"
     ]
    },
    {
     "name": "stderr",
     "output_type": "stream",
     "text": [
      "/home/akriptonn/anaconda3/envs/aidj/lib/python3.8/site-packages/librosa/core/audio.py:162: UserWarning: PySoundFile failed. Trying audioread instead.\n",
      "  warnings.warn(\"PySoundFile failed. Trying audioread instead.\")\n"
     ]
    },
    {
     "name": "stdout",
     "output_type": "stream",
     "text": [
      "(65, 13)\n",
      "(65, 13)\n",
      "(65, 13)\n",
      "(65, 13)\n",
      "(65, 13)\n",
      "(65, 13)\n",
      "(65, 13)\n",
      "(65, 13)\n",
      "(65, 13)\n",
      "(65, 13)\n"
     ]
    },
    {
     "name": "stderr",
     "output_type": "stream",
     "text": [
      "/home/akriptonn/anaconda3/envs/aidj/lib/python3.8/site-packages/librosa/core/audio.py:162: UserWarning: PySoundFile failed. Trying audioread instead.\n",
      "  warnings.warn(\"PySoundFile failed. Trying audioread instead.\")\n"
     ]
    },
    {
     "name": "stdout",
     "output_type": "stream",
     "text": [
      "(65, 13)\n",
      "(65, 13)\n",
      "(65, 13)\n",
      "(65, 13)\n",
      "(65, 13)\n",
      "(65, 13)\n",
      "(65, 13)\n",
      "(65, 13)\n",
      "(65, 13)\n",
      "(65, 13)\n"
     ]
    },
    {
     "name": "stderr",
     "output_type": "stream",
     "text": [
      "/home/akriptonn/anaconda3/envs/aidj/lib/python3.8/site-packages/librosa/core/audio.py:162: UserWarning: PySoundFile failed. Trying audioread instead.\n",
      "  warnings.warn(\"PySoundFile failed. Trying audioread instead.\")\n"
     ]
    },
    {
     "name": "stdout",
     "output_type": "stream",
     "text": [
      "(65, 13)\n",
      "(65, 13)\n",
      "(65, 13)\n",
      "(65, 13)\n",
      "(65, 13)\n",
      "(65, 13)\n",
      "(65, 13)\n",
      "(65, 13)\n",
      "(65, 13)\n",
      "(65, 13)\n"
     ]
    },
    {
     "name": "stderr",
     "output_type": "stream",
     "text": [
      "/home/akriptonn/anaconda3/envs/aidj/lib/python3.8/site-packages/librosa/core/audio.py:162: UserWarning: PySoundFile failed. Trying audioread instead.\n",
      "  warnings.warn(\"PySoundFile failed. Trying audioread instead.\")\n"
     ]
    },
    {
     "name": "stdout",
     "output_type": "stream",
     "text": [
      "(65, 13)\n",
      "(65, 13)\n",
      "(65, 13)\n",
      "(65, 13)\n",
      "(65, 13)\n",
      "(65, 13)\n",
      "(65, 13)\n",
      "(65, 13)\n",
      "(65, 13)\n",
      "(65, 13)\n"
     ]
    },
    {
     "name": "stderr",
     "output_type": "stream",
     "text": [
      "/home/akriptonn/anaconda3/envs/aidj/lib/python3.8/site-packages/librosa/core/audio.py:162: UserWarning: PySoundFile failed. Trying audioread instead.\n",
      "  warnings.warn(\"PySoundFile failed. Trying audioread instead.\")\n"
     ]
    },
    {
     "name": "stdout",
     "output_type": "stream",
     "text": [
      "(65, 13)\n",
      "(65, 13)\n",
      "(65, 13)\n",
      "(65, 13)\n",
      "(65, 13)\n",
      "(65, 13)\n",
      "(65, 13)\n",
      "(65, 13)\n",
      "(65, 13)\n",
      "(65, 13)\n"
     ]
    },
    {
     "name": "stderr",
     "output_type": "stream",
     "text": [
      "/home/akriptonn/anaconda3/envs/aidj/lib/python3.8/site-packages/librosa/core/audio.py:162: UserWarning: PySoundFile failed. Trying audioread instead.\n",
      "  warnings.warn(\"PySoundFile failed. Trying audioread instead.\")\n"
     ]
    },
    {
     "name": "stdout",
     "output_type": "stream",
     "text": [
      "(65, 13)\n",
      "(65, 13)\n",
      "(65, 13)\n",
      "(65, 13)\n",
      "(65, 13)\n",
      "(65, 13)\n",
      "(65, 13)\n",
      "(65, 13)\n",
      "(65, 13)\n",
      "(65, 13)\n"
     ]
    },
    {
     "name": "stderr",
     "output_type": "stream",
     "text": [
      "/home/akriptonn/anaconda3/envs/aidj/lib/python3.8/site-packages/librosa/core/audio.py:162: UserWarning: PySoundFile failed. Trying audioread instead.\n",
      "  warnings.warn(\"PySoundFile failed. Trying audioread instead.\")\n"
     ]
    },
    {
     "name": "stdout",
     "output_type": "stream",
     "text": [
      "(65, 13)\n",
      "(65, 13)\n",
      "(65, 13)\n",
      "(65, 13)\n",
      "(65, 13)\n",
      "(65, 13)\n",
      "(65, 13)\n",
      "(65, 13)\n",
      "(65, 13)\n",
      "(65, 13)\n"
     ]
    },
    {
     "name": "stderr",
     "output_type": "stream",
     "text": [
      "/home/akriptonn/anaconda3/envs/aidj/lib/python3.8/site-packages/librosa/core/audio.py:162: UserWarning: PySoundFile failed. Trying audioread instead.\n",
      "  warnings.warn(\"PySoundFile failed. Trying audioread instead.\")\n"
     ]
    },
    {
     "name": "stdout",
     "output_type": "stream",
     "text": [
      "(65, 13)\n",
      "(65, 13)\n",
      "(65, 13)\n",
      "(65, 13)\n",
      "(65, 13)\n",
      "(65, 13)\n",
      "(65, 13)\n",
      "(65, 13)\n",
      "(65, 13)\n",
      "(65, 13)\n"
     ]
    },
    {
     "name": "stderr",
     "output_type": "stream",
     "text": [
      "/home/akriptonn/anaconda3/envs/aidj/lib/python3.8/site-packages/librosa/core/audio.py:162: UserWarning: PySoundFile failed. Trying audioread instead.\n",
      "  warnings.warn(\"PySoundFile failed. Trying audioread instead.\")\n"
     ]
    },
    {
     "name": "stdout",
     "output_type": "stream",
     "text": [
      "(65, 13)\n",
      "(65, 13)\n",
      "(65, 13)\n",
      "(65, 13)\n",
      "(65, 13)\n",
      "(65, 13)\n",
      "(65, 13)\n",
      "(65, 13)\n",
      "(65, 13)\n",
      "(65, 13)\n"
     ]
    },
    {
     "name": "stderr",
     "output_type": "stream",
     "text": [
      "/home/akriptonn/anaconda3/envs/aidj/lib/python3.8/site-packages/librosa/core/audio.py:162: UserWarning: PySoundFile failed. Trying audioread instead.\n",
      "  warnings.warn(\"PySoundFile failed. Trying audioread instead.\")\n"
     ]
    },
    {
     "name": "stdout",
     "output_type": "stream",
     "text": [
      "(65, 13)\n",
      "(65, 13)\n",
      "(65, 13)\n",
      "(65, 13)\n",
      "(65, 13)\n",
      "(65, 13)\n",
      "(65, 13)\n",
      "(65, 13)\n",
      "(65, 13)\n",
      "(65, 13)\n"
     ]
    },
    {
     "name": "stderr",
     "output_type": "stream",
     "text": [
      "/home/akriptonn/anaconda3/envs/aidj/lib/python3.8/site-packages/librosa/core/audio.py:162: UserWarning: PySoundFile failed. Trying audioread instead.\n",
      "  warnings.warn(\"PySoundFile failed. Trying audioread instead.\")\n"
     ]
    },
    {
     "name": "stdout",
     "output_type": "stream",
     "text": [
      "(65, 13)\n",
      "(65, 13)\n",
      "(65, 13)\n",
      "(65, 13)\n",
      "(65, 13)\n",
      "(65, 13)\n",
      "(65, 13)\n",
      "(65, 13)\n",
      "(65, 13)\n",
      "(65, 13)\n"
     ]
    },
    {
     "name": "stderr",
     "output_type": "stream",
     "text": [
      "/home/akriptonn/anaconda3/envs/aidj/lib/python3.8/site-packages/librosa/core/audio.py:162: UserWarning: PySoundFile failed. Trying audioread instead.\n",
      "  warnings.warn(\"PySoundFile failed. Trying audioread instead.\")\n"
     ]
    },
    {
     "name": "stdout",
     "output_type": "stream",
     "text": [
      "(65, 13)\n",
      "(65, 13)\n",
      "(65, 13)\n",
      "(65, 13)\n",
      "(65, 13)\n",
      "(65, 13)\n",
      "(65, 13)\n",
      "(65, 13)\n",
      "(65, 13)\n",
      "(65, 13)\n"
     ]
    },
    {
     "name": "stderr",
     "output_type": "stream",
     "text": [
      "/home/akriptonn/anaconda3/envs/aidj/lib/python3.8/site-packages/librosa/core/audio.py:162: UserWarning: PySoundFile failed. Trying audioread instead.\n",
      "  warnings.warn(\"PySoundFile failed. Trying audioread instead.\")\n"
     ]
    },
    {
     "name": "stdout",
     "output_type": "stream",
     "text": [
      "(65, 13)\n",
      "(65, 13)\n",
      "(65, 13)\n",
      "(65, 13)\n",
      "(65, 13)\n",
      "(65, 13)\n",
      "(65, 13)\n",
      "(65, 13)\n",
      "(65, 13)\n",
      "(65, 13)\n"
     ]
    },
    {
     "name": "stderr",
     "output_type": "stream",
     "text": [
      "/home/akriptonn/anaconda3/envs/aidj/lib/python3.8/site-packages/librosa/core/audio.py:162: UserWarning: PySoundFile failed. Trying audioread instead.\n",
      "  warnings.warn(\"PySoundFile failed. Trying audioread instead.\")\n"
     ]
    },
    {
     "name": "stdout",
     "output_type": "stream",
     "text": [
      "(65, 13)\n",
      "(65, 13)\n",
      "(65, 13)\n",
      "(65, 13)\n",
      "(65, 13)\n",
      "(65, 13)\n",
      "(65, 13)\n",
      "(65, 13)\n",
      "(65, 13)\n",
      "(65, 13)\n"
     ]
    },
    {
     "name": "stderr",
     "output_type": "stream",
     "text": [
      "/home/akriptonn/anaconda3/envs/aidj/lib/python3.8/site-packages/librosa/core/audio.py:162: UserWarning: PySoundFile failed. Trying audioread instead.\n",
      "  warnings.warn(\"PySoundFile failed. Trying audioread instead.\")\n"
     ]
    },
    {
     "name": "stdout",
     "output_type": "stream",
     "text": [
      "(65, 13)\n",
      "(65, 13)\n",
      "(65, 13)\n",
      "(65, 13)\n",
      "(65, 13)\n",
      "(65, 13)\n",
      "(65, 13)\n",
      "(65, 13)\n",
      "(65, 13)\n",
      "(65, 13)\n"
     ]
    },
    {
     "name": "stderr",
     "output_type": "stream",
     "text": [
      "/home/akriptonn/anaconda3/envs/aidj/lib/python3.8/site-packages/librosa/core/audio.py:162: UserWarning: PySoundFile failed. Trying audioread instead.\n",
      "  warnings.warn(\"PySoundFile failed. Trying audioread instead.\")\n"
     ]
    },
    {
     "name": "stdout",
     "output_type": "stream",
     "text": [
      "(65, 13)\n",
      "(65, 13)\n",
      "(65, 13)\n",
      "(65, 13)\n",
      "(65, 13)\n",
      "(65, 13)\n",
      "(65, 13)\n",
      "(65, 13)\n",
      "(65, 13)\n",
      "(65, 13)\n"
     ]
    },
    {
     "name": "stderr",
     "output_type": "stream",
     "text": [
      "/home/akriptonn/anaconda3/envs/aidj/lib/python3.8/site-packages/librosa/core/audio.py:162: UserWarning: PySoundFile failed. Trying audioread instead.\n",
      "  warnings.warn(\"PySoundFile failed. Trying audioread instead.\")\n"
     ]
    },
    {
     "name": "stdout",
     "output_type": "stream",
     "text": [
      "(65, 13)\n",
      "(65, 13)\n",
      "(65, 13)\n",
      "(65, 13)\n",
      "(65, 13)\n",
      "(65, 13)\n",
      "(65, 13)\n",
      "(65, 13)\n",
      "(65, 13)\n",
      "(65, 13)\n"
     ]
    },
    {
     "name": "stderr",
     "output_type": "stream",
     "text": [
      "/home/akriptonn/anaconda3/envs/aidj/lib/python3.8/site-packages/librosa/core/audio.py:162: UserWarning: PySoundFile failed. Trying audioread instead.\n",
      "  warnings.warn(\"PySoundFile failed. Trying audioread instead.\")\n"
     ]
    },
    {
     "name": "stdout",
     "output_type": "stream",
     "text": [
      "(65, 13)\n",
      "(65, 13)\n",
      "(65, 13)\n",
      "(65, 13)\n",
      "(65, 13)\n",
      "(65, 13)\n",
      "(65, 13)\n",
      "(65, 13)\n",
      "(65, 13)\n",
      "(65, 13)\n"
     ]
    },
    {
     "name": "stderr",
     "output_type": "stream",
     "text": [
      "/home/akriptonn/anaconda3/envs/aidj/lib/python3.8/site-packages/librosa/core/audio.py:162: UserWarning: PySoundFile failed. Trying audioread instead.\n",
      "  warnings.warn(\"PySoundFile failed. Trying audioread instead.\")\n"
     ]
    },
    {
     "name": "stdout",
     "output_type": "stream",
     "text": [
      "(65, 13)\n",
      "(65, 13)\n",
      "(65, 13)\n",
      "(65, 13)\n",
      "(65, 13)\n",
      "(65, 13)\n",
      "(65, 13)\n",
      "(65, 13)\n",
      "(65, 13)\n",
      "(65, 13)\n"
     ]
    },
    {
     "name": "stderr",
     "output_type": "stream",
     "text": [
      "/home/akriptonn/anaconda3/envs/aidj/lib/python3.8/site-packages/librosa/core/audio.py:162: UserWarning: PySoundFile failed. Trying audioread instead.\n",
      "  warnings.warn(\"PySoundFile failed. Trying audioread instead.\")\n"
     ]
    },
    {
     "name": "stdout",
     "output_type": "stream",
     "text": [
      "(65, 13)\n",
      "(65, 13)\n",
      "(65, 13)\n",
      "(65, 13)\n",
      "(65, 13)\n",
      "(65, 13)\n",
      "(65, 13)\n",
      "(65, 13)\n",
      "(65, 13)\n",
      "(65, 13)\n"
     ]
    },
    {
     "name": "stderr",
     "output_type": "stream",
     "text": [
      "/home/akriptonn/anaconda3/envs/aidj/lib/python3.8/site-packages/librosa/core/audio.py:162: UserWarning: PySoundFile failed. Trying audioread instead.\n",
      "  warnings.warn(\"PySoundFile failed. Trying audioread instead.\")\n"
     ]
    },
    {
     "name": "stdout",
     "output_type": "stream",
     "text": [
      "(65, 13)\n",
      "(65, 13)\n",
      "(65, 13)\n",
      "(65, 13)\n",
      "(65, 13)\n",
      "(65, 13)\n",
      "(65, 13)\n",
      "(65, 13)\n",
      "(65, 13)\n",
      "(65, 13)\n"
     ]
    },
    {
     "name": "stderr",
     "output_type": "stream",
     "text": [
      "/home/akriptonn/anaconda3/envs/aidj/lib/python3.8/site-packages/librosa/core/audio.py:162: UserWarning: PySoundFile failed. Trying audioread instead.\n",
      "  warnings.warn(\"PySoundFile failed. Trying audioread instead.\")\n"
     ]
    },
    {
     "name": "stdout",
     "output_type": "stream",
     "text": [
      "(65, 13)\n",
      "(65, 13)\n",
      "(65, 13)\n",
      "(65, 13)\n",
      "(65, 13)\n",
      "(65, 13)\n",
      "(65, 13)\n",
      "(65, 13)\n",
      "(65, 13)\n",
      "(65, 13)\n"
     ]
    },
    {
     "name": "stderr",
     "output_type": "stream",
     "text": [
      "/home/akriptonn/anaconda3/envs/aidj/lib/python3.8/site-packages/librosa/core/audio.py:162: UserWarning: PySoundFile failed. Trying audioread instead.\n",
      "  warnings.warn(\"PySoundFile failed. Trying audioread instead.\")\n"
     ]
    },
    {
     "name": "stdout",
     "output_type": "stream",
     "text": [
      "(65, 13)\n",
      "(65, 13)\n",
      "(65, 13)\n",
      "(65, 13)\n",
      "(65, 13)\n",
      "(65, 13)\n",
      "(65, 13)\n",
      "(65, 13)\n",
      "(65, 13)\n",
      "(65, 13)\n"
     ]
    },
    {
     "name": "stderr",
     "output_type": "stream",
     "text": [
      "/home/akriptonn/anaconda3/envs/aidj/lib/python3.8/site-packages/librosa/core/audio.py:162: UserWarning: PySoundFile failed. Trying audioread instead.\n",
      "  warnings.warn(\"PySoundFile failed. Trying audioread instead.\")\n"
     ]
    },
    {
     "name": "stdout",
     "output_type": "stream",
     "text": [
      "(65, 13)\n",
      "(65, 13)\n",
      "(65, 13)\n",
      "(65, 13)\n",
      "(65, 13)\n",
      "(65, 13)\n",
      "(65, 13)\n",
      "(65, 13)\n",
      "(65, 13)\n",
      "(65, 13)\n"
     ]
    },
    {
     "name": "stderr",
     "output_type": "stream",
     "text": [
      "/home/akriptonn/anaconda3/envs/aidj/lib/python3.8/site-packages/librosa/core/audio.py:162: UserWarning: PySoundFile failed. Trying audioread instead.\n",
      "  warnings.warn(\"PySoundFile failed. Trying audioread instead.\")\n"
     ]
    },
    {
     "name": "stdout",
     "output_type": "stream",
     "text": [
      "(65, 13)\n",
      "(65, 13)\n",
      "(65, 13)\n",
      "(65, 13)\n",
      "(65, 13)\n",
      "(65, 13)\n",
      "(65, 13)\n",
      "(65, 13)\n",
      "(65, 13)\n",
      "(65, 13)\n"
     ]
    },
    {
     "name": "stderr",
     "output_type": "stream",
     "text": [
      "/home/akriptonn/anaconda3/envs/aidj/lib/python3.8/site-packages/librosa/core/audio.py:162: UserWarning: PySoundFile failed. Trying audioread instead.\n",
      "  warnings.warn(\"PySoundFile failed. Trying audioread instead.\")\n"
     ]
    },
    {
     "name": "stdout",
     "output_type": "stream",
     "text": [
      "(65, 13)\n",
      "(65, 13)\n",
      "(65, 13)\n",
      "(65, 13)\n",
      "(65, 13)\n",
      "(65, 13)\n",
      "(65, 13)\n",
      "(65, 13)\n",
      "(65, 13)\n",
      "(65, 13)\n"
     ]
    },
    {
     "name": "stderr",
     "output_type": "stream",
     "text": [
      "/home/akriptonn/anaconda3/envs/aidj/lib/python3.8/site-packages/librosa/core/audio.py:162: UserWarning: PySoundFile failed. Trying audioread instead.\n",
      "  warnings.warn(\"PySoundFile failed. Trying audioread instead.\")\n"
     ]
    },
    {
     "name": "stdout",
     "output_type": "stream",
     "text": [
      "(65, 13)\n",
      "(65, 13)\n",
      "(65, 13)\n",
      "(65, 13)\n",
      "(65, 13)\n",
      "(65, 13)\n",
      "(65, 13)\n",
      "(65, 13)\n",
      "(65, 13)\n",
      "(65, 13)\n"
     ]
    },
    {
     "name": "stderr",
     "output_type": "stream",
     "text": [
      "/home/akriptonn/anaconda3/envs/aidj/lib/python3.8/site-packages/librosa/core/audio.py:162: UserWarning: PySoundFile failed. Trying audioread instead.\n",
      "  warnings.warn(\"PySoundFile failed. Trying audioread instead.\")\n"
     ]
    },
    {
     "name": "stdout",
     "output_type": "stream",
     "text": [
      "(65, 13)\n",
      "(65, 13)\n",
      "(65, 13)\n",
      "(65, 13)\n",
      "(65, 13)\n",
      "(65, 13)\n",
      "(65, 13)\n",
      "(65, 13)\n",
      "(65, 13)\n",
      "(65, 13)\n"
     ]
    },
    {
     "name": "stderr",
     "output_type": "stream",
     "text": [
      "/home/akriptonn/anaconda3/envs/aidj/lib/python3.8/site-packages/librosa/core/audio.py:162: UserWarning: PySoundFile failed. Trying audioread instead.\n",
      "  warnings.warn(\"PySoundFile failed. Trying audioread instead.\")\n"
     ]
    },
    {
     "name": "stdout",
     "output_type": "stream",
     "text": [
      "(65, 13)\n",
      "(65, 13)\n",
      "(65, 13)\n",
      "(65, 13)\n",
      "(65, 13)\n",
      "(65, 13)\n",
      "(65, 13)\n",
      "(65, 13)\n",
      "(65, 13)\n",
      "(65, 13)\n"
     ]
    },
    {
     "name": "stderr",
     "output_type": "stream",
     "text": [
      "/home/akriptonn/anaconda3/envs/aidj/lib/python3.8/site-packages/librosa/core/audio.py:162: UserWarning: PySoundFile failed. Trying audioread instead.\n",
      "  warnings.warn(\"PySoundFile failed. Trying audioread instead.\")\n"
     ]
    },
    {
     "name": "stdout",
     "output_type": "stream",
     "text": [
      "(65, 13)\n",
      "(65, 13)\n",
      "(65, 13)\n",
      "(65, 13)\n",
      "(65, 13)\n",
      "(65, 13)\n",
      "(65, 13)\n",
      "(65, 13)\n",
      "(65, 13)\n",
      "(65, 13)\n"
     ]
    },
    {
     "name": "stderr",
     "output_type": "stream",
     "text": [
      "/home/akriptonn/anaconda3/envs/aidj/lib/python3.8/site-packages/librosa/core/audio.py:162: UserWarning: PySoundFile failed. Trying audioread instead.\n",
      "  warnings.warn(\"PySoundFile failed. Trying audioread instead.\")\n"
     ]
    },
    {
     "name": "stdout",
     "output_type": "stream",
     "text": [
      "(65, 13)\n",
      "(65, 13)\n",
      "(65, 13)\n",
      "(65, 13)\n",
      "(65, 13)\n",
      "(65, 13)\n",
      "(65, 13)\n",
      "(65, 13)\n",
      "(65, 13)\n",
      "(65, 13)\n"
     ]
    },
    {
     "name": "stderr",
     "output_type": "stream",
     "text": [
      "/home/akriptonn/anaconda3/envs/aidj/lib/python3.8/site-packages/librosa/core/audio.py:162: UserWarning: PySoundFile failed. Trying audioread instead.\n",
      "  warnings.warn(\"PySoundFile failed. Trying audioread instead.\")\n"
     ]
    },
    {
     "name": "stdout",
     "output_type": "stream",
     "text": [
      "(65, 13)\n",
      "(65, 13)\n",
      "(65, 13)\n",
      "(65, 13)\n",
      "(65, 13)\n",
      "(65, 13)\n",
      "(65, 13)\n",
      "(65, 13)\n",
      "(65, 13)\n",
      "(65, 13)\n"
     ]
    },
    {
     "name": "stderr",
     "output_type": "stream",
     "text": [
      "/home/akriptonn/anaconda3/envs/aidj/lib/python3.8/site-packages/librosa/core/audio.py:162: UserWarning: PySoundFile failed. Trying audioread instead.\n",
      "  warnings.warn(\"PySoundFile failed. Trying audioread instead.\")\n"
     ]
    },
    {
     "name": "stdout",
     "output_type": "stream",
     "text": [
      "(65, 13)\n",
      "(65, 13)\n",
      "(65, 13)\n",
      "(65, 13)\n",
      "(65, 13)\n",
      "(65, 13)\n",
      "(65, 13)\n",
      "(65, 13)\n",
      "(65, 13)\n",
      "(65, 13)\n"
     ]
    },
    {
     "name": "stderr",
     "output_type": "stream",
     "text": [
      "/home/akriptonn/anaconda3/envs/aidj/lib/python3.8/site-packages/librosa/core/audio.py:162: UserWarning: PySoundFile failed. Trying audioread instead.\n",
      "  warnings.warn(\"PySoundFile failed. Trying audioread instead.\")\n"
     ]
    },
    {
     "name": "stdout",
     "output_type": "stream",
     "text": [
      "(65, 13)\n",
      "(65, 13)\n",
      "(65, 13)\n",
      "(65, 13)\n",
      "(65, 13)\n",
      "(65, 13)\n",
      "(65, 13)\n",
      "(65, 13)\n",
      "(65, 13)\n",
      "(65, 13)\n"
     ]
    },
    {
     "name": "stderr",
     "output_type": "stream",
     "text": [
      "/home/akriptonn/anaconda3/envs/aidj/lib/python3.8/site-packages/librosa/core/audio.py:162: UserWarning: PySoundFile failed. Trying audioread instead.\n",
      "  warnings.warn(\"PySoundFile failed. Trying audioread instead.\")\n"
     ]
    },
    {
     "name": "stdout",
     "output_type": "stream",
     "text": [
      "(65, 13)\n",
      "(65, 13)\n",
      "(65, 13)\n",
      "(65, 13)\n",
      "(65, 13)\n",
      "(65, 13)\n",
      "(65, 13)\n",
      "(65, 13)\n",
      "(65, 13)\n",
      "(65, 13)\n"
     ]
    },
    {
     "name": "stderr",
     "output_type": "stream",
     "text": [
      "/home/akriptonn/anaconda3/envs/aidj/lib/python3.8/site-packages/librosa/core/audio.py:162: UserWarning: PySoundFile failed. Trying audioread instead.\n",
      "  warnings.warn(\"PySoundFile failed. Trying audioread instead.\")\n"
     ]
    },
    {
     "name": "stdout",
     "output_type": "stream",
     "text": [
      "(65, 13)\n",
      "(65, 13)\n",
      "(65, 13)\n",
      "(65, 13)\n",
      "(65, 13)\n",
      "(65, 13)\n",
      "(65, 13)\n",
      "(65, 13)\n",
      "(65, 13)\n",
      "(65, 13)\n"
     ]
    },
    {
     "name": "stderr",
     "output_type": "stream",
     "text": [
      "/home/akriptonn/anaconda3/envs/aidj/lib/python3.8/site-packages/librosa/core/audio.py:162: UserWarning: PySoundFile failed. Trying audioread instead.\n",
      "  warnings.warn(\"PySoundFile failed. Trying audioread instead.\")\n"
     ]
    },
    {
     "name": "stdout",
     "output_type": "stream",
     "text": [
      "(65, 13)\n",
      "(65, 13)\n",
      "(65, 13)\n",
      "(65, 13)\n",
      "(65, 13)\n",
      "(65, 13)\n",
      "(65, 13)\n",
      "(65, 13)\n",
      "(65, 13)\n",
      "(65, 13)\n"
     ]
    },
    {
     "name": "stderr",
     "output_type": "stream",
     "text": [
      "/home/akriptonn/anaconda3/envs/aidj/lib/python3.8/site-packages/librosa/core/audio.py:162: UserWarning: PySoundFile failed. Trying audioread instead.\n",
      "  warnings.warn(\"PySoundFile failed. Trying audioread instead.\")\n"
     ]
    },
    {
     "name": "stdout",
     "output_type": "stream",
     "text": [
      "(65, 13)\n",
      "(65, 13)\n",
      "(65, 13)\n",
      "(65, 13)\n",
      "(65, 13)\n",
      "(65, 13)\n",
      "(65, 13)\n",
      "(65, 13)\n",
      "(65, 13)\n",
      "(65, 13)\n"
     ]
    },
    {
     "name": "stderr",
     "output_type": "stream",
     "text": [
      "/home/akriptonn/anaconda3/envs/aidj/lib/python3.8/site-packages/librosa/core/audio.py:162: UserWarning: PySoundFile failed. Trying audioread instead.\n",
      "  warnings.warn(\"PySoundFile failed. Trying audioread instead.\")\n"
     ]
    },
    {
     "name": "stdout",
     "output_type": "stream",
     "text": [
      "(65, 13)\n",
      "(65, 13)\n",
      "(65, 13)\n",
      "(65, 13)\n",
      "(65, 13)\n",
      "(65, 13)\n",
      "(65, 13)\n",
      "(65, 13)\n",
      "(65, 13)\n",
      "(65, 13)\n"
     ]
    },
    {
     "name": "stderr",
     "output_type": "stream",
     "text": [
      "/home/akriptonn/anaconda3/envs/aidj/lib/python3.8/site-packages/librosa/core/audio.py:162: UserWarning: PySoundFile failed. Trying audioread instead.\n",
      "  warnings.warn(\"PySoundFile failed. Trying audioread instead.\")\n"
     ]
    },
    {
     "name": "stdout",
     "output_type": "stream",
     "text": [
      "(65, 13)\n",
      "(65, 13)\n",
      "(65, 13)\n",
      "(65, 13)\n",
      "(65, 13)\n",
      "(65, 13)\n",
      "(65, 13)\n",
      "(65, 13)\n",
      "(65, 13)\n",
      "(65, 13)\n"
     ]
    },
    {
     "name": "stderr",
     "output_type": "stream",
     "text": [
      "/home/akriptonn/anaconda3/envs/aidj/lib/python3.8/site-packages/librosa/core/audio.py:162: UserWarning: PySoundFile failed. Trying audioread instead.\n",
      "  warnings.warn(\"PySoundFile failed. Trying audioread instead.\")\n"
     ]
    },
    {
     "name": "stdout",
     "output_type": "stream",
     "text": [
      "(65, 13)\n",
      "(65, 13)\n",
      "(65, 13)\n",
      "(65, 13)\n",
      "(65, 13)\n",
      "(65, 13)\n",
      "(65, 13)\n",
      "(65, 13)\n",
      "(65, 13)\n",
      "(65, 13)\n"
     ]
    },
    {
     "name": "stderr",
     "output_type": "stream",
     "text": [
      "/home/akriptonn/anaconda3/envs/aidj/lib/python3.8/site-packages/librosa/core/audio.py:162: UserWarning: PySoundFile failed. Trying audioread instead.\n",
      "  warnings.warn(\"PySoundFile failed. Trying audioread instead.\")\n"
     ]
    },
    {
     "name": "stdout",
     "output_type": "stream",
     "text": [
      "(65, 13)\n",
      "(65, 13)\n",
      "(65, 13)\n",
      "(65, 13)\n",
      "(65, 13)\n",
      "(65, 13)\n",
      "(65, 13)\n",
      "(65, 13)\n",
      "(65, 13)\n",
      "(65, 13)\n"
     ]
    },
    {
     "name": "stderr",
     "output_type": "stream",
     "text": [
      "/home/akriptonn/anaconda3/envs/aidj/lib/python3.8/site-packages/librosa/core/audio.py:162: UserWarning: PySoundFile failed. Trying audioread instead.\n",
      "  warnings.warn(\"PySoundFile failed. Trying audioread instead.\")\n"
     ]
    },
    {
     "name": "stdout",
     "output_type": "stream",
     "text": [
      "(65, 13)\n",
      "(65, 13)\n",
      "(65, 13)\n",
      "(65, 13)\n",
      "(65, 13)\n",
      "(65, 13)\n",
      "(65, 13)\n",
      "(65, 13)\n",
      "(65, 13)\n",
      "(65, 13)\n"
     ]
    },
    {
     "name": "stderr",
     "output_type": "stream",
     "text": [
      "/home/akriptonn/anaconda3/envs/aidj/lib/python3.8/site-packages/librosa/core/audio.py:162: UserWarning: PySoundFile failed. Trying audioread instead.\n",
      "  warnings.warn(\"PySoundFile failed. Trying audioread instead.\")\n"
     ]
    },
    {
     "name": "stdout",
     "output_type": "stream",
     "text": [
      "(65, 13)\n",
      "(65, 13)\n",
      "(65, 13)\n",
      "(65, 13)\n",
      "(65, 13)\n",
      "(65, 13)\n",
      "(65, 13)\n",
      "(65, 13)\n",
      "(65, 13)\n",
      "(65, 13)\n"
     ]
    },
    {
     "name": "stderr",
     "output_type": "stream",
     "text": [
      "/home/akriptonn/anaconda3/envs/aidj/lib/python3.8/site-packages/librosa/core/audio.py:162: UserWarning: PySoundFile failed. Trying audioread instead.\n",
      "  warnings.warn(\"PySoundFile failed. Trying audioread instead.\")\n"
     ]
    },
    {
     "name": "stdout",
     "output_type": "stream",
     "text": [
      "(65, 13)\n",
      "(65, 13)\n",
      "(65, 13)\n",
      "(65, 13)\n",
      "(65, 13)\n",
      "(65, 13)\n",
      "(65, 13)\n",
      "(65, 13)\n",
      "(65, 13)\n",
      "(65, 13)\n"
     ]
    },
    {
     "name": "stderr",
     "output_type": "stream",
     "text": [
      "/home/akriptonn/anaconda3/envs/aidj/lib/python3.8/site-packages/librosa/core/audio.py:162: UserWarning: PySoundFile failed. Trying audioread instead.\n",
      "  warnings.warn(\"PySoundFile failed. Trying audioread instead.\")\n"
     ]
    },
    {
     "name": "stdout",
     "output_type": "stream",
     "text": [
      "(65, 13)\n",
      "(65, 13)\n",
      "(65, 13)\n",
      "(65, 13)\n",
      "(65, 13)\n",
      "(65, 13)\n",
      "(65, 13)\n",
      "(65, 13)\n",
      "(65, 13)\n",
      "(65, 13)\n"
     ]
    },
    {
     "name": "stderr",
     "output_type": "stream",
     "text": [
      "/home/akriptonn/anaconda3/envs/aidj/lib/python3.8/site-packages/librosa/core/audio.py:162: UserWarning: PySoundFile failed. Trying audioread instead.\n",
      "  warnings.warn(\"PySoundFile failed. Trying audioread instead.\")\n"
     ]
    },
    {
     "name": "stdout",
     "output_type": "stream",
     "text": [
      "(65, 13)\n",
      "(65, 13)\n",
      "(65, 13)\n",
      "(65, 13)\n",
      "(65, 13)\n",
      "(65, 13)\n",
      "(65, 13)\n",
      "(65, 13)\n",
      "(65, 13)\n",
      "(65, 13)\n"
     ]
    },
    {
     "name": "stderr",
     "output_type": "stream",
     "text": [
      "/home/akriptonn/anaconda3/envs/aidj/lib/python3.8/site-packages/librosa/core/audio.py:162: UserWarning: PySoundFile failed. Trying audioread instead.\n",
      "  warnings.warn(\"PySoundFile failed. Trying audioread instead.\")\n"
     ]
    },
    {
     "name": "stdout",
     "output_type": "stream",
     "text": [
      "(65, 13)\n",
      "(65, 13)\n",
      "(65, 13)\n",
      "(65, 13)\n",
      "(65, 13)\n",
      "(65, 13)\n",
      "(65, 13)\n",
      "(65, 13)\n",
      "(65, 13)\n",
      "(65, 13)\n"
     ]
    },
    {
     "name": "stderr",
     "output_type": "stream",
     "text": [
      "/home/akriptonn/anaconda3/envs/aidj/lib/python3.8/site-packages/librosa/core/audio.py:162: UserWarning: PySoundFile failed. Trying audioread instead.\n",
      "  warnings.warn(\"PySoundFile failed. Trying audioread instead.\")\n"
     ]
    },
    {
     "name": "stdout",
     "output_type": "stream",
     "text": [
      "(65, 13)\n",
      "(65, 13)\n",
      "(65, 13)\n",
      "(65, 13)\n",
      "(65, 13)\n",
      "(65, 13)\n",
      "(65, 13)\n",
      "(65, 13)\n",
      "(65, 13)\n",
      "(65, 13)\n"
     ]
    },
    {
     "name": "stderr",
     "output_type": "stream",
     "text": [
      "/home/akriptonn/anaconda3/envs/aidj/lib/python3.8/site-packages/librosa/core/audio.py:162: UserWarning: PySoundFile failed. Trying audioread instead.\n",
      "  warnings.warn(\"PySoundFile failed. Trying audioread instead.\")\n"
     ]
    },
    {
     "name": "stdout",
     "output_type": "stream",
     "text": [
      "(65, 13)\n",
      "(65, 13)\n",
      "(65, 13)\n",
      "(65, 13)\n",
      "(65, 13)\n",
      "(65, 13)\n",
      "(65, 13)\n",
      "(65, 13)\n",
      "(65, 13)\n",
      "(65, 13)\n"
     ]
    },
    {
     "name": "stderr",
     "output_type": "stream",
     "text": [
      "/home/akriptonn/anaconda3/envs/aidj/lib/python3.8/site-packages/librosa/core/audio.py:162: UserWarning: PySoundFile failed. Trying audioread instead.\n",
      "  warnings.warn(\"PySoundFile failed. Trying audioread instead.\")\n"
     ]
    },
    {
     "name": "stdout",
     "output_type": "stream",
     "text": [
      "(65, 13)\n",
      "(65, 13)\n",
      "(65, 13)\n",
      "(65, 13)\n",
      "(65, 13)\n",
      "(65, 13)\n",
      "(65, 13)\n",
      "(65, 13)\n",
      "(65, 13)\n",
      "(65, 13)\n"
     ]
    },
    {
     "name": "stderr",
     "output_type": "stream",
     "text": [
      "/home/akriptonn/anaconda3/envs/aidj/lib/python3.8/site-packages/librosa/core/audio.py:162: UserWarning: PySoundFile failed. Trying audioread instead.\n",
      "  warnings.warn(\"PySoundFile failed. Trying audioread instead.\")\n"
     ]
    },
    {
     "name": "stdout",
     "output_type": "stream",
     "text": [
      "(65, 13)\n",
      "(65, 13)\n",
      "(65, 13)\n",
      "(65, 13)\n",
      "(65, 13)\n",
      "(65, 13)\n",
      "(65, 13)\n",
      "(65, 13)\n",
      "(65, 13)\n",
      "(65, 13)\n"
     ]
    },
    {
     "name": "stderr",
     "output_type": "stream",
     "text": [
      "/home/akriptonn/anaconda3/envs/aidj/lib/python3.8/site-packages/librosa/core/audio.py:162: UserWarning: PySoundFile failed. Trying audioread instead.\n",
      "  warnings.warn(\"PySoundFile failed. Trying audioread instead.\")\n"
     ]
    },
    {
     "name": "stdout",
     "output_type": "stream",
     "text": [
      "(65, 13)\n",
      "(65, 13)\n",
      "(65, 13)\n",
      "(65, 13)\n",
      "(65, 13)\n",
      "(65, 13)\n",
      "(65, 13)\n",
      "(65, 13)\n",
      "(65, 13)\n",
      "(65, 13)\n"
     ]
    },
    {
     "name": "stderr",
     "output_type": "stream",
     "text": [
      "/home/akriptonn/anaconda3/envs/aidj/lib/python3.8/site-packages/librosa/core/audio.py:162: UserWarning: PySoundFile failed. Trying audioread instead.\n",
      "  warnings.warn(\"PySoundFile failed. Trying audioread instead.\")\n"
     ]
    },
    {
     "name": "stdout",
     "output_type": "stream",
     "text": [
      "(65, 13)\n",
      "(65, 13)\n",
      "(65, 13)\n",
      "(65, 13)\n",
      "(65, 13)\n",
      "(65, 13)\n",
      "(65, 13)\n",
      "(65, 13)\n",
      "(65, 13)\n",
      "(65, 13)\n"
     ]
    },
    {
     "name": "stderr",
     "output_type": "stream",
     "text": [
      "/home/akriptonn/anaconda3/envs/aidj/lib/python3.8/site-packages/librosa/core/audio.py:162: UserWarning: PySoundFile failed. Trying audioread instead.\n",
      "  warnings.warn(\"PySoundFile failed. Trying audioread instead.\")\n"
     ]
    },
    {
     "name": "stdout",
     "output_type": "stream",
     "text": [
      "(65, 13)\n",
      "(65, 13)\n",
      "(65, 13)\n",
      "(65, 13)\n",
      "(65, 13)\n",
      "(65, 13)\n",
      "(65, 13)\n",
      "(65, 13)\n",
      "(65, 13)\n",
      "(65, 13)\n"
     ]
    },
    {
     "name": "stderr",
     "output_type": "stream",
     "text": [
      "/home/akriptonn/anaconda3/envs/aidj/lib/python3.8/site-packages/librosa/core/audio.py:162: UserWarning: PySoundFile failed. Trying audioread instead.\n",
      "  warnings.warn(\"PySoundFile failed. Trying audioread instead.\")\n"
     ]
    },
    {
     "name": "stdout",
     "output_type": "stream",
     "text": [
      "(65, 13)\n",
      "(65, 13)\n",
      "(65, 13)\n",
      "(65, 13)\n",
      "(65, 13)\n",
      "(65, 13)\n",
      "(65, 13)\n",
      "(65, 13)\n",
      "(65, 13)\n",
      "(65, 13)\n"
     ]
    },
    {
     "name": "stderr",
     "output_type": "stream",
     "text": [
      "/home/akriptonn/anaconda3/envs/aidj/lib/python3.8/site-packages/librosa/core/audio.py:162: UserWarning: PySoundFile failed. Trying audioread instead.\n",
      "  warnings.warn(\"PySoundFile failed. Trying audioread instead.\")\n"
     ]
    },
    {
     "name": "stdout",
     "output_type": "stream",
     "text": [
      "(65, 13)\n",
      "(65, 13)\n",
      "(65, 13)\n",
      "(65, 13)\n",
      "(65, 13)\n",
      "(65, 13)\n",
      "(65, 13)\n",
      "(65, 13)\n",
      "(65, 13)\n",
      "(65, 13)\n"
     ]
    },
    {
     "name": "stderr",
     "output_type": "stream",
     "text": [
      "/home/akriptonn/anaconda3/envs/aidj/lib/python3.8/site-packages/librosa/core/audio.py:162: UserWarning: PySoundFile failed. Trying audioread instead.\n",
      "  warnings.warn(\"PySoundFile failed. Trying audioread instead.\")\n"
     ]
    },
    {
     "name": "stdout",
     "output_type": "stream",
     "text": [
      "(65, 13)\n",
      "(65, 13)\n",
      "(65, 13)\n",
      "(65, 13)\n",
      "(65, 13)\n",
      "(65, 13)\n",
      "(65, 13)\n",
      "(65, 13)\n",
      "(65, 13)\n",
      "(65, 13)\n"
     ]
    },
    {
     "name": "stderr",
     "output_type": "stream",
     "text": [
      "/home/akriptonn/anaconda3/envs/aidj/lib/python3.8/site-packages/librosa/core/audio.py:162: UserWarning: PySoundFile failed. Trying audioread instead.\n",
      "  warnings.warn(\"PySoundFile failed. Trying audioread instead.\")\n"
     ]
    },
    {
     "name": "stdout",
     "output_type": "stream",
     "text": [
      "(65, 13)\n",
      "(65, 13)\n",
      "(65, 13)\n",
      "(65, 13)\n",
      "(65, 13)\n",
      "(65, 13)\n",
      "(65, 13)\n",
      "(65, 13)\n",
      "(65, 13)\n",
      "(65, 13)\n"
     ]
    },
    {
     "name": "stderr",
     "output_type": "stream",
     "text": [
      "/home/akriptonn/anaconda3/envs/aidj/lib/python3.8/site-packages/librosa/core/audio.py:162: UserWarning: PySoundFile failed. Trying audioread instead.\n",
      "  warnings.warn(\"PySoundFile failed. Trying audioread instead.\")\n"
     ]
    },
    {
     "name": "stdout",
     "output_type": "stream",
     "text": [
      "(65, 13)\n",
      "(65, 13)\n",
      "(65, 13)\n",
      "(65, 13)\n",
      "(65, 13)\n",
      "(65, 13)\n",
      "(65, 13)\n",
      "(65, 13)\n",
      "(65, 13)\n",
      "(65, 13)\n"
     ]
    },
    {
     "name": "stderr",
     "output_type": "stream",
     "text": [
      "/home/akriptonn/anaconda3/envs/aidj/lib/python3.8/site-packages/librosa/core/audio.py:162: UserWarning: PySoundFile failed. Trying audioread instead.\n",
      "  warnings.warn(\"PySoundFile failed. Trying audioread instead.\")\n"
     ]
    },
    {
     "name": "stdout",
     "output_type": "stream",
     "text": [
      "(65, 13)\n",
      "(65, 13)\n",
      "(65, 13)\n",
      "(65, 13)\n",
      "(65, 13)\n",
      "(65, 13)\n",
      "(65, 13)\n",
      "(65, 13)\n",
      "(65, 13)\n",
      "(65, 13)\n"
     ]
    },
    {
     "name": "stderr",
     "output_type": "stream",
     "text": [
      "/home/akriptonn/anaconda3/envs/aidj/lib/python3.8/site-packages/librosa/core/audio.py:162: UserWarning: PySoundFile failed. Trying audioread instead.\n",
      "  warnings.warn(\"PySoundFile failed. Trying audioread instead.\")\n"
     ]
    },
    {
     "name": "stdout",
     "output_type": "stream",
     "text": [
      "(65, 13)\n",
      "(65, 13)\n",
      "(65, 13)\n",
      "(65, 13)\n",
      "(65, 13)\n",
      "(65, 13)\n",
      "(65, 13)\n",
      "(65, 13)\n",
      "(65, 13)\n",
      "(65, 13)\n"
     ]
    },
    {
     "name": "stderr",
     "output_type": "stream",
     "text": [
      "/home/akriptonn/anaconda3/envs/aidj/lib/python3.8/site-packages/librosa/core/audio.py:162: UserWarning: PySoundFile failed. Trying audioread instead.\n",
      "  warnings.warn(\"PySoundFile failed. Trying audioread instead.\")\n"
     ]
    },
    {
     "name": "stdout",
     "output_type": "stream",
     "text": [
      "(65, 13)\n",
      "(65, 13)\n",
      "(65, 13)\n",
      "(65, 13)\n",
      "(65, 13)\n",
      "(65, 13)\n",
      "(65, 13)\n",
      "(65, 13)\n",
      "(65, 13)\n",
      "(65, 13)\n"
     ]
    },
    {
     "name": "stderr",
     "output_type": "stream",
     "text": [
      "/home/akriptonn/anaconda3/envs/aidj/lib/python3.8/site-packages/librosa/core/audio.py:162: UserWarning: PySoundFile failed. Trying audioread instead.\n",
      "  warnings.warn(\"PySoundFile failed. Trying audioread instead.\")\n"
     ]
    },
    {
     "name": "stdout",
     "output_type": "stream",
     "text": [
      "(65, 13)\n",
      "(65, 13)\n",
      "(65, 13)\n",
      "(65, 13)\n",
      "(65, 13)\n",
      "(65, 13)\n",
      "(65, 13)\n",
      "(65, 13)\n",
      "(65, 13)\n",
      "(65, 13)\n"
     ]
    },
    {
     "name": "stderr",
     "output_type": "stream",
     "text": [
      "/home/akriptonn/anaconda3/envs/aidj/lib/python3.8/site-packages/librosa/core/audio.py:162: UserWarning: PySoundFile failed. Trying audioread instead.\n",
      "  warnings.warn(\"PySoundFile failed. Trying audioread instead.\")\n"
     ]
    },
    {
     "name": "stdout",
     "output_type": "stream",
     "text": [
      "(65, 13)\n",
      "(65, 13)\n",
      "(65, 13)\n",
      "(65, 13)\n",
      "(65, 13)\n",
      "(65, 13)\n",
      "(65, 13)\n",
      "(65, 13)\n",
      "(65, 13)\n",
      "(65, 13)\n"
     ]
    },
    {
     "name": "stderr",
     "output_type": "stream",
     "text": [
      "/home/akriptonn/anaconda3/envs/aidj/lib/python3.8/site-packages/librosa/core/audio.py:162: UserWarning: PySoundFile failed. Trying audioread instead.\n",
      "  warnings.warn(\"PySoundFile failed. Trying audioread instead.\")\n"
     ]
    },
    {
     "name": "stdout",
     "output_type": "stream",
     "text": [
      "(65, 13)\n",
      "(65, 13)\n",
      "(65, 13)\n",
      "(65, 13)\n",
      "(65, 13)\n",
      "(65, 13)\n",
      "(65, 13)\n",
      "(65, 13)\n",
      "(65, 13)\n",
      "(65, 13)\n"
     ]
    },
    {
     "name": "stderr",
     "output_type": "stream",
     "text": [
      "/home/akriptonn/anaconda3/envs/aidj/lib/python3.8/site-packages/librosa/core/audio.py:162: UserWarning: PySoundFile failed. Trying audioread instead.\n",
      "  warnings.warn(\"PySoundFile failed. Trying audioread instead.\")\n"
     ]
    },
    {
     "name": "stdout",
     "output_type": "stream",
     "text": [
      "(65, 13)\n",
      "(65, 13)\n",
      "(65, 13)\n",
      "(65, 13)\n",
      "(65, 13)\n",
      "(65, 13)\n",
      "(65, 13)\n",
      "(65, 13)\n",
      "(65, 13)\n",
      "(65, 13)\n"
     ]
    },
    {
     "name": "stderr",
     "output_type": "stream",
     "text": [
      "/home/akriptonn/anaconda3/envs/aidj/lib/python3.8/site-packages/librosa/core/audio.py:162: UserWarning: PySoundFile failed. Trying audioread instead.\n",
      "  warnings.warn(\"PySoundFile failed. Trying audioread instead.\")\n"
     ]
    },
    {
     "name": "stdout",
     "output_type": "stream",
     "text": [
      "(65, 13)\n",
      "(65, 13)\n",
      "(65, 13)\n",
      "(65, 13)\n",
      "(65, 13)\n",
      "(65, 13)\n",
      "(65, 13)\n",
      "(65, 13)\n",
      "(65, 13)\n",
      "(65, 13)\n"
     ]
    },
    {
     "name": "stderr",
     "output_type": "stream",
     "text": [
      "/home/akriptonn/anaconda3/envs/aidj/lib/python3.8/site-packages/librosa/core/audio.py:162: UserWarning: PySoundFile failed. Trying audioread instead.\n",
      "  warnings.warn(\"PySoundFile failed. Trying audioread instead.\")\n"
     ]
    },
    {
     "name": "stdout",
     "output_type": "stream",
     "text": [
      "(65, 13)\n",
      "(65, 13)\n",
      "(65, 13)\n",
      "(65, 13)\n",
      "(65, 13)\n",
      "(65, 13)\n",
      "(65, 13)\n",
      "(65, 13)\n",
      "(65, 13)\n",
      "(65, 13)\n"
     ]
    },
    {
     "name": "stderr",
     "output_type": "stream",
     "text": [
      "/home/akriptonn/anaconda3/envs/aidj/lib/python3.8/site-packages/librosa/core/audio.py:162: UserWarning: PySoundFile failed. Trying audioread instead.\n",
      "  warnings.warn(\"PySoundFile failed. Trying audioread instead.\")\n"
     ]
    },
    {
     "name": "stdout",
     "output_type": "stream",
     "text": [
      "(65, 13)\n",
      "(65, 13)\n",
      "(65, 13)\n",
      "(65, 13)\n",
      "(65, 13)\n",
      "(65, 13)\n",
      "(65, 13)\n",
      "(65, 13)\n",
      "(65, 13)\n",
      "(65, 13)\n"
     ]
    },
    {
     "name": "stderr",
     "output_type": "stream",
     "text": [
      "/home/akriptonn/anaconda3/envs/aidj/lib/python3.8/site-packages/librosa/core/audio.py:162: UserWarning: PySoundFile failed. Trying audioread instead.\n",
      "  warnings.warn(\"PySoundFile failed. Trying audioread instead.\")\n"
     ]
    },
    {
     "name": "stdout",
     "output_type": "stream",
     "text": [
      "(65, 13)\n",
      "(65, 13)\n",
      "(65, 13)\n",
      "(65, 13)\n",
      "(65, 13)\n",
      "(65, 13)\n",
      "(65, 13)\n",
      "(65, 13)\n",
      "(65, 13)\n",
      "(65, 13)\n"
     ]
    },
    {
     "name": "stderr",
     "output_type": "stream",
     "text": [
      "/home/akriptonn/anaconda3/envs/aidj/lib/python3.8/site-packages/librosa/core/audio.py:162: UserWarning: PySoundFile failed. Trying audioread instead.\n",
      "  warnings.warn(\"PySoundFile failed. Trying audioread instead.\")\n"
     ]
    },
    {
     "name": "stdout",
     "output_type": "stream",
     "text": [
      "(65, 13)\n",
      "(65, 13)\n",
      "(65, 13)\n",
      "(65, 13)\n",
      "(65, 13)\n",
      "(65, 13)\n",
      "(65, 13)\n",
      "(65, 13)\n",
      "(65, 13)\n",
      "(65, 13)\n"
     ]
    },
    {
     "name": "stderr",
     "output_type": "stream",
     "text": [
      "/home/akriptonn/anaconda3/envs/aidj/lib/python3.8/site-packages/librosa/core/audio.py:162: UserWarning: PySoundFile failed. Trying audioread instead.\n",
      "  warnings.warn(\"PySoundFile failed. Trying audioread instead.\")\n"
     ]
    },
    {
     "name": "stdout",
     "output_type": "stream",
     "text": [
      "(65, 13)\n",
      "(65, 13)\n",
      "(65, 13)\n",
      "(65, 13)\n",
      "(65, 13)\n",
      "(65, 13)\n",
      "(65, 13)\n",
      "(65, 13)\n",
      "(65, 13)\n",
      "(65, 13)\n"
     ]
    },
    {
     "name": "stderr",
     "output_type": "stream",
     "text": [
      "/home/akriptonn/anaconda3/envs/aidj/lib/python3.8/site-packages/librosa/core/audio.py:162: UserWarning: PySoundFile failed. Trying audioread instead.\n",
      "  warnings.warn(\"PySoundFile failed. Trying audioread instead.\")\n"
     ]
    },
    {
     "name": "stdout",
     "output_type": "stream",
     "text": [
      "(65, 13)\n",
      "(65, 13)\n",
      "(65, 13)\n",
      "(65, 13)\n",
      "(65, 13)\n",
      "(65, 13)\n",
      "(65, 13)\n",
      "(65, 13)\n",
      "(65, 13)\n",
      "(65, 13)\n"
     ]
    },
    {
     "name": "stderr",
     "output_type": "stream",
     "text": [
      "/home/akriptonn/anaconda3/envs/aidj/lib/python3.8/site-packages/librosa/core/audio.py:162: UserWarning: PySoundFile failed. Trying audioread instead.\n",
      "  warnings.warn(\"PySoundFile failed. Trying audioread instead.\")\n"
     ]
    },
    {
     "name": "stdout",
     "output_type": "stream",
     "text": [
      "(65, 13)\n",
      "(65, 13)\n",
      "(65, 13)\n",
      "(65, 13)\n",
      "(65, 13)\n",
      "(65, 13)\n",
      "(65, 13)\n",
      "(65, 13)\n",
      "(65, 13)\n",
      "(65, 13)\n"
     ]
    },
    {
     "name": "stderr",
     "output_type": "stream",
     "text": [
      "/home/akriptonn/anaconda3/envs/aidj/lib/python3.8/site-packages/librosa/core/audio.py:162: UserWarning: PySoundFile failed. Trying audioread instead.\n",
      "  warnings.warn(\"PySoundFile failed. Trying audioread instead.\")\n"
     ]
    },
    {
     "name": "stdout",
     "output_type": "stream",
     "text": [
      "(65, 13)\n",
      "(65, 13)\n",
      "(65, 13)\n",
      "(65, 13)\n",
      "(65, 13)\n",
      "(65, 13)\n",
      "(65, 13)\n",
      "(65, 13)\n",
      "(65, 13)\n",
      "(65, 13)\n"
     ]
    },
    {
     "name": "stderr",
     "output_type": "stream",
     "text": [
      "/home/akriptonn/anaconda3/envs/aidj/lib/python3.8/site-packages/librosa/core/audio.py:162: UserWarning: PySoundFile failed. Trying audioread instead.\n",
      "  warnings.warn(\"PySoundFile failed. Trying audioread instead.\")\n"
     ]
    },
    {
     "name": "stdout",
     "output_type": "stream",
     "text": [
      "(65, 13)\n",
      "(65, 13)\n",
      "(65, 13)\n",
      "(65, 13)\n",
      "(65, 13)\n",
      "(65, 13)\n",
      "(65, 13)\n",
      "(65, 13)\n",
      "(65, 13)\n",
      "(65, 13)\n"
     ]
    },
    {
     "name": "stderr",
     "output_type": "stream",
     "text": [
      "/home/akriptonn/anaconda3/envs/aidj/lib/python3.8/site-packages/librosa/core/audio.py:162: UserWarning: PySoundFile failed. Trying audioread instead.\n",
      "  warnings.warn(\"PySoundFile failed. Trying audioread instead.\")\n"
     ]
    },
    {
     "name": "stdout",
     "output_type": "stream",
     "text": [
      "(65, 13)\n",
      "(65, 13)\n",
      "(65, 13)\n",
      "(65, 13)\n",
      "(65, 13)\n",
      "(65, 13)\n",
      "(65, 13)\n",
      "(65, 13)\n",
      "(65, 13)\n",
      "(65, 13)\n"
     ]
    },
    {
     "name": "stderr",
     "output_type": "stream",
     "text": [
      "/home/akriptonn/anaconda3/envs/aidj/lib/python3.8/site-packages/librosa/core/audio.py:162: UserWarning: PySoundFile failed. Trying audioread instead.\n",
      "  warnings.warn(\"PySoundFile failed. Trying audioread instead.\")\n"
     ]
    },
    {
     "name": "stdout",
     "output_type": "stream",
     "text": [
      "(65, 13)\n",
      "(65, 13)\n",
      "(65, 13)\n",
      "(65, 13)\n",
      "(65, 13)\n",
      "(65, 13)\n",
      "(65, 13)\n",
      "(65, 13)\n",
      "(65, 13)\n",
      "(65, 13)\n"
     ]
    },
    {
     "name": "stderr",
     "output_type": "stream",
     "text": [
      "/home/akriptonn/anaconda3/envs/aidj/lib/python3.8/site-packages/librosa/core/audio.py:162: UserWarning: PySoundFile failed. Trying audioread instead.\n",
      "  warnings.warn(\"PySoundFile failed. Trying audioread instead.\")\n"
     ]
    },
    {
     "name": "stdout",
     "output_type": "stream",
     "text": [
      "(65, 13)\n",
      "(65, 13)\n",
      "(65, 13)\n",
      "(65, 13)\n",
      "(65, 13)\n",
      "(65, 13)\n",
      "(65, 13)\n",
      "(65, 13)\n",
      "(65, 13)\n",
      "(65, 13)\n"
     ]
    },
    {
     "name": "stderr",
     "output_type": "stream",
     "text": [
      "/home/akriptonn/anaconda3/envs/aidj/lib/python3.8/site-packages/librosa/core/audio.py:162: UserWarning: PySoundFile failed. Trying audioread instead.\n",
      "  warnings.warn(\"PySoundFile failed. Trying audioread instead.\")\n"
     ]
    },
    {
     "name": "stdout",
     "output_type": "stream",
     "text": [
      "(65, 13)\n",
      "(65, 13)\n",
      "(65, 13)\n",
      "(65, 13)\n",
      "(65, 13)\n",
      "(65, 13)\n",
      "(65, 13)\n",
      "(65, 13)\n",
      "(65, 13)\n",
      "(65, 13)\n"
     ]
    },
    {
     "name": "stderr",
     "output_type": "stream",
     "text": [
      "/home/akriptonn/anaconda3/envs/aidj/lib/python3.8/site-packages/librosa/core/audio.py:162: UserWarning: PySoundFile failed. Trying audioread instead.\n",
      "  warnings.warn(\"PySoundFile failed. Trying audioread instead.\")\n"
     ]
    },
    {
     "name": "stdout",
     "output_type": "stream",
     "text": [
      "(65, 13)\n",
      "(65, 13)\n",
      "(65, 13)\n",
      "(65, 13)\n",
      "(65, 13)\n",
      "(65, 13)\n",
      "(65, 13)\n",
      "(65, 13)\n",
      "(65, 13)\n",
      "(65, 13)\n"
     ]
    },
    {
     "name": "stderr",
     "output_type": "stream",
     "text": [
      "/home/akriptonn/anaconda3/envs/aidj/lib/python3.8/site-packages/librosa/core/audio.py:162: UserWarning: PySoundFile failed. Trying audioread instead.\n",
      "  warnings.warn(\"PySoundFile failed. Trying audioread instead.\")\n"
     ]
    },
    {
     "name": "stdout",
     "output_type": "stream",
     "text": [
      "(65, 13)\n",
      "(65, 13)\n",
      "(65, 13)\n",
      "(65, 13)\n",
      "(65, 13)\n",
      "(65, 13)\n",
      "(65, 13)\n",
      "(65, 13)\n",
      "(65, 13)\n",
      "(65, 13)\n"
     ]
    },
    {
     "name": "stderr",
     "output_type": "stream",
     "text": [
      "/home/akriptonn/anaconda3/envs/aidj/lib/python3.8/site-packages/librosa/core/audio.py:162: UserWarning: PySoundFile failed. Trying audioread instead.\n",
      "  warnings.warn(\"PySoundFile failed. Trying audioread instead.\")\n"
     ]
    },
    {
     "name": "stdout",
     "output_type": "stream",
     "text": [
      "(65, 13)\n",
      "(65, 13)\n",
      "(65, 13)\n",
      "(65, 13)\n",
      "(65, 13)\n",
      "(65, 13)\n",
      "(65, 13)\n",
      "(65, 13)\n",
      "(65, 13)\n",
      "(65, 13)\n"
     ]
    },
    {
     "name": "stderr",
     "output_type": "stream",
     "text": [
      "/home/akriptonn/anaconda3/envs/aidj/lib/python3.8/site-packages/librosa/core/audio.py:162: UserWarning: PySoundFile failed. Trying audioread instead.\n",
      "  warnings.warn(\"PySoundFile failed. Trying audioread instead.\")\n"
     ]
    },
    {
     "name": "stdout",
     "output_type": "stream",
     "text": [
      "(65, 13)\n",
      "(65, 13)\n",
      "(65, 13)\n",
      "(65, 13)\n",
      "(65, 13)\n",
      "(65, 13)\n",
      "(65, 13)\n",
      "(65, 13)\n",
      "(65, 13)\n",
      "(65, 13)\n"
     ]
    },
    {
     "name": "stderr",
     "output_type": "stream",
     "text": [
      "/home/akriptonn/anaconda3/envs/aidj/lib/python3.8/site-packages/librosa/core/audio.py:162: UserWarning: PySoundFile failed. Trying audioread instead.\n",
      "  warnings.warn(\"PySoundFile failed. Trying audioread instead.\")\n"
     ]
    },
    {
     "name": "stdout",
     "output_type": "stream",
     "text": [
      "(65, 13)\n",
      "(65, 13)\n",
      "(65, 13)\n",
      "(65, 13)\n",
      "(65, 13)\n",
      "(65, 13)\n",
      "(65, 13)\n",
      "(65, 13)\n",
      "(65, 13)\n",
      "(65, 13)\n"
     ]
    },
    {
     "name": "stderr",
     "output_type": "stream",
     "text": [
      "/home/akriptonn/anaconda3/envs/aidj/lib/python3.8/site-packages/librosa/core/audio.py:162: UserWarning: PySoundFile failed. Trying audioread instead.\n",
      "  warnings.warn(\"PySoundFile failed. Trying audioread instead.\")\n"
     ]
    },
    {
     "name": "stdout",
     "output_type": "stream",
     "text": [
      "(65, 13)\n",
      "(65, 13)\n",
      "(65, 13)\n",
      "(65, 13)\n",
      "(65, 13)\n",
      "(65, 13)\n",
      "(65, 13)\n",
      "(65, 13)\n",
      "(65, 13)\n",
      "(65, 13)\n"
     ]
    },
    {
     "name": "stderr",
     "output_type": "stream",
     "text": [
      "/home/akriptonn/anaconda3/envs/aidj/lib/python3.8/site-packages/librosa/core/audio.py:162: UserWarning: PySoundFile failed. Trying audioread instead.\n",
      "  warnings.warn(\"PySoundFile failed. Trying audioread instead.\")\n"
     ]
    },
    {
     "name": "stdout",
     "output_type": "stream",
     "text": [
      "(65, 13)\n",
      "(65, 13)\n",
      "(65, 13)\n",
      "(65, 13)\n",
      "(65, 13)\n",
      "(65, 13)\n",
      "(65, 13)\n",
      "(65, 13)\n",
      "(65, 13)\n",
      "(65, 13)\n",
      "\n",
      "Processing BIG ROOM\n"
     ]
    },
    {
     "name": "stderr",
     "output_type": "stream",
     "text": [
      "/home/akriptonn/anaconda3/envs/aidj/lib/python3.8/site-packages/librosa/core/audio.py:162: UserWarning: PySoundFile failed. Trying audioread instead.\n",
      "  warnings.warn(\"PySoundFile failed. Trying audioread instead.\")\n"
     ]
    },
    {
     "name": "stdout",
     "output_type": "stream",
     "text": [
      "(65, 13)\n",
      "(65, 13)\n",
      "(65, 13)\n",
      "(65, 13)\n",
      "(65, 13)\n",
      "(65, 13)\n",
      "(65, 13)\n",
      "(65, 13)\n",
      "(65, 13)\n",
      "(65, 13)\n"
     ]
    },
    {
     "name": "stderr",
     "output_type": "stream",
     "text": [
      "/home/akriptonn/anaconda3/envs/aidj/lib/python3.8/site-packages/librosa/core/audio.py:162: UserWarning: PySoundFile failed. Trying audioread instead.\n",
      "  warnings.warn(\"PySoundFile failed. Trying audioread instead.\")\n"
     ]
    },
    {
     "name": "stdout",
     "output_type": "stream",
     "text": [
      "(65, 13)\n",
      "(65, 13)\n",
      "(65, 13)\n",
      "(65, 13)\n",
      "(65, 13)\n",
      "(65, 13)\n",
      "(65, 13)\n",
      "(65, 13)\n",
      "(65, 13)\n",
      "(65, 13)\n"
     ]
    },
    {
     "name": "stderr",
     "output_type": "stream",
     "text": [
      "/home/akriptonn/anaconda3/envs/aidj/lib/python3.8/site-packages/librosa/core/audio.py:162: UserWarning: PySoundFile failed. Trying audioread instead.\n",
      "  warnings.warn(\"PySoundFile failed. Trying audioread instead.\")\n"
     ]
    },
    {
     "name": "stdout",
     "output_type": "stream",
     "text": [
      "(65, 13)\n",
      "(65, 13)\n",
      "(65, 13)\n",
      "(65, 13)\n",
      "(65, 13)\n",
      "(65, 13)\n",
      "(65, 13)\n",
      "(65, 13)\n",
      "(65, 13)\n",
      "(65, 13)\n"
     ]
    },
    {
     "name": "stderr",
     "output_type": "stream",
     "text": [
      "/home/akriptonn/anaconda3/envs/aidj/lib/python3.8/site-packages/librosa/core/audio.py:162: UserWarning: PySoundFile failed. Trying audioread instead.\n",
      "  warnings.warn(\"PySoundFile failed. Trying audioread instead.\")\n"
     ]
    },
    {
     "name": "stdout",
     "output_type": "stream",
     "text": [
      "(65, 13)\n",
      "(65, 13)\n",
      "(65, 13)\n",
      "(65, 13)\n",
      "(65, 13)\n",
      "(65, 13)\n",
      "(65, 13)\n",
      "(65, 13)\n",
      "(65, 13)\n",
      "(65, 13)\n"
     ]
    },
    {
     "name": "stderr",
     "output_type": "stream",
     "text": [
      "/home/akriptonn/anaconda3/envs/aidj/lib/python3.8/site-packages/librosa/core/audio.py:162: UserWarning: PySoundFile failed. Trying audioread instead.\n",
      "  warnings.warn(\"PySoundFile failed. Trying audioread instead.\")\n"
     ]
    },
    {
     "name": "stdout",
     "output_type": "stream",
     "text": [
      "(65, 13)\n",
      "(65, 13)\n",
      "(65, 13)\n",
      "(65, 13)\n",
      "(65, 13)\n",
      "(65, 13)\n",
      "(65, 13)\n",
      "(65, 13)\n",
      "(65, 13)\n",
      "(65, 13)\n"
     ]
    },
    {
     "name": "stderr",
     "output_type": "stream",
     "text": [
      "/home/akriptonn/anaconda3/envs/aidj/lib/python3.8/site-packages/librosa/core/audio.py:162: UserWarning: PySoundFile failed. Trying audioread instead.\n",
      "  warnings.warn(\"PySoundFile failed. Trying audioread instead.\")\n"
     ]
    },
    {
     "name": "stdout",
     "output_type": "stream",
     "text": [
      "(65, 13)\n",
      "(65, 13)\n",
      "(65, 13)\n",
      "(65, 13)\n",
      "(65, 13)\n",
      "(65, 13)\n",
      "(65, 13)\n",
      "(65, 13)\n",
      "(65, 13)\n",
      "(65, 13)\n"
     ]
    },
    {
     "name": "stderr",
     "output_type": "stream",
     "text": [
      "/home/akriptonn/anaconda3/envs/aidj/lib/python3.8/site-packages/librosa/core/audio.py:162: UserWarning: PySoundFile failed. Trying audioread instead.\n",
      "  warnings.warn(\"PySoundFile failed. Trying audioread instead.\")\n"
     ]
    },
    {
     "name": "stdout",
     "output_type": "stream",
     "text": [
      "(65, 13)\n",
      "(65, 13)\n",
      "(65, 13)\n",
      "(65, 13)\n",
      "(65, 13)\n",
      "(65, 13)\n",
      "(65, 13)\n",
      "(65, 13)\n",
      "(65, 13)\n",
      "(65, 13)\n"
     ]
    },
    {
     "name": "stderr",
     "output_type": "stream",
     "text": [
      "/home/akriptonn/anaconda3/envs/aidj/lib/python3.8/site-packages/librosa/core/audio.py:162: UserWarning: PySoundFile failed. Trying audioread instead.\n",
      "  warnings.warn(\"PySoundFile failed. Trying audioread instead.\")\n"
     ]
    },
    {
     "name": "stdout",
     "output_type": "stream",
     "text": [
      "(65, 13)\n",
      "(65, 13)\n",
      "(65, 13)\n",
      "(65, 13)\n",
      "(65, 13)\n",
      "(65, 13)\n",
      "(65, 13)\n",
      "(65, 13)\n",
      "(65, 13)\n",
      "(65, 13)\n"
     ]
    },
    {
     "name": "stderr",
     "output_type": "stream",
     "text": [
      "/home/akriptonn/anaconda3/envs/aidj/lib/python3.8/site-packages/librosa/core/audio.py:162: UserWarning: PySoundFile failed. Trying audioread instead.\n",
      "  warnings.warn(\"PySoundFile failed. Trying audioread instead.\")\n"
     ]
    },
    {
     "name": "stdout",
     "output_type": "stream",
     "text": [
      "(65, 13)\n",
      "(65, 13)\n",
      "(65, 13)\n",
      "(65, 13)\n",
      "(65, 13)\n",
      "(65, 13)\n",
      "(65, 13)\n",
      "(65, 13)\n",
      "(65, 13)\n",
      "(65, 13)\n"
     ]
    },
    {
     "name": "stderr",
     "output_type": "stream",
     "text": [
      "/home/akriptonn/anaconda3/envs/aidj/lib/python3.8/site-packages/librosa/core/audio.py:162: UserWarning: PySoundFile failed. Trying audioread instead.\n",
      "  warnings.warn(\"PySoundFile failed. Trying audioread instead.\")\n"
     ]
    },
    {
     "name": "stdout",
     "output_type": "stream",
     "text": [
      "(65, 13)\n",
      "(65, 13)\n",
      "(65, 13)\n",
      "(65, 13)\n",
      "(65, 13)\n",
      "(65, 13)\n",
      "(65, 13)\n",
      "(65, 13)\n",
      "(65, 13)\n",
      "(65, 13)\n"
     ]
    },
    {
     "name": "stderr",
     "output_type": "stream",
     "text": [
      "/home/akriptonn/anaconda3/envs/aidj/lib/python3.8/site-packages/librosa/core/audio.py:162: UserWarning: PySoundFile failed. Trying audioread instead.\n",
      "  warnings.warn(\"PySoundFile failed. Trying audioread instead.\")\n"
     ]
    },
    {
     "name": "stdout",
     "output_type": "stream",
     "text": [
      "(65, 13)\n",
      "(65, 13)\n",
      "(65, 13)\n",
      "(65, 13)\n",
      "(65, 13)\n",
      "(65, 13)\n",
      "(65, 13)\n",
      "(65, 13)\n",
      "(65, 13)\n",
      "(65, 13)\n"
     ]
    },
    {
     "name": "stderr",
     "output_type": "stream",
     "text": [
      "/home/akriptonn/anaconda3/envs/aidj/lib/python3.8/site-packages/librosa/core/audio.py:162: UserWarning: PySoundFile failed. Trying audioread instead.\n",
      "  warnings.warn(\"PySoundFile failed. Trying audioread instead.\")\n"
     ]
    },
    {
     "name": "stdout",
     "output_type": "stream",
     "text": [
      "(65, 13)\n",
      "(65, 13)\n",
      "(65, 13)\n",
      "(65, 13)\n",
      "(65, 13)\n",
      "(65, 13)\n",
      "(65, 13)\n",
      "(65, 13)\n",
      "(65, 13)\n",
      "(65, 13)\n"
     ]
    },
    {
     "name": "stderr",
     "output_type": "stream",
     "text": [
      "/home/akriptonn/anaconda3/envs/aidj/lib/python3.8/site-packages/librosa/core/audio.py:162: UserWarning: PySoundFile failed. Trying audioread instead.\n",
      "  warnings.warn(\"PySoundFile failed. Trying audioread instead.\")\n"
     ]
    },
    {
     "name": "stdout",
     "output_type": "stream",
     "text": [
      "(65, 13)\n",
      "(65, 13)\n",
      "(65, 13)\n",
      "(65, 13)\n",
      "(65, 13)\n",
      "(65, 13)\n",
      "(65, 13)\n",
      "(65, 13)\n",
      "(65, 13)\n",
      "(65, 13)\n"
     ]
    },
    {
     "name": "stderr",
     "output_type": "stream",
     "text": [
      "/home/akriptonn/anaconda3/envs/aidj/lib/python3.8/site-packages/librosa/core/audio.py:162: UserWarning: PySoundFile failed. Trying audioread instead.\n",
      "  warnings.warn(\"PySoundFile failed. Trying audioread instead.\")\n"
     ]
    },
    {
     "name": "stdout",
     "output_type": "stream",
     "text": [
      "(65, 13)\n",
      "(65, 13)\n",
      "(65, 13)\n",
      "(65, 13)\n",
      "(65, 13)\n",
      "(65, 13)\n",
      "(65, 13)\n",
      "(65, 13)\n",
      "(65, 13)\n",
      "(65, 13)\n"
     ]
    },
    {
     "name": "stderr",
     "output_type": "stream",
     "text": [
      "/home/akriptonn/anaconda3/envs/aidj/lib/python3.8/site-packages/librosa/core/audio.py:162: UserWarning: PySoundFile failed. Trying audioread instead.\n",
      "  warnings.warn(\"PySoundFile failed. Trying audioread instead.\")\n"
     ]
    },
    {
     "name": "stdout",
     "output_type": "stream",
     "text": [
      "(65, 13)\n",
      "(65, 13)\n",
      "(65, 13)\n",
      "(65, 13)\n",
      "(65, 13)\n",
      "(65, 13)\n",
      "(65, 13)\n",
      "(65, 13)\n",
      "(65, 13)\n",
      "(65, 13)\n"
     ]
    },
    {
     "name": "stderr",
     "output_type": "stream",
     "text": [
      "/home/akriptonn/anaconda3/envs/aidj/lib/python3.8/site-packages/librosa/core/audio.py:162: UserWarning: PySoundFile failed. Trying audioread instead.\n",
      "  warnings.warn(\"PySoundFile failed. Trying audioread instead.\")\n"
     ]
    },
    {
     "name": "stdout",
     "output_type": "stream",
     "text": [
      "(65, 13)\n",
      "(65, 13)\n",
      "(65, 13)\n",
      "(65, 13)\n",
      "(65, 13)\n",
      "(65, 13)\n",
      "(65, 13)\n",
      "(65, 13)\n",
      "(65, 13)\n",
      "(65, 13)\n"
     ]
    },
    {
     "name": "stderr",
     "output_type": "stream",
     "text": [
      "/home/akriptonn/anaconda3/envs/aidj/lib/python3.8/site-packages/librosa/core/audio.py:162: UserWarning: PySoundFile failed. Trying audioread instead.\n",
      "  warnings.warn(\"PySoundFile failed. Trying audioread instead.\")\n"
     ]
    },
    {
     "name": "stdout",
     "output_type": "stream",
     "text": [
      "(65, 13)\n",
      "(65, 13)\n",
      "(65, 13)\n",
      "(65, 13)\n",
      "(65, 13)\n",
      "(65, 13)\n",
      "(65, 13)\n",
      "(65, 13)\n",
      "(65, 13)\n",
      "(65, 13)\n"
     ]
    },
    {
     "name": "stderr",
     "output_type": "stream",
     "text": [
      "/home/akriptonn/anaconda3/envs/aidj/lib/python3.8/site-packages/librosa/core/audio.py:162: UserWarning: PySoundFile failed. Trying audioread instead.\n",
      "  warnings.warn(\"PySoundFile failed. Trying audioread instead.\")\n"
     ]
    },
    {
     "name": "stdout",
     "output_type": "stream",
     "text": [
      "(65, 13)\n",
      "(65, 13)\n",
      "(65, 13)\n",
      "(65, 13)\n",
      "(65, 13)\n",
      "(65, 13)\n",
      "(65, 13)\n",
      "(65, 13)\n",
      "(65, 13)\n",
      "(65, 13)\n"
     ]
    },
    {
     "name": "stderr",
     "output_type": "stream",
     "text": [
      "/home/akriptonn/anaconda3/envs/aidj/lib/python3.8/site-packages/librosa/core/audio.py:162: UserWarning: PySoundFile failed. Trying audioread instead.\n",
      "  warnings.warn(\"PySoundFile failed. Trying audioread instead.\")\n"
     ]
    },
    {
     "name": "stdout",
     "output_type": "stream",
     "text": [
      "(65, 13)\n",
      "(65, 13)\n",
      "(65, 13)\n",
      "(65, 13)\n",
      "(65, 13)\n",
      "(65, 13)\n",
      "(65, 13)\n",
      "(65, 13)\n",
      "(65, 13)\n",
      "(65, 13)\n"
     ]
    },
    {
     "name": "stderr",
     "output_type": "stream",
     "text": [
      "/home/akriptonn/anaconda3/envs/aidj/lib/python3.8/site-packages/librosa/core/audio.py:162: UserWarning: PySoundFile failed. Trying audioread instead.\n",
      "  warnings.warn(\"PySoundFile failed. Trying audioread instead.\")\n"
     ]
    },
    {
     "name": "stdout",
     "output_type": "stream",
     "text": [
      "(65, 13)\n",
      "(65, 13)\n",
      "(65, 13)\n",
      "(65, 13)\n",
      "(65, 13)\n",
      "(65, 13)\n",
      "(65, 13)\n",
      "(65, 13)\n",
      "(65, 13)\n",
      "(65, 13)\n"
     ]
    },
    {
     "name": "stderr",
     "output_type": "stream",
     "text": [
      "/home/akriptonn/anaconda3/envs/aidj/lib/python3.8/site-packages/librosa/core/audio.py:162: UserWarning: PySoundFile failed. Trying audioread instead.\n",
      "  warnings.warn(\"PySoundFile failed. Trying audioread instead.\")\n"
     ]
    },
    {
     "name": "stdout",
     "output_type": "stream",
     "text": [
      "(65, 13)\n",
      "(65, 13)\n",
      "(65, 13)\n",
      "(65, 13)\n",
      "(65, 13)\n",
      "(65, 13)\n",
      "(65, 13)\n",
      "(65, 13)\n",
      "(65, 13)\n",
      "(65, 13)\n"
     ]
    },
    {
     "name": "stderr",
     "output_type": "stream",
     "text": [
      "/home/akriptonn/anaconda3/envs/aidj/lib/python3.8/site-packages/librosa/core/audio.py:162: UserWarning: PySoundFile failed. Trying audioread instead.\n",
      "  warnings.warn(\"PySoundFile failed. Trying audioread instead.\")\n"
     ]
    },
    {
     "name": "stdout",
     "output_type": "stream",
     "text": [
      "(65, 13)\n",
      "(65, 13)\n",
      "(65, 13)\n",
      "(65, 13)\n",
      "(65, 13)\n",
      "(65, 13)\n",
      "(65, 13)\n",
      "(65, 13)\n",
      "(65, 13)\n",
      "(65, 13)\n"
     ]
    },
    {
     "name": "stderr",
     "output_type": "stream",
     "text": [
      "/home/akriptonn/anaconda3/envs/aidj/lib/python3.8/site-packages/librosa/core/audio.py:162: UserWarning: PySoundFile failed. Trying audioread instead.\n",
      "  warnings.warn(\"PySoundFile failed. Trying audioread instead.\")\n"
     ]
    },
    {
     "name": "stdout",
     "output_type": "stream",
     "text": [
      "(65, 13)\n",
      "(65, 13)\n",
      "(65, 13)\n",
      "(65, 13)\n",
      "(65, 13)\n",
      "(65, 13)\n",
      "(65, 13)\n",
      "(65, 13)\n",
      "(65, 13)\n",
      "(65, 13)\n"
     ]
    },
    {
     "name": "stderr",
     "output_type": "stream",
     "text": [
      "/home/akriptonn/anaconda3/envs/aidj/lib/python3.8/site-packages/librosa/core/audio.py:162: UserWarning: PySoundFile failed. Trying audioread instead.\n",
      "  warnings.warn(\"PySoundFile failed. Trying audioread instead.\")\n"
     ]
    },
    {
     "name": "stdout",
     "output_type": "stream",
     "text": [
      "(65, 13)\n",
      "(65, 13)\n",
      "(65, 13)\n",
      "(65, 13)\n",
      "(65, 13)\n",
      "(65, 13)\n",
      "(65, 13)\n",
      "(65, 13)\n",
      "(65, 13)\n",
      "(65, 13)\n"
     ]
    },
    {
     "name": "stderr",
     "output_type": "stream",
     "text": [
      "/home/akriptonn/anaconda3/envs/aidj/lib/python3.8/site-packages/librosa/core/audio.py:162: UserWarning: PySoundFile failed. Trying audioread instead.\n",
      "  warnings.warn(\"PySoundFile failed. Trying audioread instead.\")\n"
     ]
    },
    {
     "name": "stdout",
     "output_type": "stream",
     "text": [
      "(65, 13)\n",
      "(65, 13)\n",
      "(65, 13)\n",
      "(65, 13)\n",
      "(65, 13)\n",
      "(65, 13)\n",
      "(65, 13)\n",
      "(65, 13)\n",
      "(65, 13)\n",
      "(65, 13)\n"
     ]
    },
    {
     "name": "stderr",
     "output_type": "stream",
     "text": [
      "/home/akriptonn/anaconda3/envs/aidj/lib/python3.8/site-packages/librosa/core/audio.py:162: UserWarning: PySoundFile failed. Trying audioread instead.\n",
      "  warnings.warn(\"PySoundFile failed. Trying audioread instead.\")\n"
     ]
    },
    {
     "name": "stdout",
     "output_type": "stream",
     "text": [
      "(65, 13)\n",
      "(65, 13)\n",
      "(65, 13)\n",
      "(65, 13)\n",
      "(65, 13)\n",
      "(65, 13)\n",
      "(65, 13)\n",
      "(65, 13)\n",
      "(65, 13)\n",
      "(65, 13)\n"
     ]
    },
    {
     "name": "stderr",
     "output_type": "stream",
     "text": [
      "/home/akriptonn/anaconda3/envs/aidj/lib/python3.8/site-packages/librosa/core/audio.py:162: UserWarning: PySoundFile failed. Trying audioread instead.\n",
      "  warnings.warn(\"PySoundFile failed. Trying audioread instead.\")\n"
     ]
    },
    {
     "name": "stdout",
     "output_type": "stream",
     "text": [
      "(65, 13)\n",
      "(65, 13)\n",
      "(65, 13)\n",
      "(65, 13)\n",
      "(65, 13)\n",
      "(65, 13)\n",
      "(65, 13)\n",
      "(65, 13)\n",
      "(65, 13)\n",
      "(65, 13)\n"
     ]
    },
    {
     "name": "stderr",
     "output_type": "stream",
     "text": [
      "/home/akriptonn/anaconda3/envs/aidj/lib/python3.8/site-packages/librosa/core/audio.py:162: UserWarning: PySoundFile failed. Trying audioread instead.\n",
      "  warnings.warn(\"PySoundFile failed. Trying audioread instead.\")\n"
     ]
    },
    {
     "name": "stdout",
     "output_type": "stream",
     "text": [
      "(65, 13)\n",
      "(65, 13)\n",
      "(65, 13)\n",
      "(65, 13)\n",
      "(65, 13)\n",
      "(65, 13)\n",
      "(65, 13)\n",
      "(65, 13)\n",
      "(65, 13)\n",
      "(65, 13)\n"
     ]
    },
    {
     "name": "stderr",
     "output_type": "stream",
     "text": [
      "/home/akriptonn/anaconda3/envs/aidj/lib/python3.8/site-packages/librosa/core/audio.py:162: UserWarning: PySoundFile failed. Trying audioread instead.\n",
      "  warnings.warn(\"PySoundFile failed. Trying audioread instead.\")\n"
     ]
    },
    {
     "name": "stdout",
     "output_type": "stream",
     "text": [
      "(65, 13)\n",
      "(65, 13)\n",
      "(65, 13)\n",
      "(65, 13)\n",
      "(65, 13)\n",
      "(65, 13)\n",
      "(65, 13)\n",
      "(65, 13)\n",
      "(65, 13)\n",
      "(65, 13)\n"
     ]
    },
    {
     "name": "stderr",
     "output_type": "stream",
     "text": [
      "/home/akriptonn/anaconda3/envs/aidj/lib/python3.8/site-packages/librosa/core/audio.py:162: UserWarning: PySoundFile failed. Trying audioread instead.\n",
      "  warnings.warn(\"PySoundFile failed. Trying audioread instead.\")\n"
     ]
    },
    {
     "name": "stdout",
     "output_type": "stream",
     "text": [
      "(65, 13)\n",
      "(65, 13)\n",
      "(65, 13)\n",
      "(65, 13)\n",
      "(65, 13)\n",
      "(65, 13)\n",
      "(65, 13)\n",
      "(65, 13)\n",
      "(65, 13)\n",
      "(65, 13)\n"
     ]
    },
    {
     "name": "stderr",
     "output_type": "stream",
     "text": [
      "/home/akriptonn/anaconda3/envs/aidj/lib/python3.8/site-packages/librosa/core/audio.py:162: UserWarning: PySoundFile failed. Trying audioread instead.\n",
      "  warnings.warn(\"PySoundFile failed. Trying audioread instead.\")\n"
     ]
    },
    {
     "name": "stdout",
     "output_type": "stream",
     "text": [
      "(65, 13)\n",
      "(65, 13)\n",
      "(65, 13)\n",
      "(65, 13)\n",
      "(65, 13)\n",
      "(65, 13)\n",
      "(65, 13)\n",
      "(65, 13)\n",
      "(65, 13)\n",
      "(65, 13)\n"
     ]
    },
    {
     "name": "stderr",
     "output_type": "stream",
     "text": [
      "/home/akriptonn/anaconda3/envs/aidj/lib/python3.8/site-packages/librosa/core/audio.py:162: UserWarning: PySoundFile failed. Trying audioread instead.\n",
      "  warnings.warn(\"PySoundFile failed. Trying audioread instead.\")\n"
     ]
    },
    {
     "name": "stdout",
     "output_type": "stream",
     "text": [
      "(65, 13)\n",
      "(65, 13)\n",
      "(65, 13)\n",
      "(65, 13)\n",
      "(65, 13)\n",
      "(65, 13)\n",
      "(65, 13)\n",
      "(65, 13)\n",
      "(65, 13)\n",
      "(65, 13)\n"
     ]
    },
    {
     "name": "stderr",
     "output_type": "stream",
     "text": [
      "/home/akriptonn/anaconda3/envs/aidj/lib/python3.8/site-packages/librosa/core/audio.py:162: UserWarning: PySoundFile failed. Trying audioread instead.\n",
      "  warnings.warn(\"PySoundFile failed. Trying audioread instead.\")\n"
     ]
    },
    {
     "name": "stdout",
     "output_type": "stream",
     "text": [
      "(65, 13)\n",
      "(65, 13)\n",
      "(65, 13)\n",
      "(65, 13)\n",
      "(65, 13)\n",
      "(65, 13)\n",
      "(65, 13)\n",
      "(65, 13)\n",
      "(65, 13)\n",
      "(65, 13)\n"
     ]
    },
    {
     "name": "stderr",
     "output_type": "stream",
     "text": [
      "/home/akriptonn/anaconda3/envs/aidj/lib/python3.8/site-packages/librosa/core/audio.py:162: UserWarning: PySoundFile failed. Trying audioread instead.\n",
      "  warnings.warn(\"PySoundFile failed. Trying audioread instead.\")\n"
     ]
    },
    {
     "name": "stdout",
     "output_type": "stream",
     "text": [
      "(65, 13)\n",
      "(65, 13)\n",
      "(65, 13)\n",
      "(65, 13)\n",
      "(65, 13)\n",
      "(65, 13)\n",
      "(65, 13)\n",
      "(65, 13)\n",
      "(65, 13)\n",
      "(65, 13)\n"
     ]
    },
    {
     "name": "stderr",
     "output_type": "stream",
     "text": [
      "/home/akriptonn/anaconda3/envs/aidj/lib/python3.8/site-packages/librosa/core/audio.py:162: UserWarning: PySoundFile failed. Trying audioread instead.\n",
      "  warnings.warn(\"PySoundFile failed. Trying audioread instead.\")\n"
     ]
    },
    {
     "name": "stdout",
     "output_type": "stream",
     "text": [
      "(65, 13)\n",
      "(65, 13)\n",
      "(65, 13)\n",
      "(65, 13)\n",
      "(65, 13)\n",
      "(65, 13)\n",
      "(65, 13)\n",
      "(65, 13)\n",
      "(65, 13)\n",
      "(65, 13)\n"
     ]
    },
    {
     "name": "stderr",
     "output_type": "stream",
     "text": [
      "/home/akriptonn/anaconda3/envs/aidj/lib/python3.8/site-packages/librosa/core/audio.py:162: UserWarning: PySoundFile failed. Trying audioread instead.\n",
      "  warnings.warn(\"PySoundFile failed. Trying audioread instead.\")\n"
     ]
    },
    {
     "name": "stdout",
     "output_type": "stream",
     "text": [
      "(65, 13)\n",
      "(65, 13)\n",
      "(65, 13)\n",
      "(65, 13)\n",
      "(65, 13)\n",
      "(65, 13)\n",
      "(65, 13)\n",
      "(65, 13)\n",
      "(65, 13)\n",
      "(65, 13)\n"
     ]
    },
    {
     "name": "stderr",
     "output_type": "stream",
     "text": [
      "/home/akriptonn/anaconda3/envs/aidj/lib/python3.8/site-packages/librosa/core/audio.py:162: UserWarning: PySoundFile failed. Trying audioread instead.\n",
      "  warnings.warn(\"PySoundFile failed. Trying audioread instead.\")\n"
     ]
    },
    {
     "name": "stdout",
     "output_type": "stream",
     "text": [
      "(65, 13)\n",
      "(65, 13)\n",
      "(65, 13)\n",
      "(65, 13)\n",
      "(65, 13)\n",
      "(65, 13)\n",
      "(65, 13)\n",
      "(65, 13)\n",
      "(65, 13)\n",
      "(65, 13)\n"
     ]
    },
    {
     "name": "stderr",
     "output_type": "stream",
     "text": [
      "/home/akriptonn/anaconda3/envs/aidj/lib/python3.8/site-packages/librosa/core/audio.py:162: UserWarning: PySoundFile failed. Trying audioread instead.\n",
      "  warnings.warn(\"PySoundFile failed. Trying audioread instead.\")\n"
     ]
    },
    {
     "name": "stdout",
     "output_type": "stream",
     "text": [
      "(65, 13)\n",
      "(65, 13)\n",
      "(65, 13)\n",
      "(65, 13)\n",
      "(65, 13)\n",
      "(65, 13)\n",
      "(65, 13)\n",
      "(65, 13)\n",
      "(65, 13)\n",
      "(65, 13)\n"
     ]
    },
    {
     "name": "stderr",
     "output_type": "stream",
     "text": [
      "/home/akriptonn/anaconda3/envs/aidj/lib/python3.8/site-packages/librosa/core/audio.py:162: UserWarning: PySoundFile failed. Trying audioread instead.\n",
      "  warnings.warn(\"PySoundFile failed. Trying audioread instead.\")\n"
     ]
    },
    {
     "name": "stdout",
     "output_type": "stream",
     "text": [
      "(65, 13)\n",
      "(65, 13)\n",
      "(65, 13)\n",
      "(65, 13)\n",
      "(65, 13)\n",
      "(65, 13)\n",
      "(65, 13)\n",
      "(65, 13)\n",
      "(65, 13)\n",
      "(65, 13)\n"
     ]
    },
    {
     "name": "stderr",
     "output_type": "stream",
     "text": [
      "/home/akriptonn/anaconda3/envs/aidj/lib/python3.8/site-packages/librosa/core/audio.py:162: UserWarning: PySoundFile failed. Trying audioread instead.\n",
      "  warnings.warn(\"PySoundFile failed. Trying audioread instead.\")\n"
     ]
    },
    {
     "name": "stdout",
     "output_type": "stream",
     "text": [
      "(65, 13)\n",
      "(65, 13)\n",
      "(65, 13)\n",
      "(65, 13)\n",
      "(65, 13)\n",
      "(65, 13)\n",
      "(65, 13)\n",
      "(65, 13)\n",
      "(65, 13)\n",
      "(65, 13)\n"
     ]
    },
    {
     "name": "stderr",
     "output_type": "stream",
     "text": [
      "/home/akriptonn/anaconda3/envs/aidj/lib/python3.8/site-packages/librosa/core/audio.py:162: UserWarning: PySoundFile failed. Trying audioread instead.\n",
      "  warnings.warn(\"PySoundFile failed. Trying audioread instead.\")\n"
     ]
    },
    {
     "name": "stdout",
     "output_type": "stream",
     "text": [
      "(65, 13)\n",
      "(65, 13)\n",
      "(65, 13)\n",
      "(65, 13)\n",
      "(65, 13)\n",
      "(65, 13)\n",
      "(65, 13)\n",
      "(65, 13)\n",
      "(65, 13)\n",
      "(65, 13)\n"
     ]
    },
    {
     "name": "stderr",
     "output_type": "stream",
     "text": [
      "/home/akriptonn/anaconda3/envs/aidj/lib/python3.8/site-packages/librosa/core/audio.py:162: UserWarning: PySoundFile failed. Trying audioread instead.\n",
      "  warnings.warn(\"PySoundFile failed. Trying audioread instead.\")\n"
     ]
    },
    {
     "name": "stdout",
     "output_type": "stream",
     "text": [
      "(65, 13)\n",
      "(65, 13)\n",
      "(65, 13)\n",
      "(65, 13)\n",
      "(65, 13)\n",
      "(65, 13)\n",
      "(65, 13)\n",
      "(65, 13)\n",
      "(65, 13)\n",
      "(65, 13)\n"
     ]
    },
    {
     "name": "stderr",
     "output_type": "stream",
     "text": [
      "/home/akriptonn/anaconda3/envs/aidj/lib/python3.8/site-packages/librosa/core/audio.py:162: UserWarning: PySoundFile failed. Trying audioread instead.\n",
      "  warnings.warn(\"PySoundFile failed. Trying audioread instead.\")\n"
     ]
    },
    {
     "name": "stdout",
     "output_type": "stream",
     "text": [
      "(65, 13)\n",
      "(65, 13)\n",
      "(65, 13)\n",
      "(65, 13)\n",
      "(65, 13)\n",
      "(65, 13)\n",
      "(65, 13)\n",
      "(65, 13)\n",
      "(65, 13)\n",
      "(65, 13)\n"
     ]
    },
    {
     "name": "stderr",
     "output_type": "stream",
     "text": [
      "/home/akriptonn/anaconda3/envs/aidj/lib/python3.8/site-packages/librosa/core/audio.py:162: UserWarning: PySoundFile failed. Trying audioread instead.\n",
      "  warnings.warn(\"PySoundFile failed. Trying audioread instead.\")\n"
     ]
    },
    {
     "name": "stdout",
     "output_type": "stream",
     "text": [
      "(65, 13)\n",
      "(65, 13)\n",
      "(65, 13)\n",
      "(65, 13)\n",
      "(65, 13)\n",
      "(65, 13)\n",
      "(65, 13)\n",
      "(65, 13)\n",
      "(65, 13)\n",
      "(65, 13)\n"
     ]
    },
    {
     "name": "stderr",
     "output_type": "stream",
     "text": [
      "/home/akriptonn/anaconda3/envs/aidj/lib/python3.8/site-packages/librosa/core/audio.py:162: UserWarning: PySoundFile failed. Trying audioread instead.\n",
      "  warnings.warn(\"PySoundFile failed. Trying audioread instead.\")\n"
     ]
    },
    {
     "name": "stdout",
     "output_type": "stream",
     "text": [
      "(65, 13)\n",
      "(65, 13)\n",
      "(65, 13)\n",
      "(65, 13)\n",
      "(65, 13)\n",
      "(65, 13)\n",
      "(65, 13)\n",
      "(65, 13)\n",
      "(65, 13)\n",
      "(65, 13)\n"
     ]
    },
    {
     "name": "stderr",
     "output_type": "stream",
     "text": [
      "/home/akriptonn/anaconda3/envs/aidj/lib/python3.8/site-packages/librosa/core/audio.py:162: UserWarning: PySoundFile failed. Trying audioread instead.\n",
      "  warnings.warn(\"PySoundFile failed. Trying audioread instead.\")\n"
     ]
    },
    {
     "name": "stdout",
     "output_type": "stream",
     "text": [
      "(65, 13)\n",
      "(65, 13)\n",
      "(65, 13)\n",
      "(65, 13)\n",
      "(65, 13)\n",
      "(65, 13)\n",
      "(65, 13)\n",
      "(65, 13)\n",
      "(65, 13)\n",
      "(65, 13)\n"
     ]
    },
    {
     "name": "stderr",
     "output_type": "stream",
     "text": [
      "/home/akriptonn/anaconda3/envs/aidj/lib/python3.8/site-packages/librosa/core/audio.py:162: UserWarning: PySoundFile failed. Trying audioread instead.\n",
      "  warnings.warn(\"PySoundFile failed. Trying audioread instead.\")\n"
     ]
    },
    {
     "name": "stdout",
     "output_type": "stream",
     "text": [
      "(65, 13)\n",
      "(65, 13)\n",
      "(65, 13)\n",
      "(65, 13)\n",
      "(65, 13)\n",
      "(65, 13)\n",
      "(65, 13)\n",
      "(65, 13)\n",
      "(65, 13)\n",
      "(65, 13)\n"
     ]
    },
    {
     "name": "stderr",
     "output_type": "stream",
     "text": [
      "/home/akriptonn/anaconda3/envs/aidj/lib/python3.8/site-packages/librosa/core/audio.py:162: UserWarning: PySoundFile failed. Trying audioread instead.\n",
      "  warnings.warn(\"PySoundFile failed. Trying audioread instead.\")\n"
     ]
    },
    {
     "name": "stdout",
     "output_type": "stream",
     "text": [
      "(65, 13)\n",
      "(65, 13)\n",
      "(65, 13)\n",
      "(65, 13)\n",
      "(65, 13)\n",
      "(65, 13)\n",
      "(65, 13)\n",
      "(65, 13)\n",
      "(65, 13)\n",
      "(65, 13)\n"
     ]
    },
    {
     "name": "stderr",
     "output_type": "stream",
     "text": [
      "/home/akriptonn/anaconda3/envs/aidj/lib/python3.8/site-packages/librosa/core/audio.py:162: UserWarning: PySoundFile failed. Trying audioread instead.\n",
      "  warnings.warn(\"PySoundFile failed. Trying audioread instead.\")\n"
     ]
    },
    {
     "name": "stdout",
     "output_type": "stream",
     "text": [
      "(65, 13)\n",
      "(65, 13)\n",
      "(65, 13)\n",
      "(65, 13)\n",
      "(65, 13)\n",
      "(65, 13)\n",
      "(65, 13)\n",
      "(65, 13)\n",
      "(65, 13)\n",
      "(65, 13)\n"
     ]
    },
    {
     "name": "stderr",
     "output_type": "stream",
     "text": [
      "/home/akriptonn/anaconda3/envs/aidj/lib/python3.8/site-packages/librosa/core/audio.py:162: UserWarning: PySoundFile failed. Trying audioread instead.\n",
      "  warnings.warn(\"PySoundFile failed. Trying audioread instead.\")\n"
     ]
    },
    {
     "name": "stdout",
     "output_type": "stream",
     "text": [
      "(65, 13)\n",
      "(65, 13)\n",
      "(65, 13)\n",
      "(65, 13)\n",
      "(65, 13)\n",
      "(65, 13)\n",
      "(65, 13)\n",
      "(65, 13)\n",
      "(65, 13)\n",
      "(65, 13)\n"
     ]
    },
    {
     "name": "stderr",
     "output_type": "stream",
     "text": [
      "/home/akriptonn/anaconda3/envs/aidj/lib/python3.8/site-packages/librosa/core/audio.py:162: UserWarning: PySoundFile failed. Trying audioread instead.\n",
      "  warnings.warn(\"PySoundFile failed. Trying audioread instead.\")\n"
     ]
    },
    {
     "name": "stdout",
     "output_type": "stream",
     "text": [
      "(65, 13)\n",
      "(65, 13)\n",
      "(65, 13)\n",
      "(65, 13)\n",
      "(65, 13)\n",
      "(65, 13)\n",
      "(65, 13)\n",
      "(65, 13)\n",
      "(65, 13)\n",
      "(65, 13)\n"
     ]
    },
    {
     "name": "stderr",
     "output_type": "stream",
     "text": [
      "/home/akriptonn/anaconda3/envs/aidj/lib/python3.8/site-packages/librosa/core/audio.py:162: UserWarning: PySoundFile failed. Trying audioread instead.\n",
      "  warnings.warn(\"PySoundFile failed. Trying audioread instead.\")\n"
     ]
    },
    {
     "name": "stdout",
     "output_type": "stream",
     "text": [
      "(65, 13)\n",
      "(65, 13)\n",
      "(65, 13)\n",
      "(65, 13)\n",
      "(65, 13)\n",
      "(65, 13)\n",
      "(65, 13)\n",
      "(65, 13)\n",
      "(65, 13)\n",
      "(65, 13)\n"
     ]
    },
    {
     "name": "stderr",
     "output_type": "stream",
     "text": [
      "/home/akriptonn/anaconda3/envs/aidj/lib/python3.8/site-packages/librosa/core/audio.py:162: UserWarning: PySoundFile failed. Trying audioread instead.\n",
      "  warnings.warn(\"PySoundFile failed. Trying audioread instead.\")\n"
     ]
    },
    {
     "name": "stdout",
     "output_type": "stream",
     "text": [
      "(65, 13)\n",
      "(65, 13)\n",
      "(65, 13)\n",
      "(65, 13)\n",
      "(65, 13)\n",
      "(65, 13)\n",
      "(65, 13)\n",
      "(65, 13)\n",
      "(65, 13)\n",
      "(65, 13)\n"
     ]
    },
    {
     "name": "stderr",
     "output_type": "stream",
     "text": [
      "/home/akriptonn/anaconda3/envs/aidj/lib/python3.8/site-packages/librosa/core/audio.py:162: UserWarning: PySoundFile failed. Trying audioread instead.\n",
      "  warnings.warn(\"PySoundFile failed. Trying audioread instead.\")\n"
     ]
    },
    {
     "name": "stdout",
     "output_type": "stream",
     "text": [
      "(65, 13)\n",
      "(65, 13)\n",
      "(65, 13)\n",
      "(65, 13)\n",
      "(65, 13)\n",
      "(65, 13)\n",
      "(65, 13)\n",
      "(65, 13)\n",
      "(65, 13)\n",
      "(65, 13)\n"
     ]
    },
    {
     "name": "stderr",
     "output_type": "stream",
     "text": [
      "/home/akriptonn/anaconda3/envs/aidj/lib/python3.8/site-packages/librosa/core/audio.py:162: UserWarning: PySoundFile failed. Trying audioread instead.\n",
      "  warnings.warn(\"PySoundFile failed. Trying audioread instead.\")\n"
     ]
    },
    {
     "name": "stdout",
     "output_type": "stream",
     "text": [
      "(65, 13)\n",
      "(65, 13)\n",
      "(65, 13)\n",
      "(65, 13)\n",
      "(65, 13)\n",
      "(65, 13)\n",
      "(65, 13)\n",
      "(65, 13)\n",
      "(65, 13)\n",
      "(65, 13)\n"
     ]
    },
    {
     "name": "stderr",
     "output_type": "stream",
     "text": [
      "/home/akriptonn/anaconda3/envs/aidj/lib/python3.8/site-packages/librosa/core/audio.py:162: UserWarning: PySoundFile failed. Trying audioread instead.\n",
      "  warnings.warn(\"PySoundFile failed. Trying audioread instead.\")\n"
     ]
    },
    {
     "name": "stdout",
     "output_type": "stream",
     "text": [
      "(65, 13)\n",
      "(65, 13)\n",
      "(65, 13)\n",
      "(65, 13)\n",
      "(65, 13)\n",
      "(65, 13)\n",
      "(65, 13)\n",
      "(65, 13)\n",
      "(65, 13)\n",
      "(65, 13)\n"
     ]
    },
    {
     "name": "stderr",
     "output_type": "stream",
     "text": [
      "/home/akriptonn/anaconda3/envs/aidj/lib/python3.8/site-packages/librosa/core/audio.py:162: UserWarning: PySoundFile failed. Trying audioread instead.\n",
      "  warnings.warn(\"PySoundFile failed. Trying audioread instead.\")\n"
     ]
    },
    {
     "name": "stdout",
     "output_type": "stream",
     "text": [
      "(65, 13)\n",
      "(65, 13)\n",
      "(65, 13)\n",
      "(65, 13)\n",
      "(65, 13)\n",
      "(65, 13)\n",
      "(65, 13)\n",
      "(65, 13)\n",
      "(65, 13)\n",
      "(65, 13)\n"
     ]
    },
    {
     "name": "stderr",
     "output_type": "stream",
     "text": [
      "/home/akriptonn/anaconda3/envs/aidj/lib/python3.8/site-packages/librosa/core/audio.py:162: UserWarning: PySoundFile failed. Trying audioread instead.\n",
      "  warnings.warn(\"PySoundFile failed. Trying audioread instead.\")\n"
     ]
    },
    {
     "name": "stdout",
     "output_type": "stream",
     "text": [
      "(65, 13)\n",
      "(65, 13)\n",
      "(65, 13)\n",
      "(65, 13)\n",
      "(65, 13)\n",
      "(65, 13)\n",
      "(65, 13)\n",
      "(65, 13)\n",
      "(65, 13)\n",
      "(65, 13)\n"
     ]
    },
    {
     "name": "stderr",
     "output_type": "stream",
     "text": [
      "/home/akriptonn/anaconda3/envs/aidj/lib/python3.8/site-packages/librosa/core/audio.py:162: UserWarning: PySoundFile failed. Trying audioread instead.\n",
      "  warnings.warn(\"PySoundFile failed. Trying audioread instead.\")\n"
     ]
    },
    {
     "name": "stdout",
     "output_type": "stream",
     "text": [
      "(65, 13)\n",
      "(65, 13)\n",
      "(65, 13)\n",
      "(65, 13)\n",
      "(65, 13)\n",
      "(65, 13)\n",
      "(65, 13)\n",
      "(65, 13)\n",
      "(65, 13)\n",
      "(65, 13)\n"
     ]
    },
    {
     "name": "stderr",
     "output_type": "stream",
     "text": [
      "/home/akriptonn/anaconda3/envs/aidj/lib/python3.8/site-packages/librosa/core/audio.py:162: UserWarning: PySoundFile failed. Trying audioread instead.\n",
      "  warnings.warn(\"PySoundFile failed. Trying audioread instead.\")\n"
     ]
    },
    {
     "name": "stdout",
     "output_type": "stream",
     "text": [
      "(65, 13)\n",
      "(65, 13)\n",
      "(65, 13)\n",
      "(65, 13)\n",
      "(65, 13)\n",
      "(65, 13)\n",
      "(65, 13)\n",
      "(65, 13)\n",
      "(65, 13)\n",
      "(65, 13)\n"
     ]
    },
    {
     "name": "stderr",
     "output_type": "stream",
     "text": [
      "/home/akriptonn/anaconda3/envs/aidj/lib/python3.8/site-packages/librosa/core/audio.py:162: UserWarning: PySoundFile failed. Trying audioread instead.\n",
      "  warnings.warn(\"PySoundFile failed. Trying audioread instead.\")\n"
     ]
    },
    {
     "name": "stdout",
     "output_type": "stream",
     "text": [
      "(65, 13)\n",
      "(65, 13)\n",
      "(65, 13)\n",
      "(65, 13)\n",
      "(65, 13)\n",
      "(65, 13)\n",
      "(65, 13)\n",
      "(65, 13)\n",
      "(65, 13)\n",
      "(65, 13)\n"
     ]
    },
    {
     "name": "stderr",
     "output_type": "stream",
     "text": [
      "/home/akriptonn/anaconda3/envs/aidj/lib/python3.8/site-packages/librosa/core/audio.py:162: UserWarning: PySoundFile failed. Trying audioread instead.\n",
      "  warnings.warn(\"PySoundFile failed. Trying audioread instead.\")\n"
     ]
    },
    {
     "name": "stdout",
     "output_type": "stream",
     "text": [
      "(65, 13)\n",
      "(65, 13)\n",
      "(65, 13)\n",
      "(65, 13)\n",
      "(65, 13)\n",
      "(65, 13)\n",
      "(65, 13)\n",
      "(65, 13)\n",
      "(65, 13)\n",
      "(65, 13)\n"
     ]
    },
    {
     "name": "stderr",
     "output_type": "stream",
     "text": [
      "/home/akriptonn/anaconda3/envs/aidj/lib/python3.8/site-packages/librosa/core/audio.py:162: UserWarning: PySoundFile failed. Trying audioread instead.\n",
      "  warnings.warn(\"PySoundFile failed. Trying audioread instead.\")\n"
     ]
    },
    {
     "name": "stdout",
     "output_type": "stream",
     "text": [
      "(65, 13)\n",
      "(65, 13)\n",
      "(65, 13)\n",
      "(65, 13)\n",
      "(65, 13)\n",
      "(65, 13)\n",
      "(65, 13)\n",
      "(65, 13)\n",
      "(65, 13)\n",
      "(65, 13)\n"
     ]
    },
    {
     "name": "stderr",
     "output_type": "stream",
     "text": [
      "/home/akriptonn/anaconda3/envs/aidj/lib/python3.8/site-packages/librosa/core/audio.py:162: UserWarning: PySoundFile failed. Trying audioread instead.\n",
      "  warnings.warn(\"PySoundFile failed. Trying audioread instead.\")\n"
     ]
    },
    {
     "name": "stdout",
     "output_type": "stream",
     "text": [
      "(65, 13)\n",
      "(65, 13)\n",
      "(65, 13)\n",
      "(65, 13)\n",
      "(65, 13)\n",
      "(65, 13)\n",
      "(65, 13)\n",
      "(65, 13)\n",
      "(65, 13)\n",
      "(65, 13)\n"
     ]
    },
    {
     "name": "stderr",
     "output_type": "stream",
     "text": [
      "/home/akriptonn/anaconda3/envs/aidj/lib/python3.8/site-packages/librosa/core/audio.py:162: UserWarning: PySoundFile failed. Trying audioread instead.\n",
      "  warnings.warn(\"PySoundFile failed. Trying audioread instead.\")\n"
     ]
    },
    {
     "name": "stdout",
     "output_type": "stream",
     "text": [
      "(65, 13)\n",
      "(65, 13)\n",
      "(65, 13)\n",
      "(65, 13)\n",
      "(65, 13)\n",
      "(65, 13)\n",
      "(65, 13)\n",
      "(65, 13)\n",
      "(65, 13)\n",
      "(65, 13)\n"
     ]
    },
    {
     "name": "stderr",
     "output_type": "stream",
     "text": [
      "/home/akriptonn/anaconda3/envs/aidj/lib/python3.8/site-packages/librosa/core/audio.py:162: UserWarning: PySoundFile failed. Trying audioread instead.\n",
      "  warnings.warn(\"PySoundFile failed. Trying audioread instead.\")\n"
     ]
    },
    {
     "name": "stdout",
     "output_type": "stream",
     "text": [
      "(65, 13)\n",
      "(65, 13)\n",
      "(65, 13)\n",
      "(65, 13)\n",
      "(65, 13)\n",
      "(65, 13)\n",
      "(65, 13)\n",
      "(65, 13)\n",
      "(65, 13)\n",
      "(65, 13)\n"
     ]
    },
    {
     "name": "stderr",
     "output_type": "stream",
     "text": [
      "/home/akriptonn/anaconda3/envs/aidj/lib/python3.8/site-packages/librosa/core/audio.py:162: UserWarning: PySoundFile failed. Trying audioread instead.\n",
      "  warnings.warn(\"PySoundFile failed. Trying audioread instead.\")\n"
     ]
    },
    {
     "name": "stdout",
     "output_type": "stream",
     "text": [
      "(65, 13)\n",
      "(65, 13)\n",
      "(65, 13)\n",
      "(65, 13)\n",
      "(65, 13)\n",
      "(65, 13)\n",
      "(65, 13)\n",
      "(65, 13)\n",
      "(65, 13)\n",
      "(65, 13)\n"
     ]
    },
    {
     "name": "stderr",
     "output_type": "stream",
     "text": [
      "/home/akriptonn/anaconda3/envs/aidj/lib/python3.8/site-packages/librosa/core/audio.py:162: UserWarning: PySoundFile failed. Trying audioread instead.\n",
      "  warnings.warn(\"PySoundFile failed. Trying audioread instead.\")\n"
     ]
    },
    {
     "name": "stdout",
     "output_type": "stream",
     "text": [
      "(65, 13)\n",
      "(65, 13)\n",
      "(65, 13)\n",
      "(65, 13)\n",
      "(65, 13)\n",
      "(65, 13)\n",
      "(65, 13)\n",
      "(65, 13)\n",
      "(65, 13)\n",
      "(65, 13)\n"
     ]
    },
    {
     "name": "stderr",
     "output_type": "stream",
     "text": [
      "/home/akriptonn/anaconda3/envs/aidj/lib/python3.8/site-packages/librosa/core/audio.py:162: UserWarning: PySoundFile failed. Trying audioread instead.\n",
      "  warnings.warn(\"PySoundFile failed. Trying audioread instead.\")\n"
     ]
    },
    {
     "name": "stdout",
     "output_type": "stream",
     "text": [
      "(65, 13)\n",
      "(65, 13)\n",
      "(65, 13)\n",
      "(65, 13)\n",
      "(65, 13)\n",
      "(65, 13)\n",
      "(65, 13)\n",
      "(65, 13)\n",
      "(65, 13)\n",
      "(65, 13)\n"
     ]
    },
    {
     "name": "stderr",
     "output_type": "stream",
     "text": [
      "/home/akriptonn/anaconda3/envs/aidj/lib/python3.8/site-packages/librosa/core/audio.py:162: UserWarning: PySoundFile failed. Trying audioread instead.\n",
      "  warnings.warn(\"PySoundFile failed. Trying audioread instead.\")\n"
     ]
    },
    {
     "name": "stdout",
     "output_type": "stream",
     "text": [
      "(65, 13)\n",
      "(65, 13)\n",
      "(65, 13)\n",
      "(65, 13)\n",
      "(65, 13)\n",
      "(65, 13)\n",
      "(65, 13)\n",
      "(65, 13)\n",
      "(65, 13)\n",
      "(65, 13)\n"
     ]
    },
    {
     "name": "stderr",
     "output_type": "stream",
     "text": [
      "/home/akriptonn/anaconda3/envs/aidj/lib/python3.8/site-packages/librosa/core/audio.py:162: UserWarning: PySoundFile failed. Trying audioread instead.\n",
      "  warnings.warn(\"PySoundFile failed. Trying audioread instead.\")\n"
     ]
    },
    {
     "name": "stdout",
     "output_type": "stream",
     "text": [
      "(65, 13)\n",
      "(65, 13)\n",
      "(65, 13)\n",
      "(65, 13)\n",
      "(65, 13)\n",
      "(65, 13)\n",
      "(65, 13)\n",
      "(65, 13)\n",
      "(65, 13)\n",
      "(65, 13)\n"
     ]
    },
    {
     "name": "stderr",
     "output_type": "stream",
     "text": [
      "/home/akriptonn/anaconda3/envs/aidj/lib/python3.8/site-packages/librosa/core/audio.py:162: UserWarning: PySoundFile failed. Trying audioread instead.\n",
      "  warnings.warn(\"PySoundFile failed. Trying audioread instead.\")\n"
     ]
    },
    {
     "name": "stdout",
     "output_type": "stream",
     "text": [
      "(65, 13)\n",
      "(65, 13)\n",
      "(65, 13)\n",
      "(65, 13)\n",
      "(65, 13)\n",
      "(65, 13)\n",
      "(65, 13)\n",
      "(65, 13)\n",
      "(65, 13)\n",
      "(65, 13)\n"
     ]
    },
    {
     "name": "stderr",
     "output_type": "stream",
     "text": [
      "/home/akriptonn/anaconda3/envs/aidj/lib/python3.8/site-packages/librosa/core/audio.py:162: UserWarning: PySoundFile failed. Trying audioread instead.\n",
      "  warnings.warn(\"PySoundFile failed. Trying audioread instead.\")\n"
     ]
    },
    {
     "name": "stdout",
     "output_type": "stream",
     "text": [
      "(65, 13)\n",
      "(65, 13)\n",
      "(65, 13)\n",
      "(65, 13)\n",
      "(65, 13)\n",
      "(65, 13)\n",
      "(65, 13)\n",
      "(65, 13)\n",
      "(65, 13)\n",
      "(65, 13)\n"
     ]
    },
    {
     "name": "stderr",
     "output_type": "stream",
     "text": [
      "/home/akriptonn/anaconda3/envs/aidj/lib/python3.8/site-packages/librosa/core/audio.py:162: UserWarning: PySoundFile failed. Trying audioread instead.\n",
      "  warnings.warn(\"PySoundFile failed. Trying audioread instead.\")\n"
     ]
    },
    {
     "name": "stdout",
     "output_type": "stream",
     "text": [
      "(65, 13)\n",
      "(65, 13)\n",
      "(65, 13)\n",
      "(65, 13)\n",
      "(65, 13)\n",
      "(65, 13)\n",
      "(65, 13)\n",
      "(65, 13)\n",
      "(65, 13)\n",
      "(65, 13)\n"
     ]
    },
    {
     "name": "stderr",
     "output_type": "stream",
     "text": [
      "/home/akriptonn/anaconda3/envs/aidj/lib/python3.8/site-packages/librosa/core/audio.py:162: UserWarning: PySoundFile failed. Trying audioread instead.\n",
      "  warnings.warn(\"PySoundFile failed. Trying audioread instead.\")\n"
     ]
    },
    {
     "name": "stdout",
     "output_type": "stream",
     "text": [
      "(65, 13)\n",
      "(65, 13)\n",
      "(65, 13)\n",
      "(65, 13)\n",
      "(65, 13)\n",
      "(65, 13)\n",
      "(65, 13)\n",
      "(65, 13)\n",
      "(65, 13)\n",
      "(65, 13)\n"
     ]
    },
    {
     "name": "stderr",
     "output_type": "stream",
     "text": [
      "/home/akriptonn/anaconda3/envs/aidj/lib/python3.8/site-packages/librosa/core/audio.py:162: UserWarning: PySoundFile failed. Trying audioread instead.\n",
      "  warnings.warn(\"PySoundFile failed. Trying audioread instead.\")\n"
     ]
    },
    {
     "name": "stdout",
     "output_type": "stream",
     "text": [
      "(65, 13)\n",
      "(65, 13)\n",
      "(65, 13)\n",
      "(65, 13)\n",
      "(65, 13)\n",
      "(65, 13)\n",
      "(65, 13)\n",
      "(65, 13)\n",
      "(65, 13)\n",
      "(65, 13)\n"
     ]
    },
    {
     "name": "stderr",
     "output_type": "stream",
     "text": [
      "/home/akriptonn/anaconda3/envs/aidj/lib/python3.8/site-packages/librosa/core/audio.py:162: UserWarning: PySoundFile failed. Trying audioread instead.\n",
      "  warnings.warn(\"PySoundFile failed. Trying audioread instead.\")\n"
     ]
    },
    {
     "name": "stdout",
     "output_type": "stream",
     "text": [
      "(65, 13)\n",
      "(65, 13)\n",
      "(65, 13)\n",
      "(65, 13)\n",
      "(65, 13)\n",
      "(65, 13)\n",
      "(65, 13)\n",
      "(65, 13)\n",
      "(65, 13)\n",
      "(65, 13)\n"
     ]
    },
    {
     "name": "stderr",
     "output_type": "stream",
     "text": [
      "/home/akriptonn/anaconda3/envs/aidj/lib/python3.8/site-packages/librosa/core/audio.py:162: UserWarning: PySoundFile failed. Trying audioread instead.\n",
      "  warnings.warn(\"PySoundFile failed. Trying audioread instead.\")\n"
     ]
    },
    {
     "name": "stdout",
     "output_type": "stream",
     "text": [
      "(65, 13)\n",
      "(65, 13)\n",
      "(65, 13)\n",
      "(65, 13)\n",
      "(65, 13)\n",
      "(65, 13)\n",
      "(65, 13)\n",
      "(65, 13)\n",
      "(65, 13)\n",
      "(65, 13)\n"
     ]
    },
    {
     "name": "stderr",
     "output_type": "stream",
     "text": [
      "/home/akriptonn/anaconda3/envs/aidj/lib/python3.8/site-packages/librosa/core/audio.py:162: UserWarning: PySoundFile failed. Trying audioread instead.\n",
      "  warnings.warn(\"PySoundFile failed. Trying audioread instead.\")\n"
     ]
    },
    {
     "name": "stdout",
     "output_type": "stream",
     "text": [
      "(65, 13)\n",
      "(65, 13)\n",
      "(65, 13)\n",
      "(65, 13)\n",
      "(65, 13)\n",
      "(65, 13)\n",
      "(65, 13)\n",
      "(65, 13)\n",
      "(65, 13)\n",
      "(65, 13)\n"
     ]
    },
    {
     "name": "stderr",
     "output_type": "stream",
     "text": [
      "/home/akriptonn/anaconda3/envs/aidj/lib/python3.8/site-packages/librosa/core/audio.py:162: UserWarning: PySoundFile failed. Trying audioread instead.\n",
      "  warnings.warn(\"PySoundFile failed. Trying audioread instead.\")\n"
     ]
    },
    {
     "name": "stdout",
     "output_type": "stream",
     "text": [
      "(65, 13)\n",
      "(65, 13)\n",
      "(65, 13)\n",
      "(65, 13)\n",
      "(65, 13)\n",
      "(65, 13)\n",
      "(65, 13)\n",
      "(65, 13)\n",
      "(65, 13)\n",
      "(65, 13)\n"
     ]
    },
    {
     "name": "stderr",
     "output_type": "stream",
     "text": [
      "/home/akriptonn/anaconda3/envs/aidj/lib/python3.8/site-packages/librosa/core/audio.py:162: UserWarning: PySoundFile failed. Trying audioread instead.\n",
      "  warnings.warn(\"PySoundFile failed. Trying audioread instead.\")\n"
     ]
    },
    {
     "name": "stdout",
     "output_type": "stream",
     "text": [
      "(65, 13)\n",
      "(65, 13)\n",
      "(65, 13)\n",
      "(65, 13)\n",
      "(65, 13)\n",
      "(65, 13)\n",
      "(65, 13)\n",
      "(65, 13)\n",
      "(65, 13)\n",
      "(65, 13)\n"
     ]
    },
    {
     "name": "stderr",
     "output_type": "stream",
     "text": [
      "/home/akriptonn/anaconda3/envs/aidj/lib/python3.8/site-packages/librosa/core/audio.py:162: UserWarning: PySoundFile failed. Trying audioread instead.\n",
      "  warnings.warn(\"PySoundFile failed. Trying audioread instead.\")\n"
     ]
    },
    {
     "name": "stdout",
     "output_type": "stream",
     "text": [
      "(65, 13)\n",
      "(65, 13)\n",
      "(65, 13)\n",
      "(65, 13)\n",
      "(65, 13)\n",
      "(65, 13)\n",
      "(65, 13)\n",
      "(65, 13)\n",
      "(65, 13)\n",
      "(65, 13)\n"
     ]
    },
    {
     "name": "stderr",
     "output_type": "stream",
     "text": [
      "/home/akriptonn/anaconda3/envs/aidj/lib/python3.8/site-packages/librosa/core/audio.py:162: UserWarning: PySoundFile failed. Trying audioread instead.\n",
      "  warnings.warn(\"PySoundFile failed. Trying audioread instead.\")\n"
     ]
    },
    {
     "name": "stdout",
     "output_type": "stream",
     "text": [
      "(65, 13)\n",
      "(65, 13)\n",
      "(65, 13)\n",
      "(65, 13)\n",
      "(65, 13)\n",
      "(65, 13)\n",
      "(65, 13)\n",
      "(65, 13)\n",
      "(65, 13)\n",
      "(65, 13)\n"
     ]
    },
    {
     "name": "stderr",
     "output_type": "stream",
     "text": [
      "/home/akriptonn/anaconda3/envs/aidj/lib/python3.8/site-packages/librosa/core/audio.py:162: UserWarning: PySoundFile failed. Trying audioread instead.\n",
      "  warnings.warn(\"PySoundFile failed. Trying audioread instead.\")\n"
     ]
    },
    {
     "name": "stdout",
     "output_type": "stream",
     "text": [
      "(65, 13)\n",
      "(65, 13)\n",
      "(65, 13)\n",
      "(65, 13)\n",
      "(65, 13)\n",
      "(65, 13)\n",
      "(65, 13)\n",
      "(65, 13)\n",
      "(65, 13)\n",
      "(65, 13)\n"
     ]
    },
    {
     "name": "stderr",
     "output_type": "stream",
     "text": [
      "/home/akriptonn/anaconda3/envs/aidj/lib/python3.8/site-packages/librosa/core/audio.py:162: UserWarning: PySoundFile failed. Trying audioread instead.\n",
      "  warnings.warn(\"PySoundFile failed. Trying audioread instead.\")\n"
     ]
    },
    {
     "name": "stdout",
     "output_type": "stream",
     "text": [
      "(65, 13)\n",
      "(65, 13)\n",
      "(65, 13)\n",
      "(65, 13)\n",
      "(65, 13)\n",
      "(65, 13)\n",
      "(65, 13)\n",
      "(65, 13)\n",
      "(65, 13)\n",
      "(65, 13)\n"
     ]
    },
    {
     "name": "stderr",
     "output_type": "stream",
     "text": [
      "/home/akriptonn/anaconda3/envs/aidj/lib/python3.8/site-packages/librosa/core/audio.py:162: UserWarning: PySoundFile failed. Trying audioread instead.\n",
      "  warnings.warn(\"PySoundFile failed. Trying audioread instead.\")\n"
     ]
    },
    {
     "name": "stdout",
     "output_type": "stream",
     "text": [
      "(65, 13)\n",
      "(65, 13)\n",
      "(65, 13)\n",
      "(65, 13)\n",
      "(65, 13)\n",
      "(65, 13)\n",
      "(65, 13)\n",
      "(65, 13)\n",
      "(65, 13)\n",
      "(65, 13)\n"
     ]
    },
    {
     "name": "stderr",
     "output_type": "stream",
     "text": [
      "/home/akriptonn/anaconda3/envs/aidj/lib/python3.8/site-packages/librosa/core/audio.py:162: UserWarning: PySoundFile failed. Trying audioread instead.\n",
      "  warnings.warn(\"PySoundFile failed. Trying audioread instead.\")\n"
     ]
    },
    {
     "name": "stdout",
     "output_type": "stream",
     "text": [
      "(65, 13)\n",
      "(65, 13)\n",
      "(65, 13)\n",
      "(65, 13)\n",
      "(65, 13)\n",
      "(65, 13)\n",
      "(65, 13)\n",
      "(65, 13)\n",
      "(65, 13)\n",
      "(65, 13)\n"
     ]
    },
    {
     "name": "stderr",
     "output_type": "stream",
     "text": [
      "/home/akriptonn/anaconda3/envs/aidj/lib/python3.8/site-packages/librosa/core/audio.py:162: UserWarning: PySoundFile failed. Trying audioread instead.\n",
      "  warnings.warn(\"PySoundFile failed. Trying audioread instead.\")\n"
     ]
    },
    {
     "name": "stdout",
     "output_type": "stream",
     "text": [
      "(65, 13)\n",
      "(65, 13)\n",
      "(65, 13)\n",
      "(65, 13)\n",
      "(65, 13)\n",
      "(65, 13)\n",
      "(65, 13)\n",
      "(65, 13)\n",
      "(65, 13)\n",
      "(65, 13)\n"
     ]
    },
    {
     "name": "stderr",
     "output_type": "stream",
     "text": [
      "/home/akriptonn/anaconda3/envs/aidj/lib/python3.8/site-packages/librosa/core/audio.py:162: UserWarning: PySoundFile failed. Trying audioread instead.\n",
      "  warnings.warn(\"PySoundFile failed. Trying audioread instead.\")\n"
     ]
    },
    {
     "name": "stdout",
     "output_type": "stream",
     "text": [
      "(65, 13)\n",
      "(65, 13)\n",
      "(65, 13)\n",
      "(65, 13)\n",
      "(65, 13)\n",
      "(65, 13)\n",
      "(65, 13)\n",
      "(65, 13)\n",
      "(65, 13)\n",
      "(65, 13)\n"
     ]
    },
    {
     "name": "stderr",
     "output_type": "stream",
     "text": [
      "/home/akriptonn/anaconda3/envs/aidj/lib/python3.8/site-packages/librosa/core/audio.py:162: UserWarning: PySoundFile failed. Trying audioread instead.\n",
      "  warnings.warn(\"PySoundFile failed. Trying audioread instead.\")\n"
     ]
    },
    {
     "name": "stdout",
     "output_type": "stream",
     "text": [
      "(65, 13)\n",
      "(65, 13)\n",
      "(65, 13)\n",
      "(65, 13)\n",
      "(65, 13)\n",
      "(65, 13)\n",
      "(65, 13)\n",
      "(65, 13)\n",
      "(65, 13)\n",
      "(65, 13)\n"
     ]
    },
    {
     "name": "stderr",
     "output_type": "stream",
     "text": [
      "/home/akriptonn/anaconda3/envs/aidj/lib/python3.8/site-packages/librosa/core/audio.py:162: UserWarning: PySoundFile failed. Trying audioread instead.\n",
      "  warnings.warn(\"PySoundFile failed. Trying audioread instead.\")\n"
     ]
    },
    {
     "name": "stdout",
     "output_type": "stream",
     "text": [
      "(65, 13)\n",
      "(65, 13)\n",
      "(65, 13)\n",
      "(65, 13)\n",
      "(65, 13)\n",
      "(65, 13)\n",
      "(65, 13)\n",
      "(65, 13)\n",
      "(65, 13)\n",
      "(65, 13)\n"
     ]
    },
    {
     "name": "stderr",
     "output_type": "stream",
     "text": [
      "/home/akriptonn/anaconda3/envs/aidj/lib/python3.8/site-packages/librosa/core/audio.py:162: UserWarning: PySoundFile failed. Trying audioread instead.\n",
      "  warnings.warn(\"PySoundFile failed. Trying audioread instead.\")\n"
     ]
    },
    {
     "name": "stdout",
     "output_type": "stream",
     "text": [
      "(65, 13)\n",
      "(65, 13)\n",
      "(65, 13)\n",
      "(65, 13)\n",
      "(65, 13)\n",
      "(65, 13)\n",
      "(65, 13)\n",
      "(65, 13)\n",
      "(65, 13)\n",
      "(65, 13)\n"
     ]
    },
    {
     "name": "stderr",
     "output_type": "stream",
     "text": [
      "/home/akriptonn/anaconda3/envs/aidj/lib/python3.8/site-packages/librosa/core/audio.py:162: UserWarning: PySoundFile failed. Trying audioread instead.\n",
      "  warnings.warn(\"PySoundFile failed. Trying audioread instead.\")\n"
     ]
    },
    {
     "name": "stdout",
     "output_type": "stream",
     "text": [
      "(65, 13)\n",
      "(65, 13)\n",
      "(65, 13)\n",
      "(65, 13)\n",
      "(65, 13)\n",
      "(65, 13)\n",
      "(65, 13)\n",
      "(65, 13)\n",
      "(65, 13)\n",
      "(65, 13)\n"
     ]
    },
    {
     "name": "stderr",
     "output_type": "stream",
     "text": [
      "/home/akriptonn/anaconda3/envs/aidj/lib/python3.8/site-packages/librosa/core/audio.py:162: UserWarning: PySoundFile failed. Trying audioread instead.\n",
      "  warnings.warn(\"PySoundFile failed. Trying audioread instead.\")\n"
     ]
    },
    {
     "name": "stdout",
     "output_type": "stream",
     "text": [
      "(65, 13)\n",
      "(65, 13)\n",
      "(65, 13)\n",
      "(65, 13)\n",
      "(65, 13)\n",
      "(65, 13)\n",
      "(65, 13)\n",
      "(65, 13)\n",
      "(65, 13)\n",
      "(65, 13)\n"
     ]
    },
    {
     "name": "stderr",
     "output_type": "stream",
     "text": [
      "/home/akriptonn/anaconda3/envs/aidj/lib/python3.8/site-packages/librosa/core/audio.py:162: UserWarning: PySoundFile failed. Trying audioread instead.\n",
      "  warnings.warn(\"PySoundFile failed. Trying audioread instead.\")\n"
     ]
    },
    {
     "name": "stdout",
     "output_type": "stream",
     "text": [
      "(65, 13)\n",
      "(65, 13)\n",
      "(65, 13)\n",
      "(65, 13)\n",
      "(65, 13)\n",
      "(65, 13)\n",
      "(65, 13)\n",
      "(65, 13)\n",
      "(65, 13)\n",
      "(65, 13)\n"
     ]
    },
    {
     "name": "stderr",
     "output_type": "stream",
     "text": [
      "/home/akriptonn/anaconda3/envs/aidj/lib/python3.8/site-packages/librosa/core/audio.py:162: UserWarning: PySoundFile failed. Trying audioread instead.\n",
      "  warnings.warn(\"PySoundFile failed. Trying audioread instead.\")\n"
     ]
    },
    {
     "name": "stdout",
     "output_type": "stream",
     "text": [
      "(65, 13)\n",
      "(65, 13)\n",
      "(65, 13)\n",
      "(65, 13)\n",
      "(65, 13)\n",
      "(65, 13)\n",
      "(65, 13)\n",
      "(65, 13)\n",
      "(65, 13)\n",
      "(65, 13)\n"
     ]
    },
    {
     "name": "stderr",
     "output_type": "stream",
     "text": [
      "/home/akriptonn/anaconda3/envs/aidj/lib/python3.8/site-packages/librosa/core/audio.py:162: UserWarning: PySoundFile failed. Trying audioread instead.\n",
      "  warnings.warn(\"PySoundFile failed. Trying audioread instead.\")\n"
     ]
    },
    {
     "name": "stdout",
     "output_type": "stream",
     "text": [
      "(65, 13)\n",
      "(65, 13)\n",
      "(65, 13)\n",
      "(65, 13)\n",
      "(65, 13)\n",
      "(65, 13)\n",
      "(65, 13)\n",
      "(65, 13)\n",
      "(65, 13)\n",
      "(65, 13)\n"
     ]
    },
    {
     "name": "stderr",
     "output_type": "stream",
     "text": [
      "/home/akriptonn/anaconda3/envs/aidj/lib/python3.8/site-packages/librosa/core/audio.py:162: UserWarning: PySoundFile failed. Trying audioread instead.\n",
      "  warnings.warn(\"PySoundFile failed. Trying audioread instead.\")\n"
     ]
    },
    {
     "name": "stdout",
     "output_type": "stream",
     "text": [
      "(65, 13)\n",
      "(65, 13)\n",
      "(65, 13)\n",
      "(65, 13)\n",
      "(65, 13)\n",
      "(65, 13)\n",
      "(65, 13)\n",
      "(65, 13)\n",
      "(65, 13)\n",
      "(65, 13)\n"
     ]
    },
    {
     "name": "stderr",
     "output_type": "stream",
     "text": [
      "/home/akriptonn/anaconda3/envs/aidj/lib/python3.8/site-packages/librosa/core/audio.py:162: UserWarning: PySoundFile failed. Trying audioread instead.\n",
      "  warnings.warn(\"PySoundFile failed. Trying audioread instead.\")\n"
     ]
    },
    {
     "name": "stdout",
     "output_type": "stream",
     "text": [
      "(65, 13)\n",
      "(65, 13)\n",
      "(65, 13)\n",
      "(65, 13)\n",
      "(65, 13)\n",
      "(65, 13)\n",
      "(65, 13)\n",
      "(65, 13)\n",
      "(65, 13)\n",
      "(65, 13)\n"
     ]
    },
    {
     "name": "stderr",
     "output_type": "stream",
     "text": [
      "/home/akriptonn/anaconda3/envs/aidj/lib/python3.8/site-packages/librosa/core/audio.py:162: UserWarning: PySoundFile failed. Trying audioread instead.\n",
      "  warnings.warn(\"PySoundFile failed. Trying audioread instead.\")\n"
     ]
    },
    {
     "name": "stdout",
     "output_type": "stream",
     "text": [
      "(65, 13)\n",
      "(65, 13)\n",
      "(65, 13)\n",
      "(65, 13)\n",
      "(65, 13)\n",
      "(65, 13)\n",
      "(65, 13)\n",
      "(65, 13)\n",
      "(65, 13)\n",
      "(65, 13)\n"
     ]
    },
    {
     "name": "stderr",
     "output_type": "stream",
     "text": [
      "/home/akriptonn/anaconda3/envs/aidj/lib/python3.8/site-packages/librosa/core/audio.py:162: UserWarning: PySoundFile failed. Trying audioread instead.\n",
      "  warnings.warn(\"PySoundFile failed. Trying audioread instead.\")\n"
     ]
    },
    {
     "name": "stdout",
     "output_type": "stream",
     "text": [
      "(65, 13)\n",
      "(65, 13)\n",
      "(65, 13)\n",
      "(65, 13)\n",
      "(65, 13)\n",
      "(65, 13)\n",
      "(65, 13)\n",
      "(65, 13)\n",
      "(65, 13)\n",
      "(65, 13)\n"
     ]
    },
    {
     "name": "stderr",
     "output_type": "stream",
     "text": [
      "/home/akriptonn/anaconda3/envs/aidj/lib/python3.8/site-packages/librosa/core/audio.py:162: UserWarning: PySoundFile failed. Trying audioread instead.\n",
      "  warnings.warn(\"PySoundFile failed. Trying audioread instead.\")\n"
     ]
    },
    {
     "name": "stdout",
     "output_type": "stream",
     "text": [
      "(65, 13)\n",
      "(65, 13)\n",
      "(65, 13)\n",
      "(65, 13)\n",
      "(65, 13)\n",
      "(65, 13)\n",
      "(65, 13)\n",
      "(65, 13)\n",
      "(65, 13)\n",
      "(65, 13)\n"
     ]
    },
    {
     "name": "stderr",
     "output_type": "stream",
     "text": [
      "/home/akriptonn/anaconda3/envs/aidj/lib/python3.8/site-packages/librosa/core/audio.py:162: UserWarning: PySoundFile failed. Trying audioread instead.\n",
      "  warnings.warn(\"PySoundFile failed. Trying audioread instead.\")\n"
     ]
    },
    {
     "name": "stdout",
     "output_type": "stream",
     "text": [
      "(65, 13)\n",
      "(65, 13)\n",
      "(65, 13)\n",
      "(65, 13)\n",
      "(65, 13)\n",
      "(65, 13)\n",
      "(65, 13)\n",
      "(65, 13)\n",
      "(65, 13)\n",
      "(65, 13)\n"
     ]
    },
    {
     "name": "stderr",
     "output_type": "stream",
     "text": [
      "/home/akriptonn/anaconda3/envs/aidj/lib/python3.8/site-packages/librosa/core/audio.py:162: UserWarning: PySoundFile failed. Trying audioread instead.\n",
      "  warnings.warn(\"PySoundFile failed. Trying audioread instead.\")\n"
     ]
    },
    {
     "name": "stdout",
     "output_type": "stream",
     "text": [
      "(65, 13)\n",
      "(65, 13)\n",
      "(65, 13)\n",
      "(65, 13)\n",
      "(65, 13)\n",
      "(65, 13)\n",
      "(65, 13)\n",
      "(65, 13)\n",
      "(65, 13)\n",
      "(65, 13)\n"
     ]
    },
    {
     "name": "stderr",
     "output_type": "stream",
     "text": [
      "/home/akriptonn/anaconda3/envs/aidj/lib/python3.8/site-packages/librosa/core/audio.py:162: UserWarning: PySoundFile failed. Trying audioread instead.\n",
      "  warnings.warn(\"PySoundFile failed. Trying audioread instead.\")\n"
     ]
    },
    {
     "name": "stdout",
     "output_type": "stream",
     "text": [
      "(65, 13)\n",
      "(65, 13)\n",
      "(65, 13)\n",
      "(65, 13)\n",
      "(65, 13)\n",
      "(65, 13)\n",
      "(65, 13)\n",
      "(65, 13)\n",
      "(65, 13)\n",
      "(65, 13)\n"
     ]
    },
    {
     "name": "stderr",
     "output_type": "stream",
     "text": [
      "/home/akriptonn/anaconda3/envs/aidj/lib/python3.8/site-packages/librosa/core/audio.py:162: UserWarning: PySoundFile failed. Trying audioread instead.\n",
      "  warnings.warn(\"PySoundFile failed. Trying audioread instead.\")\n"
     ]
    },
    {
     "name": "stdout",
     "output_type": "stream",
     "text": [
      "(65, 13)\n",
      "(65, 13)\n",
      "(65, 13)\n",
      "(65, 13)\n",
      "(65, 13)\n",
      "(65, 13)\n",
      "(65, 13)\n",
      "(65, 13)\n",
      "(65, 13)\n",
      "(65, 13)\n"
     ]
    },
    {
     "name": "stderr",
     "output_type": "stream",
     "text": [
      "/home/akriptonn/anaconda3/envs/aidj/lib/python3.8/site-packages/librosa/core/audio.py:162: UserWarning: PySoundFile failed. Trying audioread instead.\n",
      "  warnings.warn(\"PySoundFile failed. Trying audioread instead.\")\n"
     ]
    },
    {
     "name": "stdout",
     "output_type": "stream",
     "text": [
      "(65, 13)\n",
      "(65, 13)\n",
      "(65, 13)\n",
      "(65, 13)\n",
      "(65, 13)\n",
      "(65, 13)\n",
      "(65, 13)\n",
      "(65, 13)\n",
      "(65, 13)\n",
      "(65, 13)\n"
     ]
    },
    {
     "name": "stderr",
     "output_type": "stream",
     "text": [
      "/home/akriptonn/anaconda3/envs/aidj/lib/python3.8/site-packages/librosa/core/audio.py:162: UserWarning: PySoundFile failed. Trying audioread instead.\n",
      "  warnings.warn(\"PySoundFile failed. Trying audioread instead.\")\n"
     ]
    },
    {
     "name": "stdout",
     "output_type": "stream",
     "text": [
      "(65, 13)\n",
      "(65, 13)\n",
      "(65, 13)\n",
      "(65, 13)\n",
      "(65, 13)\n",
      "(65, 13)\n",
      "(65, 13)\n",
      "(65, 13)\n",
      "(65, 13)\n",
      "(65, 13)\n"
     ]
    },
    {
     "name": "stderr",
     "output_type": "stream",
     "text": [
      "/home/akriptonn/anaconda3/envs/aidj/lib/python3.8/site-packages/librosa/core/audio.py:162: UserWarning: PySoundFile failed. Trying audioread instead.\n",
      "  warnings.warn(\"PySoundFile failed. Trying audioread instead.\")\n"
     ]
    },
    {
     "name": "stdout",
     "output_type": "stream",
     "text": [
      "(65, 13)\n",
      "(65, 13)\n",
      "(65, 13)\n",
      "(65, 13)\n",
      "(65, 13)\n",
      "(65, 13)\n",
      "(65, 13)\n",
      "(65, 13)\n",
      "(65, 13)\n",
      "(65, 13)\n"
     ]
    },
    {
     "name": "stderr",
     "output_type": "stream",
     "text": [
      "/home/akriptonn/anaconda3/envs/aidj/lib/python3.8/site-packages/librosa/core/audio.py:162: UserWarning: PySoundFile failed. Trying audioread instead.\n",
      "  warnings.warn(\"PySoundFile failed. Trying audioread instead.\")\n"
     ]
    },
    {
     "name": "stdout",
     "output_type": "stream",
     "text": [
      "(65, 13)\n",
      "(65, 13)\n",
      "(65, 13)\n",
      "(65, 13)\n",
      "(65, 13)\n",
      "(65, 13)\n",
      "(65, 13)\n",
      "(65, 13)\n",
      "(65, 13)\n",
      "(65, 13)\n"
     ]
    },
    {
     "name": "stderr",
     "output_type": "stream",
     "text": [
      "/home/akriptonn/anaconda3/envs/aidj/lib/python3.8/site-packages/librosa/core/audio.py:162: UserWarning: PySoundFile failed. Trying audioread instead.\n",
      "  warnings.warn(\"PySoundFile failed. Trying audioread instead.\")\n"
     ]
    },
    {
     "name": "stdout",
     "output_type": "stream",
     "text": [
      "(65, 13)\n",
      "(65, 13)\n",
      "(65, 13)\n",
      "(65, 13)\n",
      "(65, 13)\n",
      "(65, 13)\n",
      "(65, 13)\n",
      "(65, 13)\n",
      "(65, 13)\n",
      "(65, 13)\n"
     ]
    },
    {
     "name": "stderr",
     "output_type": "stream",
     "text": [
      "/home/akriptonn/anaconda3/envs/aidj/lib/python3.8/site-packages/librosa/core/audio.py:162: UserWarning: PySoundFile failed. Trying audioread instead.\n",
      "  warnings.warn(\"PySoundFile failed. Trying audioread instead.\")\n"
     ]
    },
    {
     "name": "stdout",
     "output_type": "stream",
     "text": [
      "(65, 13)\n",
      "(65, 13)\n",
      "(65, 13)\n",
      "(65, 13)\n",
      "(65, 13)\n",
      "(65, 13)\n",
      "(65, 13)\n",
      "(65, 13)\n",
      "(65, 13)\n",
      "(65, 13)\n"
     ]
    },
    {
     "name": "stderr",
     "output_type": "stream",
     "text": [
      "/home/akriptonn/anaconda3/envs/aidj/lib/python3.8/site-packages/librosa/core/audio.py:162: UserWarning: PySoundFile failed. Trying audioread instead.\n",
      "  warnings.warn(\"PySoundFile failed. Trying audioread instead.\")\n"
     ]
    },
    {
     "name": "stdout",
     "output_type": "stream",
     "text": [
      "(65, 13)\n",
      "(65, 13)\n",
      "(65, 13)\n",
      "(65, 13)\n",
      "(65, 13)\n",
      "(65, 13)\n",
      "(65, 13)\n",
      "(65, 13)\n",
      "(65, 13)\n",
      "(65, 13)\n"
     ]
    },
    {
     "name": "stderr",
     "output_type": "stream",
     "text": [
      "/home/akriptonn/anaconda3/envs/aidj/lib/python3.8/site-packages/librosa/core/audio.py:162: UserWarning: PySoundFile failed. Trying audioread instead.\n",
      "  warnings.warn(\"PySoundFile failed. Trying audioread instead.\")\n"
     ]
    },
    {
     "name": "stdout",
     "output_type": "stream",
     "text": [
      "(65, 13)\n",
      "(65, 13)\n",
      "(65, 13)\n",
      "(65, 13)\n",
      "(65, 13)\n",
      "(65, 13)\n",
      "(65, 13)\n",
      "(65, 13)\n",
      "(65, 13)\n",
      "(65, 13)\n"
     ]
    },
    {
     "name": "stderr",
     "output_type": "stream",
     "text": [
      "/home/akriptonn/anaconda3/envs/aidj/lib/python3.8/site-packages/librosa/core/audio.py:162: UserWarning: PySoundFile failed. Trying audioread instead.\n",
      "  warnings.warn(\"PySoundFile failed. Trying audioread instead.\")\n"
     ]
    },
    {
     "name": "stdout",
     "output_type": "stream",
     "text": [
      "(65, 13)\n",
      "(65, 13)\n",
      "(65, 13)\n",
      "(65, 13)\n",
      "(65, 13)\n",
      "(65, 13)\n",
      "(65, 13)\n",
      "(65, 13)\n",
      "(65, 13)\n",
      "(65, 13)\n"
     ]
    },
    {
     "name": "stderr",
     "output_type": "stream",
     "text": [
      "/home/akriptonn/anaconda3/envs/aidj/lib/python3.8/site-packages/librosa/core/audio.py:162: UserWarning: PySoundFile failed. Trying audioread instead.\n",
      "  warnings.warn(\"PySoundFile failed. Trying audioread instead.\")\n"
     ]
    },
    {
     "name": "stdout",
     "output_type": "stream",
     "text": [
      "(65, 13)\n",
      "(65, 13)\n",
      "(65, 13)\n",
      "(65, 13)\n",
      "(65, 13)\n",
      "(65, 13)\n",
      "(65, 13)\n",
      "(65, 13)\n",
      "(65, 13)\n",
      "(65, 13)\n"
     ]
    },
    {
     "name": "stderr",
     "output_type": "stream",
     "text": [
      "/home/akriptonn/anaconda3/envs/aidj/lib/python3.8/site-packages/librosa/core/audio.py:162: UserWarning: PySoundFile failed. Trying audioread instead.\n",
      "  warnings.warn(\"PySoundFile failed. Trying audioread instead.\")\n"
     ]
    },
    {
     "name": "stdout",
     "output_type": "stream",
     "text": [
      "(65, 13)\n",
      "(65, 13)\n",
      "(65, 13)\n",
      "(65, 13)\n",
      "(65, 13)\n",
      "(65, 13)\n",
      "(65, 13)\n",
      "(65, 13)\n",
      "(65, 13)\n",
      "(65, 13)\n"
     ]
    },
    {
     "name": "stderr",
     "output_type": "stream",
     "text": [
      "/home/akriptonn/anaconda3/envs/aidj/lib/python3.8/site-packages/librosa/core/audio.py:162: UserWarning: PySoundFile failed. Trying audioread instead.\n",
      "  warnings.warn(\"PySoundFile failed. Trying audioread instead.\")\n"
     ]
    },
    {
     "name": "stdout",
     "output_type": "stream",
     "text": [
      "(65, 13)\n",
      "(65, 13)\n",
      "(65, 13)\n",
      "(65, 13)\n",
      "(65, 13)\n",
      "(65, 13)\n",
      "(65, 13)\n",
      "(65, 13)\n",
      "(65, 13)\n",
      "(65, 13)\n"
     ]
    },
    {
     "name": "stderr",
     "output_type": "stream",
     "text": [
      "/home/akriptonn/anaconda3/envs/aidj/lib/python3.8/site-packages/librosa/core/audio.py:162: UserWarning: PySoundFile failed. Trying audioread instead.\n",
      "  warnings.warn(\"PySoundFile failed. Trying audioread instead.\")\n"
     ]
    },
    {
     "name": "stdout",
     "output_type": "stream",
     "text": [
      "(65, 13)\n",
      "(65, 13)\n",
      "(65, 13)\n",
      "(65, 13)\n",
      "(65, 13)\n",
      "(65, 13)\n",
      "(65, 13)\n",
      "(65, 13)\n",
      "(65, 13)\n",
      "(65, 13)\n"
     ]
    },
    {
     "name": "stderr",
     "output_type": "stream",
     "text": [
      "/home/akriptonn/anaconda3/envs/aidj/lib/python3.8/site-packages/librosa/core/audio.py:162: UserWarning: PySoundFile failed. Trying audioread instead.\n",
      "  warnings.warn(\"PySoundFile failed. Trying audioread instead.\")\n"
     ]
    },
    {
     "name": "stdout",
     "output_type": "stream",
     "text": [
      "(65, 13)\n",
      "(65, 13)\n",
      "(65, 13)\n",
      "(65, 13)\n",
      "(65, 13)\n",
      "(65, 13)\n",
      "(65, 13)\n",
      "(65, 13)\n",
      "(65, 13)\n",
      "(65, 13)\n"
     ]
    },
    {
     "name": "stderr",
     "output_type": "stream",
     "text": [
      "/home/akriptonn/anaconda3/envs/aidj/lib/python3.8/site-packages/librosa/core/audio.py:162: UserWarning: PySoundFile failed. Trying audioread instead.\n",
      "  warnings.warn(\"PySoundFile failed. Trying audioread instead.\")\n"
     ]
    },
    {
     "name": "stdout",
     "output_type": "stream",
     "text": [
      "(65, 13)\n",
      "(65, 13)\n",
      "(65, 13)\n",
      "(65, 13)\n",
      "(65, 13)\n",
      "(65, 13)\n",
      "(65, 13)\n",
      "(65, 13)\n",
      "(65, 13)\n",
      "(65, 13)\n"
     ]
    },
    {
     "name": "stderr",
     "output_type": "stream",
     "text": [
      "/home/akriptonn/anaconda3/envs/aidj/lib/python3.8/site-packages/librosa/core/audio.py:162: UserWarning: PySoundFile failed. Trying audioread instead.\n",
      "  warnings.warn(\"PySoundFile failed. Trying audioread instead.\")\n"
     ]
    },
    {
     "name": "stdout",
     "output_type": "stream",
     "text": [
      "(65, 13)\n",
      "(65, 13)\n",
      "(65, 13)\n",
      "(65, 13)\n",
      "(65, 13)\n",
      "(65, 13)\n",
      "(65, 13)\n",
      "(65, 13)\n",
      "(65, 13)\n",
      "(65, 13)\n"
     ]
    },
    {
     "name": "stderr",
     "output_type": "stream",
     "text": [
      "/home/akriptonn/anaconda3/envs/aidj/lib/python3.8/site-packages/librosa/core/audio.py:162: UserWarning: PySoundFile failed. Trying audioread instead.\n",
      "  warnings.warn(\"PySoundFile failed. Trying audioread instead.\")\n"
     ]
    },
    {
     "name": "stdout",
     "output_type": "stream",
     "text": [
      "(65, 13)\n",
      "(65, 13)\n",
      "(65, 13)\n",
      "(65, 13)\n",
      "(65, 13)\n",
      "(65, 13)\n",
      "(65, 13)\n",
      "(65, 13)\n",
      "(65, 13)\n",
      "(65, 13)\n"
     ]
    },
    {
     "name": "stderr",
     "output_type": "stream",
     "text": [
      "/home/akriptonn/anaconda3/envs/aidj/lib/python3.8/site-packages/librosa/core/audio.py:162: UserWarning: PySoundFile failed. Trying audioread instead.\n",
      "  warnings.warn(\"PySoundFile failed. Trying audioread instead.\")\n"
     ]
    },
    {
     "name": "stdout",
     "output_type": "stream",
     "text": [
      "(65, 13)\n",
      "(65, 13)\n",
      "(65, 13)\n",
      "(65, 13)\n",
      "(65, 13)\n",
      "(65, 13)\n",
      "(65, 13)\n",
      "(65, 13)\n",
      "(65, 13)\n",
      "(65, 13)\n"
     ]
    },
    {
     "name": "stderr",
     "output_type": "stream",
     "text": [
      "/home/akriptonn/anaconda3/envs/aidj/lib/python3.8/site-packages/librosa/core/audio.py:162: UserWarning: PySoundFile failed. Trying audioread instead.\n",
      "  warnings.warn(\"PySoundFile failed. Trying audioread instead.\")\n"
     ]
    },
    {
     "name": "stdout",
     "output_type": "stream",
     "text": [
      "(65, 13)\n",
      "(65, 13)\n",
      "(65, 13)\n",
      "(65, 13)\n",
      "(65, 13)\n",
      "(65, 13)\n",
      "(65, 13)\n",
      "(65, 13)\n",
      "(65, 13)\n",
      "(65, 13)\n"
     ]
    },
    {
     "name": "stderr",
     "output_type": "stream",
     "text": [
      "/home/akriptonn/anaconda3/envs/aidj/lib/python3.8/site-packages/librosa/core/audio.py:162: UserWarning: PySoundFile failed. Trying audioread instead.\n",
      "  warnings.warn(\"PySoundFile failed. Trying audioread instead.\")\n"
     ]
    },
    {
     "name": "stdout",
     "output_type": "stream",
     "text": [
      "(65, 13)\n",
      "(65, 13)\n",
      "(65, 13)\n",
      "(65, 13)\n",
      "(65, 13)\n",
      "(65, 13)\n",
      "(65, 13)\n",
      "(65, 13)\n",
      "(65, 13)\n",
      "(65, 13)\n"
     ]
    },
    {
     "name": "stderr",
     "output_type": "stream",
     "text": [
      "/home/akriptonn/anaconda3/envs/aidj/lib/python3.8/site-packages/librosa/core/audio.py:162: UserWarning: PySoundFile failed. Trying audioread instead.\n",
      "  warnings.warn(\"PySoundFile failed. Trying audioread instead.\")\n"
     ]
    },
    {
     "name": "stdout",
     "output_type": "stream",
     "text": [
      "(65, 13)\n",
      "(65, 13)\n",
      "(65, 13)\n",
      "(65, 13)\n",
      "(65, 13)\n",
      "(65, 13)\n",
      "(65, 13)\n",
      "(65, 13)\n",
      "(65, 13)\n",
      "(65, 13)\n"
     ]
    },
    {
     "name": "stderr",
     "output_type": "stream",
     "text": [
      "/home/akriptonn/anaconda3/envs/aidj/lib/python3.8/site-packages/librosa/core/audio.py:162: UserWarning: PySoundFile failed. Trying audioread instead.\n",
      "  warnings.warn(\"PySoundFile failed. Trying audioread instead.\")\n"
     ]
    },
    {
     "name": "stdout",
     "output_type": "stream",
     "text": [
      "(65, 13)\n",
      "(65, 13)\n",
      "(65, 13)\n",
      "(65, 13)\n",
      "(65, 13)\n",
      "(65, 13)\n",
      "(65, 13)\n",
      "(65, 13)\n",
      "(65, 13)\n",
      "(65, 13)\n"
     ]
    },
    {
     "name": "stderr",
     "output_type": "stream",
     "text": [
      "/home/akriptonn/anaconda3/envs/aidj/lib/python3.8/site-packages/librosa/core/audio.py:162: UserWarning: PySoundFile failed. Trying audioread instead.\n",
      "  warnings.warn(\"PySoundFile failed. Trying audioread instead.\")\n"
     ]
    },
    {
     "name": "stdout",
     "output_type": "stream",
     "text": [
      "(65, 13)\n",
      "(65, 13)\n",
      "(65, 13)\n",
      "(65, 13)\n",
      "(65, 13)\n",
      "(65, 13)\n",
      "(65, 13)\n",
      "(65, 13)\n",
      "(65, 13)\n",
      "(65, 13)\n"
     ]
    },
    {
     "name": "stderr",
     "output_type": "stream",
     "text": [
      "/home/akriptonn/anaconda3/envs/aidj/lib/python3.8/site-packages/librosa/core/audio.py:162: UserWarning: PySoundFile failed. Trying audioread instead.\n",
      "  warnings.warn(\"PySoundFile failed. Trying audioread instead.\")\n"
     ]
    },
    {
     "name": "stdout",
     "output_type": "stream",
     "text": [
      "(65, 13)\n",
      "(65, 13)\n",
      "(65, 13)\n",
      "(65, 13)\n",
      "(65, 13)\n",
      "(65, 13)\n",
      "(65, 13)\n",
      "(65, 13)\n",
      "(65, 13)\n",
      "(65, 13)\n"
     ]
    },
    {
     "name": "stderr",
     "output_type": "stream",
     "text": [
      "/home/akriptonn/anaconda3/envs/aidj/lib/python3.8/site-packages/librosa/core/audio.py:162: UserWarning: PySoundFile failed. Trying audioread instead.\n",
      "  warnings.warn(\"PySoundFile failed. Trying audioread instead.\")\n"
     ]
    },
    {
     "name": "stdout",
     "output_type": "stream",
     "text": [
      "(65, 13)\n",
      "(65, 13)\n",
      "(65, 13)\n",
      "(65, 13)\n",
      "(65, 13)\n",
      "(65, 13)\n",
      "(65, 13)\n",
      "(65, 13)\n",
      "(65, 13)\n",
      "(65, 13)\n"
     ]
    },
    {
     "name": "stderr",
     "output_type": "stream",
     "text": [
      "/home/akriptonn/anaconda3/envs/aidj/lib/python3.8/site-packages/librosa/core/audio.py:162: UserWarning: PySoundFile failed. Trying audioread instead.\n",
      "  warnings.warn(\"PySoundFile failed. Trying audioread instead.\")\n"
     ]
    },
    {
     "name": "stdout",
     "output_type": "stream",
     "text": [
      "(65, 13)\n",
      "(65, 13)\n",
      "(65, 13)\n",
      "(65, 13)\n",
      "(65, 13)\n",
      "(65, 13)\n",
      "(65, 13)\n",
      "(65, 13)\n",
      "(65, 13)\n",
      "(65, 13)\n"
     ]
    },
    {
     "name": "stderr",
     "output_type": "stream",
     "text": [
      "/home/akriptonn/anaconda3/envs/aidj/lib/python3.8/site-packages/librosa/core/audio.py:162: UserWarning: PySoundFile failed. Trying audioread instead.\n",
      "  warnings.warn(\"PySoundFile failed. Trying audioread instead.\")\n"
     ]
    },
    {
     "name": "stdout",
     "output_type": "stream",
     "text": [
      "(65, 13)\n",
      "(65, 13)\n",
      "(65, 13)\n",
      "(65, 13)\n",
      "(65, 13)\n",
      "(65, 13)\n",
      "(65, 13)\n",
      "(65, 13)\n",
      "(65, 13)\n",
      "(65, 13)\n"
     ]
    },
    {
     "name": "stderr",
     "output_type": "stream",
     "text": [
      "/home/akriptonn/anaconda3/envs/aidj/lib/python3.8/site-packages/librosa/core/audio.py:162: UserWarning: PySoundFile failed. Trying audioread instead.\n",
      "  warnings.warn(\"PySoundFile failed. Trying audioread instead.\")\n"
     ]
    },
    {
     "name": "stdout",
     "output_type": "stream",
     "text": [
      "(65, 13)\n",
      "(65, 13)\n",
      "(65, 13)\n",
      "(65, 13)\n",
      "(65, 13)\n",
      "(65, 13)\n",
      "(65, 13)\n",
      "(65, 13)\n",
      "(65, 13)\n",
      "(65, 13)\n"
     ]
    },
    {
     "name": "stderr",
     "output_type": "stream",
     "text": [
      "/home/akriptonn/anaconda3/envs/aidj/lib/python3.8/site-packages/librosa/core/audio.py:162: UserWarning: PySoundFile failed. Trying audioread instead.\n",
      "  warnings.warn(\"PySoundFile failed. Trying audioread instead.\")\n"
     ]
    },
    {
     "name": "stdout",
     "output_type": "stream",
     "text": [
      "(65, 13)\n",
      "(65, 13)\n",
      "(65, 13)\n",
      "(65, 13)\n",
      "(65, 13)\n",
      "(65, 13)\n",
      "(65, 13)\n",
      "(65, 13)\n",
      "(65, 13)\n",
      "(65, 13)\n"
     ]
    },
    {
     "name": "stderr",
     "output_type": "stream",
     "text": [
      "/home/akriptonn/anaconda3/envs/aidj/lib/python3.8/site-packages/librosa/core/audio.py:162: UserWarning: PySoundFile failed. Trying audioread instead.\n",
      "  warnings.warn(\"PySoundFile failed. Trying audioread instead.\")\n"
     ]
    },
    {
     "name": "stdout",
     "output_type": "stream",
     "text": [
      "(65, 13)\n",
      "(65, 13)\n",
      "(65, 13)\n",
      "(65, 13)\n",
      "(65, 13)\n",
      "(65, 13)\n",
      "(65, 13)\n",
      "(65, 13)\n",
      "(65, 13)\n",
      "(65, 13)\n"
     ]
    },
    {
     "name": "stderr",
     "output_type": "stream",
     "text": [
      "/home/akriptonn/anaconda3/envs/aidj/lib/python3.8/site-packages/librosa/core/audio.py:162: UserWarning: PySoundFile failed. Trying audioread instead.\n",
      "  warnings.warn(\"PySoundFile failed. Trying audioread instead.\")\n"
     ]
    },
    {
     "name": "stdout",
     "output_type": "stream",
     "text": [
      "(65, 13)\n",
      "(65, 13)\n",
      "(65, 13)\n",
      "(65, 13)\n",
      "(65, 13)\n",
      "(65, 13)\n",
      "(65, 13)\n",
      "(65, 13)\n",
      "(65, 13)\n",
      "(65, 13)\n"
     ]
    },
    {
     "name": "stderr",
     "output_type": "stream",
     "text": [
      "/home/akriptonn/anaconda3/envs/aidj/lib/python3.8/site-packages/librosa/core/audio.py:162: UserWarning: PySoundFile failed. Trying audioread instead.\n",
      "  warnings.warn(\"PySoundFile failed. Trying audioread instead.\")\n"
     ]
    },
    {
     "name": "stdout",
     "output_type": "stream",
     "text": [
      "(65, 13)\n",
      "(65, 13)\n",
      "(65, 13)\n",
      "(65, 13)\n",
      "(65, 13)\n",
      "(65, 13)\n",
      "(65, 13)\n",
      "(65, 13)\n",
      "(65, 13)\n",
      "(65, 13)\n"
     ]
    },
    {
     "name": "stderr",
     "output_type": "stream",
     "text": [
      "/home/akriptonn/anaconda3/envs/aidj/lib/python3.8/site-packages/librosa/core/audio.py:162: UserWarning: PySoundFile failed. Trying audioread instead.\n",
      "  warnings.warn(\"PySoundFile failed. Trying audioread instead.\")\n"
     ]
    },
    {
     "name": "stdout",
     "output_type": "stream",
     "text": [
      "(65, 13)\n",
      "(65, 13)\n",
      "(65, 13)\n",
      "(65, 13)\n",
      "(65, 13)\n",
      "(65, 13)\n",
      "(65, 13)\n",
      "(65, 13)\n",
      "(65, 13)\n",
      "(65, 13)\n"
     ]
    },
    {
     "name": "stderr",
     "output_type": "stream",
     "text": [
      "/home/akriptonn/anaconda3/envs/aidj/lib/python3.8/site-packages/librosa/core/audio.py:162: UserWarning: PySoundFile failed. Trying audioread instead.\n",
      "  warnings.warn(\"PySoundFile failed. Trying audioread instead.\")\n"
     ]
    },
    {
     "name": "stdout",
     "output_type": "stream",
     "text": [
      "(65, 13)\n",
      "(65, 13)\n",
      "(65, 13)\n",
      "(65, 13)\n",
      "(65, 13)\n",
      "(65, 13)\n",
      "(65, 13)\n",
      "(65, 13)\n",
      "(65, 13)\n",
      "(65, 13)\n"
     ]
    },
    {
     "name": "stderr",
     "output_type": "stream",
     "text": [
      "/home/akriptonn/anaconda3/envs/aidj/lib/python3.8/site-packages/librosa/core/audio.py:162: UserWarning: PySoundFile failed. Trying audioread instead.\n",
      "  warnings.warn(\"PySoundFile failed. Trying audioread instead.\")\n"
     ]
    },
    {
     "name": "stdout",
     "output_type": "stream",
     "text": [
      "(65, 13)\n",
      "(65, 13)\n",
      "(65, 13)\n",
      "(65, 13)\n",
      "(65, 13)\n",
      "(65, 13)\n",
      "(65, 13)\n",
      "(65, 13)\n",
      "(65, 13)\n",
      "(65, 13)\n"
     ]
    },
    {
     "name": "stderr",
     "output_type": "stream",
     "text": [
      "/home/akriptonn/anaconda3/envs/aidj/lib/python3.8/site-packages/librosa/core/audio.py:162: UserWarning: PySoundFile failed. Trying audioread instead.\n",
      "  warnings.warn(\"PySoundFile failed. Trying audioread instead.\")\n"
     ]
    },
    {
     "name": "stdout",
     "output_type": "stream",
     "text": [
      "(65, 13)\n",
      "(65, 13)\n",
      "(65, 13)\n",
      "(65, 13)\n",
      "(65, 13)\n",
      "(65, 13)\n",
      "(65, 13)\n",
      "(65, 13)\n",
      "(65, 13)\n",
      "(65, 13)\n"
     ]
    },
    {
     "name": "stderr",
     "output_type": "stream",
     "text": [
      "/home/akriptonn/anaconda3/envs/aidj/lib/python3.8/site-packages/librosa/core/audio.py:162: UserWarning: PySoundFile failed. Trying audioread instead.\n",
      "  warnings.warn(\"PySoundFile failed. Trying audioread instead.\")\n"
     ]
    },
    {
     "name": "stdout",
     "output_type": "stream",
     "text": [
      "(65, 13)\n",
      "(65, 13)\n",
      "(65, 13)\n",
      "(65, 13)\n",
      "(65, 13)\n",
      "(65, 13)\n",
      "(65, 13)\n",
      "(65, 13)\n",
      "(65, 13)\n",
      "(65, 13)\n"
     ]
    },
    {
     "name": "stderr",
     "output_type": "stream",
     "text": [
      "/home/akriptonn/anaconda3/envs/aidj/lib/python3.8/site-packages/librosa/core/audio.py:162: UserWarning: PySoundFile failed. Trying audioread instead.\n",
      "  warnings.warn(\"PySoundFile failed. Trying audioread instead.\")\n"
     ]
    },
    {
     "name": "stdout",
     "output_type": "stream",
     "text": [
      "(65, 13)\n",
      "(65, 13)\n",
      "(65, 13)\n",
      "(65, 13)\n",
      "(65, 13)\n",
      "(65, 13)\n",
      "(65, 13)\n",
      "(65, 13)\n",
      "(65, 13)\n",
      "(65, 13)\n"
     ]
    },
    {
     "name": "stderr",
     "output_type": "stream",
     "text": [
      "/home/akriptonn/anaconda3/envs/aidj/lib/python3.8/site-packages/librosa/core/audio.py:162: UserWarning: PySoundFile failed. Trying audioread instead.\n",
      "  warnings.warn(\"PySoundFile failed. Trying audioread instead.\")\n"
     ]
    },
    {
     "name": "stdout",
     "output_type": "stream",
     "text": [
      "(65, 13)\n",
      "(65, 13)\n",
      "(65, 13)\n",
      "(65, 13)\n",
      "(65, 13)\n",
      "(65, 13)\n",
      "(65, 13)\n",
      "(65, 13)\n",
      "(65, 13)\n",
      "(65, 13)\n"
     ]
    },
    {
     "name": "stderr",
     "output_type": "stream",
     "text": [
      "/home/akriptonn/anaconda3/envs/aidj/lib/python3.8/site-packages/librosa/core/audio.py:162: UserWarning: PySoundFile failed. Trying audioread instead.\n",
      "  warnings.warn(\"PySoundFile failed. Trying audioread instead.\")\n"
     ]
    },
    {
     "name": "stdout",
     "output_type": "stream",
     "text": [
      "(65, 13)\n",
      "(65, 13)\n",
      "(65, 13)\n",
      "(65, 13)\n",
      "(65, 13)\n",
      "(65, 13)\n",
      "(65, 13)\n",
      "(65, 13)\n",
      "(65, 13)\n",
      "(65, 13)\n"
     ]
    },
    {
     "name": "stderr",
     "output_type": "stream",
     "text": [
      "/home/akriptonn/anaconda3/envs/aidj/lib/python3.8/site-packages/librosa/core/audio.py:162: UserWarning: PySoundFile failed. Trying audioread instead.\n",
      "  warnings.warn(\"PySoundFile failed. Trying audioread instead.\")\n"
     ]
    },
    {
     "name": "stdout",
     "output_type": "stream",
     "text": [
      "(65, 13)\n",
      "(65, 13)\n",
      "(65, 13)\n",
      "(65, 13)\n",
      "(65, 13)\n",
      "(65, 13)\n",
      "(65, 13)\n",
      "(65, 13)\n",
      "(65, 13)\n",
      "(65, 13)\n"
     ]
    },
    {
     "name": "stderr",
     "output_type": "stream",
     "text": [
      "/home/akriptonn/anaconda3/envs/aidj/lib/python3.8/site-packages/librosa/core/audio.py:162: UserWarning: PySoundFile failed. Trying audioread instead.\n",
      "  warnings.warn(\"PySoundFile failed. Trying audioread instead.\")\n"
     ]
    },
    {
     "name": "stdout",
     "output_type": "stream",
     "text": [
      "(65, 13)\n",
      "(65, 13)\n",
      "(65, 13)\n",
      "(65, 13)\n",
      "(65, 13)\n",
      "(65, 13)\n",
      "(65, 13)\n",
      "(65, 13)\n",
      "(65, 13)\n",
      "(65, 13)\n"
     ]
    },
    {
     "name": "stderr",
     "output_type": "stream",
     "text": [
      "/home/akriptonn/anaconda3/envs/aidj/lib/python3.8/site-packages/librosa/core/audio.py:162: UserWarning: PySoundFile failed. Trying audioread instead.\n",
      "  warnings.warn(\"PySoundFile failed. Trying audioread instead.\")\n"
     ]
    },
    {
     "name": "stdout",
     "output_type": "stream",
     "text": [
      "(65, 13)\n",
      "(65, 13)\n",
      "(65, 13)\n",
      "(65, 13)\n",
      "(65, 13)\n",
      "(65, 13)\n",
      "(65, 13)\n",
      "(65, 13)\n",
      "(65, 13)\n",
      "(65, 13)\n"
     ]
    },
    {
     "name": "stderr",
     "output_type": "stream",
     "text": [
      "/home/akriptonn/anaconda3/envs/aidj/lib/python3.8/site-packages/librosa/core/audio.py:162: UserWarning: PySoundFile failed. Trying audioread instead.\n",
      "  warnings.warn(\"PySoundFile failed. Trying audioread instead.\")\n"
     ]
    },
    {
     "name": "stdout",
     "output_type": "stream",
     "text": [
      "(65, 13)\n",
      "(65, 13)\n",
      "(65, 13)\n",
      "(65, 13)\n",
      "(65, 13)\n",
      "(65, 13)\n",
      "(65, 13)\n",
      "(65, 13)\n",
      "(65, 13)\n",
      "(65, 13)\n"
     ]
    },
    {
     "name": "stderr",
     "output_type": "stream",
     "text": [
      "/home/akriptonn/anaconda3/envs/aidj/lib/python3.8/site-packages/librosa/core/audio.py:162: UserWarning: PySoundFile failed. Trying audioread instead.\n",
      "  warnings.warn(\"PySoundFile failed. Trying audioread instead.\")\n"
     ]
    },
    {
     "name": "stdout",
     "output_type": "stream",
     "text": [
      "(65, 13)\n",
      "(65, 13)\n",
      "(65, 13)\n",
      "(65, 13)\n",
      "(65, 13)\n",
      "(65, 13)\n",
      "(65, 13)\n",
      "(65, 13)\n",
      "(65, 13)\n",
      "(65, 13)\n"
     ]
    },
    {
     "name": "stderr",
     "output_type": "stream",
     "text": [
      "/home/akriptonn/anaconda3/envs/aidj/lib/python3.8/site-packages/librosa/core/audio.py:162: UserWarning: PySoundFile failed. Trying audioread instead.\n",
      "  warnings.warn(\"PySoundFile failed. Trying audioread instead.\")\n"
     ]
    },
    {
     "name": "stdout",
     "output_type": "stream",
     "text": [
      "(65, 13)\n",
      "(65, 13)\n",
      "(65, 13)\n",
      "(65, 13)\n",
      "(65, 13)\n",
      "(65, 13)\n",
      "(65, 13)\n",
      "(65, 13)\n",
      "(65, 13)\n",
      "(65, 13)\n"
     ]
    },
    {
     "name": "stderr",
     "output_type": "stream",
     "text": [
      "/home/akriptonn/anaconda3/envs/aidj/lib/python3.8/site-packages/librosa/core/audio.py:162: UserWarning: PySoundFile failed. Trying audioread instead.\n",
      "  warnings.warn(\"PySoundFile failed. Trying audioread instead.\")\n"
     ]
    },
    {
     "name": "stdout",
     "output_type": "stream",
     "text": [
      "(65, 13)\n",
      "(65, 13)\n",
      "(65, 13)\n",
      "(65, 13)\n",
      "(65, 13)\n",
      "(65, 13)\n",
      "(65, 13)\n",
      "(65, 13)\n",
      "(65, 13)\n",
      "(65, 13)\n"
     ]
    },
    {
     "name": "stderr",
     "output_type": "stream",
     "text": [
      "/home/akriptonn/anaconda3/envs/aidj/lib/python3.8/site-packages/librosa/core/audio.py:162: UserWarning: PySoundFile failed. Trying audioread instead.\n",
      "  warnings.warn(\"PySoundFile failed. Trying audioread instead.\")\n"
     ]
    },
    {
     "name": "stdout",
     "output_type": "stream",
     "text": [
      "(65, 13)\n",
      "(65, 13)\n",
      "(65, 13)\n",
      "(65, 13)\n",
      "(65, 13)\n",
      "(65, 13)\n",
      "(65, 13)\n",
      "(65, 13)\n",
      "(65, 13)\n",
      "(65, 13)\n"
     ]
    },
    {
     "name": "stderr",
     "output_type": "stream",
     "text": [
      "/home/akriptonn/anaconda3/envs/aidj/lib/python3.8/site-packages/librosa/core/audio.py:162: UserWarning: PySoundFile failed. Trying audioread instead.\n",
      "  warnings.warn(\"PySoundFile failed. Trying audioread instead.\")\n"
     ]
    },
    {
     "name": "stdout",
     "output_type": "stream",
     "text": [
      "(65, 13)\n",
      "(65, 13)\n",
      "(65, 13)\n",
      "(65, 13)\n",
      "(65, 13)\n",
      "(65, 13)\n",
      "(65, 13)\n",
      "(65, 13)\n",
      "(65, 13)\n",
      "(65, 13)\n"
     ]
    },
    {
     "name": "stderr",
     "output_type": "stream",
     "text": [
      "/home/akriptonn/anaconda3/envs/aidj/lib/python3.8/site-packages/librosa/core/audio.py:162: UserWarning: PySoundFile failed. Trying audioread instead.\n",
      "  warnings.warn(\"PySoundFile failed. Trying audioread instead.\")\n"
     ]
    },
    {
     "name": "stdout",
     "output_type": "stream",
     "text": [
      "(65, 13)\n",
      "(65, 13)\n",
      "(65, 13)\n",
      "(65, 13)\n",
      "(65, 13)\n",
      "(65, 13)\n",
      "(65, 13)\n",
      "(65, 13)\n",
      "(65, 13)\n",
      "(65, 13)\n"
     ]
    },
    {
     "name": "stderr",
     "output_type": "stream",
     "text": [
      "/home/akriptonn/anaconda3/envs/aidj/lib/python3.8/site-packages/librosa/core/audio.py:162: UserWarning: PySoundFile failed. Trying audioread instead.\n",
      "  warnings.warn(\"PySoundFile failed. Trying audioread instead.\")\n"
     ]
    },
    {
     "name": "stdout",
     "output_type": "stream",
     "text": [
      "(65, 13)\n",
      "(65, 13)\n",
      "(65, 13)\n",
      "(65, 13)\n",
      "(65, 13)\n",
      "(65, 13)\n",
      "(65, 13)\n",
      "(65, 13)\n",
      "(65, 13)\n",
      "(65, 13)\n"
     ]
    },
    {
     "name": "stderr",
     "output_type": "stream",
     "text": [
      "/home/akriptonn/anaconda3/envs/aidj/lib/python3.8/site-packages/librosa/core/audio.py:162: UserWarning: PySoundFile failed. Trying audioread instead.\n",
      "  warnings.warn(\"PySoundFile failed. Trying audioread instead.\")\n"
     ]
    },
    {
     "name": "stdout",
     "output_type": "stream",
     "text": [
      "(65, 13)\n",
      "(65, 13)\n",
      "(65, 13)\n",
      "(65, 13)\n",
      "(65, 13)\n",
      "(65, 13)\n",
      "(65, 13)\n",
      "(65, 13)\n",
      "(65, 13)\n",
      "(65, 13)\n"
     ]
    },
    {
     "name": "stderr",
     "output_type": "stream",
     "text": [
      "/home/akriptonn/anaconda3/envs/aidj/lib/python3.8/site-packages/librosa/core/audio.py:162: UserWarning: PySoundFile failed. Trying audioread instead.\n",
      "  warnings.warn(\"PySoundFile failed. Trying audioread instead.\")\n"
     ]
    },
    {
     "name": "stdout",
     "output_type": "stream",
     "text": [
      "(65, 13)\n",
      "(65, 13)\n",
      "(65, 13)\n",
      "(65, 13)\n",
      "(65, 13)\n",
      "(65, 13)\n",
      "(65, 13)\n",
      "(65, 13)\n",
      "(65, 13)\n",
      "(65, 13)\n"
     ]
    },
    {
     "name": "stderr",
     "output_type": "stream",
     "text": [
      "/home/akriptonn/anaconda3/envs/aidj/lib/python3.8/site-packages/librosa/core/audio.py:162: UserWarning: PySoundFile failed. Trying audioread instead.\n",
      "  warnings.warn(\"PySoundFile failed. Trying audioread instead.\")\n"
     ]
    },
    {
     "name": "stdout",
     "output_type": "stream",
     "text": [
      "(65, 13)\n",
      "(65, 13)\n",
      "(65, 13)\n",
      "(65, 13)\n",
      "(65, 13)\n",
      "(65, 13)\n",
      "(65, 13)\n",
      "(65, 13)\n",
      "(65, 13)\n",
      "(65, 13)\n"
     ]
    },
    {
     "name": "stderr",
     "output_type": "stream",
     "text": [
      "/home/akriptonn/anaconda3/envs/aidj/lib/python3.8/site-packages/librosa/core/audio.py:162: UserWarning: PySoundFile failed. Trying audioread instead.\n",
      "  warnings.warn(\"PySoundFile failed. Trying audioread instead.\")\n"
     ]
    },
    {
     "name": "stdout",
     "output_type": "stream",
     "text": [
      "(65, 13)\n",
      "(65, 13)\n",
      "(65, 13)\n",
      "(65, 13)\n",
      "(65, 13)\n",
      "(65, 13)\n",
      "(65, 13)\n",
      "(65, 13)\n",
      "(65, 13)\n",
      "(65, 13)\n"
     ]
    },
    {
     "name": "stderr",
     "output_type": "stream",
     "text": [
      "/home/akriptonn/anaconda3/envs/aidj/lib/python3.8/site-packages/librosa/core/audio.py:162: UserWarning: PySoundFile failed. Trying audioread instead.\n",
      "  warnings.warn(\"PySoundFile failed. Trying audioread instead.\")\n"
     ]
    },
    {
     "name": "stdout",
     "output_type": "stream",
     "text": [
      "(65, 13)\n",
      "(65, 13)\n",
      "(65, 13)\n",
      "(65, 13)\n",
      "(65, 13)\n",
      "(65, 13)\n",
      "(65, 13)\n",
      "(65, 13)\n",
      "(65, 13)\n",
      "(65, 13)\n"
     ]
    },
    {
     "name": "stderr",
     "output_type": "stream",
     "text": [
      "/home/akriptonn/anaconda3/envs/aidj/lib/python3.8/site-packages/librosa/core/audio.py:162: UserWarning: PySoundFile failed. Trying audioread instead.\n",
      "  warnings.warn(\"PySoundFile failed. Trying audioread instead.\")\n"
     ]
    },
    {
     "name": "stdout",
     "output_type": "stream",
     "text": [
      "(65, 13)\n",
      "(65, 13)\n",
      "(65, 13)\n",
      "(65, 13)\n",
      "(65, 13)\n",
      "(65, 13)\n",
      "(65, 13)\n",
      "(65, 13)\n",
      "(65, 13)\n",
      "(65, 13)\n"
     ]
    },
    {
     "name": "stderr",
     "output_type": "stream",
     "text": [
      "/home/akriptonn/anaconda3/envs/aidj/lib/python3.8/site-packages/librosa/core/audio.py:162: UserWarning: PySoundFile failed. Trying audioread instead.\n",
      "  warnings.warn(\"PySoundFile failed. Trying audioread instead.\")\n"
     ]
    },
    {
     "name": "stdout",
     "output_type": "stream",
     "text": [
      "(65, 13)\n",
      "(65, 13)\n",
      "(65, 13)\n",
      "(65, 13)\n",
      "(65, 13)\n",
      "(65, 13)\n",
      "(65, 13)\n",
      "(65, 13)\n",
      "(65, 13)\n",
      "(65, 13)\n"
     ]
    },
    {
     "name": "stderr",
     "output_type": "stream",
     "text": [
      "/home/akriptonn/anaconda3/envs/aidj/lib/python3.8/site-packages/librosa/core/audio.py:162: UserWarning: PySoundFile failed. Trying audioread instead.\n",
      "  warnings.warn(\"PySoundFile failed. Trying audioread instead.\")\n"
     ]
    },
    {
     "name": "stdout",
     "output_type": "stream",
     "text": [
      "(65, 13)\n",
      "(65, 13)\n",
      "(65, 13)\n",
      "(65, 13)\n",
      "(65, 13)\n",
      "(65, 13)\n",
      "(65, 13)\n",
      "(65, 13)\n",
      "(65, 13)\n",
      "(65, 13)\n"
     ]
    },
    {
     "name": "stderr",
     "output_type": "stream",
     "text": [
      "/home/akriptonn/anaconda3/envs/aidj/lib/python3.8/site-packages/librosa/core/audio.py:162: UserWarning: PySoundFile failed. Trying audioread instead.\n",
      "  warnings.warn(\"PySoundFile failed. Trying audioread instead.\")\n"
     ]
    },
    {
     "name": "stdout",
     "output_type": "stream",
     "text": [
      "(65, 13)\n",
      "(65, 13)\n",
      "(65, 13)\n",
      "(65, 13)\n",
      "(65, 13)\n",
      "(65, 13)\n",
      "(65, 13)\n",
      "(65, 13)\n",
      "(65, 13)\n",
      "(65, 13)\n"
     ]
    },
    {
     "name": "stderr",
     "output_type": "stream",
     "text": [
      "/home/akriptonn/anaconda3/envs/aidj/lib/python3.8/site-packages/librosa/core/audio.py:162: UserWarning: PySoundFile failed. Trying audioread instead.\n",
      "  warnings.warn(\"PySoundFile failed. Trying audioread instead.\")\n"
     ]
    },
    {
     "name": "stdout",
     "output_type": "stream",
     "text": [
      "(65, 13)\n",
      "(65, 13)\n",
      "(65, 13)\n",
      "(65, 13)\n",
      "(65, 13)\n",
      "(65, 13)\n",
      "(65, 13)\n",
      "(65, 13)\n",
      "(65, 13)\n",
      "(65, 13)\n"
     ]
    },
    {
     "name": "stderr",
     "output_type": "stream",
     "text": [
      "/home/akriptonn/anaconda3/envs/aidj/lib/python3.8/site-packages/librosa/core/audio.py:162: UserWarning: PySoundFile failed. Trying audioread instead.\n",
      "  warnings.warn(\"PySoundFile failed. Trying audioread instead.\")\n"
     ]
    },
    {
     "name": "stdout",
     "output_type": "stream",
     "text": [
      "(65, 13)\n",
      "(65, 13)\n",
      "(65, 13)\n",
      "(65, 13)\n",
      "(65, 13)\n",
      "(65, 13)\n",
      "(65, 13)\n",
      "(65, 13)\n",
      "(65, 13)\n",
      "(65, 13)\n"
     ]
    },
    {
     "name": "stderr",
     "output_type": "stream",
     "text": [
      "/home/akriptonn/anaconda3/envs/aidj/lib/python3.8/site-packages/librosa/core/audio.py:162: UserWarning: PySoundFile failed. Trying audioread instead.\n",
      "  warnings.warn(\"PySoundFile failed. Trying audioread instead.\")\n"
     ]
    },
    {
     "name": "stdout",
     "output_type": "stream",
     "text": [
      "(65, 13)\n",
      "(65, 13)\n",
      "(65, 13)\n",
      "(65, 13)\n",
      "(65, 13)\n",
      "(65, 13)\n",
      "(65, 13)\n",
      "(65, 13)\n",
      "(65, 13)\n",
      "(65, 13)\n"
     ]
    },
    {
     "name": "stderr",
     "output_type": "stream",
     "text": [
      "/home/akriptonn/anaconda3/envs/aidj/lib/python3.8/site-packages/librosa/core/audio.py:162: UserWarning: PySoundFile failed. Trying audioread instead.\n",
      "  warnings.warn(\"PySoundFile failed. Trying audioread instead.\")\n"
     ]
    },
    {
     "name": "stdout",
     "output_type": "stream",
     "text": [
      "(65, 13)\n",
      "(65, 13)\n",
      "(65, 13)\n",
      "(65, 13)\n",
      "(65, 13)\n",
      "(65, 13)\n",
      "(65, 13)\n",
      "(65, 13)\n",
      "(65, 13)\n",
      "(65, 13)\n"
     ]
    },
    {
     "name": "stderr",
     "output_type": "stream",
     "text": [
      "/home/akriptonn/anaconda3/envs/aidj/lib/python3.8/site-packages/librosa/core/audio.py:162: UserWarning: PySoundFile failed. Trying audioread instead.\n",
      "  warnings.warn(\"PySoundFile failed. Trying audioread instead.\")\n"
     ]
    },
    {
     "name": "stdout",
     "output_type": "stream",
     "text": [
      "(65, 13)\n",
      "(65, 13)\n",
      "(65, 13)\n",
      "(65, 13)\n",
      "(65, 13)\n",
      "(65, 13)\n",
      "(65, 13)\n",
      "(65, 13)\n",
      "(65, 13)\n",
      "(65, 13)\n"
     ]
    },
    {
     "name": "stderr",
     "output_type": "stream",
     "text": [
      "/home/akriptonn/anaconda3/envs/aidj/lib/python3.8/site-packages/librosa/core/audio.py:162: UserWarning: PySoundFile failed. Trying audioread instead.\n",
      "  warnings.warn(\"PySoundFile failed. Trying audioread instead.\")\n"
     ]
    },
    {
     "name": "stdout",
     "output_type": "stream",
     "text": [
      "(65, 13)\n",
      "(65, 13)\n",
      "(65, 13)\n",
      "(65, 13)\n",
      "(65, 13)\n",
      "(65, 13)\n",
      "(65, 13)\n",
      "(65, 13)\n",
      "(65, 13)\n",
      "(65, 13)\n"
     ]
    },
    {
     "name": "stderr",
     "output_type": "stream",
     "text": [
      "/home/akriptonn/anaconda3/envs/aidj/lib/python3.8/site-packages/librosa/core/audio.py:162: UserWarning: PySoundFile failed. Trying audioread instead.\n",
      "  warnings.warn(\"PySoundFile failed. Trying audioread instead.\")\n"
     ]
    },
    {
     "name": "stdout",
     "output_type": "stream",
     "text": [
      "(65, 13)\n",
      "(65, 13)\n",
      "(65, 13)\n",
      "(65, 13)\n",
      "(65, 13)\n",
      "(65, 13)\n",
      "(65, 13)\n",
      "(65, 13)\n",
      "(65, 13)\n",
      "(65, 13)\n"
     ]
    },
    {
     "name": "stderr",
     "output_type": "stream",
     "text": [
      "/home/akriptonn/anaconda3/envs/aidj/lib/python3.8/site-packages/librosa/core/audio.py:162: UserWarning: PySoundFile failed. Trying audioread instead.\n",
      "  warnings.warn(\"PySoundFile failed. Trying audioread instead.\")\n"
     ]
    },
    {
     "name": "stdout",
     "output_type": "stream",
     "text": [
      "(65, 13)\n",
      "(65, 13)\n",
      "(65, 13)\n",
      "(65, 13)\n",
      "(65, 13)\n",
      "(65, 13)\n",
      "(65, 13)\n",
      "(65, 13)\n",
      "(65, 13)\n",
      "(65, 13)\n"
     ]
    },
    {
     "name": "stderr",
     "output_type": "stream",
     "text": [
      "/home/akriptonn/anaconda3/envs/aidj/lib/python3.8/site-packages/librosa/core/audio.py:162: UserWarning: PySoundFile failed. Trying audioread instead.\n",
      "  warnings.warn(\"PySoundFile failed. Trying audioread instead.\")\n"
     ]
    },
    {
     "name": "stdout",
     "output_type": "stream",
     "text": [
      "(65, 13)\n",
      "(65, 13)\n",
      "(65, 13)\n",
      "(65, 13)\n",
      "(65, 13)\n",
      "(65, 13)\n",
      "(65, 13)\n",
      "(65, 13)\n",
      "(65, 13)\n",
      "(65, 13)\n"
     ]
    },
    {
     "name": "stderr",
     "output_type": "stream",
     "text": [
      "/home/akriptonn/anaconda3/envs/aidj/lib/python3.8/site-packages/librosa/core/audio.py:162: UserWarning: PySoundFile failed. Trying audioread instead.\n",
      "  warnings.warn(\"PySoundFile failed. Trying audioread instead.\")\n"
     ]
    },
    {
     "name": "stdout",
     "output_type": "stream",
     "text": [
      "(65, 13)\n",
      "(65, 13)\n",
      "(65, 13)\n",
      "(65, 13)\n",
      "(65, 13)\n",
      "(65, 13)\n",
      "(65, 13)\n",
      "(65, 13)\n",
      "(65, 13)\n",
      "(65, 13)\n"
     ]
    },
    {
     "name": "stderr",
     "output_type": "stream",
     "text": [
      "/home/akriptonn/anaconda3/envs/aidj/lib/python3.8/site-packages/librosa/core/audio.py:162: UserWarning: PySoundFile failed. Trying audioread instead.\n",
      "  warnings.warn(\"PySoundFile failed. Trying audioread instead.\")\n"
     ]
    },
    {
     "name": "stdout",
     "output_type": "stream",
     "text": [
      "(65, 13)\n",
      "(65, 13)\n",
      "(65, 13)\n",
      "(65, 13)\n",
      "(65, 13)\n",
      "(65, 13)\n",
      "(65, 13)\n",
      "(65, 13)\n",
      "(65, 13)\n",
      "(65, 13)\n"
     ]
    },
    {
     "name": "stderr",
     "output_type": "stream",
     "text": [
      "/home/akriptonn/anaconda3/envs/aidj/lib/python3.8/site-packages/librosa/core/audio.py:162: UserWarning: PySoundFile failed. Trying audioread instead.\n",
      "  warnings.warn(\"PySoundFile failed. Trying audioread instead.\")\n"
     ]
    },
    {
     "name": "stdout",
     "output_type": "stream",
     "text": [
      "(65, 13)\n",
      "(65, 13)\n",
      "(65, 13)\n",
      "(65, 13)\n",
      "(65, 13)\n",
      "(65, 13)\n",
      "(65, 13)\n",
      "(65, 13)\n",
      "(65, 13)\n",
      "(65, 13)\n"
     ]
    },
    {
     "name": "stderr",
     "output_type": "stream",
     "text": [
      "/home/akriptonn/anaconda3/envs/aidj/lib/python3.8/site-packages/librosa/core/audio.py:162: UserWarning: PySoundFile failed. Trying audioread instead.\n",
      "  warnings.warn(\"PySoundFile failed. Trying audioread instead.\")\n"
     ]
    },
    {
     "name": "stdout",
     "output_type": "stream",
     "text": [
      "(65, 13)\n",
      "(65, 13)\n",
      "(65, 13)\n",
      "(65, 13)\n",
      "(65, 13)\n",
      "(65, 13)\n",
      "(65, 13)\n",
      "(65, 13)\n",
      "(65, 13)\n",
      "(65, 13)\n"
     ]
    },
    {
     "name": "stderr",
     "output_type": "stream",
     "text": [
      "/home/akriptonn/anaconda3/envs/aidj/lib/python3.8/site-packages/librosa/core/audio.py:162: UserWarning: PySoundFile failed. Trying audioread instead.\n",
      "  warnings.warn(\"PySoundFile failed. Trying audioread instead.\")\n"
     ]
    },
    {
     "name": "stdout",
     "output_type": "stream",
     "text": [
      "(65, 13)\n",
      "(65, 13)\n",
      "(65, 13)\n",
      "(65, 13)\n",
      "(65, 13)\n",
      "(65, 13)\n",
      "(65, 13)\n",
      "(65, 13)\n",
      "(65, 13)\n",
      "(65, 13)\n"
     ]
    },
    {
     "name": "stderr",
     "output_type": "stream",
     "text": [
      "/home/akriptonn/anaconda3/envs/aidj/lib/python3.8/site-packages/librosa/core/audio.py:162: UserWarning: PySoundFile failed. Trying audioread instead.\n",
      "  warnings.warn(\"PySoundFile failed. Trying audioread instead.\")\n"
     ]
    },
    {
     "name": "stdout",
     "output_type": "stream",
     "text": [
      "(65, 13)\n",
      "(65, 13)\n",
      "(65, 13)\n",
      "(65, 13)\n",
      "(65, 13)\n",
      "(65, 13)\n",
      "(65, 13)\n",
      "(65, 13)\n",
      "(65, 13)\n",
      "(65, 13)\n"
     ]
    },
    {
     "name": "stderr",
     "output_type": "stream",
     "text": [
      "/home/akriptonn/anaconda3/envs/aidj/lib/python3.8/site-packages/librosa/core/audio.py:162: UserWarning: PySoundFile failed. Trying audioread instead.\n",
      "  warnings.warn(\"PySoundFile failed. Trying audioread instead.\")\n"
     ]
    },
    {
     "name": "stdout",
     "output_type": "stream",
     "text": [
      "(65, 13)\n",
      "(65, 13)\n",
      "(65, 13)\n",
      "(65, 13)\n",
      "(65, 13)\n",
      "(65, 13)\n",
      "(65, 13)\n",
      "(65, 13)\n",
      "(65, 13)\n",
      "(65, 13)\n"
     ]
    },
    {
     "name": "stderr",
     "output_type": "stream",
     "text": [
      "/home/akriptonn/anaconda3/envs/aidj/lib/python3.8/site-packages/librosa/core/audio.py:162: UserWarning: PySoundFile failed. Trying audioread instead.\n",
      "  warnings.warn(\"PySoundFile failed. Trying audioread instead.\")\n"
     ]
    },
    {
     "name": "stdout",
     "output_type": "stream",
     "text": [
      "(65, 13)\n",
      "(65, 13)\n",
      "(65, 13)\n",
      "(65, 13)\n",
      "(65, 13)\n",
      "(65, 13)\n",
      "(65, 13)\n",
      "(65, 13)\n",
      "(65, 13)\n",
      "(65, 13)\n"
     ]
    },
    {
     "name": "stderr",
     "output_type": "stream",
     "text": [
      "/home/akriptonn/anaconda3/envs/aidj/lib/python3.8/site-packages/librosa/core/audio.py:162: UserWarning: PySoundFile failed. Trying audioread instead.\n",
      "  warnings.warn(\"PySoundFile failed. Trying audioread instead.\")\n"
     ]
    },
    {
     "name": "stdout",
     "output_type": "stream",
     "text": [
      "(65, 13)\n",
      "(65, 13)\n",
      "(65, 13)\n",
      "(65, 13)\n",
      "(65, 13)\n",
      "(65, 13)\n",
      "(65, 13)\n",
      "(65, 13)\n",
      "(65, 13)\n",
      "(65, 13)\n"
     ]
    },
    {
     "name": "stderr",
     "output_type": "stream",
     "text": [
      "/home/akriptonn/anaconda3/envs/aidj/lib/python3.8/site-packages/librosa/core/audio.py:162: UserWarning: PySoundFile failed. Trying audioread instead.\n",
      "  warnings.warn(\"PySoundFile failed. Trying audioread instead.\")\n"
     ]
    },
    {
     "name": "stdout",
     "output_type": "stream",
     "text": [
      "(65, 13)\n",
      "(65, 13)\n",
      "(65, 13)\n",
      "(65, 13)\n",
      "(65, 13)\n",
      "(65, 13)\n",
      "(65, 13)\n",
      "(65, 13)\n",
      "(65, 13)\n",
      "(65, 13)\n"
     ]
    },
    {
     "name": "stderr",
     "output_type": "stream",
     "text": [
      "/home/akriptonn/anaconda3/envs/aidj/lib/python3.8/site-packages/librosa/core/audio.py:162: UserWarning: PySoundFile failed. Trying audioread instead.\n",
      "  warnings.warn(\"PySoundFile failed. Trying audioread instead.\")\n"
     ]
    },
    {
     "name": "stdout",
     "output_type": "stream",
     "text": [
      "(65, 13)\n",
      "(65, 13)\n",
      "(65, 13)\n",
      "(65, 13)\n",
      "(65, 13)\n",
      "(65, 13)\n",
      "(65, 13)\n",
      "(65, 13)\n",
      "(65, 13)\n",
      "(65, 13)\n"
     ]
    },
    {
     "name": "stderr",
     "output_type": "stream",
     "text": [
      "/home/akriptonn/anaconda3/envs/aidj/lib/python3.8/site-packages/librosa/core/audio.py:162: UserWarning: PySoundFile failed. Trying audioread instead.\n",
      "  warnings.warn(\"PySoundFile failed. Trying audioread instead.\")\n"
     ]
    },
    {
     "name": "stdout",
     "output_type": "stream",
     "text": [
      "(65, 13)\n",
      "(65, 13)\n",
      "(65, 13)\n",
      "(65, 13)\n",
      "(65, 13)\n",
      "(65, 13)\n",
      "(65, 13)\n",
      "(65, 13)\n",
      "(65, 13)\n",
      "(65, 13)\n"
     ]
    },
    {
     "name": "stderr",
     "output_type": "stream",
     "text": [
      "/home/akriptonn/anaconda3/envs/aidj/lib/python3.8/site-packages/librosa/core/audio.py:162: UserWarning: PySoundFile failed. Trying audioread instead.\n",
      "  warnings.warn(\"PySoundFile failed. Trying audioread instead.\")\n"
     ]
    },
    {
     "name": "stdout",
     "output_type": "stream",
     "text": [
      "(65, 13)\n",
      "(65, 13)\n",
      "(65, 13)\n",
      "(65, 13)\n",
      "(65, 13)\n",
      "(65, 13)\n",
      "(65, 13)\n",
      "(65, 13)\n",
      "(65, 13)\n",
      "(65, 13)\n"
     ]
    },
    {
     "name": "stderr",
     "output_type": "stream",
     "text": [
      "/home/akriptonn/anaconda3/envs/aidj/lib/python3.8/site-packages/librosa/core/audio.py:162: UserWarning: PySoundFile failed. Trying audioread instead.\n",
      "  warnings.warn(\"PySoundFile failed. Trying audioread instead.\")\n"
     ]
    },
    {
     "name": "stdout",
     "output_type": "stream",
     "text": [
      "(65, 13)\n",
      "(65, 13)\n",
      "(65, 13)\n",
      "(65, 13)\n",
      "(65, 13)\n",
      "(65, 13)\n",
      "(65, 13)\n",
      "(65, 13)\n",
      "(65, 13)\n",
      "(65, 13)\n"
     ]
    },
    {
     "name": "stderr",
     "output_type": "stream",
     "text": [
      "/home/akriptonn/anaconda3/envs/aidj/lib/python3.8/site-packages/librosa/core/audio.py:162: UserWarning: PySoundFile failed. Trying audioread instead.\n",
      "  warnings.warn(\"PySoundFile failed. Trying audioread instead.\")\n"
     ]
    },
    {
     "name": "stdout",
     "output_type": "stream",
     "text": [
      "(65, 13)\n",
      "(65, 13)\n",
      "(65, 13)\n",
      "(65, 13)\n",
      "(65, 13)\n",
      "(65, 13)\n",
      "(65, 13)\n",
      "(65, 13)\n",
      "(65, 13)\n",
      "(65, 13)\n"
     ]
    },
    {
     "name": "stderr",
     "output_type": "stream",
     "text": [
      "/home/akriptonn/anaconda3/envs/aidj/lib/python3.8/site-packages/librosa/core/audio.py:162: UserWarning: PySoundFile failed. Trying audioread instead.\n",
      "  warnings.warn(\"PySoundFile failed. Trying audioread instead.\")\n"
     ]
    },
    {
     "name": "stdout",
     "output_type": "stream",
     "text": [
      "(65, 13)\n",
      "(65, 13)\n",
      "(65, 13)\n",
      "(65, 13)\n",
      "(65, 13)\n",
      "(65, 13)\n",
      "(65, 13)\n",
      "(65, 13)\n",
      "(65, 13)\n",
      "(65, 13)\n"
     ]
    },
    {
     "name": "stderr",
     "output_type": "stream",
     "text": [
      "/home/akriptonn/anaconda3/envs/aidj/lib/python3.8/site-packages/librosa/core/audio.py:162: UserWarning: PySoundFile failed. Trying audioread instead.\n",
      "  warnings.warn(\"PySoundFile failed. Trying audioread instead.\")\n"
     ]
    },
    {
     "name": "stdout",
     "output_type": "stream",
     "text": [
      "(65, 13)\n",
      "(65, 13)\n",
      "(65, 13)\n",
      "(65, 13)\n",
      "(65, 13)\n",
      "(65, 13)\n",
      "(65, 13)\n",
      "(65, 13)\n",
      "(65, 13)\n",
      "(65, 13)\n"
     ]
    },
    {
     "name": "stderr",
     "output_type": "stream",
     "text": [
      "/home/akriptonn/anaconda3/envs/aidj/lib/python3.8/site-packages/librosa/core/audio.py:162: UserWarning: PySoundFile failed. Trying audioread instead.\n",
      "  warnings.warn(\"PySoundFile failed. Trying audioread instead.\")\n"
     ]
    },
    {
     "name": "stdout",
     "output_type": "stream",
     "text": [
      "(65, 13)\n",
      "(65, 13)\n",
      "(65, 13)\n",
      "(65, 13)\n",
      "(65, 13)\n",
      "(65, 13)\n",
      "(65, 13)\n",
      "(65, 13)\n",
      "(65, 13)\n",
      "(65, 13)\n"
     ]
    },
    {
     "name": "stderr",
     "output_type": "stream",
     "text": [
      "/home/akriptonn/anaconda3/envs/aidj/lib/python3.8/site-packages/librosa/core/audio.py:162: UserWarning: PySoundFile failed. Trying audioread instead.\n",
      "  warnings.warn(\"PySoundFile failed. Trying audioread instead.\")\n"
     ]
    },
    {
     "name": "stdout",
     "output_type": "stream",
     "text": [
      "(65, 13)\n",
      "(65, 13)\n",
      "(65, 13)\n",
      "(65, 13)\n",
      "(65, 13)\n",
      "(65, 13)\n",
      "(65, 13)\n",
      "(65, 13)\n",
      "(65, 13)\n",
      "(65, 13)\n"
     ]
    },
    {
     "name": "stderr",
     "output_type": "stream",
     "text": [
      "/home/akriptonn/anaconda3/envs/aidj/lib/python3.8/site-packages/librosa/core/audio.py:162: UserWarning: PySoundFile failed. Trying audioread instead.\n",
      "  warnings.warn(\"PySoundFile failed. Trying audioread instead.\")\n"
     ]
    },
    {
     "name": "stdout",
     "output_type": "stream",
     "text": [
      "(65, 13)\n",
      "(65, 13)\n",
      "(65, 13)\n",
      "(65, 13)\n",
      "(65, 13)\n",
      "(65, 13)\n",
      "(65, 13)\n",
      "(65, 13)\n",
      "(65, 13)\n",
      "(65, 13)\n"
     ]
    },
    {
     "name": "stderr",
     "output_type": "stream",
     "text": [
      "/home/akriptonn/anaconda3/envs/aidj/lib/python3.8/site-packages/librosa/core/audio.py:162: UserWarning: PySoundFile failed. Trying audioread instead.\n",
      "  warnings.warn(\"PySoundFile failed. Trying audioread instead.\")\n"
     ]
    },
    {
     "name": "stdout",
     "output_type": "stream",
     "text": [
      "(65, 13)\n",
      "(65, 13)\n",
      "(65, 13)\n",
      "(65, 13)\n",
      "(65, 13)\n",
      "(65, 13)\n",
      "(65, 13)\n",
      "(65, 13)\n",
      "(65, 13)\n",
      "(65, 13)\n"
     ]
    },
    {
     "name": "stderr",
     "output_type": "stream",
     "text": [
      "/home/akriptonn/anaconda3/envs/aidj/lib/python3.8/site-packages/librosa/core/audio.py:162: UserWarning: PySoundFile failed. Trying audioread instead.\n",
      "  warnings.warn(\"PySoundFile failed. Trying audioread instead.\")\n"
     ]
    },
    {
     "name": "stdout",
     "output_type": "stream",
     "text": [
      "(65, 13)\n",
      "(65, 13)\n",
      "(65, 13)\n",
      "(65, 13)\n",
      "(65, 13)\n",
      "(65, 13)\n",
      "(65, 13)\n",
      "(65, 13)\n",
      "(65, 13)\n",
      "(65, 13)\n"
     ]
    },
    {
     "name": "stderr",
     "output_type": "stream",
     "text": [
      "/home/akriptonn/anaconda3/envs/aidj/lib/python3.8/site-packages/librosa/core/audio.py:162: UserWarning: PySoundFile failed. Trying audioread instead.\n",
      "  warnings.warn(\"PySoundFile failed. Trying audioread instead.\")\n"
     ]
    },
    {
     "name": "stdout",
     "output_type": "stream",
     "text": [
      "(65, 13)\n",
      "(65, 13)\n",
      "(65, 13)\n",
      "(65, 13)\n",
      "(65, 13)\n",
      "(65, 13)\n",
      "(65, 13)\n",
      "(65, 13)\n",
      "(65, 13)\n",
      "(65, 13)\n"
     ]
    },
    {
     "name": "stderr",
     "output_type": "stream",
     "text": [
      "/home/akriptonn/anaconda3/envs/aidj/lib/python3.8/site-packages/librosa/core/audio.py:162: UserWarning: PySoundFile failed. Trying audioread instead.\n",
      "  warnings.warn(\"PySoundFile failed. Trying audioread instead.\")\n"
     ]
    },
    {
     "name": "stdout",
     "output_type": "stream",
     "text": [
      "(65, 13)\n",
      "(65, 13)\n",
      "(65, 13)\n",
      "(65, 13)\n",
      "(65, 13)\n",
      "(65, 13)\n",
      "(65, 13)\n",
      "(65, 13)\n",
      "(65, 13)\n",
      "(65, 13)\n"
     ]
    },
    {
     "name": "stderr",
     "output_type": "stream",
     "text": [
      "/home/akriptonn/anaconda3/envs/aidj/lib/python3.8/site-packages/librosa/core/audio.py:162: UserWarning: PySoundFile failed. Trying audioread instead.\n",
      "  warnings.warn(\"PySoundFile failed. Trying audioread instead.\")\n"
     ]
    },
    {
     "name": "stdout",
     "output_type": "stream",
     "text": [
      "(65, 13)\n",
      "(65, 13)\n",
      "(65, 13)\n",
      "(65, 13)\n",
      "(65, 13)\n",
      "(65, 13)\n",
      "(65, 13)\n",
      "(65, 13)\n",
      "(65, 13)\n",
      "(65, 13)\n"
     ]
    },
    {
     "name": "stderr",
     "output_type": "stream",
     "text": [
      "/home/akriptonn/anaconda3/envs/aidj/lib/python3.8/site-packages/librosa/core/audio.py:162: UserWarning: PySoundFile failed. Trying audioread instead.\n",
      "  warnings.warn(\"PySoundFile failed. Trying audioread instead.\")\n"
     ]
    },
    {
     "name": "stdout",
     "output_type": "stream",
     "text": [
      "(65, 13)\n",
      "(65, 13)\n",
      "(65, 13)\n",
      "(65, 13)\n",
      "(65, 13)\n",
      "(65, 13)\n",
      "(65, 13)\n",
      "(65, 13)\n",
      "(65, 13)\n",
      "(65, 13)\n"
     ]
    },
    {
     "name": "stderr",
     "output_type": "stream",
     "text": [
      "/home/akriptonn/anaconda3/envs/aidj/lib/python3.8/site-packages/librosa/core/audio.py:162: UserWarning: PySoundFile failed. Trying audioread instead.\n",
      "  warnings.warn(\"PySoundFile failed. Trying audioread instead.\")\n"
     ]
    },
    {
     "name": "stdout",
     "output_type": "stream",
     "text": [
      "(65, 13)\n",
      "(65, 13)\n",
      "(65, 13)\n",
      "(65, 13)\n",
      "(65, 13)\n",
      "(65, 13)\n",
      "(65, 13)\n",
      "(65, 13)\n",
      "(65, 13)\n",
      "(65, 13)\n"
     ]
    },
    {
     "name": "stderr",
     "output_type": "stream",
     "text": [
      "/home/akriptonn/anaconda3/envs/aidj/lib/python3.8/site-packages/librosa/core/audio.py:162: UserWarning: PySoundFile failed. Trying audioread instead.\n",
      "  warnings.warn(\"PySoundFile failed. Trying audioread instead.\")\n"
     ]
    },
    {
     "name": "stdout",
     "output_type": "stream",
     "text": [
      "(65, 13)\n",
      "(65, 13)\n",
      "(65, 13)\n",
      "(65, 13)\n",
      "(65, 13)\n",
      "(65, 13)\n",
      "(65, 13)\n",
      "(65, 13)\n",
      "(65, 13)\n",
      "(65, 13)\n"
     ]
    },
    {
     "name": "stderr",
     "output_type": "stream",
     "text": [
      "/home/akriptonn/anaconda3/envs/aidj/lib/python3.8/site-packages/librosa/core/audio.py:162: UserWarning: PySoundFile failed. Trying audioread instead.\n",
      "  warnings.warn(\"PySoundFile failed. Trying audioread instead.\")\n"
     ]
    },
    {
     "name": "stdout",
     "output_type": "stream",
     "text": [
      "(65, 13)\n",
      "(65, 13)\n",
      "(65, 13)\n",
      "(65, 13)\n",
      "(65, 13)\n",
      "(65, 13)\n",
      "(65, 13)\n",
      "(65, 13)\n",
      "(65, 13)\n",
      "(65, 13)\n"
     ]
    },
    {
     "name": "stderr",
     "output_type": "stream",
     "text": [
      "/home/akriptonn/anaconda3/envs/aidj/lib/python3.8/site-packages/librosa/core/audio.py:162: UserWarning: PySoundFile failed. Trying audioread instead.\n",
      "  warnings.warn(\"PySoundFile failed. Trying audioread instead.\")\n"
     ]
    },
    {
     "name": "stdout",
     "output_type": "stream",
     "text": [
      "(65, 13)\n",
      "(65, 13)\n",
      "(65, 13)\n",
      "(65, 13)\n",
      "(65, 13)\n",
      "(65, 13)\n",
      "(65, 13)\n",
      "(65, 13)\n",
      "(65, 13)\n",
      "(65, 13)\n"
     ]
    },
    {
     "name": "stderr",
     "output_type": "stream",
     "text": [
      "/home/akriptonn/anaconda3/envs/aidj/lib/python3.8/site-packages/librosa/core/audio.py:162: UserWarning: PySoundFile failed. Trying audioread instead.\n",
      "  warnings.warn(\"PySoundFile failed. Trying audioread instead.\")\n"
     ]
    },
    {
     "name": "stdout",
     "output_type": "stream",
     "text": [
      "(65, 13)\n",
      "(65, 13)\n",
      "(65, 13)\n",
      "(65, 13)\n",
      "(65, 13)\n",
      "(65, 13)\n",
      "(65, 13)\n",
      "(65, 13)\n",
      "(65, 13)\n",
      "(65, 13)\n"
     ]
    },
    {
     "name": "stderr",
     "output_type": "stream",
     "text": [
      "/home/akriptonn/anaconda3/envs/aidj/lib/python3.8/site-packages/librosa/core/audio.py:162: UserWarning: PySoundFile failed. Trying audioread instead.\n",
      "  warnings.warn(\"PySoundFile failed. Trying audioread instead.\")\n"
     ]
    },
    {
     "name": "stdout",
     "output_type": "stream",
     "text": [
      "(65, 13)\n",
      "(65, 13)\n",
      "(65, 13)\n",
      "(65, 13)\n",
      "(65, 13)\n",
      "(65, 13)\n",
      "(65, 13)\n",
      "(65, 13)\n",
      "(65, 13)\n",
      "(65, 13)\n"
     ]
    },
    {
     "name": "stderr",
     "output_type": "stream",
     "text": [
      "/home/akriptonn/anaconda3/envs/aidj/lib/python3.8/site-packages/librosa/core/audio.py:162: UserWarning: PySoundFile failed. Trying audioread instead.\n",
      "  warnings.warn(\"PySoundFile failed. Trying audioread instead.\")\n"
     ]
    },
    {
     "name": "stdout",
     "output_type": "stream",
     "text": [
      "(65, 13)\n",
      "(65, 13)\n",
      "(65, 13)\n",
      "(65, 13)\n",
      "(65, 13)\n",
      "(65, 13)\n",
      "(65, 13)\n",
      "(65, 13)\n",
      "(65, 13)\n",
      "(65, 13)\n"
     ]
    },
    {
     "name": "stderr",
     "output_type": "stream",
     "text": [
      "/home/akriptonn/anaconda3/envs/aidj/lib/python3.8/site-packages/librosa/core/audio.py:162: UserWarning: PySoundFile failed. Trying audioread instead.\n",
      "  warnings.warn(\"PySoundFile failed. Trying audioread instead.\")\n"
     ]
    },
    {
     "name": "stdout",
     "output_type": "stream",
     "text": [
      "(65, 13)\n",
      "(65, 13)\n",
      "(65, 13)\n",
      "(65, 13)\n",
      "(65, 13)\n",
      "(65, 13)\n",
      "(65, 13)\n",
      "(65, 13)\n",
      "(65, 13)\n",
      "(65, 13)\n"
     ]
    },
    {
     "name": "stderr",
     "output_type": "stream",
     "text": [
      "/home/akriptonn/anaconda3/envs/aidj/lib/python3.8/site-packages/librosa/core/audio.py:162: UserWarning: PySoundFile failed. Trying audioread instead.\n",
      "  warnings.warn(\"PySoundFile failed. Trying audioread instead.\")\n"
     ]
    },
    {
     "name": "stdout",
     "output_type": "stream",
     "text": [
      "(65, 13)\n",
      "(65, 13)\n",
      "(65, 13)\n",
      "(65, 13)\n",
      "(65, 13)\n",
      "(65, 13)\n",
      "(65, 13)\n",
      "(65, 13)\n",
      "(65, 13)\n",
      "(65, 13)\n"
     ]
    },
    {
     "name": "stderr",
     "output_type": "stream",
     "text": [
      "/home/akriptonn/anaconda3/envs/aidj/lib/python3.8/site-packages/librosa/core/audio.py:162: UserWarning: PySoundFile failed. Trying audioread instead.\n",
      "  warnings.warn(\"PySoundFile failed. Trying audioread instead.\")\n"
     ]
    },
    {
     "name": "stdout",
     "output_type": "stream",
     "text": [
      "(65, 13)\n",
      "(65, 13)\n",
      "(65, 13)\n",
      "(65, 13)\n",
      "(65, 13)\n",
      "(65, 13)\n",
      "(65, 13)\n",
      "(65, 13)\n",
      "(65, 13)\n",
      "(65, 13)\n"
     ]
    },
    {
     "name": "stderr",
     "output_type": "stream",
     "text": [
      "/home/akriptonn/anaconda3/envs/aidj/lib/python3.8/site-packages/librosa/core/audio.py:162: UserWarning: PySoundFile failed. Trying audioread instead.\n",
      "  warnings.warn(\"PySoundFile failed. Trying audioread instead.\")\n"
     ]
    },
    {
     "name": "stdout",
     "output_type": "stream",
     "text": [
      "(65, 13)\n",
      "(65, 13)\n",
      "(65, 13)\n",
      "(65, 13)\n",
      "(65, 13)\n",
      "(65, 13)\n",
      "(65, 13)\n",
      "(65, 13)\n",
      "(65, 13)\n",
      "(65, 13)\n"
     ]
    },
    {
     "name": "stderr",
     "output_type": "stream",
     "text": [
      "/home/akriptonn/anaconda3/envs/aidj/lib/python3.8/site-packages/librosa/core/audio.py:162: UserWarning: PySoundFile failed. Trying audioread instead.\n",
      "  warnings.warn(\"PySoundFile failed. Trying audioread instead.\")\n"
     ]
    },
    {
     "name": "stdout",
     "output_type": "stream",
     "text": [
      "(65, 13)\n",
      "(65, 13)\n",
      "(65, 13)\n",
      "(65, 13)\n",
      "(65, 13)\n",
      "(65, 13)\n",
      "(65, 13)\n",
      "(65, 13)\n",
      "(65, 13)\n",
      "(65, 13)\n"
     ]
    },
    {
     "name": "stderr",
     "output_type": "stream",
     "text": [
      "/home/akriptonn/anaconda3/envs/aidj/lib/python3.8/site-packages/librosa/core/audio.py:162: UserWarning: PySoundFile failed. Trying audioread instead.\n",
      "  warnings.warn(\"PySoundFile failed. Trying audioread instead.\")\n"
     ]
    },
    {
     "name": "stdout",
     "output_type": "stream",
     "text": [
      "(65, 13)\n",
      "(65, 13)\n",
      "(65, 13)\n",
      "(65, 13)\n",
      "(65, 13)\n",
      "(65, 13)\n",
      "(65, 13)\n",
      "(65, 13)\n",
      "(65, 13)\n",
      "(65, 13)\n"
     ]
    },
    {
     "name": "stderr",
     "output_type": "stream",
     "text": [
      "/home/akriptonn/anaconda3/envs/aidj/lib/python3.8/site-packages/librosa/core/audio.py:162: UserWarning: PySoundFile failed. Trying audioread instead.\n",
      "  warnings.warn(\"PySoundFile failed. Trying audioread instead.\")\n"
     ]
    },
    {
     "name": "stdout",
     "output_type": "stream",
     "text": [
      "(65, 13)\n",
      "(65, 13)\n",
      "(65, 13)\n",
      "(65, 13)\n",
      "(65, 13)\n",
      "(65, 13)\n",
      "(65, 13)\n",
      "(65, 13)\n",
      "(65, 13)\n",
      "(65, 13)\n"
     ]
    },
    {
     "name": "stderr",
     "output_type": "stream",
     "text": [
      "/home/akriptonn/anaconda3/envs/aidj/lib/python3.8/site-packages/librosa/core/audio.py:162: UserWarning: PySoundFile failed. Trying audioread instead.\n",
      "  warnings.warn(\"PySoundFile failed. Trying audioread instead.\")\n"
     ]
    },
    {
     "name": "stdout",
     "output_type": "stream",
     "text": [
      "(65, 13)\n",
      "(65, 13)\n",
      "(65, 13)\n",
      "(65, 13)\n",
      "(65, 13)\n",
      "(65, 13)\n",
      "(65, 13)\n",
      "(65, 13)\n",
      "(65, 13)\n",
      "(65, 13)\n"
     ]
    },
    {
     "name": "stderr",
     "output_type": "stream",
     "text": [
      "/home/akriptonn/anaconda3/envs/aidj/lib/python3.8/site-packages/librosa/core/audio.py:162: UserWarning: PySoundFile failed. Trying audioread instead.\n",
      "  warnings.warn(\"PySoundFile failed. Trying audioread instead.\")\n"
     ]
    },
    {
     "name": "stdout",
     "output_type": "stream",
     "text": [
      "(65, 13)\n",
      "(65, 13)\n",
      "(65, 13)\n",
      "(65, 13)\n",
      "(65, 13)\n",
      "(65, 13)\n",
      "(65, 13)\n",
      "(65, 13)\n",
      "(65, 13)\n",
      "(65, 13)\n"
     ]
    },
    {
     "name": "stderr",
     "output_type": "stream",
     "text": [
      "/home/akriptonn/anaconda3/envs/aidj/lib/python3.8/site-packages/librosa/core/audio.py:162: UserWarning: PySoundFile failed. Trying audioread instead.\n",
      "  warnings.warn(\"PySoundFile failed. Trying audioread instead.\")\n"
     ]
    },
    {
     "name": "stdout",
     "output_type": "stream",
     "text": [
      "(65, 13)\n",
      "(65, 13)\n",
      "(65, 13)\n",
      "(65, 13)\n",
      "(65, 13)\n",
      "(65, 13)\n",
      "(65, 13)\n",
      "(65, 13)\n",
      "(65, 13)\n",
      "(65, 13)\n"
     ]
    },
    {
     "name": "stderr",
     "output_type": "stream",
     "text": [
      "/home/akriptonn/anaconda3/envs/aidj/lib/python3.8/site-packages/librosa/core/audio.py:162: UserWarning: PySoundFile failed. Trying audioread instead.\n",
      "  warnings.warn(\"PySoundFile failed. Trying audioread instead.\")\n"
     ]
    },
    {
     "name": "stdout",
     "output_type": "stream",
     "text": [
      "(65, 13)\n",
      "(65, 13)\n",
      "(65, 13)\n",
      "(65, 13)\n",
      "(65, 13)\n",
      "(65, 13)\n",
      "(65, 13)\n",
      "(65, 13)\n",
      "(65, 13)\n",
      "(65, 13)\n"
     ]
    },
    {
     "name": "stderr",
     "output_type": "stream",
     "text": [
      "/home/akriptonn/anaconda3/envs/aidj/lib/python3.8/site-packages/librosa/core/audio.py:162: UserWarning: PySoundFile failed. Trying audioread instead.\n",
      "  warnings.warn(\"PySoundFile failed. Trying audioread instead.\")\n"
     ]
    },
    {
     "name": "stdout",
     "output_type": "stream",
     "text": [
      "(65, 13)\n",
      "(65, 13)\n",
      "(65, 13)\n",
      "(65, 13)\n",
      "(65, 13)\n",
      "(65, 13)\n",
      "(65, 13)\n",
      "(65, 13)\n",
      "(65, 13)\n",
      "(65, 13)\n"
     ]
    },
    {
     "name": "stderr",
     "output_type": "stream",
     "text": [
      "/home/akriptonn/anaconda3/envs/aidj/lib/python3.8/site-packages/librosa/core/audio.py:162: UserWarning: PySoundFile failed. Trying audioread instead.\n",
      "  warnings.warn(\"PySoundFile failed. Trying audioread instead.\")\n"
     ]
    },
    {
     "name": "stdout",
     "output_type": "stream",
     "text": [
      "(65, 13)\n",
      "(65, 13)\n",
      "(65, 13)\n",
      "(65, 13)\n",
      "(65, 13)\n",
      "(65, 13)\n",
      "(65, 13)\n",
      "(65, 13)\n",
      "(65, 13)\n",
      "(65, 13)\n"
     ]
    },
    {
     "name": "stderr",
     "output_type": "stream",
     "text": [
      "/home/akriptonn/anaconda3/envs/aidj/lib/python3.8/site-packages/librosa/core/audio.py:162: UserWarning: PySoundFile failed. Trying audioread instead.\n",
      "  warnings.warn(\"PySoundFile failed. Trying audioread instead.\")\n"
     ]
    },
    {
     "name": "stdout",
     "output_type": "stream",
     "text": [
      "(65, 13)\n",
      "(65, 13)\n",
      "(65, 13)\n",
      "(65, 13)\n",
      "(65, 13)\n",
      "(65, 13)\n",
      "(65, 13)\n",
      "(65, 13)\n",
      "(65, 13)\n",
      "(65, 13)\n"
     ]
    },
    {
     "name": "stderr",
     "output_type": "stream",
     "text": [
      "/home/akriptonn/anaconda3/envs/aidj/lib/python3.8/site-packages/librosa/core/audio.py:162: UserWarning: PySoundFile failed. Trying audioread instead.\n",
      "  warnings.warn(\"PySoundFile failed. Trying audioread instead.\")\n"
     ]
    },
    {
     "name": "stdout",
     "output_type": "stream",
     "text": [
      "(65, 13)\n",
      "(65, 13)\n",
      "(65, 13)\n",
      "(65, 13)\n",
      "(65, 13)\n",
      "(65, 13)\n",
      "(65, 13)\n",
      "(65, 13)\n",
      "(65, 13)\n",
      "(65, 13)\n"
     ]
    },
    {
     "name": "stderr",
     "output_type": "stream",
     "text": [
      "/home/akriptonn/anaconda3/envs/aidj/lib/python3.8/site-packages/librosa/core/audio.py:162: UserWarning: PySoundFile failed. Trying audioread instead.\n",
      "  warnings.warn(\"PySoundFile failed. Trying audioread instead.\")\n"
     ]
    },
    {
     "name": "stdout",
     "output_type": "stream",
     "text": [
      "(65, 13)\n",
      "(65, 13)\n",
      "(65, 13)\n",
      "(65, 13)\n",
      "(65, 13)\n",
      "(65, 13)\n",
      "(65, 13)\n",
      "(65, 13)\n",
      "(65, 13)\n",
      "(65, 13)\n"
     ]
    },
    {
     "name": "stderr",
     "output_type": "stream",
     "text": [
      "/home/akriptonn/anaconda3/envs/aidj/lib/python3.8/site-packages/librosa/core/audio.py:162: UserWarning: PySoundFile failed. Trying audioread instead.\n",
      "  warnings.warn(\"PySoundFile failed. Trying audioread instead.\")\n"
     ]
    },
    {
     "name": "stdout",
     "output_type": "stream",
     "text": [
      "(65, 13)\n",
      "(65, 13)\n",
      "(65, 13)\n",
      "(65, 13)\n",
      "(65, 13)\n",
      "(65, 13)\n",
      "(65, 13)\n",
      "(65, 13)\n",
      "(65, 13)\n",
      "(65, 13)\n"
     ]
    },
    {
     "name": "stderr",
     "output_type": "stream",
     "text": [
      "/home/akriptonn/anaconda3/envs/aidj/lib/python3.8/site-packages/librosa/core/audio.py:162: UserWarning: PySoundFile failed. Trying audioread instead.\n",
      "  warnings.warn(\"PySoundFile failed. Trying audioread instead.\")\n"
     ]
    },
    {
     "name": "stdout",
     "output_type": "stream",
     "text": [
      "(65, 13)\n",
      "(65, 13)\n",
      "(65, 13)\n",
      "(65, 13)\n",
      "(65, 13)\n",
      "(65, 13)\n",
      "(65, 13)\n",
      "(65, 13)\n",
      "(65, 13)\n",
      "(65, 13)\n"
     ]
    },
    {
     "name": "stderr",
     "output_type": "stream",
     "text": [
      "/home/akriptonn/anaconda3/envs/aidj/lib/python3.8/site-packages/librosa/core/audio.py:162: UserWarning: PySoundFile failed. Trying audioread instead.\n",
      "  warnings.warn(\"PySoundFile failed. Trying audioread instead.\")\n"
     ]
    },
    {
     "name": "stdout",
     "output_type": "stream",
     "text": [
      "(65, 13)\n",
      "(65, 13)\n",
      "(65, 13)\n",
      "(65, 13)\n",
      "(65, 13)\n",
      "(65, 13)\n",
      "(65, 13)\n",
      "(65, 13)\n",
      "(65, 13)\n",
      "(65, 13)\n"
     ]
    },
    {
     "name": "stderr",
     "output_type": "stream",
     "text": [
      "/home/akriptonn/anaconda3/envs/aidj/lib/python3.8/site-packages/librosa/core/audio.py:162: UserWarning: PySoundFile failed. Trying audioread instead.\n",
      "  warnings.warn(\"PySoundFile failed. Trying audioread instead.\")\n"
     ]
    },
    {
     "name": "stdout",
     "output_type": "stream",
     "text": [
      "(65, 13)\n",
      "(65, 13)\n",
      "(65, 13)\n",
      "(65, 13)\n",
      "(65, 13)\n",
      "(65, 13)\n",
      "(65, 13)\n",
      "(65, 13)\n",
      "(65, 13)\n",
      "(65, 13)\n"
     ]
    },
    {
     "name": "stderr",
     "output_type": "stream",
     "text": [
      "/home/akriptonn/anaconda3/envs/aidj/lib/python3.8/site-packages/librosa/core/audio.py:162: UserWarning: PySoundFile failed. Trying audioread instead.\n",
      "  warnings.warn(\"PySoundFile failed. Trying audioread instead.\")\n"
     ]
    },
    {
     "name": "stdout",
     "output_type": "stream",
     "text": [
      "(65, 13)\n",
      "(65, 13)\n",
      "(65, 13)\n",
      "(65, 13)\n",
      "(65, 13)\n",
      "(65, 13)\n",
      "(65, 13)\n",
      "(65, 13)\n",
      "(65, 13)\n",
      "(65, 13)\n"
     ]
    },
    {
     "name": "stderr",
     "output_type": "stream",
     "text": [
      "/home/akriptonn/anaconda3/envs/aidj/lib/python3.8/site-packages/librosa/core/audio.py:162: UserWarning: PySoundFile failed. Trying audioread instead.\n",
      "  warnings.warn(\"PySoundFile failed. Trying audioread instead.\")\n"
     ]
    },
    {
     "name": "stdout",
     "output_type": "stream",
     "text": [
      "(65, 13)\n",
      "(65, 13)\n",
      "(65, 13)\n",
      "(65, 13)\n",
      "(65, 13)\n",
      "(65, 13)\n",
      "(65, 13)\n",
      "(65, 13)\n",
      "(65, 13)\n",
      "(65, 13)\n"
     ]
    },
    {
     "name": "stderr",
     "output_type": "stream",
     "text": [
      "/home/akriptonn/anaconda3/envs/aidj/lib/python3.8/site-packages/librosa/core/audio.py:162: UserWarning: PySoundFile failed. Trying audioread instead.\n",
      "  warnings.warn(\"PySoundFile failed. Trying audioread instead.\")\n"
     ]
    },
    {
     "name": "stdout",
     "output_type": "stream",
     "text": [
      "(65, 13)\n",
      "(65, 13)\n",
      "(65, 13)\n",
      "(65, 13)\n",
      "(65, 13)\n",
      "(65, 13)\n",
      "(65, 13)\n",
      "(65, 13)\n",
      "(65, 13)\n",
      "(65, 13)\n"
     ]
    },
    {
     "name": "stderr",
     "output_type": "stream",
     "text": [
      "/home/akriptonn/anaconda3/envs/aidj/lib/python3.8/site-packages/librosa/core/audio.py:162: UserWarning: PySoundFile failed. Trying audioread instead.\n",
      "  warnings.warn(\"PySoundFile failed. Trying audioread instead.\")\n"
     ]
    },
    {
     "name": "stdout",
     "output_type": "stream",
     "text": [
      "(65, 13)\n",
      "(65, 13)\n",
      "(65, 13)\n",
      "(65, 13)\n",
      "(65, 13)\n",
      "(65, 13)\n",
      "(65, 13)\n",
      "(65, 13)\n",
      "(65, 13)\n",
      "(65, 13)\n"
     ]
    },
    {
     "name": "stderr",
     "output_type": "stream",
     "text": [
      "/home/akriptonn/anaconda3/envs/aidj/lib/python3.8/site-packages/librosa/core/audio.py:162: UserWarning: PySoundFile failed. Trying audioread instead.\n",
      "  warnings.warn(\"PySoundFile failed. Trying audioread instead.\")\n"
     ]
    },
    {
     "name": "stdout",
     "output_type": "stream",
     "text": [
      "(65, 13)\n",
      "(65, 13)\n",
      "(65, 13)\n",
      "(65, 13)\n",
      "(65, 13)\n",
      "(65, 13)\n",
      "(65, 13)\n",
      "(65, 13)\n",
      "(65, 13)\n",
      "(65, 13)\n"
     ]
    },
    {
     "name": "stderr",
     "output_type": "stream",
     "text": [
      "/home/akriptonn/anaconda3/envs/aidj/lib/python3.8/site-packages/librosa/core/audio.py:162: UserWarning: PySoundFile failed. Trying audioread instead.\n",
      "  warnings.warn(\"PySoundFile failed. Trying audioread instead.\")\n"
     ]
    },
    {
     "name": "stdout",
     "output_type": "stream",
     "text": [
      "(65, 13)\n",
      "(65, 13)\n",
      "(65, 13)\n",
      "(65, 13)\n",
      "(65, 13)\n",
      "(65, 13)\n",
      "(65, 13)\n",
      "(65, 13)\n",
      "(65, 13)\n",
      "(65, 13)\n"
     ]
    },
    {
     "name": "stderr",
     "output_type": "stream",
     "text": [
      "/home/akriptonn/anaconda3/envs/aidj/lib/python3.8/site-packages/librosa/core/audio.py:162: UserWarning: PySoundFile failed. Trying audioread instead.\n",
      "  warnings.warn(\"PySoundFile failed. Trying audioread instead.\")\n"
     ]
    },
    {
     "name": "stdout",
     "output_type": "stream",
     "text": [
      "(65, 13)\n",
      "(65, 13)\n",
      "(65, 13)\n",
      "(65, 13)\n",
      "(65, 13)\n",
      "(65, 13)\n",
      "(65, 13)\n",
      "(65, 13)\n",
      "(65, 13)\n",
      "(65, 13)\n"
     ]
    },
    {
     "name": "stderr",
     "output_type": "stream",
     "text": [
      "/home/akriptonn/anaconda3/envs/aidj/lib/python3.8/site-packages/librosa/core/audio.py:162: UserWarning: PySoundFile failed. Trying audioread instead.\n",
      "  warnings.warn(\"PySoundFile failed. Trying audioread instead.\")\n"
     ]
    },
    {
     "name": "stdout",
     "output_type": "stream",
     "text": [
      "(65, 13)\n",
      "(65, 13)\n",
      "(65, 13)\n",
      "(65, 13)\n",
      "(65, 13)\n",
      "(65, 13)\n",
      "(65, 13)\n",
      "(65, 13)\n",
      "(65, 13)\n",
      "(65, 13)\n"
     ]
    },
    {
     "name": "stderr",
     "output_type": "stream",
     "text": [
      "/home/akriptonn/anaconda3/envs/aidj/lib/python3.8/site-packages/librosa/core/audio.py:162: UserWarning: PySoundFile failed. Trying audioread instead.\n",
      "  warnings.warn(\"PySoundFile failed. Trying audioread instead.\")\n"
     ]
    },
    {
     "name": "stdout",
     "output_type": "stream",
     "text": [
      "(65, 13)\n",
      "(65, 13)\n",
      "(65, 13)\n",
      "(65, 13)\n",
      "(65, 13)\n",
      "(65, 13)\n",
      "(65, 13)\n",
      "(65, 13)\n",
      "(65, 13)\n",
      "(65, 13)\n"
     ]
    },
    {
     "name": "stderr",
     "output_type": "stream",
     "text": [
      "/home/akriptonn/anaconda3/envs/aidj/lib/python3.8/site-packages/librosa/core/audio.py:162: UserWarning: PySoundFile failed. Trying audioread instead.\n",
      "  warnings.warn(\"PySoundFile failed. Trying audioread instead.\")\n"
     ]
    },
    {
     "name": "stdout",
     "output_type": "stream",
     "text": [
      "(65, 13)\n",
      "(65, 13)\n",
      "(65, 13)\n",
      "(65, 13)\n",
      "(65, 13)\n",
      "(65, 13)\n",
      "(65, 13)\n",
      "(65, 13)\n",
      "(65, 13)\n",
      "(65, 13)\n"
     ]
    },
    {
     "name": "stderr",
     "output_type": "stream",
     "text": [
      "/home/akriptonn/anaconda3/envs/aidj/lib/python3.8/site-packages/librosa/core/audio.py:162: UserWarning: PySoundFile failed. Trying audioread instead.\n",
      "  warnings.warn(\"PySoundFile failed. Trying audioread instead.\")\n"
     ]
    },
    {
     "name": "stdout",
     "output_type": "stream",
     "text": [
      "(65, 13)\n",
      "(65, 13)\n",
      "(65, 13)\n",
      "(65, 13)\n",
      "(65, 13)\n",
      "(65, 13)\n",
      "(65, 13)\n",
      "(65, 13)\n",
      "(65, 13)\n",
      "(65, 13)\n"
     ]
    },
    {
     "name": "stderr",
     "output_type": "stream",
     "text": [
      "/home/akriptonn/anaconda3/envs/aidj/lib/python3.8/site-packages/librosa/core/audio.py:162: UserWarning: PySoundFile failed. Trying audioread instead.\n",
      "  warnings.warn(\"PySoundFile failed. Trying audioread instead.\")\n"
     ]
    },
    {
     "name": "stdout",
     "output_type": "stream",
     "text": [
      "(65, 13)\n",
      "(65, 13)\n",
      "(65, 13)\n",
      "(65, 13)\n",
      "(65, 13)\n",
      "(65, 13)\n",
      "(65, 13)\n",
      "(65, 13)\n",
      "(65, 13)\n",
      "(65, 13)\n"
     ]
    },
    {
     "name": "stderr",
     "output_type": "stream",
     "text": [
      "/home/akriptonn/anaconda3/envs/aidj/lib/python3.8/site-packages/librosa/core/audio.py:162: UserWarning: PySoundFile failed. Trying audioread instead.\n",
      "  warnings.warn(\"PySoundFile failed. Trying audioread instead.\")\n"
     ]
    },
    {
     "name": "stdout",
     "output_type": "stream",
     "text": [
      "(65, 13)\n",
      "(65, 13)\n",
      "(65, 13)\n",
      "(65, 13)\n",
      "(65, 13)\n",
      "(65, 13)\n",
      "(65, 13)\n",
      "(65, 13)\n",
      "(65, 13)\n",
      "(65, 13)\n"
     ]
    },
    {
     "name": "stderr",
     "output_type": "stream",
     "text": [
      "/home/akriptonn/anaconda3/envs/aidj/lib/python3.8/site-packages/librosa/core/audio.py:162: UserWarning: PySoundFile failed. Trying audioread instead.\n",
      "  warnings.warn(\"PySoundFile failed. Trying audioread instead.\")\n"
     ]
    },
    {
     "name": "stdout",
     "output_type": "stream",
     "text": [
      "(65, 13)\n",
      "(65, 13)\n",
      "(65, 13)\n",
      "(65, 13)\n",
      "(65, 13)\n",
      "(65, 13)\n",
      "(65, 13)\n",
      "(65, 13)\n",
      "(65, 13)\n",
      "(65, 13)\n"
     ]
    },
    {
     "name": "stderr",
     "output_type": "stream",
     "text": [
      "/home/akriptonn/anaconda3/envs/aidj/lib/python3.8/site-packages/librosa/core/audio.py:162: UserWarning: PySoundFile failed. Trying audioread instead.\n",
      "  warnings.warn(\"PySoundFile failed. Trying audioread instead.\")\n"
     ]
    },
    {
     "name": "stdout",
     "output_type": "stream",
     "text": [
      "(65, 13)\n",
      "(65, 13)\n",
      "(65, 13)\n",
      "(65, 13)\n",
      "(65, 13)\n",
      "(65, 13)\n",
      "(65, 13)\n",
      "(65, 13)\n",
      "(65, 13)\n",
      "(65, 13)\n"
     ]
    },
    {
     "name": "stderr",
     "output_type": "stream",
     "text": [
      "/home/akriptonn/anaconda3/envs/aidj/lib/python3.8/site-packages/librosa/core/audio.py:162: UserWarning: PySoundFile failed. Trying audioread instead.\n",
      "  warnings.warn(\"PySoundFile failed. Trying audioread instead.\")\n"
     ]
    },
    {
     "name": "stdout",
     "output_type": "stream",
     "text": [
      "(65, 13)\n",
      "(65, 13)\n",
      "(65, 13)\n",
      "(65, 13)\n",
      "(65, 13)\n",
      "(65, 13)\n",
      "(65, 13)\n",
      "(65, 13)\n",
      "(65, 13)\n",
      "(65, 13)\n"
     ]
    },
    {
     "name": "stderr",
     "output_type": "stream",
     "text": [
      "/home/akriptonn/anaconda3/envs/aidj/lib/python3.8/site-packages/librosa/core/audio.py:162: UserWarning: PySoundFile failed. Trying audioread instead.\n",
      "  warnings.warn(\"PySoundFile failed. Trying audioread instead.\")\n"
     ]
    },
    {
     "name": "stdout",
     "output_type": "stream",
     "text": [
      "(65, 13)\n",
      "(65, 13)\n",
      "(65, 13)\n",
      "(65, 13)\n",
      "(65, 13)\n",
      "(65, 13)\n",
      "(65, 13)\n",
      "(65, 13)\n",
      "(65, 13)\n",
      "(65, 13)\n"
     ]
    },
    {
     "name": "stderr",
     "output_type": "stream",
     "text": [
      "/home/akriptonn/anaconda3/envs/aidj/lib/python3.8/site-packages/librosa/core/audio.py:162: UserWarning: PySoundFile failed. Trying audioread instead.\n",
      "  warnings.warn(\"PySoundFile failed. Trying audioread instead.\")\n"
     ]
    },
    {
     "name": "stdout",
     "output_type": "stream",
     "text": [
      "(65, 13)\n",
      "(65, 13)\n",
      "(65, 13)\n",
      "(65, 13)\n",
      "(65, 13)\n",
      "(65, 13)\n",
      "(65, 13)\n",
      "(65, 13)\n",
      "(65, 13)\n",
      "(65, 13)\n"
     ]
    },
    {
     "name": "stderr",
     "output_type": "stream",
     "text": [
      "/home/akriptonn/anaconda3/envs/aidj/lib/python3.8/site-packages/librosa/core/audio.py:162: UserWarning: PySoundFile failed. Trying audioread instead.\n",
      "  warnings.warn(\"PySoundFile failed. Trying audioread instead.\")\n"
     ]
    },
    {
     "name": "stdout",
     "output_type": "stream",
     "text": [
      "(65, 13)\n",
      "(65, 13)\n",
      "(65, 13)\n",
      "(65, 13)\n",
      "(65, 13)\n",
      "(65, 13)\n",
      "(65, 13)\n",
      "(65, 13)\n",
      "(65, 13)\n",
      "(65, 13)\n"
     ]
    },
    {
     "name": "stderr",
     "output_type": "stream",
     "text": [
      "/home/akriptonn/anaconda3/envs/aidj/lib/python3.8/site-packages/librosa/core/audio.py:162: UserWarning: PySoundFile failed. Trying audioread instead.\n",
      "  warnings.warn(\"PySoundFile failed. Trying audioread instead.\")\n"
     ]
    },
    {
     "name": "stdout",
     "output_type": "stream",
     "text": [
      "(65, 13)\n",
      "(65, 13)\n",
      "(65, 13)\n",
      "(65, 13)\n",
      "(65, 13)\n",
      "(65, 13)\n",
      "(65, 13)\n",
      "(65, 13)\n",
      "(65, 13)\n",
      "(65, 13)\n"
     ]
    },
    {
     "name": "stderr",
     "output_type": "stream",
     "text": [
      "/home/akriptonn/anaconda3/envs/aidj/lib/python3.8/site-packages/librosa/core/audio.py:162: UserWarning: PySoundFile failed. Trying audioread instead.\n",
      "  warnings.warn(\"PySoundFile failed. Trying audioread instead.\")\n"
     ]
    },
    {
     "name": "stdout",
     "output_type": "stream",
     "text": [
      "(65, 13)\n",
      "(65, 13)\n",
      "(65, 13)\n",
      "(65, 13)\n",
      "(65, 13)\n",
      "(65, 13)\n",
      "(65, 13)\n",
      "(65, 13)\n",
      "(65, 13)\n",
      "(65, 13)\n"
     ]
    },
    {
     "name": "stderr",
     "output_type": "stream",
     "text": [
      "/home/akriptonn/anaconda3/envs/aidj/lib/python3.8/site-packages/librosa/core/audio.py:162: UserWarning: PySoundFile failed. Trying audioread instead.\n",
      "  warnings.warn(\"PySoundFile failed. Trying audioread instead.\")\n"
     ]
    },
    {
     "name": "stdout",
     "output_type": "stream",
     "text": [
      "(65, 13)\n",
      "(65, 13)\n",
      "(65, 13)\n",
      "(65, 13)\n",
      "(65, 13)\n",
      "(65, 13)\n",
      "(65, 13)\n",
      "(65, 13)\n",
      "(65, 13)\n",
      "(65, 13)\n"
     ]
    },
    {
     "name": "stderr",
     "output_type": "stream",
     "text": [
      "/home/akriptonn/anaconda3/envs/aidj/lib/python3.8/site-packages/librosa/core/audio.py:162: UserWarning: PySoundFile failed. Trying audioread instead.\n",
      "  warnings.warn(\"PySoundFile failed. Trying audioread instead.\")\n"
     ]
    },
    {
     "name": "stdout",
     "output_type": "stream",
     "text": [
      "(65, 13)\n",
      "(65, 13)\n",
      "(65, 13)\n",
      "(65, 13)\n",
      "(65, 13)\n",
      "(65, 13)\n",
      "(65, 13)\n",
      "(65, 13)\n",
      "(65, 13)\n",
      "(65, 13)\n"
     ]
    },
    {
     "name": "stderr",
     "output_type": "stream",
     "text": [
      "/home/akriptonn/anaconda3/envs/aidj/lib/python3.8/site-packages/librosa/core/audio.py:162: UserWarning: PySoundFile failed. Trying audioread instead.\n",
      "  warnings.warn(\"PySoundFile failed. Trying audioread instead.\")\n"
     ]
    },
    {
     "name": "stdout",
     "output_type": "stream",
     "text": [
      "(65, 13)\n",
      "(65, 13)\n",
      "(65, 13)\n",
      "(65, 13)\n",
      "(65, 13)\n",
      "(65, 13)\n",
      "(65, 13)\n",
      "(65, 13)\n",
      "(65, 13)\n",
      "(65, 13)\n"
     ]
    },
    {
     "name": "stderr",
     "output_type": "stream",
     "text": [
      "/home/akriptonn/anaconda3/envs/aidj/lib/python3.8/site-packages/librosa/core/audio.py:162: UserWarning: PySoundFile failed. Trying audioread instead.\n",
      "  warnings.warn(\"PySoundFile failed. Trying audioread instead.\")\n"
     ]
    },
    {
     "name": "stdout",
     "output_type": "stream",
     "text": [
      "(65, 13)\n",
      "(65, 13)\n",
      "(65, 13)\n",
      "(65, 13)\n",
      "(65, 13)\n",
      "(65, 13)\n",
      "(65, 13)\n",
      "(65, 13)\n",
      "(65, 13)\n",
      "(65, 13)\n"
     ]
    },
    {
     "name": "stderr",
     "output_type": "stream",
     "text": [
      "/home/akriptonn/anaconda3/envs/aidj/lib/python3.8/site-packages/librosa/core/audio.py:162: UserWarning: PySoundFile failed. Trying audioread instead.\n",
      "  warnings.warn(\"PySoundFile failed. Trying audioread instead.\")\n"
     ]
    },
    {
     "name": "stdout",
     "output_type": "stream",
     "text": [
      "(65, 13)\n",
      "(65, 13)\n",
      "(65, 13)\n",
      "(65, 13)\n",
      "(65, 13)\n",
      "(65, 13)\n",
      "(65, 13)\n",
      "(65, 13)\n",
      "(65, 13)\n",
      "(65, 13)\n"
     ]
    },
    {
     "name": "stderr",
     "output_type": "stream",
     "text": [
      "/home/akriptonn/anaconda3/envs/aidj/lib/python3.8/site-packages/librosa/core/audio.py:162: UserWarning: PySoundFile failed. Trying audioread instead.\n",
      "  warnings.warn(\"PySoundFile failed. Trying audioread instead.\")\n"
     ]
    },
    {
     "name": "stdout",
     "output_type": "stream",
     "text": [
      "(65, 13)\n",
      "(65, 13)\n",
      "(65, 13)\n",
      "(65, 13)\n",
      "(65, 13)\n",
      "(65, 13)\n",
      "(65, 13)\n",
      "(65, 13)\n",
      "(65, 13)\n",
      "(65, 13)\n"
     ]
    },
    {
     "name": "stderr",
     "output_type": "stream",
     "text": [
      "/home/akriptonn/anaconda3/envs/aidj/lib/python3.8/site-packages/librosa/core/audio.py:162: UserWarning: PySoundFile failed. Trying audioread instead.\n",
      "  warnings.warn(\"PySoundFile failed. Trying audioread instead.\")\n"
     ]
    },
    {
     "name": "stdout",
     "output_type": "stream",
     "text": [
      "(65, 13)\n",
      "(65, 13)\n",
      "(65, 13)\n",
      "(65, 13)\n",
      "(65, 13)\n",
      "(65, 13)\n",
      "(65, 13)\n",
      "(65, 13)\n",
      "(65, 13)\n",
      "(65, 13)\n"
     ]
    },
    {
     "name": "stderr",
     "output_type": "stream",
     "text": [
      "/home/akriptonn/anaconda3/envs/aidj/lib/python3.8/site-packages/librosa/core/audio.py:162: UserWarning: PySoundFile failed. Trying audioread instead.\n",
      "  warnings.warn(\"PySoundFile failed. Trying audioread instead.\")\n"
     ]
    },
    {
     "name": "stdout",
     "output_type": "stream",
     "text": [
      "(65, 13)\n",
      "(65, 13)\n",
      "(65, 13)\n",
      "(65, 13)\n",
      "(65, 13)\n",
      "(65, 13)\n",
      "(65, 13)\n",
      "(65, 13)\n",
      "(65, 13)\n",
      "(65, 13)\n"
     ]
    },
    {
     "name": "stderr",
     "output_type": "stream",
     "text": [
      "/home/akriptonn/anaconda3/envs/aidj/lib/python3.8/site-packages/librosa/core/audio.py:162: UserWarning: PySoundFile failed. Trying audioread instead.\n",
      "  warnings.warn(\"PySoundFile failed. Trying audioread instead.\")\n"
     ]
    },
    {
     "name": "stdout",
     "output_type": "stream",
     "text": [
      "(65, 13)\n",
      "(65, 13)\n",
      "(65, 13)\n",
      "(65, 13)\n",
      "(65, 13)\n",
      "(65, 13)\n",
      "(65, 13)\n",
      "(65, 13)\n",
      "(65, 13)\n",
      "(65, 13)\n"
     ]
    },
    {
     "name": "stderr",
     "output_type": "stream",
     "text": [
      "/home/akriptonn/anaconda3/envs/aidj/lib/python3.8/site-packages/librosa/core/audio.py:162: UserWarning: PySoundFile failed. Trying audioread instead.\n",
      "  warnings.warn(\"PySoundFile failed. Trying audioread instead.\")\n"
     ]
    },
    {
     "name": "stdout",
     "output_type": "stream",
     "text": [
      "(65, 13)\n",
      "(65, 13)\n",
      "(65, 13)\n",
      "(65, 13)\n",
      "(65, 13)\n",
      "(65, 13)\n",
      "(65, 13)\n",
      "(65, 13)\n",
      "(65, 13)\n",
      "(65, 13)\n"
     ]
    },
    {
     "name": "stderr",
     "output_type": "stream",
     "text": [
      "/home/akriptonn/anaconda3/envs/aidj/lib/python3.8/site-packages/librosa/core/audio.py:162: UserWarning: PySoundFile failed. Trying audioread instead.\n",
      "  warnings.warn(\"PySoundFile failed. Trying audioread instead.\")\n"
     ]
    },
    {
     "name": "stdout",
     "output_type": "stream",
     "text": [
      "(65, 13)\n",
      "(65, 13)\n",
      "(65, 13)\n",
      "(65, 13)\n",
      "(65, 13)\n",
      "(65, 13)\n",
      "(65, 13)\n",
      "(65, 13)\n",
      "(65, 13)\n",
      "(65, 13)\n"
     ]
    },
    {
     "name": "stderr",
     "output_type": "stream",
     "text": [
      "/home/akriptonn/anaconda3/envs/aidj/lib/python3.8/site-packages/librosa/core/audio.py:162: UserWarning: PySoundFile failed. Trying audioread instead.\n",
      "  warnings.warn(\"PySoundFile failed. Trying audioread instead.\")\n"
     ]
    },
    {
     "name": "stdout",
     "output_type": "stream",
     "text": [
      "(65, 13)\n",
      "(65, 13)\n",
      "(65, 13)\n",
      "(65, 13)\n",
      "(65, 13)\n",
      "(65, 13)\n",
      "(65, 13)\n",
      "(65, 13)\n",
      "(65, 13)\n",
      "(65, 13)\n"
     ]
    },
    {
     "name": "stderr",
     "output_type": "stream",
     "text": [
      "/home/akriptonn/anaconda3/envs/aidj/lib/python3.8/site-packages/librosa/core/audio.py:162: UserWarning: PySoundFile failed. Trying audioread instead.\n",
      "  warnings.warn(\"PySoundFile failed. Trying audioread instead.\")\n"
     ]
    },
    {
     "name": "stdout",
     "output_type": "stream",
     "text": [
      "(65, 13)\n",
      "(65, 13)\n",
      "(65, 13)\n",
      "(65, 13)\n",
      "(65, 13)\n",
      "(65, 13)\n",
      "(65, 13)\n",
      "(65, 13)\n",
      "(65, 13)\n",
      "(65, 13)\n"
     ]
    },
    {
     "name": "stderr",
     "output_type": "stream",
     "text": [
      "/home/akriptonn/anaconda3/envs/aidj/lib/python3.8/site-packages/librosa/core/audio.py:162: UserWarning: PySoundFile failed. Trying audioread instead.\n",
      "  warnings.warn(\"PySoundFile failed. Trying audioread instead.\")\n"
     ]
    },
    {
     "name": "stdout",
     "output_type": "stream",
     "text": [
      "(65, 13)\n",
      "(65, 13)\n",
      "(65, 13)\n",
      "(65, 13)\n",
      "(65, 13)\n",
      "(65, 13)\n",
      "(65, 13)\n",
      "(65, 13)\n",
      "(65, 13)\n",
      "(65, 13)\n"
     ]
    },
    {
     "name": "stderr",
     "output_type": "stream",
     "text": [
      "/home/akriptonn/anaconda3/envs/aidj/lib/python3.8/site-packages/librosa/core/audio.py:162: UserWarning: PySoundFile failed. Trying audioread instead.\n",
      "  warnings.warn(\"PySoundFile failed. Trying audioread instead.\")\n"
     ]
    },
    {
     "name": "stdout",
     "output_type": "stream",
     "text": [
      "(65, 13)\n",
      "(65, 13)\n",
      "(65, 13)\n",
      "(65, 13)\n",
      "(65, 13)\n",
      "(65, 13)\n",
      "(65, 13)\n",
      "(65, 13)\n",
      "(65, 13)\n",
      "(65, 13)\n"
     ]
    },
    {
     "name": "stderr",
     "output_type": "stream",
     "text": [
      "/home/akriptonn/anaconda3/envs/aidj/lib/python3.8/site-packages/librosa/core/audio.py:162: UserWarning: PySoundFile failed. Trying audioread instead.\n",
      "  warnings.warn(\"PySoundFile failed. Trying audioread instead.\")\n"
     ]
    },
    {
     "name": "stdout",
     "output_type": "stream",
     "text": [
      "(65, 13)\n",
      "(65, 13)\n",
      "(65, 13)\n",
      "(65, 13)\n",
      "(65, 13)\n",
      "(65, 13)\n",
      "(65, 13)\n",
      "(65, 13)\n",
      "(65, 13)\n",
      "(65, 13)\n"
     ]
    },
    {
     "name": "stderr",
     "output_type": "stream",
     "text": [
      "/home/akriptonn/anaconda3/envs/aidj/lib/python3.8/site-packages/librosa/core/audio.py:162: UserWarning: PySoundFile failed. Trying audioread instead.\n",
      "  warnings.warn(\"PySoundFile failed. Trying audioread instead.\")\n"
     ]
    },
    {
     "name": "stdout",
     "output_type": "stream",
     "text": [
      "(65, 13)\n",
      "(65, 13)\n",
      "(65, 13)\n",
      "(65, 13)\n",
      "(65, 13)\n",
      "(65, 13)\n",
      "(65, 13)\n",
      "(65, 13)\n",
      "(65, 13)\n",
      "(65, 13)\n"
     ]
    },
    {
     "name": "stderr",
     "output_type": "stream",
     "text": [
      "/home/akriptonn/anaconda3/envs/aidj/lib/python3.8/site-packages/librosa/core/audio.py:162: UserWarning: PySoundFile failed. Trying audioread instead.\n",
      "  warnings.warn(\"PySoundFile failed. Trying audioread instead.\")\n"
     ]
    },
    {
     "name": "stdout",
     "output_type": "stream",
     "text": [
      "(65, 13)\n",
      "(65, 13)\n",
      "(65, 13)\n",
      "(65, 13)\n",
      "(65, 13)\n",
      "(65, 13)\n",
      "(65, 13)\n",
      "(65, 13)\n",
      "(65, 13)\n",
      "(65, 13)\n"
     ]
    },
    {
     "name": "stderr",
     "output_type": "stream",
     "text": [
      "/home/akriptonn/anaconda3/envs/aidj/lib/python3.8/site-packages/librosa/core/audio.py:162: UserWarning: PySoundFile failed. Trying audioread instead.\n",
      "  warnings.warn(\"PySoundFile failed. Trying audioread instead.\")\n"
     ]
    },
    {
     "name": "stdout",
     "output_type": "stream",
     "text": [
      "(65, 13)\n",
      "(65, 13)\n",
      "(65, 13)\n",
      "(65, 13)\n",
      "(65, 13)\n",
      "(65, 13)\n",
      "(65, 13)\n",
      "(65, 13)\n",
      "(65, 13)\n",
      "(65, 13)\n"
     ]
    },
    {
     "name": "stderr",
     "output_type": "stream",
     "text": [
      "/home/akriptonn/anaconda3/envs/aidj/lib/python3.8/site-packages/librosa/core/audio.py:162: UserWarning: PySoundFile failed. Trying audioread instead.\n",
      "  warnings.warn(\"PySoundFile failed. Trying audioread instead.\")\n"
     ]
    },
    {
     "name": "stdout",
     "output_type": "stream",
     "text": [
      "(65, 13)\n",
      "(65, 13)\n",
      "(65, 13)\n",
      "(65, 13)\n",
      "(65, 13)\n",
      "(65, 13)\n",
      "(65, 13)\n",
      "(65, 13)\n",
      "(65, 13)\n",
      "(65, 13)\n"
     ]
    },
    {
     "name": "stderr",
     "output_type": "stream",
     "text": [
      "/home/akriptonn/anaconda3/envs/aidj/lib/python3.8/site-packages/librosa/core/audio.py:162: UserWarning: PySoundFile failed. Trying audioread instead.\n",
      "  warnings.warn(\"PySoundFile failed. Trying audioread instead.\")\n"
     ]
    },
    {
     "name": "stdout",
     "output_type": "stream",
     "text": [
      "(65, 13)\n",
      "(65, 13)\n",
      "(65, 13)\n",
      "(65, 13)\n",
      "(65, 13)\n",
      "(65, 13)\n",
      "(65, 13)\n",
      "(65, 13)\n",
      "(65, 13)\n",
      "(65, 13)\n"
     ]
    },
    {
     "name": "stderr",
     "output_type": "stream",
     "text": [
      "/home/akriptonn/anaconda3/envs/aidj/lib/python3.8/site-packages/librosa/core/audio.py:162: UserWarning: PySoundFile failed. Trying audioread instead.\n",
      "  warnings.warn(\"PySoundFile failed. Trying audioread instead.\")\n"
     ]
    },
    {
     "name": "stdout",
     "output_type": "stream",
     "text": [
      "(65, 13)\n",
      "(65, 13)\n",
      "(65, 13)\n",
      "(65, 13)\n",
      "(65, 13)\n",
      "(65, 13)\n",
      "(65, 13)\n",
      "(65, 13)\n",
      "(65, 13)\n",
      "(65, 13)\n"
     ]
    },
    {
     "name": "stderr",
     "output_type": "stream",
     "text": [
      "/home/akriptonn/anaconda3/envs/aidj/lib/python3.8/site-packages/librosa/core/audio.py:162: UserWarning: PySoundFile failed. Trying audioread instead.\n",
      "  warnings.warn(\"PySoundFile failed. Trying audioread instead.\")\n"
     ]
    },
    {
     "name": "stdout",
     "output_type": "stream",
     "text": [
      "(65, 13)\n",
      "(65, 13)\n",
      "(65, 13)\n",
      "(65, 13)\n",
      "(65, 13)\n",
      "(65, 13)\n",
      "(65, 13)\n",
      "(65, 13)\n",
      "(65, 13)\n",
      "(65, 13)\n"
     ]
    },
    {
     "name": "stderr",
     "output_type": "stream",
     "text": [
      "/home/akriptonn/anaconda3/envs/aidj/lib/python3.8/site-packages/librosa/core/audio.py:162: UserWarning: PySoundFile failed. Trying audioread instead.\n",
      "  warnings.warn(\"PySoundFile failed. Trying audioread instead.\")\n"
     ]
    },
    {
     "name": "stdout",
     "output_type": "stream",
     "text": [
      "(65, 13)\n",
      "(65, 13)\n",
      "(65, 13)\n",
      "(65, 13)\n",
      "(65, 13)\n",
      "(65, 13)\n",
      "(65, 13)\n",
      "(65, 13)\n",
      "(65, 13)\n",
      "(65, 13)\n"
     ]
    },
    {
     "name": "stderr",
     "output_type": "stream",
     "text": [
      "/home/akriptonn/anaconda3/envs/aidj/lib/python3.8/site-packages/librosa/core/audio.py:162: UserWarning: PySoundFile failed. Trying audioread instead.\n",
      "  warnings.warn(\"PySoundFile failed. Trying audioread instead.\")\n"
     ]
    },
    {
     "name": "stdout",
     "output_type": "stream",
     "text": [
      "(65, 13)\n",
      "(65, 13)\n",
      "(65, 13)\n",
      "(65, 13)\n",
      "(65, 13)\n",
      "(65, 13)\n",
      "(65, 13)\n",
      "(65, 13)\n",
      "(65, 13)\n",
      "(65, 13)\n"
     ]
    },
    {
     "name": "stderr",
     "output_type": "stream",
     "text": [
      "/home/akriptonn/anaconda3/envs/aidj/lib/python3.8/site-packages/librosa/core/audio.py:162: UserWarning: PySoundFile failed. Trying audioread instead.\n",
      "  warnings.warn(\"PySoundFile failed. Trying audioread instead.\")\n"
     ]
    },
    {
     "name": "stdout",
     "output_type": "stream",
     "text": [
      "(65, 13)\n",
      "(65, 13)\n",
      "(65, 13)\n",
      "(65, 13)\n",
      "(65, 13)\n",
      "(65, 13)\n",
      "(65, 13)\n",
      "(65, 13)\n",
      "(65, 13)\n",
      "(65, 13)\n"
     ]
    },
    {
     "name": "stderr",
     "output_type": "stream",
     "text": [
      "/home/akriptonn/anaconda3/envs/aidj/lib/python3.8/site-packages/librosa/core/audio.py:162: UserWarning: PySoundFile failed. Trying audioread instead.\n",
      "  warnings.warn(\"PySoundFile failed. Trying audioread instead.\")\n"
     ]
    },
    {
     "name": "stdout",
     "output_type": "stream",
     "text": [
      "(65, 13)\n",
      "(65, 13)\n",
      "(65, 13)\n",
      "(65, 13)\n",
      "(65, 13)\n",
      "(65, 13)\n",
      "(65, 13)\n",
      "(65, 13)\n",
      "(65, 13)\n",
      "(65, 13)\n"
     ]
    },
    {
     "name": "stderr",
     "output_type": "stream",
     "text": [
      "/home/akriptonn/anaconda3/envs/aidj/lib/python3.8/site-packages/librosa/core/audio.py:162: UserWarning: PySoundFile failed. Trying audioread instead.\n",
      "  warnings.warn(\"PySoundFile failed. Trying audioread instead.\")\n"
     ]
    },
    {
     "name": "stdout",
     "output_type": "stream",
     "text": [
      "(65, 13)\n",
      "(65, 13)\n",
      "(65, 13)\n",
      "(65, 13)\n",
      "(65, 13)\n",
      "(65, 13)\n",
      "(65, 13)\n",
      "(65, 13)\n",
      "(65, 13)\n",
      "(65, 13)\n"
     ]
    },
    {
     "name": "stderr",
     "output_type": "stream",
     "text": [
      "/home/akriptonn/anaconda3/envs/aidj/lib/python3.8/site-packages/librosa/core/audio.py:162: UserWarning: PySoundFile failed. Trying audioread instead.\n",
      "  warnings.warn(\"PySoundFile failed. Trying audioread instead.\")\n"
     ]
    },
    {
     "name": "stdout",
     "output_type": "stream",
     "text": [
      "(65, 13)\n",
      "(65, 13)\n",
      "(65, 13)\n",
      "(65, 13)\n",
      "(65, 13)\n",
      "(65, 13)\n",
      "(65, 13)\n",
      "(65, 13)\n",
      "(65, 13)\n",
      "(65, 13)\n"
     ]
    },
    {
     "name": "stderr",
     "output_type": "stream",
     "text": [
      "/home/akriptonn/anaconda3/envs/aidj/lib/python3.8/site-packages/librosa/core/audio.py:162: UserWarning: PySoundFile failed. Trying audioread instead.\n",
      "  warnings.warn(\"PySoundFile failed. Trying audioread instead.\")\n"
     ]
    },
    {
     "name": "stdout",
     "output_type": "stream",
     "text": [
      "(65, 13)\n",
      "(65, 13)\n",
      "(65, 13)\n",
      "(65, 13)\n",
      "(65, 13)\n",
      "(65, 13)\n",
      "(65, 13)\n",
      "(65, 13)\n",
      "(65, 13)\n",
      "(65, 13)\n"
     ]
    },
    {
     "name": "stderr",
     "output_type": "stream",
     "text": [
      "/home/akriptonn/anaconda3/envs/aidj/lib/python3.8/site-packages/librosa/core/audio.py:162: UserWarning: PySoundFile failed. Trying audioread instead.\n",
      "  warnings.warn(\"PySoundFile failed. Trying audioread instead.\")\n"
     ]
    },
    {
     "name": "stdout",
     "output_type": "stream",
     "text": [
      "(65, 13)\n",
      "(65, 13)\n",
      "(65, 13)\n",
      "(65, 13)\n",
      "(65, 13)\n",
      "(65, 13)\n",
      "(65, 13)\n",
      "(65, 13)\n",
      "(65, 13)\n",
      "(65, 13)\n"
     ]
    },
    {
     "name": "stderr",
     "output_type": "stream",
     "text": [
      "/home/akriptonn/anaconda3/envs/aidj/lib/python3.8/site-packages/librosa/core/audio.py:162: UserWarning: PySoundFile failed. Trying audioread instead.\n",
      "  warnings.warn(\"PySoundFile failed. Trying audioread instead.\")\n"
     ]
    },
    {
     "name": "stdout",
     "output_type": "stream",
     "text": [
      "(65, 13)\n",
      "(65, 13)\n",
      "(65, 13)\n",
      "(65, 13)\n",
      "(65, 13)\n",
      "(65, 13)\n",
      "(65, 13)\n",
      "(65, 13)\n",
      "(65, 13)\n",
      "(65, 13)\n"
     ]
    },
    {
     "name": "stderr",
     "output_type": "stream",
     "text": [
      "/home/akriptonn/anaconda3/envs/aidj/lib/python3.8/site-packages/librosa/core/audio.py:162: UserWarning: PySoundFile failed. Trying audioread instead.\n",
      "  warnings.warn(\"PySoundFile failed. Trying audioread instead.\")\n"
     ]
    },
    {
     "name": "stdout",
     "output_type": "stream",
     "text": [
      "(65, 13)\n",
      "(65, 13)\n",
      "(65, 13)\n",
      "(65, 13)\n",
      "(65, 13)\n",
      "(65, 13)\n",
      "(65, 13)\n",
      "(65, 13)\n",
      "(65, 13)\n",
      "(65, 13)\n"
     ]
    },
    {
     "name": "stderr",
     "output_type": "stream",
     "text": [
      "/home/akriptonn/anaconda3/envs/aidj/lib/python3.8/site-packages/librosa/core/audio.py:162: UserWarning: PySoundFile failed. Trying audioread instead.\n",
      "  warnings.warn(\"PySoundFile failed. Trying audioread instead.\")\n"
     ]
    },
    {
     "name": "stdout",
     "output_type": "stream",
     "text": [
      "(65, 13)\n",
      "(65, 13)\n",
      "(65, 13)\n",
      "(65, 13)\n",
      "(65, 13)\n",
      "(65, 13)\n",
      "(65, 13)\n",
      "(65, 13)\n",
      "(65, 13)\n",
      "(65, 13)\n"
     ]
    },
    {
     "name": "stderr",
     "output_type": "stream",
     "text": [
      "/home/akriptonn/anaconda3/envs/aidj/lib/python3.8/site-packages/librosa/core/audio.py:162: UserWarning: PySoundFile failed. Trying audioread instead.\n",
      "  warnings.warn(\"PySoundFile failed. Trying audioread instead.\")\n"
     ]
    },
    {
     "name": "stdout",
     "output_type": "stream",
     "text": [
      "(65, 13)\n",
      "(65, 13)\n",
      "(65, 13)\n",
      "(65, 13)\n",
      "(65, 13)\n",
      "(65, 13)\n",
      "(65, 13)\n",
      "(65, 13)\n",
      "(65, 13)\n",
      "(65, 13)\n"
     ]
    },
    {
     "name": "stderr",
     "output_type": "stream",
     "text": [
      "/home/akriptonn/anaconda3/envs/aidj/lib/python3.8/site-packages/librosa/core/audio.py:162: UserWarning: PySoundFile failed. Trying audioread instead.\n",
      "  warnings.warn(\"PySoundFile failed. Trying audioread instead.\")\n"
     ]
    },
    {
     "name": "stdout",
     "output_type": "stream",
     "text": [
      "(65, 13)\n",
      "(65, 13)\n",
      "(65, 13)\n",
      "(65, 13)\n",
      "(65, 13)\n",
      "(65, 13)\n",
      "(65, 13)\n",
      "(65, 13)\n",
      "(65, 13)\n",
      "(65, 13)\n"
     ]
    },
    {
     "name": "stderr",
     "output_type": "stream",
     "text": [
      "/home/akriptonn/anaconda3/envs/aidj/lib/python3.8/site-packages/librosa/core/audio.py:162: UserWarning: PySoundFile failed. Trying audioread instead.\n",
      "  warnings.warn(\"PySoundFile failed. Trying audioread instead.\")\n"
     ]
    },
    {
     "name": "stdout",
     "output_type": "stream",
     "text": [
      "(65, 13)\n",
      "(65, 13)\n",
      "(65, 13)\n",
      "(65, 13)\n",
      "(65, 13)\n",
      "(65, 13)\n",
      "(65, 13)\n",
      "(65, 13)\n",
      "(65, 13)\n",
      "(65, 13)\n"
     ]
    },
    {
     "name": "stderr",
     "output_type": "stream",
     "text": [
      "/home/akriptonn/anaconda3/envs/aidj/lib/python3.8/site-packages/librosa/core/audio.py:162: UserWarning: PySoundFile failed. Trying audioread instead.\n",
      "  warnings.warn(\"PySoundFile failed. Trying audioread instead.\")\n"
     ]
    },
    {
     "name": "stdout",
     "output_type": "stream",
     "text": [
      "(65, 13)\n",
      "(65, 13)\n",
      "(65, 13)\n",
      "(65, 13)\n",
      "(65, 13)\n",
      "(65, 13)\n",
      "(65, 13)\n",
      "(65, 13)\n",
      "(65, 13)\n",
      "(65, 13)\n"
     ]
    },
    {
     "name": "stderr",
     "output_type": "stream",
     "text": [
      "/home/akriptonn/anaconda3/envs/aidj/lib/python3.8/site-packages/librosa/core/audio.py:162: UserWarning: PySoundFile failed. Trying audioread instead.\n",
      "  warnings.warn(\"PySoundFile failed. Trying audioread instead.\")\n"
     ]
    },
    {
     "name": "stdout",
     "output_type": "stream",
     "text": [
      "(65, 13)\n",
      "(65, 13)\n",
      "(65, 13)\n",
      "(65, 13)\n",
      "(65, 13)\n",
      "(65, 13)\n",
      "(65, 13)\n",
      "(65, 13)\n",
      "(65, 13)\n",
      "(65, 13)\n"
     ]
    },
    {
     "name": "stderr",
     "output_type": "stream",
     "text": [
      "/home/akriptonn/anaconda3/envs/aidj/lib/python3.8/site-packages/librosa/core/audio.py:162: UserWarning: PySoundFile failed. Trying audioread instead.\n",
      "  warnings.warn(\"PySoundFile failed. Trying audioread instead.\")\n"
     ]
    },
    {
     "name": "stdout",
     "output_type": "stream",
     "text": [
      "(65, 13)\n",
      "(65, 13)\n",
      "(65, 13)\n",
      "(65, 13)\n",
      "(65, 13)\n",
      "(65, 13)\n",
      "(65, 13)\n",
      "(65, 13)\n",
      "(65, 13)\n",
      "(65, 13)\n",
      "\n",
      "Processing FUTURE HOUSE\n"
     ]
    },
    {
     "name": "stderr",
     "output_type": "stream",
     "text": [
      "/home/akriptonn/anaconda3/envs/aidj/lib/python3.8/site-packages/librosa/core/audio.py:162: UserWarning: PySoundFile failed. Trying audioread instead.\n",
      "  warnings.warn(\"PySoundFile failed. Trying audioread instead.\")\n"
     ]
    },
    {
     "name": "stdout",
     "output_type": "stream",
     "text": [
      "(65, 13)\n",
      "(65, 13)\n",
      "(65, 13)\n",
      "(65, 13)\n",
      "(65, 13)\n",
      "(65, 13)\n",
      "(65, 13)\n",
      "(65, 13)\n",
      "(65, 13)\n",
      "(65, 13)\n"
     ]
    },
    {
     "name": "stderr",
     "output_type": "stream",
     "text": [
      "/home/akriptonn/anaconda3/envs/aidj/lib/python3.8/site-packages/librosa/core/audio.py:162: UserWarning: PySoundFile failed. Trying audioread instead.\n",
      "  warnings.warn(\"PySoundFile failed. Trying audioread instead.\")\n"
     ]
    },
    {
     "name": "stdout",
     "output_type": "stream",
     "text": [
      "(65, 13)\n",
      "(65, 13)\n",
      "(65, 13)\n",
      "(65, 13)\n",
      "(65, 13)\n",
      "(65, 13)\n",
      "(65, 13)\n",
      "(65, 13)\n",
      "(65, 13)\n",
      "(65, 13)\n"
     ]
    },
    {
     "name": "stderr",
     "output_type": "stream",
     "text": [
      "/home/akriptonn/anaconda3/envs/aidj/lib/python3.8/site-packages/librosa/core/audio.py:162: UserWarning: PySoundFile failed. Trying audioread instead.\n",
      "  warnings.warn(\"PySoundFile failed. Trying audioread instead.\")\n"
     ]
    },
    {
     "name": "stdout",
     "output_type": "stream",
     "text": [
      "(65, 13)\n",
      "(65, 13)\n",
      "(65, 13)\n",
      "(65, 13)\n",
      "(65, 13)\n",
      "(65, 13)\n",
      "(65, 13)\n",
      "(65, 13)\n",
      "(65, 13)\n",
      "(65, 13)\n"
     ]
    },
    {
     "name": "stderr",
     "output_type": "stream",
     "text": [
      "/home/akriptonn/anaconda3/envs/aidj/lib/python3.8/site-packages/librosa/core/audio.py:162: UserWarning: PySoundFile failed. Trying audioread instead.\n",
      "  warnings.warn(\"PySoundFile failed. Trying audioread instead.\")\n"
     ]
    },
    {
     "name": "stdout",
     "output_type": "stream",
     "text": [
      "(65, 13)\n",
      "(65, 13)\n",
      "(65, 13)\n",
      "(65, 13)\n",
      "(65, 13)\n",
      "(65, 13)\n",
      "(65, 13)\n",
      "(65, 13)\n",
      "(65, 13)\n",
      "(65, 13)\n"
     ]
    },
    {
     "name": "stderr",
     "output_type": "stream",
     "text": [
      "/home/akriptonn/anaconda3/envs/aidj/lib/python3.8/site-packages/librosa/core/audio.py:162: UserWarning: PySoundFile failed. Trying audioread instead.\n",
      "  warnings.warn(\"PySoundFile failed. Trying audioread instead.\")\n"
     ]
    },
    {
     "name": "stdout",
     "output_type": "stream",
     "text": [
      "(65, 13)\n",
      "(65, 13)\n",
      "(65, 13)\n",
      "(65, 13)\n",
      "(65, 13)\n",
      "(65, 13)\n",
      "(65, 13)\n",
      "(65, 13)\n",
      "(65, 13)\n",
      "(65, 13)\n"
     ]
    },
    {
     "name": "stderr",
     "output_type": "stream",
     "text": [
      "/home/akriptonn/anaconda3/envs/aidj/lib/python3.8/site-packages/librosa/core/audio.py:162: UserWarning: PySoundFile failed. Trying audioread instead.\n",
      "  warnings.warn(\"PySoundFile failed. Trying audioread instead.\")\n"
     ]
    },
    {
     "name": "stdout",
     "output_type": "stream",
     "text": [
      "(65, 13)\n",
      "(65, 13)\n",
      "(65, 13)\n",
      "(65, 13)\n",
      "(65, 13)\n",
      "(65, 13)\n",
      "(65, 13)\n",
      "(65, 13)\n",
      "(65, 13)\n",
      "(65, 13)\n"
     ]
    },
    {
     "name": "stderr",
     "output_type": "stream",
     "text": [
      "/home/akriptonn/anaconda3/envs/aidj/lib/python3.8/site-packages/librosa/core/audio.py:162: UserWarning: PySoundFile failed. Trying audioread instead.\n",
      "  warnings.warn(\"PySoundFile failed. Trying audioread instead.\")\n"
     ]
    },
    {
     "name": "stdout",
     "output_type": "stream",
     "text": [
      "(65, 13)\n",
      "(65, 13)\n",
      "(65, 13)\n",
      "(65, 13)\n",
      "(65, 13)\n",
      "(65, 13)\n",
      "(65, 13)\n",
      "(65, 13)\n",
      "(65, 13)\n",
      "(65, 13)\n"
     ]
    },
    {
     "name": "stderr",
     "output_type": "stream",
     "text": [
      "/home/akriptonn/anaconda3/envs/aidj/lib/python3.8/site-packages/librosa/core/audio.py:162: UserWarning: PySoundFile failed. Trying audioread instead.\n",
      "  warnings.warn(\"PySoundFile failed. Trying audioread instead.\")\n"
     ]
    },
    {
     "name": "stdout",
     "output_type": "stream",
     "text": [
      "(65, 13)\n",
      "(65, 13)\n",
      "(65, 13)\n",
      "(65, 13)\n",
      "(65, 13)\n",
      "(65, 13)\n",
      "(65, 13)\n",
      "(65, 13)\n",
      "(65, 13)\n",
      "(65, 13)\n"
     ]
    },
    {
     "name": "stderr",
     "output_type": "stream",
     "text": [
      "/home/akriptonn/anaconda3/envs/aidj/lib/python3.8/site-packages/librosa/core/audio.py:162: UserWarning: PySoundFile failed. Trying audioread instead.\n",
      "  warnings.warn(\"PySoundFile failed. Trying audioread instead.\")\n"
     ]
    },
    {
     "name": "stdout",
     "output_type": "stream",
     "text": [
      "(65, 13)\n",
      "(65, 13)\n",
      "(65, 13)\n",
      "(65, 13)\n",
      "(65, 13)\n",
      "(65, 13)\n",
      "(65, 13)\n",
      "(65, 13)\n",
      "(65, 13)\n",
      "(65, 13)\n"
     ]
    },
    {
     "name": "stderr",
     "output_type": "stream",
     "text": [
      "/home/akriptonn/anaconda3/envs/aidj/lib/python3.8/site-packages/librosa/core/audio.py:162: UserWarning: PySoundFile failed. Trying audioread instead.\n",
      "  warnings.warn(\"PySoundFile failed. Trying audioread instead.\")\n"
     ]
    },
    {
     "name": "stdout",
     "output_type": "stream",
     "text": [
      "(65, 13)\n",
      "(65, 13)\n",
      "(65, 13)\n",
      "(65, 13)\n",
      "(65, 13)\n",
      "(65, 13)\n",
      "(65, 13)\n",
      "(65, 13)\n",
      "(65, 13)\n",
      "(65, 13)\n"
     ]
    },
    {
     "name": "stderr",
     "output_type": "stream",
     "text": [
      "/home/akriptonn/anaconda3/envs/aidj/lib/python3.8/site-packages/librosa/core/audio.py:162: UserWarning: PySoundFile failed. Trying audioread instead.\n",
      "  warnings.warn(\"PySoundFile failed. Trying audioread instead.\")\n"
     ]
    },
    {
     "name": "stdout",
     "output_type": "stream",
     "text": [
      "(65, 13)\n",
      "(65, 13)\n",
      "(65, 13)\n",
      "(65, 13)\n",
      "(65, 13)\n",
      "(65, 13)\n",
      "(65, 13)\n",
      "(65, 13)\n",
      "(65, 13)\n",
      "(65, 13)\n"
     ]
    },
    {
     "name": "stderr",
     "output_type": "stream",
     "text": [
      "/home/akriptonn/anaconda3/envs/aidj/lib/python3.8/site-packages/librosa/core/audio.py:162: UserWarning: PySoundFile failed. Trying audioread instead.\n",
      "  warnings.warn(\"PySoundFile failed. Trying audioread instead.\")\n"
     ]
    },
    {
     "name": "stdout",
     "output_type": "stream",
     "text": [
      "(65, 13)\n",
      "(65, 13)\n",
      "(65, 13)\n",
      "(65, 13)\n",
      "(65, 13)\n",
      "(65, 13)\n",
      "(65, 13)\n",
      "(65, 13)\n",
      "(65, 13)\n",
      "(65, 13)\n"
     ]
    },
    {
     "name": "stderr",
     "output_type": "stream",
     "text": [
      "/home/akriptonn/anaconda3/envs/aidj/lib/python3.8/site-packages/librosa/core/audio.py:162: UserWarning: PySoundFile failed. Trying audioread instead.\n",
      "  warnings.warn(\"PySoundFile failed. Trying audioread instead.\")\n"
     ]
    },
    {
     "name": "stdout",
     "output_type": "stream",
     "text": [
      "(65, 13)\n",
      "(65, 13)\n",
      "(65, 13)\n",
      "(65, 13)\n",
      "(65, 13)\n",
      "(65, 13)\n",
      "(65, 13)\n",
      "(65, 13)\n",
      "(65, 13)\n",
      "(65, 13)\n"
     ]
    },
    {
     "name": "stderr",
     "output_type": "stream",
     "text": [
      "/home/akriptonn/anaconda3/envs/aidj/lib/python3.8/site-packages/librosa/core/audio.py:162: UserWarning: PySoundFile failed. Trying audioread instead.\n",
      "  warnings.warn(\"PySoundFile failed. Trying audioread instead.\")\n"
     ]
    },
    {
     "name": "stdout",
     "output_type": "stream",
     "text": [
      "(65, 13)\n",
      "(65, 13)\n",
      "(65, 13)\n",
      "(65, 13)\n",
      "(65, 13)\n",
      "(65, 13)\n",
      "(65, 13)\n",
      "(65, 13)\n",
      "(65, 13)\n",
      "(65, 13)\n"
     ]
    },
    {
     "name": "stderr",
     "output_type": "stream",
     "text": [
      "/home/akriptonn/anaconda3/envs/aidj/lib/python3.8/site-packages/librosa/core/audio.py:162: UserWarning: PySoundFile failed. Trying audioread instead.\n",
      "  warnings.warn(\"PySoundFile failed. Trying audioread instead.\")\n"
     ]
    },
    {
     "name": "stdout",
     "output_type": "stream",
     "text": [
      "(65, 13)\n",
      "(65, 13)\n",
      "(65, 13)\n",
      "(65, 13)\n",
      "(65, 13)\n",
      "(65, 13)\n",
      "(65, 13)\n",
      "(65, 13)\n",
      "(65, 13)\n",
      "(65, 13)\n"
     ]
    },
    {
     "name": "stderr",
     "output_type": "stream",
     "text": [
      "/home/akriptonn/anaconda3/envs/aidj/lib/python3.8/site-packages/librosa/core/audio.py:162: UserWarning: PySoundFile failed. Trying audioread instead.\n",
      "  warnings.warn(\"PySoundFile failed. Trying audioread instead.\")\n"
     ]
    },
    {
     "name": "stdout",
     "output_type": "stream",
     "text": [
      "(65, 13)\n",
      "(65, 13)\n",
      "(65, 13)\n",
      "(65, 13)\n",
      "(65, 13)\n",
      "(65, 13)\n",
      "(65, 13)\n",
      "(65, 13)\n",
      "(65, 13)\n",
      "(65, 13)\n"
     ]
    },
    {
     "name": "stderr",
     "output_type": "stream",
     "text": [
      "/home/akriptonn/anaconda3/envs/aidj/lib/python3.8/site-packages/librosa/core/audio.py:162: UserWarning: PySoundFile failed. Trying audioread instead.\n",
      "  warnings.warn(\"PySoundFile failed. Trying audioread instead.\")\n"
     ]
    },
    {
     "name": "stdout",
     "output_type": "stream",
     "text": [
      "(65, 13)\n",
      "(65, 13)\n",
      "(65, 13)\n",
      "(65, 13)\n",
      "(65, 13)\n",
      "(65, 13)\n",
      "(65, 13)\n",
      "(65, 13)\n",
      "(65, 13)\n",
      "(65, 13)\n"
     ]
    },
    {
     "name": "stderr",
     "output_type": "stream",
     "text": [
      "/home/akriptonn/anaconda3/envs/aidj/lib/python3.8/site-packages/librosa/core/audio.py:162: UserWarning: PySoundFile failed. Trying audioread instead.\n",
      "  warnings.warn(\"PySoundFile failed. Trying audioread instead.\")\n"
     ]
    },
    {
     "name": "stdout",
     "output_type": "stream",
     "text": [
      "(65, 13)\n",
      "(65, 13)\n",
      "(65, 13)\n",
      "(65, 13)\n",
      "(65, 13)\n",
      "(65, 13)\n",
      "(65, 13)\n",
      "(65, 13)\n",
      "(65, 13)\n",
      "(65, 13)\n"
     ]
    },
    {
     "name": "stderr",
     "output_type": "stream",
     "text": [
      "/home/akriptonn/anaconda3/envs/aidj/lib/python3.8/site-packages/librosa/core/audio.py:162: UserWarning: PySoundFile failed. Trying audioread instead.\n",
      "  warnings.warn(\"PySoundFile failed. Trying audioread instead.\")\n"
     ]
    },
    {
     "name": "stdout",
     "output_type": "stream",
     "text": [
      "(65, 13)\n",
      "(65, 13)\n",
      "(65, 13)\n",
      "(65, 13)\n",
      "(65, 13)\n",
      "(65, 13)\n",
      "(65, 13)\n",
      "(65, 13)\n",
      "(65, 13)\n",
      "(65, 13)\n"
     ]
    },
    {
     "name": "stderr",
     "output_type": "stream",
     "text": [
      "/home/akriptonn/anaconda3/envs/aidj/lib/python3.8/site-packages/librosa/core/audio.py:162: UserWarning: PySoundFile failed. Trying audioread instead.\n",
      "  warnings.warn(\"PySoundFile failed. Trying audioread instead.\")\n"
     ]
    },
    {
     "name": "stdout",
     "output_type": "stream",
     "text": [
      "(65, 13)\n",
      "(65, 13)\n",
      "(65, 13)\n",
      "(65, 13)\n",
      "(65, 13)\n",
      "(65, 13)\n",
      "(65, 13)\n",
      "(65, 13)\n",
      "(65, 13)\n",
      "(65, 13)\n"
     ]
    },
    {
     "name": "stderr",
     "output_type": "stream",
     "text": [
      "/home/akriptonn/anaconda3/envs/aidj/lib/python3.8/site-packages/librosa/core/audio.py:162: UserWarning: PySoundFile failed. Trying audioread instead.\n",
      "  warnings.warn(\"PySoundFile failed. Trying audioread instead.\")\n"
     ]
    },
    {
     "name": "stdout",
     "output_type": "stream",
     "text": [
      "(65, 13)\n",
      "(65, 13)\n",
      "(65, 13)\n",
      "(65, 13)\n",
      "(65, 13)\n",
      "(65, 13)\n",
      "(65, 13)\n",
      "(65, 13)\n",
      "(65, 13)\n",
      "(65, 13)\n"
     ]
    },
    {
     "name": "stderr",
     "output_type": "stream",
     "text": [
      "/home/akriptonn/anaconda3/envs/aidj/lib/python3.8/site-packages/librosa/core/audio.py:162: UserWarning: PySoundFile failed. Trying audioread instead.\n",
      "  warnings.warn(\"PySoundFile failed. Trying audioread instead.\")\n"
     ]
    },
    {
     "name": "stdout",
     "output_type": "stream",
     "text": [
      "(65, 13)\n",
      "(65, 13)\n",
      "(65, 13)\n",
      "(65, 13)\n",
      "(65, 13)\n",
      "(65, 13)\n",
      "(65, 13)\n",
      "(65, 13)\n",
      "(65, 13)\n",
      "(65, 13)\n"
     ]
    },
    {
     "name": "stderr",
     "output_type": "stream",
     "text": [
      "/home/akriptonn/anaconda3/envs/aidj/lib/python3.8/site-packages/librosa/core/audio.py:162: UserWarning: PySoundFile failed. Trying audioread instead.\n",
      "  warnings.warn(\"PySoundFile failed. Trying audioread instead.\")\n"
     ]
    },
    {
     "name": "stdout",
     "output_type": "stream",
     "text": [
      "(65, 13)\n",
      "(65, 13)\n",
      "(65, 13)\n",
      "(65, 13)\n",
      "(65, 13)\n",
      "(65, 13)\n",
      "(65, 13)\n",
      "(65, 13)\n",
      "(65, 13)\n",
      "(65, 13)\n"
     ]
    },
    {
     "name": "stderr",
     "output_type": "stream",
     "text": [
      "/home/akriptonn/anaconda3/envs/aidj/lib/python3.8/site-packages/librosa/core/audio.py:162: UserWarning: PySoundFile failed. Trying audioread instead.\n",
      "  warnings.warn(\"PySoundFile failed. Trying audioread instead.\")\n"
     ]
    },
    {
     "name": "stdout",
     "output_type": "stream",
     "text": [
      "(65, 13)\n",
      "(65, 13)\n",
      "(65, 13)\n",
      "(65, 13)\n",
      "(65, 13)\n",
      "(65, 13)\n",
      "(65, 13)\n",
      "(65, 13)\n",
      "(65, 13)\n",
      "(65, 13)\n"
     ]
    },
    {
     "name": "stderr",
     "output_type": "stream",
     "text": [
      "/home/akriptonn/anaconda3/envs/aidj/lib/python3.8/site-packages/librosa/core/audio.py:162: UserWarning: PySoundFile failed. Trying audioread instead.\n",
      "  warnings.warn(\"PySoundFile failed. Trying audioread instead.\")\n"
     ]
    },
    {
     "name": "stdout",
     "output_type": "stream",
     "text": [
      "(65, 13)\n",
      "(65, 13)\n",
      "(65, 13)\n",
      "(65, 13)\n",
      "(65, 13)\n",
      "(65, 13)\n",
      "(65, 13)\n",
      "(65, 13)\n",
      "(65, 13)\n",
      "(65, 13)\n"
     ]
    },
    {
     "name": "stderr",
     "output_type": "stream",
     "text": [
      "/home/akriptonn/anaconda3/envs/aidj/lib/python3.8/site-packages/librosa/core/audio.py:162: UserWarning: PySoundFile failed. Trying audioread instead.\n",
      "  warnings.warn(\"PySoundFile failed. Trying audioread instead.\")\n"
     ]
    },
    {
     "name": "stdout",
     "output_type": "stream",
     "text": [
      "(65, 13)\n",
      "(65, 13)\n",
      "(65, 13)\n",
      "(65, 13)\n",
      "(65, 13)\n",
      "(65, 13)\n",
      "(65, 13)\n",
      "(65, 13)\n",
      "(65, 13)\n",
      "(65, 13)\n"
     ]
    },
    {
     "name": "stderr",
     "output_type": "stream",
     "text": [
      "/home/akriptonn/anaconda3/envs/aidj/lib/python3.8/site-packages/librosa/core/audio.py:162: UserWarning: PySoundFile failed. Trying audioread instead.\n",
      "  warnings.warn(\"PySoundFile failed. Trying audioread instead.\")\n"
     ]
    },
    {
     "name": "stdout",
     "output_type": "stream",
     "text": [
      "(65, 13)\n",
      "(65, 13)\n",
      "(65, 13)\n",
      "(65, 13)\n",
      "(65, 13)\n",
      "(65, 13)\n",
      "(65, 13)\n",
      "(65, 13)\n",
      "(65, 13)\n",
      "(65, 13)\n"
     ]
    },
    {
     "name": "stderr",
     "output_type": "stream",
     "text": [
      "/home/akriptonn/anaconda3/envs/aidj/lib/python3.8/site-packages/librosa/core/audio.py:162: UserWarning: PySoundFile failed. Trying audioread instead.\n",
      "  warnings.warn(\"PySoundFile failed. Trying audioread instead.\")\n"
     ]
    },
    {
     "name": "stdout",
     "output_type": "stream",
     "text": [
      "(65, 13)\n",
      "(65, 13)\n",
      "(65, 13)\n",
      "(65, 13)\n",
      "(65, 13)\n",
      "(65, 13)\n",
      "(65, 13)\n",
      "(65, 13)\n",
      "(65, 13)\n",
      "(65, 13)\n"
     ]
    },
    {
     "name": "stderr",
     "output_type": "stream",
     "text": [
      "/home/akriptonn/anaconda3/envs/aidj/lib/python3.8/site-packages/librosa/core/audio.py:162: UserWarning: PySoundFile failed. Trying audioread instead.\n",
      "  warnings.warn(\"PySoundFile failed. Trying audioread instead.\")\n"
     ]
    },
    {
     "name": "stdout",
     "output_type": "stream",
     "text": [
      "(65, 13)\n",
      "(65, 13)\n",
      "(65, 13)\n",
      "(65, 13)\n",
      "(65, 13)\n",
      "(65, 13)\n",
      "(65, 13)\n",
      "(65, 13)\n",
      "(65, 13)\n",
      "(65, 13)\n"
     ]
    },
    {
     "name": "stderr",
     "output_type": "stream",
     "text": [
      "/home/akriptonn/anaconda3/envs/aidj/lib/python3.8/site-packages/librosa/core/audio.py:162: UserWarning: PySoundFile failed. Trying audioread instead.\n",
      "  warnings.warn(\"PySoundFile failed. Trying audioread instead.\")\n"
     ]
    },
    {
     "name": "stdout",
     "output_type": "stream",
     "text": [
      "(65, 13)\n",
      "(65, 13)\n",
      "(65, 13)\n",
      "(65, 13)\n",
      "(65, 13)\n",
      "(65, 13)\n",
      "(65, 13)\n",
      "(65, 13)\n",
      "(65, 13)\n",
      "(65, 13)\n"
     ]
    },
    {
     "name": "stderr",
     "output_type": "stream",
     "text": [
      "/home/akriptonn/anaconda3/envs/aidj/lib/python3.8/site-packages/librosa/core/audio.py:162: UserWarning: PySoundFile failed. Trying audioread instead.\n",
      "  warnings.warn(\"PySoundFile failed. Trying audioread instead.\")\n"
     ]
    },
    {
     "name": "stdout",
     "output_type": "stream",
     "text": [
      "(65, 13)\n",
      "(65, 13)\n",
      "(65, 13)\n",
      "(65, 13)\n",
      "(65, 13)\n",
      "(65, 13)\n",
      "(65, 13)\n",
      "(65, 13)\n",
      "(65, 13)\n",
      "(65, 13)\n"
     ]
    },
    {
     "name": "stderr",
     "output_type": "stream",
     "text": [
      "/home/akriptonn/anaconda3/envs/aidj/lib/python3.8/site-packages/librosa/core/audio.py:162: UserWarning: PySoundFile failed. Trying audioread instead.\n",
      "  warnings.warn(\"PySoundFile failed. Trying audioread instead.\")\n"
     ]
    },
    {
     "name": "stdout",
     "output_type": "stream",
     "text": [
      "(65, 13)\n",
      "(65, 13)\n",
      "(65, 13)\n",
      "(65, 13)\n",
      "(65, 13)\n",
      "(65, 13)\n",
      "(65, 13)\n",
      "(65, 13)\n",
      "(65, 13)\n",
      "(65, 13)\n"
     ]
    },
    {
     "name": "stderr",
     "output_type": "stream",
     "text": [
      "/home/akriptonn/anaconda3/envs/aidj/lib/python3.8/site-packages/librosa/core/audio.py:162: UserWarning: PySoundFile failed. Trying audioread instead.\n",
      "  warnings.warn(\"PySoundFile failed. Trying audioread instead.\")\n"
     ]
    },
    {
     "name": "stdout",
     "output_type": "stream",
     "text": [
      "(65, 13)\n",
      "(65, 13)\n",
      "(65, 13)\n",
      "(65, 13)\n",
      "(65, 13)\n",
      "(65, 13)\n",
      "(65, 13)\n",
      "(65, 13)\n",
      "(65, 13)\n",
      "(65, 13)\n"
     ]
    },
    {
     "name": "stderr",
     "output_type": "stream",
     "text": [
      "/home/akriptonn/anaconda3/envs/aidj/lib/python3.8/site-packages/librosa/core/audio.py:162: UserWarning: PySoundFile failed. Trying audioread instead.\n",
      "  warnings.warn(\"PySoundFile failed. Trying audioread instead.\")\n"
     ]
    },
    {
     "name": "stdout",
     "output_type": "stream",
     "text": [
      "(65, 13)\n",
      "(65, 13)\n",
      "(65, 13)\n",
      "(65, 13)\n",
      "(65, 13)\n",
      "(65, 13)\n",
      "(65, 13)\n",
      "(65, 13)\n",
      "(65, 13)\n",
      "(65, 13)\n"
     ]
    },
    {
     "name": "stderr",
     "output_type": "stream",
     "text": [
      "/home/akriptonn/anaconda3/envs/aidj/lib/python3.8/site-packages/librosa/core/audio.py:162: UserWarning: PySoundFile failed. Trying audioread instead.\n",
      "  warnings.warn(\"PySoundFile failed. Trying audioread instead.\")\n"
     ]
    },
    {
     "name": "stdout",
     "output_type": "stream",
     "text": [
      "(65, 13)\n",
      "(65, 13)\n",
      "(65, 13)\n",
      "(65, 13)\n",
      "(65, 13)\n",
      "(65, 13)\n",
      "(65, 13)\n",
      "(65, 13)\n",
      "(65, 13)\n",
      "(65, 13)\n"
     ]
    },
    {
     "name": "stderr",
     "output_type": "stream",
     "text": [
      "/home/akriptonn/anaconda3/envs/aidj/lib/python3.8/site-packages/librosa/core/audio.py:162: UserWarning: PySoundFile failed. Trying audioread instead.\n",
      "  warnings.warn(\"PySoundFile failed. Trying audioread instead.\")\n"
     ]
    },
    {
     "name": "stdout",
     "output_type": "stream",
     "text": [
      "(65, 13)\n",
      "(65, 13)\n",
      "(65, 13)\n",
      "(65, 13)\n",
      "(65, 13)\n",
      "(65, 13)\n",
      "(65, 13)\n",
      "(65, 13)\n",
      "(65, 13)\n",
      "(65, 13)\n"
     ]
    },
    {
     "name": "stderr",
     "output_type": "stream",
     "text": [
      "/home/akriptonn/anaconda3/envs/aidj/lib/python3.8/site-packages/librosa/core/audio.py:162: UserWarning: PySoundFile failed. Trying audioread instead.\n",
      "  warnings.warn(\"PySoundFile failed. Trying audioread instead.\")\n"
     ]
    },
    {
     "name": "stdout",
     "output_type": "stream",
     "text": [
      "(65, 13)\n",
      "(65, 13)\n",
      "(65, 13)\n",
      "(65, 13)\n",
      "(65, 13)\n",
      "(65, 13)\n",
      "(65, 13)\n",
      "(65, 13)\n",
      "(65, 13)\n",
      "(65, 13)\n"
     ]
    },
    {
     "name": "stderr",
     "output_type": "stream",
     "text": [
      "/home/akriptonn/anaconda3/envs/aidj/lib/python3.8/site-packages/librosa/core/audio.py:162: UserWarning: PySoundFile failed. Trying audioread instead.\n",
      "  warnings.warn(\"PySoundFile failed. Trying audioread instead.\")\n"
     ]
    },
    {
     "name": "stdout",
     "output_type": "stream",
     "text": [
      "(65, 13)\n",
      "(65, 13)\n",
      "(65, 13)\n",
      "(65, 13)\n",
      "(65, 13)\n",
      "(65, 13)\n",
      "(65, 13)\n",
      "(65, 13)\n",
      "(65, 13)\n",
      "(65, 13)\n"
     ]
    },
    {
     "name": "stderr",
     "output_type": "stream",
     "text": [
      "/home/akriptonn/anaconda3/envs/aidj/lib/python3.8/site-packages/librosa/core/audio.py:162: UserWarning: PySoundFile failed. Trying audioread instead.\n",
      "  warnings.warn(\"PySoundFile failed. Trying audioread instead.\")\n"
     ]
    },
    {
     "name": "stdout",
     "output_type": "stream",
     "text": [
      "(65, 13)\n",
      "(65, 13)\n",
      "(65, 13)\n",
      "(65, 13)\n",
      "(65, 13)\n",
      "(65, 13)\n",
      "(65, 13)\n",
      "(65, 13)\n",
      "(65, 13)\n",
      "(65, 13)\n"
     ]
    },
    {
     "name": "stderr",
     "output_type": "stream",
     "text": [
      "/home/akriptonn/anaconda3/envs/aidj/lib/python3.8/site-packages/librosa/core/audio.py:162: UserWarning: PySoundFile failed. Trying audioread instead.\n",
      "  warnings.warn(\"PySoundFile failed. Trying audioread instead.\")\n"
     ]
    },
    {
     "name": "stdout",
     "output_type": "stream",
     "text": [
      "(65, 13)\n",
      "(65, 13)\n",
      "(65, 13)\n",
      "(65, 13)\n",
      "(65, 13)\n",
      "(65, 13)\n",
      "(65, 13)\n",
      "(65, 13)\n",
      "(65, 13)\n",
      "(65, 13)\n"
     ]
    },
    {
     "name": "stderr",
     "output_type": "stream",
     "text": [
      "/home/akriptonn/anaconda3/envs/aidj/lib/python3.8/site-packages/librosa/core/audio.py:162: UserWarning: PySoundFile failed. Trying audioread instead.\n",
      "  warnings.warn(\"PySoundFile failed. Trying audioread instead.\")\n"
     ]
    },
    {
     "name": "stdout",
     "output_type": "stream",
     "text": [
      "(65, 13)\n",
      "(65, 13)\n",
      "(65, 13)\n",
      "(65, 13)\n",
      "(65, 13)\n",
      "(65, 13)\n",
      "(65, 13)\n",
      "(65, 13)\n",
      "(65, 13)\n",
      "(65, 13)\n"
     ]
    },
    {
     "name": "stderr",
     "output_type": "stream",
     "text": [
      "/home/akriptonn/anaconda3/envs/aidj/lib/python3.8/site-packages/librosa/core/audio.py:162: UserWarning: PySoundFile failed. Trying audioread instead.\n",
      "  warnings.warn(\"PySoundFile failed. Trying audioread instead.\")\n"
     ]
    },
    {
     "name": "stdout",
     "output_type": "stream",
     "text": [
      "(65, 13)\n",
      "(65, 13)\n",
      "(65, 13)\n",
      "(65, 13)\n",
      "(65, 13)\n",
      "(65, 13)\n",
      "(65, 13)\n",
      "(65, 13)\n",
      "(65, 13)\n",
      "(65, 13)\n"
     ]
    },
    {
     "name": "stderr",
     "output_type": "stream",
     "text": [
      "/home/akriptonn/anaconda3/envs/aidj/lib/python3.8/site-packages/librosa/core/audio.py:162: UserWarning: PySoundFile failed. Trying audioread instead.\n",
      "  warnings.warn(\"PySoundFile failed. Trying audioread instead.\")\n"
     ]
    },
    {
     "name": "stdout",
     "output_type": "stream",
     "text": [
      "(65, 13)\n",
      "(65, 13)\n",
      "(65, 13)\n",
      "(65, 13)\n",
      "(65, 13)\n",
      "(65, 13)\n",
      "(65, 13)\n",
      "(65, 13)\n",
      "(65, 13)\n",
      "(65, 13)\n"
     ]
    },
    {
     "name": "stderr",
     "output_type": "stream",
     "text": [
      "/home/akriptonn/anaconda3/envs/aidj/lib/python3.8/site-packages/librosa/core/audio.py:162: UserWarning: PySoundFile failed. Trying audioread instead.\n",
      "  warnings.warn(\"PySoundFile failed. Trying audioread instead.\")\n"
     ]
    },
    {
     "name": "stdout",
     "output_type": "stream",
     "text": [
      "(65, 13)\n",
      "(65, 13)\n",
      "(65, 13)\n",
      "(65, 13)\n",
      "(65, 13)\n",
      "(65, 13)\n",
      "(65, 13)\n",
      "(65, 13)\n",
      "(65, 13)\n",
      "(65, 13)\n"
     ]
    },
    {
     "name": "stderr",
     "output_type": "stream",
     "text": [
      "/home/akriptonn/anaconda3/envs/aidj/lib/python3.8/site-packages/librosa/core/audio.py:162: UserWarning: PySoundFile failed. Trying audioread instead.\n",
      "  warnings.warn(\"PySoundFile failed. Trying audioread instead.\")\n"
     ]
    },
    {
     "name": "stdout",
     "output_type": "stream",
     "text": [
      "(65, 13)\n",
      "(65, 13)\n",
      "(65, 13)\n",
      "(65, 13)\n",
      "(65, 13)\n",
      "(65, 13)\n",
      "(65, 13)\n",
      "(65, 13)\n",
      "(65, 13)\n",
      "(65, 13)\n"
     ]
    },
    {
     "name": "stderr",
     "output_type": "stream",
     "text": [
      "/home/akriptonn/anaconda3/envs/aidj/lib/python3.8/site-packages/librosa/core/audio.py:162: UserWarning: PySoundFile failed. Trying audioread instead.\n",
      "  warnings.warn(\"PySoundFile failed. Trying audioread instead.\")\n"
     ]
    },
    {
     "name": "stdout",
     "output_type": "stream",
     "text": [
      "(65, 13)\n",
      "(65, 13)\n",
      "(65, 13)\n",
      "(65, 13)\n",
      "(65, 13)\n",
      "(65, 13)\n",
      "(65, 13)\n",
      "(65, 13)\n",
      "(65, 13)\n",
      "(65, 13)\n"
     ]
    },
    {
     "name": "stderr",
     "output_type": "stream",
     "text": [
      "/home/akriptonn/anaconda3/envs/aidj/lib/python3.8/site-packages/librosa/core/audio.py:162: UserWarning: PySoundFile failed. Trying audioread instead.\n",
      "  warnings.warn(\"PySoundFile failed. Trying audioread instead.\")\n"
     ]
    },
    {
     "name": "stdout",
     "output_type": "stream",
     "text": [
      "(65, 13)\n",
      "(65, 13)\n",
      "(65, 13)\n",
      "(65, 13)\n",
      "(65, 13)\n",
      "(65, 13)\n",
      "(65, 13)\n",
      "(65, 13)\n",
      "(65, 13)\n",
      "(65, 13)\n"
     ]
    },
    {
     "name": "stderr",
     "output_type": "stream",
     "text": [
      "/home/akriptonn/anaconda3/envs/aidj/lib/python3.8/site-packages/librosa/core/audio.py:162: UserWarning: PySoundFile failed. Trying audioread instead.\n",
      "  warnings.warn(\"PySoundFile failed. Trying audioread instead.\")\n"
     ]
    },
    {
     "name": "stdout",
     "output_type": "stream",
     "text": [
      "(65, 13)\n",
      "(65, 13)\n",
      "(65, 13)\n",
      "(65, 13)\n",
      "(65, 13)\n",
      "(65, 13)\n",
      "(65, 13)\n",
      "(65, 13)\n",
      "(65, 13)\n",
      "(65, 13)\n"
     ]
    },
    {
     "name": "stderr",
     "output_type": "stream",
     "text": [
      "/home/akriptonn/anaconda3/envs/aidj/lib/python3.8/site-packages/librosa/core/audio.py:162: UserWarning: PySoundFile failed. Trying audioread instead.\n",
      "  warnings.warn(\"PySoundFile failed. Trying audioread instead.\")\n"
     ]
    },
    {
     "name": "stdout",
     "output_type": "stream",
     "text": [
      "(65, 13)\n",
      "(65, 13)\n",
      "(65, 13)\n",
      "(65, 13)\n",
      "(65, 13)\n",
      "(65, 13)\n",
      "(65, 13)\n",
      "(65, 13)\n",
      "(65, 13)\n",
      "(65, 13)\n"
     ]
    },
    {
     "name": "stderr",
     "output_type": "stream",
     "text": [
      "/home/akriptonn/anaconda3/envs/aidj/lib/python3.8/site-packages/librosa/core/audio.py:162: UserWarning: PySoundFile failed. Trying audioread instead.\n",
      "  warnings.warn(\"PySoundFile failed. Trying audioread instead.\")\n"
     ]
    },
    {
     "name": "stdout",
     "output_type": "stream",
     "text": [
      "(65, 13)\n",
      "(65, 13)\n",
      "(65, 13)\n",
      "(65, 13)\n",
      "(65, 13)\n",
      "(65, 13)\n",
      "(65, 13)\n",
      "(65, 13)\n",
      "(65, 13)\n",
      "(65, 13)\n"
     ]
    },
    {
     "name": "stderr",
     "output_type": "stream",
     "text": [
      "/home/akriptonn/anaconda3/envs/aidj/lib/python3.8/site-packages/librosa/core/audio.py:162: UserWarning: PySoundFile failed. Trying audioread instead.\n",
      "  warnings.warn(\"PySoundFile failed. Trying audioread instead.\")\n"
     ]
    },
    {
     "name": "stdout",
     "output_type": "stream",
     "text": [
      "(65, 13)\n",
      "(65, 13)\n",
      "(65, 13)\n",
      "(65, 13)\n",
      "(65, 13)\n",
      "(65, 13)\n",
      "(65, 13)\n",
      "(65, 13)\n",
      "(65, 13)\n",
      "(65, 13)\n"
     ]
    },
    {
     "name": "stderr",
     "output_type": "stream",
     "text": [
      "/home/akriptonn/anaconda3/envs/aidj/lib/python3.8/site-packages/librosa/core/audio.py:162: UserWarning: PySoundFile failed. Trying audioread instead.\n",
      "  warnings.warn(\"PySoundFile failed. Trying audioread instead.\")\n"
     ]
    },
    {
     "name": "stdout",
     "output_type": "stream",
     "text": [
      "(65, 13)\n",
      "(65, 13)\n",
      "(65, 13)\n",
      "(65, 13)\n",
      "(65, 13)\n",
      "(65, 13)\n",
      "(65, 13)\n",
      "(65, 13)\n",
      "(65, 13)\n",
      "(65, 13)\n"
     ]
    },
    {
     "name": "stderr",
     "output_type": "stream",
     "text": [
      "/home/akriptonn/anaconda3/envs/aidj/lib/python3.8/site-packages/librosa/core/audio.py:162: UserWarning: PySoundFile failed. Trying audioread instead.\n",
      "  warnings.warn(\"PySoundFile failed. Trying audioread instead.\")\n"
     ]
    },
    {
     "name": "stdout",
     "output_type": "stream",
     "text": [
      "(65, 13)\n",
      "(65, 13)\n",
      "(65, 13)\n",
      "(65, 13)\n",
      "(65, 13)\n",
      "(65, 13)\n",
      "(65, 13)\n",
      "(65, 13)\n",
      "(65, 13)\n",
      "(65, 13)\n"
     ]
    },
    {
     "name": "stderr",
     "output_type": "stream",
     "text": [
      "/home/akriptonn/anaconda3/envs/aidj/lib/python3.8/site-packages/librosa/core/audio.py:162: UserWarning: PySoundFile failed. Trying audioread instead.\n",
      "  warnings.warn(\"PySoundFile failed. Trying audioread instead.\")\n"
     ]
    },
    {
     "name": "stdout",
     "output_type": "stream",
     "text": [
      "(65, 13)\n",
      "(65, 13)\n",
      "(65, 13)\n",
      "(65, 13)\n",
      "(65, 13)\n",
      "(65, 13)\n",
      "(65, 13)\n",
      "(65, 13)\n",
      "(65, 13)\n",
      "(65, 13)\n"
     ]
    },
    {
     "name": "stderr",
     "output_type": "stream",
     "text": [
      "/home/akriptonn/anaconda3/envs/aidj/lib/python3.8/site-packages/librosa/core/audio.py:162: UserWarning: PySoundFile failed. Trying audioread instead.\n",
      "  warnings.warn(\"PySoundFile failed. Trying audioread instead.\")\n"
     ]
    },
    {
     "name": "stdout",
     "output_type": "stream",
     "text": [
      "(65, 13)\n",
      "(65, 13)\n",
      "(65, 13)\n",
      "(65, 13)\n",
      "(65, 13)\n",
      "(65, 13)\n",
      "(65, 13)\n",
      "(65, 13)\n",
      "(65, 13)\n",
      "(65, 13)\n"
     ]
    },
    {
     "name": "stderr",
     "output_type": "stream",
     "text": [
      "/home/akriptonn/anaconda3/envs/aidj/lib/python3.8/site-packages/librosa/core/audio.py:162: UserWarning: PySoundFile failed. Trying audioread instead.\n",
      "  warnings.warn(\"PySoundFile failed. Trying audioread instead.\")\n"
     ]
    },
    {
     "name": "stdout",
     "output_type": "stream",
     "text": [
      "(65, 13)\n",
      "(65, 13)\n",
      "(65, 13)\n",
      "(65, 13)\n",
      "(65, 13)\n",
      "(65, 13)\n",
      "(65, 13)\n",
      "(65, 13)\n",
      "(65, 13)\n",
      "(65, 13)\n"
     ]
    },
    {
     "name": "stderr",
     "output_type": "stream",
     "text": [
      "/home/akriptonn/anaconda3/envs/aidj/lib/python3.8/site-packages/librosa/core/audio.py:162: UserWarning: PySoundFile failed. Trying audioread instead.\n",
      "  warnings.warn(\"PySoundFile failed. Trying audioread instead.\")\n"
     ]
    },
    {
     "name": "stdout",
     "output_type": "stream",
     "text": [
      "(65, 13)\n",
      "(65, 13)\n",
      "(65, 13)\n",
      "(65, 13)\n",
      "(65, 13)\n",
      "(65, 13)\n",
      "(65, 13)\n",
      "(65, 13)\n",
      "(65, 13)\n",
      "(65, 13)\n"
     ]
    },
    {
     "name": "stderr",
     "output_type": "stream",
     "text": [
      "/home/akriptonn/anaconda3/envs/aidj/lib/python3.8/site-packages/librosa/core/audio.py:162: UserWarning: PySoundFile failed. Trying audioread instead.\n",
      "  warnings.warn(\"PySoundFile failed. Trying audioread instead.\")\n"
     ]
    },
    {
     "name": "stdout",
     "output_type": "stream",
     "text": [
      "(65, 13)\n",
      "(65, 13)\n",
      "(65, 13)\n",
      "(65, 13)\n",
      "(65, 13)\n",
      "(65, 13)\n",
      "(65, 13)\n",
      "(65, 13)\n",
      "(65, 13)\n",
      "(65, 13)\n"
     ]
    },
    {
     "name": "stderr",
     "output_type": "stream",
     "text": [
      "/home/akriptonn/anaconda3/envs/aidj/lib/python3.8/site-packages/librosa/core/audio.py:162: UserWarning: PySoundFile failed. Trying audioread instead.\n",
      "  warnings.warn(\"PySoundFile failed. Trying audioread instead.\")\n"
     ]
    },
    {
     "name": "stdout",
     "output_type": "stream",
     "text": [
      "(65, 13)\n",
      "(65, 13)\n",
      "(65, 13)\n",
      "(65, 13)\n",
      "(65, 13)\n",
      "(65, 13)\n",
      "(65, 13)\n",
      "(65, 13)\n",
      "(65, 13)\n",
      "(65, 13)\n"
     ]
    },
    {
     "name": "stderr",
     "output_type": "stream",
     "text": [
      "/home/akriptonn/anaconda3/envs/aidj/lib/python3.8/site-packages/librosa/core/audio.py:162: UserWarning: PySoundFile failed. Trying audioread instead.\n",
      "  warnings.warn(\"PySoundFile failed. Trying audioread instead.\")\n"
     ]
    },
    {
     "name": "stdout",
     "output_type": "stream",
     "text": [
      "(65, 13)\n",
      "(65, 13)\n",
      "(65, 13)\n",
      "(65, 13)\n",
      "(65, 13)\n",
      "(65, 13)\n",
      "(65, 13)\n",
      "(65, 13)\n",
      "(65, 13)\n",
      "(65, 13)\n"
     ]
    },
    {
     "name": "stderr",
     "output_type": "stream",
     "text": [
      "/home/akriptonn/anaconda3/envs/aidj/lib/python3.8/site-packages/librosa/core/audio.py:162: UserWarning: PySoundFile failed. Trying audioread instead.\n",
      "  warnings.warn(\"PySoundFile failed. Trying audioread instead.\")\n"
     ]
    },
    {
     "name": "stdout",
     "output_type": "stream",
     "text": [
      "(65, 13)\n",
      "(65, 13)\n",
      "(65, 13)\n",
      "(65, 13)\n",
      "(65, 13)\n",
      "(65, 13)\n",
      "(65, 13)\n",
      "(65, 13)\n",
      "(65, 13)\n",
      "(65, 13)\n"
     ]
    },
    {
     "name": "stderr",
     "output_type": "stream",
     "text": [
      "/home/akriptonn/anaconda3/envs/aidj/lib/python3.8/site-packages/librosa/core/audio.py:162: UserWarning: PySoundFile failed. Trying audioread instead.\n",
      "  warnings.warn(\"PySoundFile failed. Trying audioread instead.\")\n"
     ]
    },
    {
     "name": "stdout",
     "output_type": "stream",
     "text": [
      "(65, 13)\n",
      "(65, 13)\n",
      "(65, 13)\n",
      "(65, 13)\n",
      "(65, 13)\n",
      "(65, 13)\n",
      "(65, 13)\n",
      "(65, 13)\n",
      "(65, 13)\n",
      "(65, 13)\n"
     ]
    },
    {
     "name": "stderr",
     "output_type": "stream",
     "text": [
      "/home/akriptonn/anaconda3/envs/aidj/lib/python3.8/site-packages/librosa/core/audio.py:162: UserWarning: PySoundFile failed. Trying audioread instead.\n",
      "  warnings.warn(\"PySoundFile failed. Trying audioread instead.\")\n"
     ]
    },
    {
     "name": "stdout",
     "output_type": "stream",
     "text": [
      "(65, 13)\n",
      "(65, 13)\n",
      "(65, 13)\n",
      "(65, 13)\n",
      "(65, 13)\n",
      "(65, 13)\n",
      "(65, 13)\n",
      "(65, 13)\n",
      "(65, 13)\n",
      "(65, 13)\n"
     ]
    },
    {
     "name": "stderr",
     "output_type": "stream",
     "text": [
      "/home/akriptonn/anaconda3/envs/aidj/lib/python3.8/site-packages/librosa/core/audio.py:162: UserWarning: PySoundFile failed. Trying audioread instead.\n",
      "  warnings.warn(\"PySoundFile failed. Trying audioread instead.\")\n"
     ]
    },
    {
     "name": "stdout",
     "output_type": "stream",
     "text": [
      "(65, 13)\n",
      "(65, 13)\n",
      "(65, 13)\n",
      "(65, 13)\n",
      "(65, 13)\n",
      "(65, 13)\n",
      "(65, 13)\n",
      "(65, 13)\n",
      "(65, 13)\n",
      "(65, 13)\n"
     ]
    },
    {
     "name": "stderr",
     "output_type": "stream",
     "text": [
      "/home/akriptonn/anaconda3/envs/aidj/lib/python3.8/site-packages/librosa/core/audio.py:162: UserWarning: PySoundFile failed. Trying audioread instead.\n",
      "  warnings.warn(\"PySoundFile failed. Trying audioread instead.\")\n"
     ]
    },
    {
     "name": "stdout",
     "output_type": "stream",
     "text": [
      "(65, 13)\n",
      "(65, 13)\n",
      "(65, 13)\n",
      "(65, 13)\n",
      "(65, 13)\n",
      "(65, 13)\n",
      "(65, 13)\n",
      "(65, 13)\n",
      "(65, 13)\n",
      "(65, 13)\n"
     ]
    },
    {
     "name": "stderr",
     "output_type": "stream",
     "text": [
      "/home/akriptonn/anaconda3/envs/aidj/lib/python3.8/site-packages/librosa/core/audio.py:162: UserWarning: PySoundFile failed. Trying audioread instead.\n",
      "  warnings.warn(\"PySoundFile failed. Trying audioread instead.\")\n"
     ]
    },
    {
     "name": "stdout",
     "output_type": "stream",
     "text": [
      "(65, 13)\n",
      "(65, 13)\n",
      "(65, 13)\n",
      "(65, 13)\n",
      "(65, 13)\n",
      "(65, 13)\n",
      "(65, 13)\n",
      "(65, 13)\n",
      "(65, 13)\n",
      "(65, 13)\n"
     ]
    },
    {
     "name": "stderr",
     "output_type": "stream",
     "text": [
      "/home/akriptonn/anaconda3/envs/aidj/lib/python3.8/site-packages/librosa/core/audio.py:162: UserWarning: PySoundFile failed. Trying audioread instead.\n",
      "  warnings.warn(\"PySoundFile failed. Trying audioread instead.\")\n"
     ]
    },
    {
     "name": "stdout",
     "output_type": "stream",
     "text": [
      "(65, 13)\n",
      "(65, 13)\n",
      "(65, 13)\n",
      "(65, 13)\n",
      "(65, 13)\n",
      "(65, 13)\n",
      "(65, 13)\n",
      "(65, 13)\n",
      "(65, 13)\n",
      "(65, 13)\n"
     ]
    },
    {
     "name": "stderr",
     "output_type": "stream",
     "text": [
      "/home/akriptonn/anaconda3/envs/aidj/lib/python3.8/site-packages/librosa/core/audio.py:162: UserWarning: PySoundFile failed. Trying audioread instead.\n",
      "  warnings.warn(\"PySoundFile failed. Trying audioread instead.\")\n"
     ]
    },
    {
     "name": "stdout",
     "output_type": "stream",
     "text": [
      "(65, 13)\n",
      "(65, 13)\n",
      "(65, 13)\n",
      "(65, 13)\n",
      "(65, 13)\n",
      "(65, 13)\n",
      "(65, 13)\n",
      "(65, 13)\n",
      "(65, 13)\n",
      "(65, 13)\n"
     ]
    },
    {
     "name": "stderr",
     "output_type": "stream",
     "text": [
      "/home/akriptonn/anaconda3/envs/aidj/lib/python3.8/site-packages/librosa/core/audio.py:162: UserWarning: PySoundFile failed. Trying audioread instead.\n",
      "  warnings.warn(\"PySoundFile failed. Trying audioread instead.\")\n"
     ]
    },
    {
     "name": "stdout",
     "output_type": "stream",
     "text": [
      "(65, 13)\n",
      "(65, 13)\n",
      "(65, 13)\n",
      "(65, 13)\n",
      "(65, 13)\n",
      "(65, 13)\n",
      "(65, 13)\n",
      "(65, 13)\n",
      "(65, 13)\n",
      "(65, 13)\n"
     ]
    },
    {
     "name": "stderr",
     "output_type": "stream",
     "text": [
      "/home/akriptonn/anaconda3/envs/aidj/lib/python3.8/site-packages/librosa/core/audio.py:162: UserWarning: PySoundFile failed. Trying audioread instead.\n",
      "  warnings.warn(\"PySoundFile failed. Trying audioread instead.\")\n"
     ]
    },
    {
     "name": "stdout",
     "output_type": "stream",
     "text": [
      "(65, 13)\n",
      "(65, 13)\n",
      "(65, 13)\n",
      "(65, 13)\n",
      "(65, 13)\n",
      "(65, 13)\n",
      "(65, 13)\n",
      "(65, 13)\n",
      "(65, 13)\n",
      "(65, 13)\n"
     ]
    },
    {
     "name": "stderr",
     "output_type": "stream",
     "text": [
      "/home/akriptonn/anaconda3/envs/aidj/lib/python3.8/site-packages/librosa/core/audio.py:162: UserWarning: PySoundFile failed. Trying audioread instead.\n",
      "  warnings.warn(\"PySoundFile failed. Trying audioread instead.\")\n"
     ]
    },
    {
     "name": "stdout",
     "output_type": "stream",
     "text": [
      "(65, 13)\n",
      "(65, 13)\n",
      "(65, 13)\n",
      "(65, 13)\n",
      "(65, 13)\n",
      "(65, 13)\n",
      "(65, 13)\n",
      "(65, 13)\n",
      "(65, 13)\n",
      "(65, 13)\n"
     ]
    },
    {
     "name": "stderr",
     "output_type": "stream",
     "text": [
      "/home/akriptonn/anaconda3/envs/aidj/lib/python3.8/site-packages/librosa/core/audio.py:162: UserWarning: PySoundFile failed. Trying audioread instead.\n",
      "  warnings.warn(\"PySoundFile failed. Trying audioread instead.\")\n"
     ]
    },
    {
     "name": "stdout",
     "output_type": "stream",
     "text": [
      "(65, 13)\n",
      "(65, 13)\n",
      "(65, 13)\n",
      "(65, 13)\n",
      "(65, 13)\n",
      "(65, 13)\n",
      "(65, 13)\n",
      "(65, 13)\n",
      "(65, 13)\n",
      "(65, 13)\n"
     ]
    },
    {
     "name": "stderr",
     "output_type": "stream",
     "text": [
      "/home/akriptonn/anaconda3/envs/aidj/lib/python3.8/site-packages/librosa/core/audio.py:162: UserWarning: PySoundFile failed. Trying audioread instead.\n",
      "  warnings.warn(\"PySoundFile failed. Trying audioread instead.\")\n"
     ]
    },
    {
     "name": "stdout",
     "output_type": "stream",
     "text": [
      "(65, 13)\n",
      "(65, 13)\n",
      "(65, 13)\n",
      "(65, 13)\n",
      "(65, 13)\n",
      "(65, 13)\n",
      "(65, 13)\n",
      "(65, 13)\n",
      "(65, 13)\n",
      "(65, 13)\n"
     ]
    },
    {
     "name": "stderr",
     "output_type": "stream",
     "text": [
      "/home/akriptonn/anaconda3/envs/aidj/lib/python3.8/site-packages/librosa/core/audio.py:162: UserWarning: PySoundFile failed. Trying audioread instead.\n",
      "  warnings.warn(\"PySoundFile failed. Trying audioread instead.\")\n"
     ]
    },
    {
     "name": "stdout",
     "output_type": "stream",
     "text": [
      "(65, 13)\n",
      "(65, 13)\n",
      "(65, 13)\n",
      "(65, 13)\n",
      "(65, 13)\n",
      "(65, 13)\n",
      "(65, 13)\n",
      "(65, 13)\n",
      "(65, 13)\n",
      "(65, 13)\n"
     ]
    },
    {
     "name": "stderr",
     "output_type": "stream",
     "text": [
      "/home/akriptonn/anaconda3/envs/aidj/lib/python3.8/site-packages/librosa/core/audio.py:162: UserWarning: PySoundFile failed. Trying audioread instead.\n",
      "  warnings.warn(\"PySoundFile failed. Trying audioread instead.\")\n"
     ]
    },
    {
     "name": "stdout",
     "output_type": "stream",
     "text": [
      "(65, 13)\n",
      "(65, 13)\n",
      "(65, 13)\n",
      "(65, 13)\n",
      "(65, 13)\n",
      "(65, 13)\n",
      "(65, 13)\n",
      "(65, 13)\n",
      "(65, 13)\n",
      "(65, 13)\n"
     ]
    },
    {
     "name": "stderr",
     "output_type": "stream",
     "text": [
      "/home/akriptonn/anaconda3/envs/aidj/lib/python3.8/site-packages/librosa/core/audio.py:162: UserWarning: PySoundFile failed. Trying audioread instead.\n",
      "  warnings.warn(\"PySoundFile failed. Trying audioread instead.\")\n"
     ]
    },
    {
     "name": "stdout",
     "output_type": "stream",
     "text": [
      "(65, 13)\n",
      "(65, 13)\n",
      "(65, 13)\n",
      "(65, 13)\n",
      "(65, 13)\n",
      "(65, 13)\n",
      "(65, 13)\n",
      "(65, 13)\n",
      "(65, 13)\n",
      "(65, 13)\n"
     ]
    },
    {
     "name": "stderr",
     "output_type": "stream",
     "text": [
      "/home/akriptonn/anaconda3/envs/aidj/lib/python3.8/site-packages/librosa/core/audio.py:162: UserWarning: PySoundFile failed. Trying audioread instead.\n",
      "  warnings.warn(\"PySoundFile failed. Trying audioread instead.\")\n"
     ]
    },
    {
     "name": "stdout",
     "output_type": "stream",
     "text": [
      "(65, 13)\n",
      "(65, 13)\n",
      "(65, 13)\n",
      "(65, 13)\n",
      "(65, 13)\n",
      "(65, 13)\n",
      "(65, 13)\n",
      "(65, 13)\n",
      "(65, 13)\n",
      "(65, 13)\n"
     ]
    },
    {
     "name": "stderr",
     "output_type": "stream",
     "text": [
      "/home/akriptonn/anaconda3/envs/aidj/lib/python3.8/site-packages/librosa/core/audio.py:162: UserWarning: PySoundFile failed. Trying audioread instead.\n",
      "  warnings.warn(\"PySoundFile failed. Trying audioread instead.\")\n"
     ]
    },
    {
     "name": "stdout",
     "output_type": "stream",
     "text": [
      "(65, 13)\n",
      "(65, 13)\n",
      "(65, 13)\n",
      "(65, 13)\n",
      "(65, 13)\n",
      "(65, 13)\n",
      "(65, 13)\n",
      "(65, 13)\n",
      "(65, 13)\n",
      "(65, 13)\n"
     ]
    },
    {
     "name": "stderr",
     "output_type": "stream",
     "text": [
      "/home/akriptonn/anaconda3/envs/aidj/lib/python3.8/site-packages/librosa/core/audio.py:162: UserWarning: PySoundFile failed. Trying audioread instead.\n",
      "  warnings.warn(\"PySoundFile failed. Trying audioread instead.\")\n"
     ]
    },
    {
     "name": "stdout",
     "output_type": "stream",
     "text": [
      "(65, 13)\n",
      "(65, 13)\n",
      "(65, 13)\n",
      "(65, 13)\n",
      "(65, 13)\n",
      "(65, 13)\n",
      "(65, 13)\n",
      "(65, 13)\n",
      "(65, 13)\n",
      "(65, 13)\n"
     ]
    },
    {
     "name": "stderr",
     "output_type": "stream",
     "text": [
      "/home/akriptonn/anaconda3/envs/aidj/lib/python3.8/site-packages/librosa/core/audio.py:162: UserWarning: PySoundFile failed. Trying audioread instead.\n",
      "  warnings.warn(\"PySoundFile failed. Trying audioread instead.\")\n"
     ]
    },
    {
     "name": "stdout",
     "output_type": "stream",
     "text": [
      "(65, 13)\n",
      "(65, 13)\n",
      "(65, 13)\n",
      "(65, 13)\n",
      "(65, 13)\n",
      "(65, 13)\n",
      "(65, 13)\n",
      "(65, 13)\n",
      "(65, 13)\n",
      "(65, 13)\n"
     ]
    },
    {
     "name": "stderr",
     "output_type": "stream",
     "text": [
      "/home/akriptonn/anaconda3/envs/aidj/lib/python3.8/site-packages/librosa/core/audio.py:162: UserWarning: PySoundFile failed. Trying audioread instead.\n",
      "  warnings.warn(\"PySoundFile failed. Trying audioread instead.\")\n"
     ]
    },
    {
     "name": "stdout",
     "output_type": "stream",
     "text": [
      "(65, 13)\n",
      "(65, 13)\n",
      "(65, 13)\n",
      "(65, 13)\n",
      "(65, 13)\n",
      "(65, 13)\n",
      "(65, 13)\n",
      "(65, 13)\n",
      "(65, 13)\n",
      "(65, 13)\n"
     ]
    },
    {
     "name": "stderr",
     "output_type": "stream",
     "text": [
      "/home/akriptonn/anaconda3/envs/aidj/lib/python3.8/site-packages/librosa/core/audio.py:162: UserWarning: PySoundFile failed. Trying audioread instead.\n",
      "  warnings.warn(\"PySoundFile failed. Trying audioread instead.\")\n"
     ]
    },
    {
     "name": "stdout",
     "output_type": "stream",
     "text": [
      "(65, 13)\n",
      "(65, 13)\n",
      "(65, 13)\n",
      "(65, 13)\n",
      "(65, 13)\n",
      "(65, 13)\n",
      "(65, 13)\n",
      "(65, 13)\n",
      "(65, 13)\n",
      "(65, 13)\n"
     ]
    },
    {
     "name": "stderr",
     "output_type": "stream",
     "text": [
      "/home/akriptonn/anaconda3/envs/aidj/lib/python3.8/site-packages/librosa/core/audio.py:162: UserWarning: PySoundFile failed. Trying audioread instead.\n",
      "  warnings.warn(\"PySoundFile failed. Trying audioread instead.\")\n"
     ]
    },
    {
     "name": "stdout",
     "output_type": "stream",
     "text": [
      "(65, 13)\n",
      "(65, 13)\n",
      "(65, 13)\n",
      "(65, 13)\n",
      "(65, 13)\n",
      "(65, 13)\n",
      "(65, 13)\n",
      "(65, 13)\n",
      "(65, 13)\n",
      "(65, 13)\n"
     ]
    },
    {
     "name": "stderr",
     "output_type": "stream",
     "text": [
      "/home/akriptonn/anaconda3/envs/aidj/lib/python3.8/site-packages/librosa/core/audio.py:162: UserWarning: PySoundFile failed. Trying audioread instead.\n",
      "  warnings.warn(\"PySoundFile failed. Trying audioread instead.\")\n"
     ]
    },
    {
     "name": "stdout",
     "output_type": "stream",
     "text": [
      "(65, 13)\n",
      "(65, 13)\n",
      "(65, 13)\n",
      "(65, 13)\n",
      "(65, 13)\n",
      "(65, 13)\n",
      "(65, 13)\n",
      "(65, 13)\n",
      "(65, 13)\n",
      "(65, 13)\n"
     ]
    },
    {
     "name": "stderr",
     "output_type": "stream",
     "text": [
      "/home/akriptonn/anaconda3/envs/aidj/lib/python3.8/site-packages/librosa/core/audio.py:162: UserWarning: PySoundFile failed. Trying audioread instead.\n",
      "  warnings.warn(\"PySoundFile failed. Trying audioread instead.\")\n"
     ]
    },
    {
     "name": "stdout",
     "output_type": "stream",
     "text": [
      "(65, 13)\n",
      "(65, 13)\n",
      "(65, 13)\n",
      "(65, 13)\n",
      "(65, 13)\n",
      "(65, 13)\n",
      "(65, 13)\n",
      "(65, 13)\n",
      "(65, 13)\n",
      "(65, 13)\n"
     ]
    },
    {
     "name": "stderr",
     "output_type": "stream",
     "text": [
      "/home/akriptonn/anaconda3/envs/aidj/lib/python3.8/site-packages/librosa/core/audio.py:162: UserWarning: PySoundFile failed. Trying audioread instead.\n",
      "  warnings.warn(\"PySoundFile failed. Trying audioread instead.\")\n"
     ]
    },
    {
     "name": "stdout",
     "output_type": "stream",
     "text": [
      "(65, 13)\n",
      "(65, 13)\n",
      "(65, 13)\n",
      "(65, 13)\n",
      "(65, 13)\n",
      "(65, 13)\n",
      "(65, 13)\n",
      "(65, 13)\n",
      "(65, 13)\n",
      "(65, 13)\n"
     ]
    },
    {
     "name": "stderr",
     "output_type": "stream",
     "text": [
      "/home/akriptonn/anaconda3/envs/aidj/lib/python3.8/site-packages/librosa/core/audio.py:162: UserWarning: PySoundFile failed. Trying audioread instead.\n",
      "  warnings.warn(\"PySoundFile failed. Trying audioread instead.\")\n"
     ]
    },
    {
     "name": "stdout",
     "output_type": "stream",
     "text": [
      "(65, 13)\n",
      "(65, 13)\n",
      "(65, 13)\n",
      "(65, 13)\n",
      "(65, 13)\n",
      "(65, 13)\n",
      "(65, 13)\n",
      "(65, 13)\n",
      "(65, 13)\n",
      "(65, 13)\n"
     ]
    },
    {
     "name": "stderr",
     "output_type": "stream",
     "text": [
      "/home/akriptonn/anaconda3/envs/aidj/lib/python3.8/site-packages/librosa/core/audio.py:162: UserWarning: PySoundFile failed. Trying audioread instead.\n",
      "  warnings.warn(\"PySoundFile failed. Trying audioread instead.\")\n"
     ]
    },
    {
     "name": "stdout",
     "output_type": "stream",
     "text": [
      "(65, 13)\n",
      "(65, 13)\n",
      "(65, 13)\n",
      "(65, 13)\n",
      "(65, 13)\n",
      "(65, 13)\n",
      "(65, 13)\n",
      "(65, 13)\n",
      "(65, 13)\n",
      "(65, 13)\n"
     ]
    },
    {
     "name": "stderr",
     "output_type": "stream",
     "text": [
      "/home/akriptonn/anaconda3/envs/aidj/lib/python3.8/site-packages/librosa/core/audio.py:162: UserWarning: PySoundFile failed. Trying audioread instead.\n",
      "  warnings.warn(\"PySoundFile failed. Trying audioread instead.\")\n"
     ]
    },
    {
     "name": "stdout",
     "output_type": "stream",
     "text": [
      "(65, 13)\n",
      "(65, 13)\n",
      "(65, 13)\n",
      "(65, 13)\n",
      "(65, 13)\n",
      "(65, 13)\n",
      "(65, 13)\n",
      "(65, 13)\n",
      "(65, 13)\n",
      "(65, 13)\n"
     ]
    },
    {
     "name": "stderr",
     "output_type": "stream",
     "text": [
      "/home/akriptonn/anaconda3/envs/aidj/lib/python3.8/site-packages/librosa/core/audio.py:162: UserWarning: PySoundFile failed. Trying audioread instead.\n",
      "  warnings.warn(\"PySoundFile failed. Trying audioread instead.\")\n"
     ]
    },
    {
     "name": "stdout",
     "output_type": "stream",
     "text": [
      "(65, 13)\n",
      "(65, 13)\n",
      "(65, 13)\n",
      "(65, 13)\n",
      "(65, 13)\n",
      "(65, 13)\n",
      "(65, 13)\n",
      "(65, 13)\n",
      "(65, 13)\n",
      "(65, 13)\n"
     ]
    },
    {
     "name": "stderr",
     "output_type": "stream",
     "text": [
      "/home/akriptonn/anaconda3/envs/aidj/lib/python3.8/site-packages/librosa/core/audio.py:162: UserWarning: PySoundFile failed. Trying audioread instead.\n",
      "  warnings.warn(\"PySoundFile failed. Trying audioread instead.\")\n"
     ]
    },
    {
     "name": "stdout",
     "output_type": "stream",
     "text": [
      "(65, 13)\n",
      "(65, 13)\n",
      "(65, 13)\n",
      "(65, 13)\n",
      "(65, 13)\n",
      "(65, 13)\n",
      "(65, 13)\n",
      "(65, 13)\n",
      "(65, 13)\n",
      "(65, 13)\n"
     ]
    },
    {
     "name": "stderr",
     "output_type": "stream",
     "text": [
      "/home/akriptonn/anaconda3/envs/aidj/lib/python3.8/site-packages/librosa/core/audio.py:162: UserWarning: PySoundFile failed. Trying audioread instead.\n",
      "  warnings.warn(\"PySoundFile failed. Trying audioread instead.\")\n"
     ]
    },
    {
     "name": "stdout",
     "output_type": "stream",
     "text": [
      "(65, 13)\n",
      "(65, 13)\n",
      "(65, 13)\n",
      "(65, 13)\n",
      "(65, 13)\n",
      "(65, 13)\n",
      "(65, 13)\n",
      "(65, 13)\n",
      "(65, 13)\n",
      "(65, 13)\n"
     ]
    },
    {
     "name": "stderr",
     "output_type": "stream",
     "text": [
      "/home/akriptonn/anaconda3/envs/aidj/lib/python3.8/site-packages/librosa/core/audio.py:162: UserWarning: PySoundFile failed. Trying audioread instead.\n",
      "  warnings.warn(\"PySoundFile failed. Trying audioread instead.\")\n"
     ]
    },
    {
     "name": "stdout",
     "output_type": "stream",
     "text": [
      "(65, 13)\n",
      "(65, 13)\n",
      "(65, 13)\n",
      "(65, 13)\n",
      "(65, 13)\n",
      "(65, 13)\n",
      "(65, 13)\n",
      "(65, 13)\n",
      "(65, 13)\n",
      "(65, 13)\n"
     ]
    },
    {
     "name": "stderr",
     "output_type": "stream",
     "text": [
      "/home/akriptonn/anaconda3/envs/aidj/lib/python3.8/site-packages/librosa/core/audio.py:162: UserWarning: PySoundFile failed. Trying audioread instead.\n",
      "  warnings.warn(\"PySoundFile failed. Trying audioread instead.\")\n"
     ]
    },
    {
     "name": "stdout",
     "output_type": "stream",
     "text": [
      "(65, 13)\n",
      "(65, 13)\n",
      "(65, 13)\n",
      "(65, 13)\n",
      "(65, 13)\n",
      "(65, 13)\n",
      "(65, 13)\n",
      "(65, 13)\n",
      "(65, 13)\n",
      "(65, 13)\n"
     ]
    },
    {
     "name": "stderr",
     "output_type": "stream",
     "text": [
      "/home/akriptonn/anaconda3/envs/aidj/lib/python3.8/site-packages/librosa/core/audio.py:162: UserWarning: PySoundFile failed. Trying audioread instead.\n",
      "  warnings.warn(\"PySoundFile failed. Trying audioread instead.\")\n"
     ]
    },
    {
     "name": "stdout",
     "output_type": "stream",
     "text": [
      "(65, 13)\n",
      "(65, 13)\n",
      "(65, 13)\n",
      "(65, 13)\n",
      "(65, 13)\n",
      "(65, 13)\n",
      "(65, 13)\n",
      "(65, 13)\n",
      "(65, 13)\n",
      "(65, 13)\n"
     ]
    },
    {
     "name": "stderr",
     "output_type": "stream",
     "text": [
      "/home/akriptonn/anaconda3/envs/aidj/lib/python3.8/site-packages/librosa/core/audio.py:162: UserWarning: PySoundFile failed. Trying audioread instead.\n",
      "  warnings.warn(\"PySoundFile failed. Trying audioread instead.\")\n"
     ]
    },
    {
     "name": "stdout",
     "output_type": "stream",
     "text": [
      "(65, 13)\n",
      "(65, 13)\n",
      "(65, 13)\n",
      "(65, 13)\n",
      "(65, 13)\n",
      "(65, 13)\n",
      "(65, 13)\n",
      "(65, 13)\n",
      "(65, 13)\n",
      "(65, 13)\n"
     ]
    },
    {
     "name": "stderr",
     "output_type": "stream",
     "text": [
      "/home/akriptonn/anaconda3/envs/aidj/lib/python3.8/site-packages/librosa/core/audio.py:162: UserWarning: PySoundFile failed. Trying audioread instead.\n",
      "  warnings.warn(\"PySoundFile failed. Trying audioread instead.\")\n"
     ]
    },
    {
     "name": "stdout",
     "output_type": "stream",
     "text": [
      "(65, 13)\n",
      "(65, 13)\n",
      "(65, 13)\n",
      "(65, 13)\n",
      "(65, 13)\n",
      "(65, 13)\n",
      "(65, 13)\n",
      "(65, 13)\n",
      "(65, 13)\n",
      "(65, 13)\n"
     ]
    },
    {
     "name": "stderr",
     "output_type": "stream",
     "text": [
      "/home/akriptonn/anaconda3/envs/aidj/lib/python3.8/site-packages/librosa/core/audio.py:162: UserWarning: PySoundFile failed. Trying audioread instead.\n",
      "  warnings.warn(\"PySoundFile failed. Trying audioread instead.\")\n"
     ]
    },
    {
     "name": "stdout",
     "output_type": "stream",
     "text": [
      "(65, 13)\n",
      "(65, 13)\n",
      "(65, 13)\n",
      "(65, 13)\n",
      "(65, 13)\n",
      "(65, 13)\n",
      "(65, 13)\n",
      "(65, 13)\n",
      "(65, 13)\n",
      "(65, 13)\n"
     ]
    },
    {
     "name": "stderr",
     "output_type": "stream",
     "text": [
      "/home/akriptonn/anaconda3/envs/aidj/lib/python3.8/site-packages/librosa/core/audio.py:162: UserWarning: PySoundFile failed. Trying audioread instead.\n",
      "  warnings.warn(\"PySoundFile failed. Trying audioread instead.\")\n"
     ]
    },
    {
     "name": "stdout",
     "output_type": "stream",
     "text": [
      "(65, 13)\n",
      "(65, 13)\n",
      "(65, 13)\n",
      "(65, 13)\n",
      "(65, 13)\n",
      "(65, 13)\n",
      "(65, 13)\n",
      "(65, 13)\n",
      "(65, 13)\n",
      "(65, 13)\n"
     ]
    },
    {
     "name": "stderr",
     "output_type": "stream",
     "text": [
      "/home/akriptonn/anaconda3/envs/aidj/lib/python3.8/site-packages/librosa/core/audio.py:162: UserWarning: PySoundFile failed. Trying audioread instead.\n",
      "  warnings.warn(\"PySoundFile failed. Trying audioread instead.\")\n"
     ]
    },
    {
     "name": "stdout",
     "output_type": "stream",
     "text": [
      "(65, 13)\n",
      "(65, 13)\n",
      "(65, 13)\n",
      "(65, 13)\n",
      "(65, 13)\n",
      "(65, 13)\n",
      "(65, 13)\n",
      "(65, 13)\n",
      "(65, 13)\n",
      "(65, 13)\n"
     ]
    },
    {
     "name": "stderr",
     "output_type": "stream",
     "text": [
      "/home/akriptonn/anaconda3/envs/aidj/lib/python3.8/site-packages/librosa/core/audio.py:162: UserWarning: PySoundFile failed. Trying audioread instead.\n",
      "  warnings.warn(\"PySoundFile failed. Trying audioread instead.\")\n"
     ]
    },
    {
     "name": "stdout",
     "output_type": "stream",
     "text": [
      "(65, 13)\n",
      "(65, 13)\n",
      "(65, 13)\n",
      "(65, 13)\n",
      "(65, 13)\n",
      "(65, 13)\n",
      "(65, 13)\n",
      "(65, 13)\n",
      "(65, 13)\n",
      "(65, 13)\n"
     ]
    },
    {
     "name": "stderr",
     "output_type": "stream",
     "text": [
      "/home/akriptonn/anaconda3/envs/aidj/lib/python3.8/site-packages/librosa/core/audio.py:162: UserWarning: PySoundFile failed. Trying audioread instead.\n",
      "  warnings.warn(\"PySoundFile failed. Trying audioread instead.\")\n"
     ]
    },
    {
     "name": "stdout",
     "output_type": "stream",
     "text": [
      "(65, 13)\n",
      "(65, 13)\n",
      "(65, 13)\n",
      "(65, 13)\n",
      "(65, 13)\n",
      "(65, 13)\n",
      "(65, 13)\n",
      "(65, 13)\n",
      "(65, 13)\n",
      "(65, 13)\n"
     ]
    },
    {
     "name": "stderr",
     "output_type": "stream",
     "text": [
      "/home/akriptonn/anaconda3/envs/aidj/lib/python3.8/site-packages/librosa/core/audio.py:162: UserWarning: PySoundFile failed. Trying audioread instead.\n",
      "  warnings.warn(\"PySoundFile failed. Trying audioread instead.\")\n"
     ]
    },
    {
     "name": "stdout",
     "output_type": "stream",
     "text": [
      "(65, 13)\n",
      "(65, 13)\n",
      "(65, 13)\n",
      "(65, 13)\n",
      "(65, 13)\n",
      "(65, 13)\n",
      "(65, 13)\n",
      "(65, 13)\n",
      "(65, 13)\n",
      "(65, 13)\n"
     ]
    },
    {
     "name": "stderr",
     "output_type": "stream",
     "text": [
      "/home/akriptonn/anaconda3/envs/aidj/lib/python3.8/site-packages/librosa/core/audio.py:162: UserWarning: PySoundFile failed. Trying audioread instead.\n",
      "  warnings.warn(\"PySoundFile failed. Trying audioread instead.\")\n"
     ]
    },
    {
     "name": "stdout",
     "output_type": "stream",
     "text": [
      "(65, 13)\n",
      "(65, 13)\n",
      "(65, 13)\n",
      "(65, 13)\n",
      "(65, 13)\n",
      "(65, 13)\n",
      "(65, 13)\n",
      "(65, 13)\n",
      "(65, 13)\n",
      "(65, 13)\n"
     ]
    },
    {
     "name": "stderr",
     "output_type": "stream",
     "text": [
      "/home/akriptonn/anaconda3/envs/aidj/lib/python3.8/site-packages/librosa/core/audio.py:162: UserWarning: PySoundFile failed. Trying audioread instead.\n",
      "  warnings.warn(\"PySoundFile failed. Trying audioread instead.\")\n"
     ]
    },
    {
     "name": "stdout",
     "output_type": "stream",
     "text": [
      "(65, 13)\n",
      "(65, 13)\n",
      "(65, 13)\n",
      "(65, 13)\n",
      "(65, 13)\n",
      "(65, 13)\n",
      "(65, 13)\n",
      "(65, 13)\n",
      "(65, 13)\n",
      "(65, 13)\n"
     ]
    },
    {
     "name": "stderr",
     "output_type": "stream",
     "text": [
      "/home/akriptonn/anaconda3/envs/aidj/lib/python3.8/site-packages/librosa/core/audio.py:162: UserWarning: PySoundFile failed. Trying audioread instead.\n",
      "  warnings.warn(\"PySoundFile failed. Trying audioread instead.\")\n"
     ]
    },
    {
     "name": "stdout",
     "output_type": "stream",
     "text": [
      "(65, 13)\n",
      "(65, 13)\n",
      "(65, 13)\n",
      "(65, 13)\n",
      "(65, 13)\n",
      "(65, 13)\n",
      "(65, 13)\n",
      "(65, 13)\n",
      "(65, 13)\n",
      "(65, 13)\n"
     ]
    },
    {
     "name": "stderr",
     "output_type": "stream",
     "text": [
      "/home/akriptonn/anaconda3/envs/aidj/lib/python3.8/site-packages/librosa/core/audio.py:162: UserWarning: PySoundFile failed. Trying audioread instead.\n",
      "  warnings.warn(\"PySoundFile failed. Trying audioread instead.\")\n"
     ]
    },
    {
     "name": "stdout",
     "output_type": "stream",
     "text": [
      "(65, 13)\n",
      "(65, 13)\n",
      "(65, 13)\n",
      "(65, 13)\n",
      "(65, 13)\n",
      "(65, 13)\n",
      "(65, 13)\n",
      "(65, 13)\n",
      "(65, 13)\n",
      "(65, 13)\n"
     ]
    },
    {
     "name": "stderr",
     "output_type": "stream",
     "text": [
      "/home/akriptonn/anaconda3/envs/aidj/lib/python3.8/site-packages/librosa/core/audio.py:162: UserWarning: PySoundFile failed. Trying audioread instead.\n",
      "  warnings.warn(\"PySoundFile failed. Trying audioread instead.\")\n"
     ]
    },
    {
     "name": "stdout",
     "output_type": "stream",
     "text": [
      "(65, 13)\n",
      "(65, 13)\n",
      "(65, 13)\n",
      "(65, 13)\n",
      "(65, 13)\n",
      "(65, 13)\n",
      "(65, 13)\n",
      "(65, 13)\n",
      "(65, 13)\n",
      "(65, 13)\n"
     ]
    },
    {
     "name": "stderr",
     "output_type": "stream",
     "text": [
      "/home/akriptonn/anaconda3/envs/aidj/lib/python3.8/site-packages/librosa/core/audio.py:162: UserWarning: PySoundFile failed. Trying audioread instead.\n",
      "  warnings.warn(\"PySoundFile failed. Trying audioread instead.\")\n"
     ]
    },
    {
     "name": "stdout",
     "output_type": "stream",
     "text": [
      "(65, 13)\n",
      "(65, 13)\n",
      "(65, 13)\n",
      "(65, 13)\n",
      "(65, 13)\n",
      "(65, 13)\n",
      "(65, 13)\n",
      "(65, 13)\n",
      "(65, 13)\n",
      "(65, 13)\n"
     ]
    },
    {
     "name": "stderr",
     "output_type": "stream",
     "text": [
      "/home/akriptonn/anaconda3/envs/aidj/lib/python3.8/site-packages/librosa/core/audio.py:162: UserWarning: PySoundFile failed. Trying audioread instead.\n",
      "  warnings.warn(\"PySoundFile failed. Trying audioread instead.\")\n"
     ]
    },
    {
     "name": "stdout",
     "output_type": "stream",
     "text": [
      "(65, 13)\n",
      "(65, 13)\n",
      "(65, 13)\n",
      "(65, 13)\n",
      "(65, 13)\n",
      "(65, 13)\n",
      "(65, 13)\n",
      "(65, 13)\n",
      "(65, 13)\n",
      "(65, 13)\n"
     ]
    },
    {
     "name": "stderr",
     "output_type": "stream",
     "text": [
      "/home/akriptonn/anaconda3/envs/aidj/lib/python3.8/site-packages/librosa/core/audio.py:162: UserWarning: PySoundFile failed. Trying audioread instead.\n",
      "  warnings.warn(\"PySoundFile failed. Trying audioread instead.\")\n"
     ]
    },
    {
     "name": "stdout",
     "output_type": "stream",
     "text": [
      "(65, 13)\n",
      "(65, 13)\n",
      "(65, 13)\n",
      "(65, 13)\n",
      "(65, 13)\n",
      "(65, 13)\n",
      "(65, 13)\n",
      "(65, 13)\n",
      "(65, 13)\n",
      "(65, 13)\n"
     ]
    },
    {
     "name": "stderr",
     "output_type": "stream",
     "text": [
      "/home/akriptonn/anaconda3/envs/aidj/lib/python3.8/site-packages/librosa/core/audio.py:162: UserWarning: PySoundFile failed. Trying audioread instead.\n",
      "  warnings.warn(\"PySoundFile failed. Trying audioread instead.\")\n"
     ]
    },
    {
     "name": "stdout",
     "output_type": "stream",
     "text": [
      "(65, 13)\n",
      "(65, 13)\n",
      "(65, 13)\n",
      "(65, 13)\n",
      "(65, 13)\n",
      "(65, 13)\n",
      "(65, 13)\n",
      "(65, 13)\n",
      "(65, 13)\n",
      "(65, 13)\n"
     ]
    },
    {
     "name": "stderr",
     "output_type": "stream",
     "text": [
      "/home/akriptonn/anaconda3/envs/aidj/lib/python3.8/site-packages/librosa/core/audio.py:162: UserWarning: PySoundFile failed. Trying audioread instead.\n",
      "  warnings.warn(\"PySoundFile failed. Trying audioread instead.\")\n"
     ]
    },
    {
     "name": "stdout",
     "output_type": "stream",
     "text": [
      "(65, 13)\n",
      "(65, 13)\n",
      "(65, 13)\n",
      "(65, 13)\n",
      "(65, 13)\n",
      "(65, 13)\n",
      "(65, 13)\n",
      "(65, 13)\n",
      "(65, 13)\n",
      "(65, 13)\n"
     ]
    },
    {
     "name": "stderr",
     "output_type": "stream",
     "text": [
      "/home/akriptonn/anaconda3/envs/aidj/lib/python3.8/site-packages/librosa/core/audio.py:162: UserWarning: PySoundFile failed. Trying audioread instead.\n",
      "  warnings.warn(\"PySoundFile failed. Trying audioread instead.\")\n"
     ]
    },
    {
     "name": "stdout",
     "output_type": "stream",
     "text": [
      "(65, 13)\n",
      "(65, 13)\n",
      "(65, 13)\n",
      "(65, 13)\n",
      "(65, 13)\n",
      "(65, 13)\n",
      "(65, 13)\n",
      "(65, 13)\n",
      "(65, 13)\n",
      "(65, 13)\n"
     ]
    },
    {
     "name": "stderr",
     "output_type": "stream",
     "text": [
      "/home/akriptonn/anaconda3/envs/aidj/lib/python3.8/site-packages/librosa/core/audio.py:162: UserWarning: PySoundFile failed. Trying audioread instead.\n",
      "  warnings.warn(\"PySoundFile failed. Trying audioread instead.\")\n"
     ]
    },
    {
     "name": "stdout",
     "output_type": "stream",
     "text": [
      "(65, 13)\n",
      "(65, 13)\n",
      "(65, 13)\n",
      "(65, 13)\n",
      "(65, 13)\n",
      "(65, 13)\n",
      "(65, 13)\n",
      "(65, 13)\n",
      "(65, 13)\n",
      "(65, 13)\n"
     ]
    },
    {
     "name": "stderr",
     "output_type": "stream",
     "text": [
      "/home/akriptonn/anaconda3/envs/aidj/lib/python3.8/site-packages/librosa/core/audio.py:162: UserWarning: PySoundFile failed. Trying audioread instead.\n",
      "  warnings.warn(\"PySoundFile failed. Trying audioread instead.\")\n"
     ]
    },
    {
     "name": "stdout",
     "output_type": "stream",
     "text": [
      "(65, 13)\n",
      "(65, 13)\n",
      "(65, 13)\n",
      "(65, 13)\n",
      "(65, 13)\n",
      "(65, 13)\n",
      "(65, 13)\n",
      "(65, 13)\n",
      "(65, 13)\n",
      "(65, 13)\n"
     ]
    },
    {
     "name": "stderr",
     "output_type": "stream",
     "text": [
      "/home/akriptonn/anaconda3/envs/aidj/lib/python3.8/site-packages/librosa/core/audio.py:162: UserWarning: PySoundFile failed. Trying audioread instead.\n",
      "  warnings.warn(\"PySoundFile failed. Trying audioread instead.\")\n"
     ]
    },
    {
     "name": "stdout",
     "output_type": "stream",
     "text": [
      "(65, 13)\n",
      "(65, 13)\n",
      "(65, 13)\n",
      "(65, 13)\n",
      "(65, 13)\n",
      "(65, 13)\n",
      "(65, 13)\n",
      "(65, 13)\n",
      "(65, 13)\n",
      "(65, 13)\n"
     ]
    },
    {
     "name": "stderr",
     "output_type": "stream",
     "text": [
      "/home/akriptonn/anaconda3/envs/aidj/lib/python3.8/site-packages/librosa/core/audio.py:162: UserWarning: PySoundFile failed. Trying audioread instead.\n",
      "  warnings.warn(\"PySoundFile failed. Trying audioread instead.\")\n"
     ]
    },
    {
     "name": "stdout",
     "output_type": "stream",
     "text": [
      "(65, 13)\n",
      "(65, 13)\n",
      "(65, 13)\n",
      "(65, 13)\n",
      "(65, 13)\n",
      "(65, 13)\n",
      "(65, 13)\n",
      "(65, 13)\n",
      "(65, 13)\n",
      "(65, 13)\n"
     ]
    },
    {
     "name": "stderr",
     "output_type": "stream",
     "text": [
      "/home/akriptonn/anaconda3/envs/aidj/lib/python3.8/site-packages/librosa/core/audio.py:162: UserWarning: PySoundFile failed. Trying audioread instead.\n",
      "  warnings.warn(\"PySoundFile failed. Trying audioread instead.\")\n"
     ]
    },
    {
     "name": "stdout",
     "output_type": "stream",
     "text": [
      "(65, 13)\n",
      "(65, 13)\n",
      "(65, 13)\n",
      "(65, 13)\n",
      "(65, 13)\n",
      "(65, 13)\n",
      "(65, 13)\n",
      "(65, 13)\n",
      "(65, 13)\n",
      "(65, 13)\n"
     ]
    },
    {
     "name": "stderr",
     "output_type": "stream",
     "text": [
      "/home/akriptonn/anaconda3/envs/aidj/lib/python3.8/site-packages/librosa/core/audio.py:162: UserWarning: PySoundFile failed. Trying audioread instead.\n",
      "  warnings.warn(\"PySoundFile failed. Trying audioread instead.\")\n"
     ]
    },
    {
     "name": "stdout",
     "output_type": "stream",
     "text": [
      "(65, 13)\n",
      "(65, 13)\n",
      "(65, 13)\n",
      "(65, 13)\n",
      "(65, 13)\n",
      "(65, 13)\n",
      "(65, 13)\n",
      "(65, 13)\n",
      "(65, 13)\n",
      "(65, 13)\n"
     ]
    },
    {
     "name": "stderr",
     "output_type": "stream",
     "text": [
      "/home/akriptonn/anaconda3/envs/aidj/lib/python3.8/site-packages/librosa/core/audio.py:162: UserWarning: PySoundFile failed. Trying audioread instead.\n",
      "  warnings.warn(\"PySoundFile failed. Trying audioread instead.\")\n"
     ]
    },
    {
     "name": "stdout",
     "output_type": "stream",
     "text": [
      "(65, 13)\n",
      "(65, 13)\n",
      "(65, 13)\n",
      "(65, 13)\n",
      "(65, 13)\n",
      "(65, 13)\n",
      "(65, 13)\n",
      "(65, 13)\n",
      "(65, 13)\n",
      "(65, 13)\n"
     ]
    },
    {
     "name": "stderr",
     "output_type": "stream",
     "text": [
      "/home/akriptonn/anaconda3/envs/aidj/lib/python3.8/site-packages/librosa/core/audio.py:162: UserWarning: PySoundFile failed. Trying audioread instead.\n",
      "  warnings.warn(\"PySoundFile failed. Trying audioread instead.\")\n"
     ]
    },
    {
     "name": "stdout",
     "output_type": "stream",
     "text": [
      "(65, 13)\n",
      "(65, 13)\n",
      "(65, 13)\n",
      "(65, 13)\n",
      "(65, 13)\n",
      "(65, 13)\n",
      "(65, 13)\n",
      "(65, 13)\n",
      "(65, 13)\n",
      "(65, 13)\n"
     ]
    },
    {
     "name": "stderr",
     "output_type": "stream",
     "text": [
      "/home/akriptonn/anaconda3/envs/aidj/lib/python3.8/site-packages/librosa/core/audio.py:162: UserWarning: PySoundFile failed. Trying audioread instead.\n",
      "  warnings.warn(\"PySoundFile failed. Trying audioread instead.\")\n"
     ]
    },
    {
     "name": "stdout",
     "output_type": "stream",
     "text": [
      "(65, 13)\n",
      "(65, 13)\n",
      "(65, 13)\n",
      "(65, 13)\n",
      "(65, 13)\n",
      "(65, 13)\n",
      "(65, 13)\n",
      "(65, 13)\n",
      "(65, 13)\n",
      "(65, 13)\n"
     ]
    },
    {
     "name": "stderr",
     "output_type": "stream",
     "text": [
      "/home/akriptonn/anaconda3/envs/aidj/lib/python3.8/site-packages/librosa/core/audio.py:162: UserWarning: PySoundFile failed. Trying audioread instead.\n",
      "  warnings.warn(\"PySoundFile failed. Trying audioread instead.\")\n"
     ]
    },
    {
     "name": "stdout",
     "output_type": "stream",
     "text": [
      "(65, 13)\n",
      "(65, 13)\n",
      "(65, 13)\n",
      "(65, 13)\n",
      "(65, 13)\n",
      "(65, 13)\n",
      "(65, 13)\n",
      "(65, 13)\n",
      "(65, 13)\n",
      "(65, 13)\n"
     ]
    },
    {
     "name": "stderr",
     "output_type": "stream",
     "text": [
      "/home/akriptonn/anaconda3/envs/aidj/lib/python3.8/site-packages/librosa/core/audio.py:162: UserWarning: PySoundFile failed. Trying audioread instead.\n",
      "  warnings.warn(\"PySoundFile failed. Trying audioread instead.\")\n"
     ]
    },
    {
     "name": "stdout",
     "output_type": "stream",
     "text": [
      "(65, 13)\n",
      "(65, 13)\n",
      "(65, 13)\n",
      "(65, 13)\n",
      "(65, 13)\n",
      "(65, 13)\n",
      "(65, 13)\n",
      "(65, 13)\n",
      "(65, 13)\n",
      "(65, 13)\n"
     ]
    },
    {
     "name": "stderr",
     "output_type": "stream",
     "text": [
      "/home/akriptonn/anaconda3/envs/aidj/lib/python3.8/site-packages/librosa/core/audio.py:162: UserWarning: PySoundFile failed. Trying audioread instead.\n",
      "  warnings.warn(\"PySoundFile failed. Trying audioread instead.\")\n"
     ]
    },
    {
     "name": "stdout",
     "output_type": "stream",
     "text": [
      "(65, 13)\n",
      "(65, 13)\n",
      "(65, 13)\n",
      "(65, 13)\n",
      "(65, 13)\n",
      "(65, 13)\n",
      "(65, 13)\n",
      "(65, 13)\n",
      "(65, 13)\n",
      "(65, 13)\n"
     ]
    },
    {
     "name": "stderr",
     "output_type": "stream",
     "text": [
      "/home/akriptonn/anaconda3/envs/aidj/lib/python3.8/site-packages/librosa/core/audio.py:162: UserWarning: PySoundFile failed. Trying audioread instead.\n",
      "  warnings.warn(\"PySoundFile failed. Trying audioread instead.\")\n"
     ]
    },
    {
     "name": "stdout",
     "output_type": "stream",
     "text": [
      "(65, 13)\n",
      "(65, 13)\n",
      "(65, 13)\n",
      "(65, 13)\n",
      "(65, 13)\n",
      "(65, 13)\n",
      "(65, 13)\n",
      "(65, 13)\n",
      "(65, 13)\n",
      "(65, 13)\n"
     ]
    },
    {
     "name": "stderr",
     "output_type": "stream",
     "text": [
      "/home/akriptonn/anaconda3/envs/aidj/lib/python3.8/site-packages/librosa/core/audio.py:162: UserWarning: PySoundFile failed. Trying audioread instead.\n",
      "  warnings.warn(\"PySoundFile failed. Trying audioread instead.\")\n"
     ]
    },
    {
     "name": "stdout",
     "output_type": "stream",
     "text": [
      "(65, 13)\n",
      "(65, 13)\n",
      "(65, 13)\n",
      "(65, 13)\n",
      "(65, 13)\n",
      "(65, 13)\n",
      "(65, 13)\n",
      "(65, 13)\n",
      "(65, 13)\n",
      "(65, 13)\n"
     ]
    },
    {
     "name": "stderr",
     "output_type": "stream",
     "text": [
      "/home/akriptonn/anaconda3/envs/aidj/lib/python3.8/site-packages/librosa/core/audio.py:162: UserWarning: PySoundFile failed. Trying audioread instead.\n",
      "  warnings.warn(\"PySoundFile failed. Trying audioread instead.\")\n"
     ]
    },
    {
     "name": "stdout",
     "output_type": "stream",
     "text": [
      "(65, 13)\n",
      "(65, 13)\n",
      "(65, 13)\n",
      "(65, 13)\n",
      "(65, 13)\n",
      "(65, 13)\n",
      "(65, 13)\n",
      "(65, 13)\n",
      "(65, 13)\n",
      "(65, 13)\n"
     ]
    },
    {
     "name": "stderr",
     "output_type": "stream",
     "text": [
      "/home/akriptonn/anaconda3/envs/aidj/lib/python3.8/site-packages/librosa/core/audio.py:162: UserWarning: PySoundFile failed. Trying audioread instead.\n",
      "  warnings.warn(\"PySoundFile failed. Trying audioread instead.\")\n"
     ]
    },
    {
     "name": "stdout",
     "output_type": "stream",
     "text": [
      "(65, 13)\n",
      "(65, 13)\n",
      "(65, 13)\n",
      "(65, 13)\n",
      "(65, 13)\n",
      "(65, 13)\n",
      "(65, 13)\n",
      "(65, 13)\n",
      "(65, 13)\n",
      "(65, 13)\n"
     ]
    },
    {
     "name": "stderr",
     "output_type": "stream",
     "text": [
      "/home/akriptonn/anaconda3/envs/aidj/lib/python3.8/site-packages/librosa/core/audio.py:162: UserWarning: PySoundFile failed. Trying audioread instead.\n",
      "  warnings.warn(\"PySoundFile failed. Trying audioread instead.\")\n"
     ]
    },
    {
     "name": "stdout",
     "output_type": "stream",
     "text": [
      "(65, 13)\n",
      "(65, 13)\n",
      "(65, 13)\n",
      "(65, 13)\n",
      "(65, 13)\n",
      "(65, 13)\n",
      "(65, 13)\n",
      "(65, 13)\n",
      "(65, 13)\n",
      "(65, 13)\n"
     ]
    },
    {
     "name": "stderr",
     "output_type": "stream",
     "text": [
      "/home/akriptonn/anaconda3/envs/aidj/lib/python3.8/site-packages/librosa/core/audio.py:162: UserWarning: PySoundFile failed. Trying audioread instead.\n",
      "  warnings.warn(\"PySoundFile failed. Trying audioread instead.\")\n"
     ]
    },
    {
     "name": "stdout",
     "output_type": "stream",
     "text": [
      "(65, 13)\n",
      "(65, 13)\n",
      "(65, 13)\n",
      "(65, 13)\n",
      "(65, 13)\n",
      "(65, 13)\n",
      "(65, 13)\n",
      "(65, 13)\n",
      "(65, 13)\n",
      "(65, 13)\n"
     ]
    },
    {
     "name": "stderr",
     "output_type": "stream",
     "text": [
      "/home/akriptonn/anaconda3/envs/aidj/lib/python3.8/site-packages/librosa/core/audio.py:162: UserWarning: PySoundFile failed. Trying audioread instead.\n",
      "  warnings.warn(\"PySoundFile failed. Trying audioread instead.\")\n"
     ]
    },
    {
     "name": "stdout",
     "output_type": "stream",
     "text": [
      "(65, 13)\n",
      "(65, 13)\n",
      "(65, 13)\n",
      "(65, 13)\n",
      "(65, 13)\n",
      "(65, 13)\n",
      "(65, 13)\n",
      "(65, 13)\n",
      "(65, 13)\n",
      "(65, 13)\n"
     ]
    },
    {
     "name": "stderr",
     "output_type": "stream",
     "text": [
      "/home/akriptonn/anaconda3/envs/aidj/lib/python3.8/site-packages/librosa/core/audio.py:162: UserWarning: PySoundFile failed. Trying audioread instead.\n",
      "  warnings.warn(\"PySoundFile failed. Trying audioread instead.\")\n"
     ]
    },
    {
     "name": "stdout",
     "output_type": "stream",
     "text": [
      "(65, 13)\n",
      "(65, 13)\n",
      "(65, 13)\n",
      "(65, 13)\n",
      "(65, 13)\n",
      "(65, 13)\n",
      "(65, 13)\n",
      "(65, 13)\n",
      "(65, 13)\n",
      "(65, 13)\n"
     ]
    },
    {
     "name": "stderr",
     "output_type": "stream",
     "text": [
      "/home/akriptonn/anaconda3/envs/aidj/lib/python3.8/site-packages/librosa/core/audio.py:162: UserWarning: PySoundFile failed. Trying audioread instead.\n",
      "  warnings.warn(\"PySoundFile failed. Trying audioread instead.\")\n"
     ]
    },
    {
     "name": "stdout",
     "output_type": "stream",
     "text": [
      "(65, 13)\n",
      "(65, 13)\n",
      "(65, 13)\n",
      "(65, 13)\n",
      "(65, 13)\n",
      "(65, 13)\n",
      "(65, 13)\n",
      "(65, 13)\n",
      "(65, 13)\n",
      "(65, 13)\n"
     ]
    },
    {
     "name": "stderr",
     "output_type": "stream",
     "text": [
      "/home/akriptonn/anaconda3/envs/aidj/lib/python3.8/site-packages/librosa/core/audio.py:162: UserWarning: PySoundFile failed. Trying audioread instead.\n",
      "  warnings.warn(\"PySoundFile failed. Trying audioread instead.\")\n"
     ]
    },
    {
     "name": "stdout",
     "output_type": "stream",
     "text": [
      "(65, 13)\n",
      "(65, 13)\n",
      "(65, 13)\n",
      "(65, 13)\n",
      "(65, 13)\n",
      "(65, 13)\n",
      "(65, 13)\n",
      "(65, 13)\n",
      "(65, 13)\n",
      "(65, 13)\n"
     ]
    },
    {
     "name": "stderr",
     "output_type": "stream",
     "text": [
      "/home/akriptonn/anaconda3/envs/aidj/lib/python3.8/site-packages/librosa/core/audio.py:162: UserWarning: PySoundFile failed. Trying audioread instead.\n",
      "  warnings.warn(\"PySoundFile failed. Trying audioread instead.\")\n"
     ]
    },
    {
     "name": "stdout",
     "output_type": "stream",
     "text": [
      "(65, 13)\n",
      "(65, 13)\n",
      "(65, 13)\n",
      "(65, 13)\n",
      "(65, 13)\n",
      "(65, 13)\n",
      "(65, 13)\n",
      "(65, 13)\n",
      "(65, 13)\n",
      "(65, 13)\n"
     ]
    },
    {
     "name": "stderr",
     "output_type": "stream",
     "text": [
      "/home/akriptonn/anaconda3/envs/aidj/lib/python3.8/site-packages/librosa/core/audio.py:162: UserWarning: PySoundFile failed. Trying audioread instead.\n",
      "  warnings.warn(\"PySoundFile failed. Trying audioread instead.\")\n"
     ]
    },
    {
     "name": "stdout",
     "output_type": "stream",
     "text": [
      "(65, 13)\n",
      "(65, 13)\n",
      "(65, 13)\n",
      "(65, 13)\n",
      "(65, 13)\n",
      "(65, 13)\n",
      "(65, 13)\n",
      "(65, 13)\n",
      "(65, 13)\n",
      "(65, 13)\n"
     ]
    },
    {
     "name": "stderr",
     "output_type": "stream",
     "text": [
      "/home/akriptonn/anaconda3/envs/aidj/lib/python3.8/site-packages/librosa/core/audio.py:162: UserWarning: PySoundFile failed. Trying audioread instead.\n",
      "  warnings.warn(\"PySoundFile failed. Trying audioread instead.\")\n"
     ]
    },
    {
     "name": "stdout",
     "output_type": "stream",
     "text": [
      "(65, 13)\n",
      "(65, 13)\n",
      "(65, 13)\n",
      "(65, 13)\n",
      "(65, 13)\n",
      "(65, 13)\n",
      "(65, 13)\n",
      "(65, 13)\n",
      "(65, 13)\n",
      "(65, 13)\n"
     ]
    },
    {
     "name": "stderr",
     "output_type": "stream",
     "text": [
      "/home/akriptonn/anaconda3/envs/aidj/lib/python3.8/site-packages/librosa/core/audio.py:162: UserWarning: PySoundFile failed. Trying audioread instead.\n",
      "  warnings.warn(\"PySoundFile failed. Trying audioread instead.\")\n"
     ]
    },
    {
     "name": "stdout",
     "output_type": "stream",
     "text": [
      "(65, 13)\n",
      "(65, 13)\n",
      "(65, 13)\n",
      "(65, 13)\n",
      "(65, 13)\n",
      "(65, 13)\n",
      "(65, 13)\n",
      "(65, 13)\n",
      "(65, 13)\n",
      "(65, 13)\n"
     ]
    },
    {
     "name": "stderr",
     "output_type": "stream",
     "text": [
      "/home/akriptonn/anaconda3/envs/aidj/lib/python3.8/site-packages/librosa/core/audio.py:162: UserWarning: PySoundFile failed. Trying audioread instead.\n",
      "  warnings.warn(\"PySoundFile failed. Trying audioread instead.\")\n"
     ]
    },
    {
     "name": "stdout",
     "output_type": "stream",
     "text": [
      "(65, 13)\n",
      "(65, 13)\n",
      "(65, 13)\n",
      "(65, 13)\n",
      "(65, 13)\n",
      "(65, 13)\n",
      "(65, 13)\n",
      "(65, 13)\n",
      "(65, 13)\n",
      "(65, 13)\n"
     ]
    },
    {
     "name": "stderr",
     "output_type": "stream",
     "text": [
      "/home/akriptonn/anaconda3/envs/aidj/lib/python3.8/site-packages/librosa/core/audio.py:162: UserWarning: PySoundFile failed. Trying audioread instead.\n",
      "  warnings.warn(\"PySoundFile failed. Trying audioread instead.\")\n"
     ]
    },
    {
     "name": "stdout",
     "output_type": "stream",
     "text": [
      "(65, 13)\n",
      "(65, 13)\n",
      "(65, 13)\n",
      "(65, 13)\n",
      "(65, 13)\n",
      "(65, 13)\n",
      "(65, 13)\n",
      "(65, 13)\n",
      "(65, 13)\n",
      "(65, 13)\n"
     ]
    },
    {
     "name": "stderr",
     "output_type": "stream",
     "text": [
      "/home/akriptonn/anaconda3/envs/aidj/lib/python3.8/site-packages/librosa/core/audio.py:162: UserWarning: PySoundFile failed. Trying audioread instead.\n",
      "  warnings.warn(\"PySoundFile failed. Trying audioread instead.\")\n"
     ]
    },
    {
     "name": "stdout",
     "output_type": "stream",
     "text": [
      "(65, 13)\n",
      "(65, 13)\n",
      "(65, 13)\n",
      "(65, 13)\n",
      "(65, 13)\n",
      "(65, 13)\n",
      "(65, 13)\n",
      "(65, 13)\n",
      "(65, 13)\n",
      "(65, 13)\n"
     ]
    },
    {
     "name": "stderr",
     "output_type": "stream",
     "text": [
      "/home/akriptonn/anaconda3/envs/aidj/lib/python3.8/site-packages/librosa/core/audio.py:162: UserWarning: PySoundFile failed. Trying audioread instead.\n",
      "  warnings.warn(\"PySoundFile failed. Trying audioread instead.\")\n"
     ]
    },
    {
     "name": "stdout",
     "output_type": "stream",
     "text": [
      "(65, 13)\n",
      "(65, 13)\n",
      "(65, 13)\n",
      "(65, 13)\n",
      "(65, 13)\n",
      "(65, 13)\n",
      "(65, 13)\n",
      "(65, 13)\n",
      "(65, 13)\n",
      "(65, 13)\n"
     ]
    },
    {
     "name": "stderr",
     "output_type": "stream",
     "text": [
      "/home/akriptonn/anaconda3/envs/aidj/lib/python3.8/site-packages/librosa/core/audio.py:162: UserWarning: PySoundFile failed. Trying audioread instead.\n",
      "  warnings.warn(\"PySoundFile failed. Trying audioread instead.\")\n"
     ]
    },
    {
     "name": "stdout",
     "output_type": "stream",
     "text": [
      "(65, 13)\n",
      "(65, 13)\n",
      "(65, 13)\n",
      "(65, 13)\n",
      "(65, 13)\n",
      "(65, 13)\n",
      "(65, 13)\n",
      "(65, 13)\n",
      "(65, 13)\n",
      "(65, 13)\n"
     ]
    },
    {
     "name": "stderr",
     "output_type": "stream",
     "text": [
      "/home/akriptonn/anaconda3/envs/aidj/lib/python3.8/site-packages/librosa/core/audio.py:162: UserWarning: PySoundFile failed. Trying audioread instead.\n",
      "  warnings.warn(\"PySoundFile failed. Trying audioread instead.\")\n"
     ]
    },
    {
     "name": "stdout",
     "output_type": "stream",
     "text": [
      "(65, 13)\n",
      "(65, 13)\n",
      "(65, 13)\n",
      "(65, 13)\n",
      "(65, 13)\n",
      "(65, 13)\n",
      "(65, 13)\n",
      "(65, 13)\n",
      "(65, 13)\n",
      "(65, 13)\n"
     ]
    },
    {
     "name": "stderr",
     "output_type": "stream",
     "text": [
      "/home/akriptonn/anaconda3/envs/aidj/lib/python3.8/site-packages/librosa/core/audio.py:162: UserWarning: PySoundFile failed. Trying audioread instead.\n",
      "  warnings.warn(\"PySoundFile failed. Trying audioread instead.\")\n"
     ]
    },
    {
     "name": "stdout",
     "output_type": "stream",
     "text": [
      "(65, 13)\n",
      "(65, 13)\n",
      "(65, 13)\n",
      "(65, 13)\n",
      "(65, 13)\n",
      "(65, 13)\n",
      "(65, 13)\n",
      "(65, 13)\n",
      "(65, 13)\n",
      "(65, 13)\n"
     ]
    },
    {
     "name": "stderr",
     "output_type": "stream",
     "text": [
      "/home/akriptonn/anaconda3/envs/aidj/lib/python3.8/site-packages/librosa/core/audio.py:162: UserWarning: PySoundFile failed. Trying audioread instead.\n",
      "  warnings.warn(\"PySoundFile failed. Trying audioread instead.\")\n"
     ]
    },
    {
     "name": "stdout",
     "output_type": "stream",
     "text": [
      "(65, 13)\n",
      "(65, 13)\n",
      "(65, 13)\n",
      "(65, 13)\n",
      "(65, 13)\n",
      "(65, 13)\n",
      "(65, 13)\n",
      "(65, 13)\n",
      "(65, 13)\n",
      "(65, 13)\n"
     ]
    },
    {
     "name": "stderr",
     "output_type": "stream",
     "text": [
      "/home/akriptonn/anaconda3/envs/aidj/lib/python3.8/site-packages/librosa/core/audio.py:162: UserWarning: PySoundFile failed. Trying audioread instead.\n",
      "  warnings.warn(\"PySoundFile failed. Trying audioread instead.\")\n"
     ]
    },
    {
     "name": "stdout",
     "output_type": "stream",
     "text": [
      "(65, 13)\n",
      "(65, 13)\n",
      "(65, 13)\n",
      "(65, 13)\n",
      "(65, 13)\n",
      "(65, 13)\n",
      "(65, 13)\n",
      "(65, 13)\n",
      "(65, 13)\n",
      "(65, 13)\n",
      "\n",
      "Processing DEEP HOUSE\n"
     ]
    },
    {
     "name": "stderr",
     "output_type": "stream",
     "text": [
      "/home/akriptonn/anaconda3/envs/aidj/lib/python3.8/site-packages/librosa/core/audio.py:162: UserWarning: PySoundFile failed. Trying audioread instead.\n",
      "  warnings.warn(\"PySoundFile failed. Trying audioread instead.\")\n"
     ]
    },
    {
     "name": "stdout",
     "output_type": "stream",
     "text": [
      "(65, 13)\n",
      "(65, 13)\n",
      "(65, 13)\n",
      "(65, 13)\n",
      "(65, 13)\n",
      "(65, 13)\n",
      "(65, 13)\n",
      "(65, 13)\n",
      "(65, 13)\n",
      "(65, 13)\n"
     ]
    },
    {
     "name": "stderr",
     "output_type": "stream",
     "text": [
      "/home/akriptonn/anaconda3/envs/aidj/lib/python3.8/site-packages/librosa/core/audio.py:162: UserWarning: PySoundFile failed. Trying audioread instead.\n",
      "  warnings.warn(\"PySoundFile failed. Trying audioread instead.\")\n"
     ]
    },
    {
     "name": "stdout",
     "output_type": "stream",
     "text": [
      "(65, 13)\n",
      "(65, 13)\n",
      "(65, 13)\n",
      "(65, 13)\n",
      "(65, 13)\n",
      "(65, 13)\n",
      "(65, 13)\n",
      "(65, 13)\n",
      "(65, 13)\n",
      "(65, 13)\n"
     ]
    },
    {
     "name": "stderr",
     "output_type": "stream",
     "text": [
      "/home/akriptonn/anaconda3/envs/aidj/lib/python3.8/site-packages/librosa/core/audio.py:162: UserWarning: PySoundFile failed. Trying audioread instead.\n",
      "  warnings.warn(\"PySoundFile failed. Trying audioread instead.\")\n"
     ]
    },
    {
     "name": "stdout",
     "output_type": "stream",
     "text": [
      "(65, 13)\n",
      "(65, 13)\n",
      "(65, 13)\n",
      "(65, 13)\n",
      "(65, 13)\n",
      "(65, 13)\n",
      "(65, 13)\n",
      "(65, 13)\n",
      "(65, 13)\n",
      "(65, 13)\n"
     ]
    },
    {
     "name": "stderr",
     "output_type": "stream",
     "text": [
      "/home/akriptonn/anaconda3/envs/aidj/lib/python3.8/site-packages/librosa/core/audio.py:162: UserWarning: PySoundFile failed. Trying audioread instead.\n",
      "  warnings.warn(\"PySoundFile failed. Trying audioread instead.\")\n"
     ]
    },
    {
     "name": "stdout",
     "output_type": "stream",
     "text": [
      "(65, 13)\n",
      "(65, 13)\n",
      "(65, 13)\n",
      "(65, 13)\n",
      "(65, 13)\n",
      "(65, 13)\n",
      "(65, 13)\n",
      "(65, 13)\n",
      "(65, 13)\n",
      "(65, 13)\n"
     ]
    },
    {
     "name": "stderr",
     "output_type": "stream",
     "text": [
      "/home/akriptonn/anaconda3/envs/aidj/lib/python3.8/site-packages/librosa/core/audio.py:162: UserWarning: PySoundFile failed. Trying audioread instead.\n",
      "  warnings.warn(\"PySoundFile failed. Trying audioread instead.\")\n"
     ]
    },
    {
     "name": "stdout",
     "output_type": "stream",
     "text": [
      "(65, 13)\n",
      "(65, 13)\n",
      "(65, 13)\n",
      "(65, 13)\n",
      "(65, 13)\n",
      "(65, 13)\n",
      "(65, 13)\n",
      "(65, 13)\n",
      "(65, 13)\n",
      "(65, 13)\n"
     ]
    },
    {
     "name": "stderr",
     "output_type": "stream",
     "text": [
      "/home/akriptonn/anaconda3/envs/aidj/lib/python3.8/site-packages/librosa/core/audio.py:162: UserWarning: PySoundFile failed. Trying audioread instead.\n",
      "  warnings.warn(\"PySoundFile failed. Trying audioread instead.\")\n"
     ]
    },
    {
     "name": "stdout",
     "output_type": "stream",
     "text": [
      "(65, 13)\n",
      "(65, 13)\n",
      "(65, 13)\n",
      "(65, 13)\n",
      "(65, 13)\n",
      "(65, 13)\n",
      "(65, 13)\n",
      "(65, 13)\n",
      "(65, 13)\n",
      "(65, 13)\n"
     ]
    },
    {
     "name": "stderr",
     "output_type": "stream",
     "text": [
      "/home/akriptonn/anaconda3/envs/aidj/lib/python3.8/site-packages/librosa/core/audio.py:162: UserWarning: PySoundFile failed. Trying audioread instead.\n",
      "  warnings.warn(\"PySoundFile failed. Trying audioread instead.\")\n"
     ]
    },
    {
     "name": "stdout",
     "output_type": "stream",
     "text": [
      "(65, 13)\n",
      "(65, 13)\n",
      "(65, 13)\n",
      "(65, 13)\n",
      "(65, 13)\n",
      "(65, 13)\n",
      "(65, 13)\n",
      "(65, 13)\n",
      "(65, 13)\n",
      "(65, 13)\n"
     ]
    },
    {
     "name": "stderr",
     "output_type": "stream",
     "text": [
      "/home/akriptonn/anaconda3/envs/aidj/lib/python3.8/site-packages/librosa/core/audio.py:162: UserWarning: PySoundFile failed. Trying audioread instead.\n",
      "  warnings.warn(\"PySoundFile failed. Trying audioread instead.\")\n"
     ]
    },
    {
     "name": "stdout",
     "output_type": "stream",
     "text": [
      "(65, 13)\n",
      "(65, 13)\n",
      "(65, 13)\n",
      "(65, 13)\n",
      "(65, 13)\n",
      "(65, 13)\n",
      "(65, 13)\n",
      "(65, 13)\n",
      "(65, 13)\n",
      "(65, 13)\n"
     ]
    },
    {
     "name": "stderr",
     "output_type": "stream",
     "text": [
      "/home/akriptonn/anaconda3/envs/aidj/lib/python3.8/site-packages/librosa/core/audio.py:162: UserWarning: PySoundFile failed. Trying audioread instead.\n",
      "  warnings.warn(\"PySoundFile failed. Trying audioread instead.\")\n"
     ]
    },
    {
     "name": "stdout",
     "output_type": "stream",
     "text": [
      "(65, 13)\n",
      "(65, 13)\n",
      "(65, 13)\n",
      "(65, 13)\n",
      "(65, 13)\n",
      "(65, 13)\n",
      "(65, 13)\n",
      "(65, 13)\n",
      "(65, 13)\n",
      "(65, 13)\n"
     ]
    },
    {
     "name": "stderr",
     "output_type": "stream",
     "text": [
      "/home/akriptonn/anaconda3/envs/aidj/lib/python3.8/site-packages/librosa/core/audio.py:162: UserWarning: PySoundFile failed. Trying audioread instead.\n",
      "  warnings.warn(\"PySoundFile failed. Trying audioread instead.\")\n"
     ]
    },
    {
     "name": "stdout",
     "output_type": "stream",
     "text": [
      "(65, 13)\n",
      "(65, 13)\n",
      "(65, 13)\n",
      "(65, 13)\n",
      "(65, 13)\n",
      "(65, 13)\n",
      "(65, 13)\n",
      "(65, 13)\n",
      "(65, 13)\n",
      "(65, 13)\n"
     ]
    },
    {
     "name": "stderr",
     "output_type": "stream",
     "text": [
      "/home/akriptonn/anaconda3/envs/aidj/lib/python3.8/site-packages/librosa/core/audio.py:162: UserWarning: PySoundFile failed. Trying audioread instead.\n",
      "  warnings.warn(\"PySoundFile failed. Trying audioread instead.\")\n"
     ]
    },
    {
     "name": "stdout",
     "output_type": "stream",
     "text": [
      "(65, 13)\n",
      "(65, 13)\n",
      "(65, 13)\n",
      "(65, 13)\n",
      "(65, 13)\n",
      "(65, 13)\n",
      "(65, 13)\n",
      "(65, 13)\n",
      "(65, 13)\n",
      "(65, 13)\n"
     ]
    },
    {
     "name": "stderr",
     "output_type": "stream",
     "text": [
      "/home/akriptonn/anaconda3/envs/aidj/lib/python3.8/site-packages/librosa/core/audio.py:162: UserWarning: PySoundFile failed. Trying audioread instead.\n",
      "  warnings.warn(\"PySoundFile failed. Trying audioread instead.\")\n"
     ]
    },
    {
     "name": "stdout",
     "output_type": "stream",
     "text": [
      "(65, 13)\n",
      "(65, 13)\n",
      "(65, 13)\n",
      "(65, 13)\n",
      "(65, 13)\n",
      "(65, 13)\n",
      "(65, 13)\n",
      "(65, 13)\n",
      "(65, 13)\n",
      "(65, 13)\n"
     ]
    },
    {
     "name": "stderr",
     "output_type": "stream",
     "text": [
      "/home/akriptonn/anaconda3/envs/aidj/lib/python3.8/site-packages/librosa/core/audio.py:162: UserWarning: PySoundFile failed. Trying audioread instead.\n",
      "  warnings.warn(\"PySoundFile failed. Trying audioread instead.\")\n"
     ]
    },
    {
     "name": "stdout",
     "output_type": "stream",
     "text": [
      "(65, 13)\n",
      "(65, 13)\n",
      "(65, 13)\n",
      "(65, 13)\n",
      "(65, 13)\n",
      "(65, 13)\n",
      "(65, 13)\n",
      "(65, 13)\n",
      "(65, 13)\n",
      "(65, 13)\n"
     ]
    },
    {
     "name": "stderr",
     "output_type": "stream",
     "text": [
      "/home/akriptonn/anaconda3/envs/aidj/lib/python3.8/site-packages/librosa/core/audio.py:162: UserWarning: PySoundFile failed. Trying audioread instead.\n",
      "  warnings.warn(\"PySoundFile failed. Trying audioread instead.\")\n"
     ]
    },
    {
     "name": "stdout",
     "output_type": "stream",
     "text": [
      "(65, 13)\n",
      "(65, 13)\n",
      "(65, 13)\n",
      "(65, 13)\n",
      "(65, 13)\n",
      "(65, 13)\n",
      "(65, 13)\n",
      "(65, 13)\n",
      "(65, 13)\n",
      "(65, 13)\n"
     ]
    },
    {
     "name": "stderr",
     "output_type": "stream",
     "text": [
      "/home/akriptonn/anaconda3/envs/aidj/lib/python3.8/site-packages/librosa/core/audio.py:162: UserWarning: PySoundFile failed. Trying audioread instead.\n",
      "  warnings.warn(\"PySoundFile failed. Trying audioread instead.\")\n"
     ]
    },
    {
     "name": "stdout",
     "output_type": "stream",
     "text": [
      "(65, 13)\n",
      "(65, 13)\n",
      "(65, 13)\n",
      "(65, 13)\n",
      "(65, 13)\n",
      "(65, 13)\n",
      "(65, 13)\n",
      "(65, 13)\n",
      "(65, 13)\n",
      "(65, 13)\n"
     ]
    },
    {
     "name": "stderr",
     "output_type": "stream",
     "text": [
      "/home/akriptonn/anaconda3/envs/aidj/lib/python3.8/site-packages/librosa/core/audio.py:162: UserWarning: PySoundFile failed. Trying audioread instead.\n",
      "  warnings.warn(\"PySoundFile failed. Trying audioread instead.\")\n"
     ]
    },
    {
     "name": "stdout",
     "output_type": "stream",
     "text": [
      "(65, 13)\n",
      "(65, 13)\n",
      "(65, 13)\n",
      "(65, 13)\n",
      "(65, 13)\n",
      "(65, 13)\n",
      "(65, 13)\n",
      "(65, 13)\n",
      "(65, 13)\n",
      "(65, 13)\n"
     ]
    },
    {
     "name": "stderr",
     "output_type": "stream",
     "text": [
      "/home/akriptonn/anaconda3/envs/aidj/lib/python3.8/site-packages/librosa/core/audio.py:162: UserWarning: PySoundFile failed. Trying audioread instead.\n",
      "  warnings.warn(\"PySoundFile failed. Trying audioread instead.\")\n"
     ]
    },
    {
     "name": "stdout",
     "output_type": "stream",
     "text": [
      "(65, 13)\n",
      "(65, 13)\n",
      "(65, 13)\n",
      "(65, 13)\n",
      "(65, 13)\n",
      "(65, 13)\n",
      "(65, 13)\n",
      "(65, 13)\n",
      "(65, 13)\n",
      "(65, 13)\n"
     ]
    },
    {
     "name": "stderr",
     "output_type": "stream",
     "text": [
      "/home/akriptonn/anaconda3/envs/aidj/lib/python3.8/site-packages/librosa/core/audio.py:162: UserWarning: PySoundFile failed. Trying audioread instead.\n",
      "  warnings.warn(\"PySoundFile failed. Trying audioread instead.\")\n"
     ]
    },
    {
     "name": "stdout",
     "output_type": "stream",
     "text": [
      "(65, 13)\n",
      "(65, 13)\n",
      "(65, 13)\n",
      "(65, 13)\n",
      "(65, 13)\n",
      "(65, 13)\n",
      "(65, 13)\n",
      "(65, 13)\n",
      "(65, 13)\n",
      "(65, 13)\n"
     ]
    },
    {
     "name": "stderr",
     "output_type": "stream",
     "text": [
      "/home/akriptonn/anaconda3/envs/aidj/lib/python3.8/site-packages/librosa/core/audio.py:162: UserWarning: PySoundFile failed. Trying audioread instead.\n",
      "  warnings.warn(\"PySoundFile failed. Trying audioread instead.\")\n"
     ]
    },
    {
     "name": "stdout",
     "output_type": "stream",
     "text": [
      "(65, 13)\n",
      "(65, 13)\n",
      "(65, 13)\n",
      "(65, 13)\n",
      "(65, 13)\n",
      "(65, 13)\n",
      "(65, 13)\n",
      "(65, 13)\n",
      "(65, 13)\n",
      "(65, 13)\n"
     ]
    },
    {
     "name": "stderr",
     "output_type": "stream",
     "text": [
      "/home/akriptonn/anaconda3/envs/aidj/lib/python3.8/site-packages/librosa/core/audio.py:162: UserWarning: PySoundFile failed. Trying audioread instead.\n",
      "  warnings.warn(\"PySoundFile failed. Trying audioread instead.\")\n"
     ]
    },
    {
     "name": "stdout",
     "output_type": "stream",
     "text": [
      "(65, 13)\n",
      "(65, 13)\n",
      "(65, 13)\n",
      "(65, 13)\n",
      "(65, 13)\n",
      "(65, 13)\n",
      "(65, 13)\n",
      "(65, 13)\n",
      "(65, 13)\n",
      "(65, 13)\n"
     ]
    },
    {
     "name": "stderr",
     "output_type": "stream",
     "text": [
      "/home/akriptonn/anaconda3/envs/aidj/lib/python3.8/site-packages/librosa/core/audio.py:162: UserWarning: PySoundFile failed. Trying audioread instead.\n",
      "  warnings.warn(\"PySoundFile failed. Trying audioread instead.\")\n"
     ]
    },
    {
     "name": "stdout",
     "output_type": "stream",
     "text": [
      "(65, 13)\n",
      "(65, 13)\n",
      "(65, 13)\n",
      "(65, 13)\n",
      "(65, 13)\n",
      "(65, 13)\n",
      "(65, 13)\n",
      "(65, 13)\n",
      "(65, 13)\n",
      "(65, 13)\n"
     ]
    },
    {
     "name": "stderr",
     "output_type": "stream",
     "text": [
      "/home/akriptonn/anaconda3/envs/aidj/lib/python3.8/site-packages/librosa/core/audio.py:162: UserWarning: PySoundFile failed. Trying audioread instead.\n",
      "  warnings.warn(\"PySoundFile failed. Trying audioread instead.\")\n"
     ]
    },
    {
     "name": "stdout",
     "output_type": "stream",
     "text": [
      "(65, 13)\n",
      "(65, 13)\n",
      "(65, 13)\n",
      "(65, 13)\n",
      "(65, 13)\n",
      "(65, 13)\n",
      "(65, 13)\n",
      "(65, 13)\n",
      "(65, 13)\n",
      "(65, 13)\n"
     ]
    },
    {
     "name": "stderr",
     "output_type": "stream",
     "text": [
      "/home/akriptonn/anaconda3/envs/aidj/lib/python3.8/site-packages/librosa/core/audio.py:162: UserWarning: PySoundFile failed. Trying audioread instead.\n",
      "  warnings.warn(\"PySoundFile failed. Trying audioread instead.\")\n"
     ]
    },
    {
     "name": "stdout",
     "output_type": "stream",
     "text": [
      "(65, 13)\n",
      "(65, 13)\n",
      "(65, 13)\n",
      "(65, 13)\n",
      "(65, 13)\n",
      "(65, 13)\n",
      "(65, 13)\n",
      "(65, 13)\n",
      "(65, 13)\n",
      "(65, 13)\n"
     ]
    },
    {
     "name": "stderr",
     "output_type": "stream",
     "text": [
      "/home/akriptonn/anaconda3/envs/aidj/lib/python3.8/site-packages/librosa/core/audio.py:162: UserWarning: PySoundFile failed. Trying audioread instead.\n",
      "  warnings.warn(\"PySoundFile failed. Trying audioread instead.\")\n"
     ]
    },
    {
     "name": "stdout",
     "output_type": "stream",
     "text": [
      "(65, 13)\n",
      "(65, 13)\n",
      "(65, 13)\n",
      "(65, 13)\n",
      "(65, 13)\n",
      "(65, 13)\n",
      "(65, 13)\n",
      "(65, 13)\n",
      "(65, 13)\n",
      "(65, 13)\n"
     ]
    },
    {
     "name": "stderr",
     "output_type": "stream",
     "text": [
      "/home/akriptonn/anaconda3/envs/aidj/lib/python3.8/site-packages/librosa/core/audio.py:162: UserWarning: PySoundFile failed. Trying audioread instead.\n",
      "  warnings.warn(\"PySoundFile failed. Trying audioread instead.\")\n"
     ]
    },
    {
     "name": "stdout",
     "output_type": "stream",
     "text": [
      "(65, 13)\n",
      "(65, 13)\n",
      "(65, 13)\n",
      "(65, 13)\n",
      "(65, 13)\n",
      "(65, 13)\n",
      "(65, 13)\n",
      "(65, 13)\n",
      "(65, 13)\n",
      "(65, 13)\n"
     ]
    },
    {
     "name": "stderr",
     "output_type": "stream",
     "text": [
      "/home/akriptonn/anaconda3/envs/aidj/lib/python3.8/site-packages/librosa/core/audio.py:162: UserWarning: PySoundFile failed. Trying audioread instead.\n",
      "  warnings.warn(\"PySoundFile failed. Trying audioread instead.\")\n"
     ]
    },
    {
     "name": "stdout",
     "output_type": "stream",
     "text": [
      "(65, 13)\n",
      "(65, 13)\n",
      "(65, 13)\n",
      "(65, 13)\n",
      "(65, 13)\n",
      "(65, 13)\n",
      "(65, 13)\n",
      "(65, 13)\n",
      "(65, 13)\n",
      "(65, 13)\n"
     ]
    },
    {
     "name": "stderr",
     "output_type": "stream",
     "text": [
      "/home/akriptonn/anaconda3/envs/aidj/lib/python3.8/site-packages/librosa/core/audio.py:162: UserWarning: PySoundFile failed. Trying audioread instead.\n",
      "  warnings.warn(\"PySoundFile failed. Trying audioread instead.\")\n"
     ]
    },
    {
     "name": "stdout",
     "output_type": "stream",
     "text": [
      "(65, 13)\n",
      "(65, 13)\n",
      "(65, 13)\n",
      "(65, 13)\n",
      "(65, 13)\n",
      "(65, 13)\n",
      "(65, 13)\n",
      "(65, 13)\n",
      "(65, 13)\n",
      "(65, 13)\n"
     ]
    },
    {
     "name": "stderr",
     "output_type": "stream",
     "text": [
      "/home/akriptonn/anaconda3/envs/aidj/lib/python3.8/site-packages/librosa/core/audio.py:162: UserWarning: PySoundFile failed. Trying audioread instead.\n",
      "  warnings.warn(\"PySoundFile failed. Trying audioread instead.\")\n"
     ]
    },
    {
     "name": "stdout",
     "output_type": "stream",
     "text": [
      "(65, 13)\n",
      "(65, 13)\n",
      "(65, 13)\n",
      "(65, 13)\n",
      "(65, 13)\n",
      "(65, 13)\n",
      "(65, 13)\n",
      "(65, 13)\n",
      "(65, 13)\n",
      "(65, 13)\n"
     ]
    },
    {
     "name": "stderr",
     "output_type": "stream",
     "text": [
      "/home/akriptonn/anaconda3/envs/aidj/lib/python3.8/site-packages/librosa/core/audio.py:162: UserWarning: PySoundFile failed. Trying audioread instead.\n",
      "  warnings.warn(\"PySoundFile failed. Trying audioread instead.\")\n"
     ]
    },
    {
     "name": "stdout",
     "output_type": "stream",
     "text": [
      "(65, 13)\n",
      "(65, 13)\n",
      "(65, 13)\n",
      "(65, 13)\n",
      "(65, 13)\n",
      "(65, 13)\n",
      "(65, 13)\n",
      "(65, 13)\n",
      "(65, 13)\n",
      "(65, 13)\n"
     ]
    },
    {
     "name": "stderr",
     "output_type": "stream",
     "text": [
      "/home/akriptonn/anaconda3/envs/aidj/lib/python3.8/site-packages/librosa/core/audio.py:162: UserWarning: PySoundFile failed. Trying audioread instead.\n",
      "  warnings.warn(\"PySoundFile failed. Trying audioread instead.\")\n"
     ]
    },
    {
     "name": "stdout",
     "output_type": "stream",
     "text": [
      "(65, 13)\n",
      "(65, 13)\n",
      "(65, 13)\n",
      "(65, 13)\n",
      "(65, 13)\n",
      "(65, 13)\n",
      "(65, 13)\n",
      "(65, 13)\n",
      "(65, 13)\n",
      "(65, 13)\n"
     ]
    },
    {
     "name": "stderr",
     "output_type": "stream",
     "text": [
      "/home/akriptonn/anaconda3/envs/aidj/lib/python3.8/site-packages/librosa/core/audio.py:162: UserWarning: PySoundFile failed. Trying audioread instead.\n",
      "  warnings.warn(\"PySoundFile failed. Trying audioread instead.\")\n"
     ]
    },
    {
     "name": "stdout",
     "output_type": "stream",
     "text": [
      "(65, 13)\n",
      "(65, 13)\n",
      "(65, 13)\n",
      "(65, 13)\n",
      "(65, 13)\n",
      "(65, 13)\n",
      "(65, 13)\n",
      "(65, 13)\n",
      "(65, 13)\n",
      "(65, 13)\n"
     ]
    },
    {
     "name": "stderr",
     "output_type": "stream",
     "text": [
      "/home/akriptonn/anaconda3/envs/aidj/lib/python3.8/site-packages/librosa/core/audio.py:162: UserWarning: PySoundFile failed. Trying audioread instead.\n",
      "  warnings.warn(\"PySoundFile failed. Trying audioread instead.\")\n"
     ]
    },
    {
     "name": "stdout",
     "output_type": "stream",
     "text": [
      "(65, 13)\n",
      "(65, 13)\n",
      "(65, 13)\n",
      "(65, 13)\n",
      "(65, 13)\n",
      "(65, 13)\n",
      "(65, 13)\n",
      "(65, 13)\n",
      "(65, 13)\n",
      "(65, 13)\n"
     ]
    },
    {
     "name": "stderr",
     "output_type": "stream",
     "text": [
      "/home/akriptonn/anaconda3/envs/aidj/lib/python3.8/site-packages/librosa/core/audio.py:162: UserWarning: PySoundFile failed. Trying audioread instead.\n",
      "  warnings.warn(\"PySoundFile failed. Trying audioread instead.\")\n"
     ]
    },
    {
     "name": "stdout",
     "output_type": "stream",
     "text": [
      "(65, 13)\n",
      "(65, 13)\n",
      "(65, 13)\n",
      "(65, 13)\n",
      "(65, 13)\n",
      "(65, 13)\n",
      "(65, 13)\n",
      "(65, 13)\n",
      "(65, 13)\n",
      "(65, 13)\n"
     ]
    },
    {
     "name": "stderr",
     "output_type": "stream",
     "text": [
      "/home/akriptonn/anaconda3/envs/aidj/lib/python3.8/site-packages/librosa/core/audio.py:162: UserWarning: PySoundFile failed. Trying audioread instead.\n",
      "  warnings.warn(\"PySoundFile failed. Trying audioread instead.\")\n"
     ]
    },
    {
     "name": "stdout",
     "output_type": "stream",
     "text": [
      "(65, 13)\n",
      "(65, 13)\n",
      "(65, 13)\n",
      "(65, 13)\n",
      "(65, 13)\n",
      "(65, 13)\n",
      "(65, 13)\n",
      "(65, 13)\n",
      "(65, 13)\n",
      "(65, 13)\n"
     ]
    },
    {
     "name": "stderr",
     "output_type": "stream",
     "text": [
      "/home/akriptonn/anaconda3/envs/aidj/lib/python3.8/site-packages/librosa/core/audio.py:162: UserWarning: PySoundFile failed. Trying audioread instead.\n",
      "  warnings.warn(\"PySoundFile failed. Trying audioread instead.\")\n"
     ]
    },
    {
     "name": "stdout",
     "output_type": "stream",
     "text": [
      "(65, 13)\n",
      "(65, 13)\n",
      "(65, 13)\n",
      "(65, 13)\n",
      "(65, 13)\n",
      "(65, 13)\n",
      "(65, 13)\n",
      "(65, 13)\n",
      "(65, 13)\n",
      "(65, 13)\n"
     ]
    },
    {
     "name": "stderr",
     "output_type": "stream",
     "text": [
      "/home/akriptonn/anaconda3/envs/aidj/lib/python3.8/site-packages/librosa/core/audio.py:162: UserWarning: PySoundFile failed. Trying audioread instead.\n",
      "  warnings.warn(\"PySoundFile failed. Trying audioread instead.\")\n"
     ]
    },
    {
     "name": "stdout",
     "output_type": "stream",
     "text": [
      "(65, 13)\n",
      "(65, 13)\n",
      "(65, 13)\n",
      "(65, 13)\n",
      "(65, 13)\n",
      "(65, 13)\n",
      "(65, 13)\n",
      "(65, 13)\n",
      "(65, 13)\n",
      "(65, 13)\n"
     ]
    },
    {
     "name": "stderr",
     "output_type": "stream",
     "text": [
      "/home/akriptonn/anaconda3/envs/aidj/lib/python3.8/site-packages/librosa/core/audio.py:162: UserWarning: PySoundFile failed. Trying audioread instead.\n",
      "  warnings.warn(\"PySoundFile failed. Trying audioread instead.\")\n"
     ]
    },
    {
     "name": "stdout",
     "output_type": "stream",
     "text": [
      "(65, 13)\n",
      "(65, 13)\n",
      "(65, 13)\n",
      "(65, 13)\n",
      "(65, 13)\n",
      "(65, 13)\n",
      "(65, 13)\n",
      "(65, 13)\n",
      "(65, 13)\n",
      "(65, 13)\n"
     ]
    },
    {
     "name": "stderr",
     "output_type": "stream",
     "text": [
      "/home/akriptonn/anaconda3/envs/aidj/lib/python3.8/site-packages/librosa/core/audio.py:162: UserWarning: PySoundFile failed. Trying audioread instead.\n",
      "  warnings.warn(\"PySoundFile failed. Trying audioread instead.\")\n"
     ]
    },
    {
     "name": "stdout",
     "output_type": "stream",
     "text": [
      "(65, 13)\n",
      "(65, 13)\n",
      "(65, 13)\n",
      "(65, 13)\n",
      "(65, 13)\n",
      "(65, 13)\n",
      "(65, 13)\n",
      "(65, 13)\n",
      "(65, 13)\n",
      "(65, 13)\n"
     ]
    },
    {
     "name": "stderr",
     "output_type": "stream",
     "text": [
      "/home/akriptonn/anaconda3/envs/aidj/lib/python3.8/site-packages/librosa/core/audio.py:162: UserWarning: PySoundFile failed. Trying audioread instead.\n",
      "  warnings.warn(\"PySoundFile failed. Trying audioread instead.\")\n"
     ]
    },
    {
     "name": "stdout",
     "output_type": "stream",
     "text": [
      "(65, 13)\n",
      "(65, 13)\n",
      "(65, 13)\n",
      "(65, 13)\n",
      "(65, 13)\n",
      "(65, 13)\n",
      "(65, 13)\n",
      "(65, 13)\n",
      "(65, 13)\n",
      "(65, 13)\n"
     ]
    },
    {
     "name": "stderr",
     "output_type": "stream",
     "text": [
      "/home/akriptonn/anaconda3/envs/aidj/lib/python3.8/site-packages/librosa/core/audio.py:162: UserWarning: PySoundFile failed. Trying audioread instead.\n",
      "  warnings.warn(\"PySoundFile failed. Trying audioread instead.\")\n"
     ]
    },
    {
     "name": "stdout",
     "output_type": "stream",
     "text": [
      "(65, 13)\n",
      "(65, 13)\n",
      "(65, 13)\n",
      "(65, 13)\n",
      "(65, 13)\n",
      "(65, 13)\n",
      "(65, 13)\n",
      "(65, 13)\n",
      "(65, 13)\n",
      "(65, 13)\n"
     ]
    },
    {
     "name": "stderr",
     "output_type": "stream",
     "text": [
      "/home/akriptonn/anaconda3/envs/aidj/lib/python3.8/site-packages/librosa/core/audio.py:162: UserWarning: PySoundFile failed. Trying audioread instead.\n",
      "  warnings.warn(\"PySoundFile failed. Trying audioread instead.\")\n"
     ]
    },
    {
     "name": "stdout",
     "output_type": "stream",
     "text": [
      "(65, 13)\n",
      "(65, 13)\n",
      "(65, 13)\n",
      "(65, 13)\n",
      "(65, 13)\n",
      "(65, 13)\n",
      "(65, 13)\n",
      "(65, 13)\n",
      "(65, 13)\n",
      "(65, 13)\n"
     ]
    }
   ],
   "source": [
    "import mss\n",
    "mss.exportCache('../Thesis/Dataset/files', 'tmp/complete.bin')"
   ]
  },
  {
   "cell_type": "code",
   "execution_count": null,
   "metadata": {},
   "outputs": [],
   "source": []
  }
 ],
 "metadata": {
  "kernelspec": {
   "display_name": "Python 3",
   "language": "python",
   "name": "python3"
  },
  "language_info": {
   "codemirror_mode": {
    "name": "ipython",
    "version": 3
   },
   "file_extension": ".py",
   "mimetype": "text/x-python",
   "name": "python",
   "nbconvert_exporter": "python",
   "pygments_lexer": "ipython3",
   "version": "3.8.5"
  }
 },
 "nbformat": 4,
 "nbformat_minor": 4
}
