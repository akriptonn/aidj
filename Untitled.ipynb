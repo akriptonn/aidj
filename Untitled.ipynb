{
 "cells": [
  {
   "cell_type": "code",
   "execution_count": null,
   "metadata": {},
   "outputs": [],
   "source": [
    "from mss.core import MusicLoader, PostProcessor, SkeletonModel\n",
    "from mss.util import fileParser"
   ]
  },
  {
   "cell_type": "code",
   "execution_count": null,
   "metadata": {},
   "outputs": [],
   "source": [
    "#testing core function"
   ]
  },
  {
   "cell_type": "code",
   "execution_count": null,
   "metadata": {},
   "outputs": [],
   "source": [
    "ml = MusicLoader.MusicLoader(30)"
   ]
  },
  {
   "cell_type": "code",
   "execution_count": null,
   "metadata": {},
   "outputs": [],
   "source": [
    "test_dataset = ml.retrieveDataset('../Thesis/Dataset/tesuto', ignore_main_path=False)\n",
    "test_dataset"
   ]
  },
  {
   "cell_type": "code",
   "execution_count": null,
   "metadata": {},
   "outputs": [],
   "source": [
    "pp = PostProcessor.PostProcessor(fileParser.file_read_json_direct('config/mss.json', {'genre_models': {\"iterator\":\"id\", \"feature\":'name'}})['genre_models'], 0)"
   ]
  },
  {
   "cell_type": "code",
   "execution_count": null,
   "metadata": {},
   "outputs": [],
   "source": [
    "fileParser.file_read_json_direct('config/mss.json', {'genre_models': {\"iterator\":\"id\", \"feature\":'name'}})"
   ]
  },
  {
   "cell_type": "code",
   "execution_count": null,
   "metadata": {},
   "outputs": [],
   "source": [
    "inp = ['1', '1', '1', '2', '2', '2', '2', '3','4']\n",
    "output = [0, 2, 2, 2, 0, 0, 3, 2, 1]\n",
    "pp.process(inp, tf.constant(output))"
   ]
  },
  {
   "cell_type": "code",
   "execution_count": null,
   "metadata": {},
   "outputs": [],
   "source": [
    "[0 for isi in [1,2,3]]"
   ]
  },
  {
   "cell_type": "code",
   "execution_count": null,
   "metadata": {},
   "outputs": [],
   "source": [
    "import json\n",
    "if ('config/mss.json'.split(\".\")[-1]=='json'): \n",
    "    with open('config/mss.json') as f:\n",
    "        obj = json.load(f)\n",
    "else:\n",
    "    raise FileNotFoundError(\"File must JSON, instead \"+json_path+\" passed\")\n",
    "\n",
    "        #Reconstruct model\n",
    "t_g, t_k = fileParser.single_parse_models_settings_json(obj, retrieved='dir')\n",
    "t_g, t_k"
   ]
  },
  {
   "cell_type": "code",
   "execution_count": null,
   "metadata": {},
   "outputs": [],
   "source": [
    "genreModel= SkeletonModel.FileModel(t_g)\n",
    "keyModel = SkeletonModel.FileModel(t_k)"
   ]
  },
  {
   "cell_type": "code",
   "execution_count": null,
   "metadata": {},
   "outputs": [],
   "source": [
    "import tensorflow as tf\n",
    "import numpy as np\n",
    "outp = genreModel.predict(test_dataset['mfcc'])\n",
    "inp, ou = pp.process(test_dataset['songs_dir'],outp)\n",
    "print(inp, ou)"
   ]
  },
  {
   "cell_type": "code",
   "execution_count": null,
   "metadata": {},
   "outputs": [],
   "source": [
    "x = tf.constant([5, 1, 2, 4])\n",
    "print(tf.reduce_max(x))"
   ]
  },
  {
   "cell_type": "code",
   "execution_count": null,
   "metadata": {},
   "outputs": [],
   "source": [
    "print(other_class_idx)"
   ]
  },
  {
   "cell_type": "code",
   "execution_count": null,
   "metadata": {},
   "outputs": [],
   "source": [
    "fileParser.file_read_json_direct('config/mss.json', {'genre_models': {\"iterator\":\"id\", \"feature\":'name'}})['genre_models']"
   ]
  },
  {
   "cell_type": "code",
   "execution_count": null,
   "metadata": {},
   "outputs": [],
   "source": [
    "print(tf.math.argmax([0,5,5,9,100]))"
   ]
  },
  {
   "cell_type": "code",
   "execution_count": null,
   "metadata": {},
   "outputs": [],
   "source": [
    "arr1 = []\n",
    "arr2 = []\n",
    "\n",
    "for isi in fileParser.file_read_json_direct('config/mss.json', {'genre_models': {\"iterator\":\"id\", \"feature\":'name'}})['genre_models']:\n",
    "    arr1.append([])\n",
    "for isi in fileParser.file_read_json_direct('config/mss.json', {'key_models': {\"iterator\":\"id\", \"feature\":'name'}})['key_models']:\n",
    "    arr2.append([])\n",
    "\n",
    "#store to corresponding list\n",
    "for isi in enumerate(ou):\n",
    "    arr1[isi[1]].append(inp[isi[0]])"
   ]
  },
  {
   "cell_type": "code",
   "execution_count": null,
   "metadata": {},
   "outputs": [],
   "source": [
    "arr1"
   ]
  },
  {
   "cell_type": "code",
   "execution_count": 2,
   "metadata": {},
   "outputs": [],
   "source": [
    "import mss"
   ]
  },
  {
   "cell_type": "code",
   "execution_count": 3,
   "metadata": {},
   "outputs": [
    {
     "name": "stdout",
     "output_type": "stream",
     "text": [
      "\n",
      "Processing tesuto\n"
     ]
    },
    {
     "name": "stderr",
     "output_type": "stream",
     "text": [
      "/home/akriptonn/anaconda3/envs/aidj/lib/python3.8/site-packages/librosa/core/audio.py:162: UserWarning: PySoundFile failed. Trying audioread instead.\n",
      "  warnings.warn(\"PySoundFile failed. Trying audioread instead.\")\n"
     ]
    },
    {
     "name": "stdout",
     "output_type": "stream",
     "text": [
      "(65, 13)\n",
      "(65, 13)\n",
      "(65, 13)\n",
      "(65, 13)\n",
      "(65, 13)\n",
      "(65, 13)\n",
      "(65, 13)\n",
      "(65, 13)\n",
      "(65, 13)\n",
      "(65, 13)\n"
     ]
    },
    {
     "name": "stderr",
     "output_type": "stream",
     "text": [
      "/home/akriptonn/anaconda3/envs/aidj/lib/python3.8/site-packages/librosa/core/audio.py:162: UserWarning: PySoundFile failed. Trying audioread instead.\n",
      "  warnings.warn(\"PySoundFile failed. Trying audioread instead.\")\n"
     ]
    },
    {
     "name": "stdout",
     "output_type": "stream",
     "text": [
      "(65, 13)\n",
      "(65, 13)\n",
      "(65, 13)\n",
      "(65, 13)\n",
      "(65, 13)\n",
      "(65, 13)\n",
      "(65, 13)\n",
      "(65, 13)\n",
      "(65, 13)\n",
      "(65, 13)\n"
     ]
    },
    {
     "name": "stderr",
     "output_type": "stream",
     "text": [
      "/home/akriptonn/anaconda3/envs/aidj/lib/python3.8/site-packages/librosa/core/audio.py:162: UserWarning: PySoundFile failed. Trying audioread instead.\n",
      "  warnings.warn(\"PySoundFile failed. Trying audioread instead.\")\n"
     ]
    },
    {
     "name": "stdout",
     "output_type": "stream",
     "text": [
      "(65, 13)\n",
      "(65, 13)\n",
      "(65, 13)\n",
      "(65, 13)\n",
      "(65, 13)\n",
      "(65, 13)\n",
      "(65, 13)\n",
      "(65, 13)\n",
      "(65, 13)\n",
      "(65, 13)\n",
      "[3, 3, 3]\n",
      "['../Thesis/Dataset/tesuto/13355827_Like_This_Club_Mix.mp3', '../Thesis/Dataset/tesuto/13587149_Click_Original_Mix.mp3', '../Thesis/Dataset/tesuto/21. Guru Josh Projekt vs Blinders and more -.mp3']\n",
      "(0, 3)\n",
      "(1, 3)\n",
      "(2, 3)\n"
     ]
    }
   ],
   "source": [
    "ms = mss.MusicSelectionSystem('config/mss.json','../Thesis/Dataset/tesuto')"
   ]
  },
  {
   "cell_type": "code",
   "execution_count": null,
   "metadata": {},
   "outputs": [],
   "source": [
    "ms.Database.getList()\n",
    "ms.Database.getFreshList()"
   ]
  },
  {
   "cell_type": "code",
   "execution_count": null,
   "metadata": {},
   "outputs": [],
   "source": [
    "ms.getNextMusic(ignore_empty=False)"
   ]
  },
  {
   "cell_type": "code",
   "execution_count": 12,
   "metadata": {},
   "outputs": [
    {
     "name": "stdout",
     "output_type": "stream",
     "text": [
      "1A 2A 12A 1B\n",
      "2A 3A 1A 2B\n",
      "3A 4A 2A 3B\n",
      "4A 5A 3A 4B\n",
      "5A 6A 4A 5B\n",
      "6A 7A 5A 6B\n",
      "7A 8A 6A 7B\n",
      "8A 9A 7A 8B\n",
      "9A 10A 8A 9B\n",
      "10A 11A 9A 10B\n",
      "11A 12A 10A 11B\n",
      "12A 1A 11A 12B\n",
      "1B 2B 12B 1A\n",
      "2B 3B 1B 2A\n",
      "3B 4B 2B 3A\n",
      "4B 5B 3B 4A\n",
      "5B 6B 4B 5A\n",
      "6B 7B 5B 6A\n",
      "7B 8B 6B 7A\n",
      "8B 9B 7B 8A\n",
      "9B 10B 8B 9A\n",
      "10B 11B 9B 10A\n",
      "11B 12B 10B 11A\n",
      "12B 1B 11B 12A\n"
     ]
    }
   ],
   "source": [
    "for index in range(24):\n",
    "    t1, t2, t3 = ms.__generate_key__(index)\n",
    "    print(outp[int(index)],outp[int(t1)],outp[int(t2)],outp[int(t3)] )"
   ]
  },
  {
   "cell_type": "code",
   "execution_count": 9,
   "metadata": {},
   "outputs": [],
   "source": [
    "outp = ['1A', '2A', '3A', '4A', '5A', '6A', '7A', '8A', '9A', '10A', '11A', '12A', '1B', '2B', '3B', '4B', '5B', '6B', '7B', '8B', '9B', '10B', '11B', '12B']"
   ]
  },
  {
   "cell_type": "code",
   "execution_count": 13,
   "metadata": {},
   "outputs": [
    {
     "data": {
      "text/plain": [
       "24"
      ]
     },
     "execution_count": 13,
     "metadata": {},
     "output_type": "execute_result"
    }
   ],
   "source": [
    "len(outp)"
   ]
  },
  {
   "cell_type": "code",
   "execution_count": null,
   "metadata": {},
   "outputs": [],
   "source": []
  }
 ],
 "metadata": {
  "kernelspec": {
   "display_name": "Python 3",
   "language": "python",
   "name": "python3"
  },
  "language_info": {
   "codemirror_mode": {
    "name": "ipython",
    "version": 3
   },
   "file_extension": ".py",
   "mimetype": "text/x-python",
   "name": "python",
   "nbconvert_exporter": "python",
   "pygments_lexer": "ipython3",
   "version": "3.8.5"
  }
 },
 "nbformat": 4,
 "nbformat_minor": 4
}
