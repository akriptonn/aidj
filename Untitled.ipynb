{
 "cells": [
  {
   "cell_type": "code",
   "execution_count": null,
   "metadata": {},
   "outputs": [],
   "source": [
    "#Load The library, Make sure the library and the script in same folder"
   ]
  },
  {
   "cell_type": "code",
   "execution_count": 2,
   "metadata": {},
   "outputs": [],
   "source": [
    "import mss"
   ]
  },
  {
   "cell_type": "code",
   "execution_count": null,
   "metadata": {},
   "outputs": [],
   "source": [
    "#Instantiate MusicSelectionSystem Library, and Load config file with music Path"
   ]
  },
  {
   "cell_type": "code",
   "execution_count": 11,
   "metadata": {},
   "outputs": [
    {
     "name": "stdout",
     "output_type": "stream",
     "text": [
      "\n",
      "Processing tesuto\n"
     ]
    },
    {
     "name": "stderr",
     "output_type": "stream",
     "text": [
      "/home/akriptonn/anaconda3/envs/aidj/lib/python3.8/site-packages/librosa/core/audio.py:162: UserWarning: PySoundFile failed. Trying audioread instead.\n",
      "  warnings.warn(\"PySoundFile failed. Trying audioread instead.\")\n"
     ]
    },
    {
     "name": "stdout",
     "output_type": "stream",
     "text": [
      "(65, 13)\n",
      "(65, 13)\n",
      "(65, 13)\n",
      "(65, 13)\n",
      "(65, 13)\n",
      "(65, 13)\n",
      "(65, 13)\n",
      "(65, 13)\n",
      "(65, 13)\n",
      "(65, 13)\n"
     ]
    },
    {
     "name": "stderr",
     "output_type": "stream",
     "text": [
      "/home/akriptonn/anaconda3/envs/aidj/lib/python3.8/site-packages/librosa/core/audio.py:162: UserWarning: PySoundFile failed. Trying audioread instead.\n",
      "  warnings.warn(\"PySoundFile failed. Trying audioread instead.\")\n"
     ]
    },
    {
     "name": "stdout",
     "output_type": "stream",
     "text": [
      "(65, 13)\n",
      "(65, 13)\n",
      "(65, 13)\n",
      "(65, 13)\n",
      "(65, 13)\n",
      "(65, 13)\n",
      "(65, 13)\n",
      "(65, 13)\n",
      "(65, 13)\n",
      "(65, 13)\n"
     ]
    },
    {
     "name": "stderr",
     "output_type": "stream",
     "text": [
      "/home/akriptonn/anaconda3/envs/aidj/lib/python3.8/site-packages/librosa/core/audio.py:162: UserWarning: PySoundFile failed. Trying audioread instead.\n",
      "  warnings.warn(\"PySoundFile failed. Trying audioread instead.\")\n"
     ]
    },
    {
     "name": "stdout",
     "output_type": "stream",
     "text": [
      "(65, 13)\n",
      "(65, 13)\n",
      "(65, 13)\n",
      "(65, 13)\n",
      "(65, 13)\n",
      "(65, 13)\n",
      "(65, 13)\n",
      "(65, 13)\n",
      "(65, 13)\n",
      "(65, 13)\n"
     ]
    },
    {
     "name": "stderr",
     "output_type": "stream",
     "text": [
      "/home/akriptonn/anaconda3/envs/aidj/lib/python3.8/site-packages/librosa/core/audio.py:162: UserWarning: PySoundFile failed. Trying audioread instead.\n",
      "  warnings.warn(\"PySoundFile failed. Trying audioread instead.\")\n"
     ]
    },
    {
     "name": "stdout",
     "output_type": "stream",
     "text": [
      "(65, 13)\n",
      "(65, 13)\n",
      "(65, 13)\n",
      "(65, 13)\n",
      "(65, 13)\n",
      "(65, 13)\n",
      "(65, 13)\n",
      "(65, 13)\n",
      "(65, 13)\n",
      "(65, 13)\n",
      "[1, 3, 3, 3]\n",
      "['../Thesis/Dataset/tesuto/KEVU x SaberZ - Dream Team (Extended Mix) [www.slider.kz].mp3', '../Thesis/Dataset/tesuto/13355827_Like_This_Club_Mix.mp3', '../Thesis/Dataset/tesuto/13587149_Click_Original_Mix.mp3', '../Thesis/Dataset/tesuto/21. Guru Josh Projekt vs Blinders and more -.mp3']\n",
      "(0, 1)\n",
      "(1, 3)\n",
      "(2, 3)\n",
      "(3, 3)\n",
      "['../Thesis/Dataset/tesuto/KEVU x SaberZ - Dream Team (Extended Mix) [www.slider.kz].mp3', '../Thesis/Dataset/tesuto/13355827_Like_This_Club_Mix.mp3', '../Thesis/Dataset/tesuto/13587149_Click_Original_Mix.mp3', '../Thesis/Dataset/tesuto/21. Guru Josh Projekt vs Blinders and more -.mp3']\n"
     ]
    }
   ],
   "source": [
    "ms = mss.MusicSelectionSystem('config/mss.json','../Thesis/Dataset/tesuto')"
   ]
  },
  {
   "cell_type": "code",
   "execution_count": null,
   "metadata": {},
   "outputs": [],
   "source": [
    "#Get the next music to be played"
   ]
  },
  {
   "cell_type": "code",
   "execution_count": 10,
   "metadata": {},
   "outputs": [
    {
     "name": "stdout",
     "output_type": "stream",
     "text": [
      "flushed\n",
      "1 3\n",
      "Not found\n",
      "Not found\n"
     ]
    },
    {
     "data": {
      "text/plain": [
       "'../Thesis/Dataset/tesuto/13355827_Like_This_Club_Mix.mp3'"
      ]
     },
     "execution_count": 10,
     "metadata": {},
     "output_type": "execute_result"
    }
   ],
   "source": [
    "ms.getNextMusic(crowd=1)"
   ]
  },
  {
   "cell_type": "code",
   "execution_count": 13,
   "metadata": {},
   "outputs": [
    {
     "data": {
      "text/plain": [
       "['../Thesis/Dataset/tesuto/KEVU x SaberZ - Dream Team (Extended Mix) [www.slider.kz].mp3',\n",
       " '../Thesis/Dataset/tesuto/13355827_Like_This_Club_Mix.mp3',\n",
       " '../Thesis/Dataset/tesuto/13587149_Click_Original_Mix.mp3',\n",
       " '../Thesis/Dataset/tesuto/21. Guru Josh Projekt vs Blinders and more -.mp3']"
      ]
     },
     "execution_count": 13,
     "metadata": {},
     "output_type": "execute_result"
    }
   ],
   "source": [
    "ms.Database.ref_song_list"
   ]
  },
  {
   "cell_type": "code",
   "execution_count": 23,
   "metadata": {},
   "outputs": [
    {
     "name": "stdout",
     "output_type": "stream",
     "text": [
      "1A\n",
      "2A\n",
      "3A\n",
      "4A\n",
      "../Thesis/Dataset/tesuto/13355827_Like_This_Club_Mix.mp3\n",
      "5A\n",
      "6A\n",
      "7A\n",
      "8A\n",
      "../Thesis/Dataset/tesuto/21. Guru Josh Projekt vs Blinders and more -.mp3\n",
      "9A\n",
      "../Thesis/Dataset/tesuto/13587149_Click_Original_Mix.mp3\n",
      "10A\n",
      "11A\n",
      "../Thesis/Dataset/tesuto/KEVU x SaberZ - Dream Team (Extended Mix) [www.slider.kz].mp3\n",
      "12A\n",
      "1B\n",
      "2B\n",
      "3B\n",
      "4B\n",
      "5B\n",
      "6B\n",
      "7B\n",
      "8B\n",
      "9B\n",
      "10B\n",
      "11B\n",
      "12B\n"
     ]
    }
   ],
   "source": [
    "from mss.util import fileParser\n",
    "tfa = fileParser.parse_args_json(ms.settings, {'key_models': {\"iterator\":\"id\", \"feature\":'name'}})['key_models']\n",
    "ms.Database.mainArr[1]\n",
    "num = 0\n",
    "for musics in ms.Database.mainArr[1]:\n",
    "    try:\n",
    "        print(tfa[num])\n",
    "    except:\n",
    "        continue\n",
    "    num +=1\n",
    "    for music in musics:\n",
    "        print(ms.Database.ref_song_list[music])"
   ]
  },
  {
   "cell_type": "code",
   "execution_count": 24,
   "metadata": {},
   "outputs": [
    {
     "name": "stdout",
     "output_type": "stream",
     "text": [
      "BASS HOUSE\n",
      "BIG ROOM\n",
      "../Thesis/Dataset/tesuto/KEVU x SaberZ - Dream Team (Extended Mix) [www.slider.kz].mp3\n",
      "DEEP HOUSE\n",
      "ELECTRO HOUSE\n",
      "../Thesis/Dataset/tesuto/13355827_Like_This_Club_Mix.mp3\n",
      "../Thesis/Dataset/tesuto/13587149_Click_Original_Mix.mp3\n",
      "../Thesis/Dataset/tesuto/21. Guru Josh Projekt vs Blinders and more -.mp3\n",
      "FUTURE HOUSE\n"
     ]
    }
   ],
   "source": [
    "from mss.util import fileParser\n",
    "tfa = fileParser.parse_args_json(ms.settings, {'genre_models': {\"iterator\":\"id\", \"feature\":'name'}})['genre_models']\n",
    "ms.Database.mainArr[0]\n",
    "num = 0\n",
    "for musics in ms.Database.mainArr[0]:\n",
    "    try:\n",
    "        print(tfa[num])\n",
    "    except:\n",
    "        continue\n",
    "    num +=1\n",
    "    for music in musics:\n",
    "        print(ms.Database.ref_song_list[music])"
   ]
  },
  {
   "cell_type": "code",
   "execution_count": null,
   "metadata": {},
   "outputs": [],
   "source": []
  }
 ],
 "metadata": {
  "kernelspec": {
   "display_name": "Python 3",
   "language": "python",
   "name": "python3"
  },
  "language_info": {
   "codemirror_mode": {
    "name": "ipython",
    "version": 3
   },
   "file_extension": ".py",
   "mimetype": "text/x-python",
   "name": "python",
   "nbconvert_exporter": "python",
   "pygments_lexer": "ipython3",
   "version": "3.8.5"
  }
 },
 "nbformat": 4,
 "nbformat_minor": 4
}
