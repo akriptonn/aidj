{
 "cells": [
  {
   "cell_type": "markdown",
   "metadata": {},
   "source": [
    "# Import Library"
   ]
  },
  {
   "cell_type": "code",
   "execution_count": 1,
   "metadata": {},
   "outputs": [
    {
     "name": "stdout",
     "output_type": "stream",
     "text": [
      "reloaded\n"
     ]
    }
   ],
   "source": [
    "from utils import preprocessor\n",
    "import pandas as pd\n",
    "from sklearn.metrics import accuracy_score\n",
    "from sklearn.model_selection import train_test_split\n",
    "from utils import loss\n",
    "from core import MusicRecognition\n",
    "from utils import saver\n",
    "from core import KNN"
   ]
  },
  {
   "cell_type": "markdown",
   "metadata": {},
   "source": [
    "# Load Dataset"
   ]
  },
  {
   "cell_type": "code",
   "execution_count": null,
   "metadata": {},
   "outputs": [],
   "source": [
    "#load dataset\n",
    "data = pd.read_csv('dataset/Emotion_features_Basshouse.csv')\n",
    "data2 = pd.read_csv('dataset/Emotion_features_deephouse.csv')\n",
    "data = data.append(data2, ignore_index=True)\n",
    "data"
   ]
  },
  {
   "cell_type": "markdown",
   "metadata": {},
   "source": [
    "# Feature Engineering to NP Array"
   ]
  },
  {
   "cell_type": "code",
   "execution_count": 2,
   "metadata": {},
   "outputs": [],
   "source": [
    "data = pd.read_csv('dataset/Emotion_features.csv')\n",
    "data = data.dropna()"
   ]
  },
  {
   "cell_type": "code",
   "execution_count": 3,
   "metadata": {},
   "outputs": [
    {
     "data": {
      "text/plain": [
       "(array([[ 4.42053126e+00,  2.60490923e+01],\n",
       "        [ 6.77625058e+00,  3.30578880e+01],\n",
       "        [ 2.23416521e-01,  3.18140298e+01],\n",
       "        ...,\n",
       "        [-2.92869632e+00,  3.54499028e+01],\n",
       "        [-3.65868631e-02,  3.78521620e+01],\n",
       "        [ 3.18483866e+00,  3.42546854e+01]]), array([[ 7., 14.,  4.],\n",
       "        [ 6., 10.,  0.],\n",
       "        [ 8., 19.,  0.],\n",
       "        ...,\n",
       "        [ 7.,  7.,  4.],\n",
       "        [ 7., 18.,  4.],\n",
       "        [ 8.,  2.,  4.]]))"
      ]
     },
     "execution_count": 3,
     "metadata": {},
     "output_type": "execute_result"
    }
   ],
   "source": [
    "#preprocess dataset\n",
    "dataset_x, dataset_y = preprocessor.feature_engineering_knn_aidj_new(data)\n",
    "dataset_x,dataset_y"
   ]
  },
  {
   "cell_type": "markdown",
   "metadata": {},
   "source": [
    "# Split between train and test"
   ]
  },
  {
   "cell_type": "code",
   "execution_count": 4,
   "metadata": {},
   "outputs": [
    {
     "data": {
      "text/plain": [
       "array([[ 3.25275377, 23.20198348],\n",
       "       [ 4.36486959, 24.74449945],\n",
       "       [ 5.99114456, 31.1609023 ],\n",
       "       ...,\n",
       "       [ 6.50768566, 23.17186985],\n",
       "       [ 4.83779393, 21.32750801],\n",
       "       [ 4.42812508, 26.88639441]])"
      ]
     },
     "execution_count": 4,
     "metadata": {},
     "output_type": "execute_result"
    }
   ],
   "source": [
    "#dataset splitting\n",
    "x_train, x_test, y_train, y_test = train_test_split(dataset_x, dataset_y, test_size=0.1)\n",
    "x_train"
   ]
  },
  {
   "cell_type": "markdown",
   "metadata": {},
   "source": [
    "# Reduce dimension using PCA\n",
    "## Notes that the explained variance > 99% to make sure data persistence"
   ]
  },
  {
   "cell_type": "code",
   "execution_count": null,
   "metadata": {},
   "outputs": [],
   "source": []
  },
  {
   "cell_type": "code",
   "execution_count": 6,
   "metadata": {},
   "outputs": [
    {
     "data": {
      "text/plain": [
       "StandardScaler(copy=True, with_mean=True, with_std=True)"
      ]
     },
     "execution_count": 6,
     "metadata": {},
     "output_type": "execute_result"
    }
   ],
   "source": [
    "#dimension reduction\n",
    "from sklearn.decomposition import PCA\n",
    "from sklearn.preprocessing import StandardScaler\n",
    "import numpy as np\n",
    "# pca = PCA(n_components=26)\n",
    "scaler = StandardScaler()\n",
    "scaler.fit(x_train)\n",
    "# pca.fit(scaler.fit_transform(x_train)) #PCA based on dataset training only\n",
    "# pca.explained_variance_ratio_.sum()"
   ]
  },
  {
   "cell_type": "code",
   "execution_count": 7,
   "metadata": {},
   "outputs": [
    {
     "name": "stdout",
     "output_type": "stream",
     "text": [
      "(585, 2)\n"
     ]
    },
    {
     "data": {
      "text/plain": [
       "<matplotlib.collections.PathCollection at 0x1f83d29c5c0>"
      ]
     },
     "execution_count": 7,
     "metadata": {},
     "output_type": "execute_result"
    }
   ],
   "source": [
    "import matplotlib.pyplot as plt \n",
    "x_train_rd = (scaler.transform(x_train))\n",
    "print(x_train_rd.shape)\n",
    "datas = {'a': ((scaler.transform(dataset_x))).T[0],\n",
    "        'b': ((scaler.transform(dataset_x))).T[1],\n",
    "        'c': dataset_y.T[0]}\n",
    "plt.scatter('a', 'b', c='c', data=datas)"
   ]
  },
  {
   "cell_type": "code",
   "execution_count": 9,
   "metadata": {},
   "outputs": [
    {
     "name": "stdout",
     "output_type": "stream",
     "text": [
      "[[1.35999178e+02 1.69507000e+05 1.28414394e+03 ... 2.67842177e+00\n",
      "  1.09904917e+00 1.20790908e+00]\n",
      " [1.23046875e+02 1.40413000e+05 1.22098261e+03 ... 3.21596372e+00\n",
      "  1.43576511e+00 2.06142145e+00]\n",
      " [1.29199219e+02 1.35430000e+05 1.16750000e+03 ... 2.37888435e+00\n",
      "  1.23952970e+00 1.53643388e+00]\n",
      " ...\n",
      " [1.29199219e+02 1.59164000e+05 1.27331200e+03 ... 2.45202721e+00\n",
      "  1.32962172e+00 1.76789393e+00]\n",
      " [1.29199219e+02 6.39080000e+04 8.08962025e+02 ... 3.23802268e+00\n",
      "  1.81323130e+00 3.28780775e+00]\n",
      " [1.23046875e+02 1.57976000e+05 1.28435772e+03 ... 1.88778231e+00\n",
      "  1.04438441e+00 1.09073880e+00]]\n"
     ]
    }
   ],
   "source": [
    "print(x_train)"
   ]
  },
  {
   "cell_type": "code",
   "execution_count": 8,
   "metadata": {},
   "outputs": [
    {
     "name": "stdout",
     "output_type": "stream",
     "text": [
      "0.4461538461538462\n",
      "0.46153846153846156\n",
      "0.5384615384615384\n",
      "0.49230769230769234\n",
      "0.5230769230769231\n",
      "0.5076923076923077\n",
      "0.49230769230769234\n",
      "0.5384615384615384\n",
      "0.5076923076923077\n",
      "0.47692307692307695\n",
      "0.49230769230769234\n",
      "0.47692307692307695\n",
      "0.49230769230769234\n",
      "0.5076923076923077\n",
      "0.5076923076923077\n",
      "0.49230769230769234\n",
      "0.5076923076923077\n",
      "0.46153846153846156\n",
      "0.46153846153846156\n",
      "0.4461538461538462\n",
      "0.47692307692307695\n",
      "0.46153846153846156\n",
      "0.47692307692307695\n",
      "0.46153846153846156\n",
      "0.4307692307692308\n",
      "0.4307692307692308\n",
      "0.4461538461538462\n",
      "0.4461538461538462\n",
      "0.4153846153846154\n",
      "0.4153846153846154\n",
      "0.36923076923076925\n",
      "0.38461538461538464\n",
      "0.38461538461538464\n",
      "0.4307692307692308\n",
      "0.4153846153846154\n",
      "0.4153846153846154\n",
      "0.4153846153846154\n",
      "0.38461538461538464\n",
      "0.4\n",
      "0.38461538461538464\n",
      "0.4\n",
      "0.4\n",
      "0.4\n",
      "0.4\n",
      "0.4\n",
      "0.4\n",
      "0.4153846153846154\n",
      "0.4153846153846154\n",
      "0.4153846153846154\n",
      "0.4307692307692308\n",
      "0.4307692307692308\n",
      "0.4461538461538462\n",
      "0.4307692307692308\n",
      "0.4153846153846154\n",
      "0.4153846153846154\n",
      "0.4153846153846154\n",
      "0.4307692307692308\n",
      "0.4\n",
      "0.4\n",
      "0.4\n",
      "0.4\n",
      "0.4\n",
      "0.4\n",
      "0.4\n",
      "0.4\n",
      "0.4\n",
      "0.4\n",
      "0.38461538461538464\n",
      "0.4\n",
      "0.4\n",
      "0.4153846153846154\n",
      "0.4153846153846154\n",
      "0.4307692307692308\n",
      "0.4307692307692308\n",
      "0.4307692307692308\n",
      "0.4307692307692308\n",
      "0.4307692307692308\n",
      "0.4307692307692308\n",
      "0.4461538461538462\n",
      "0.4307692307692308\n",
      "0.46153846153846156\n",
      "0.46153846153846156\n",
      "0.46153846153846156\n",
      "0.46153846153846156\n",
      "0.46153846153846156\n",
      "0.4461538461538462\n",
      "0.4307692307692308\n",
      "0.46153846153846156\n",
      "0.47692307692307695\n",
      "0.46153846153846156\n",
      "0.4307692307692308\n",
      "0.4307692307692308\n",
      "0.4461538461538462\n",
      "0.4307692307692308\n",
      "0.4461538461538462\n",
      "0.4461538461538462\n",
      "0.4307692307692308\n",
      "0.4307692307692308\n",
      "0.4307692307692308\n",
      "0.4307692307692308\n"
     ]
    }
   ],
   "source": [
    "for neigh in range(100):\n",
    "    knn = KNN.KNN(num_neighbor = neigh+1)\n",
    "    # print(x_train)\n",
    "    knn.train(x_train_rd, y_train)\n",
    "\n",
    "    #yield acc\n",
    "    y_pred = knn.infer((scaler.transform(x_test)))\n",
    "    # print(y_pred.T[0])\n",
    "    # print(loss.hamming_score(y_test, y_pred))\n",
    "    print(accuracy_score(y_test.T[0], y_pred.T[0]))\n",
    "    # print(accuracy_score(y_test.T[0], y_pred.T[0]) * accuracy_score(y_test.T[1], y_pred.T[1])) #ALL must TRUE metrics"
   ]
  },
  {
   "cell_type": "code",
   "execution_count": 9,
   "metadata": {},
   "outputs": [
    {
     "name": "stdout",
     "output_type": "stream",
     "text": [
      "[6. 6. 6. 7. 7. 7. 7. 7. 6. 8. 6. 7. 7. 7. 7. 7. 8. 7. 8. 7. 7. 6. 7. 7.\n",
      " 7. 7. 8. 7. 8. 8. 7. 6. 8. 7. 7. 7. 7. 7. 8. 8. 7. 6. 7. 8. 8. 7. 7. 7.\n",
      " 7. 7. 7. 7. 8. 8. 7. 8. 8. 8. 7. 7. 7. 8. 7. 7. 8.]\n",
      "0.5076923076923077\n"
     ]
    }
   ],
   "source": [
    "#use best neighbor to train (only for class classifier)\n",
    "knn = KNN.KNN(num_neighbor = 14)\n",
    "    # print(x_train)\n",
    "knn.train(x_train_rd, y_train.T[0])\n",
    "y1_pred = knn.infer((scaler.transform(x_test)))\n",
    "print(y1_pred)\n",
    "    # print(loss.hamming_score(y_test, y_pred))\n",
    "print(accuracy_score(y_test.T[0], y1_pred))"
   ]
  },
  {
   "cell_type": "code",
   "execution_count": 10,
   "metadata": {},
   "outputs": [
    {
     "name": "stdout",
     "output_type": "stream",
     "text": [
      "[10.  2. 10. 10. 19. 10. 10. 19.  2. 10.  4. 10. 10.  2. 10. 10. 19. 10.\n",
      " 19.  6. 10.  4. 10.  6.  0.  2. 10. 10. 10. 10.  2.  6. 10. 10.  2. 10.\n",
      " 14. 10.  6. 19.  2.  0.  6. 19.  2. 10. 10. 10. 10. 10.  6. 10. 10. 10.\n",
      " 10. 10.  2.  6.  6. 19. 18. 14. 14. 10.  2.]\n",
      "0.16923076923076924\n",
      "[14. 18. 18. 18. 18. 19. 19. 14. 16.  5. 12.  2.  5.  6. 14. 14. 14.  2.\n",
      " 14.  1. 10.  6.  2. 10.  2. 10.  2. 10. 10.  7.  6. 12. 14. 10. 10. 10.\n",
      " 10. 10. 10. 19. 18. 10.  2. 10.  7. 10. 14. 19. 18. 10. 19.  7.  6. 10.\n",
      " 14.  9.  2.  2. 10. 14. 14. 16. 10. 14. 19.]\n",
      "42.86153846153846\n"
     ]
    }
   ],
   "source": [
    "#linearRegression part (for energy regressor)\n",
    "from sklearn.linear_model import LinearRegression\n",
    "from sklearn.preprocessing import PolynomialFeatures\n",
    "import numpy as np\n",
    "lr = KNN.KNN(num_neighbor =13)\n",
    "lr.train(x_train_rd, y_train.T[1])\n",
    "y2_pred = lr.infer((scaler.transform(x_test)))\n",
    "print(np.round(y2_pred))\n",
    "print(accuracy_score(y_test.T[1], np.round(y2_pred)))\n",
    "print(y_test.T[1])\n",
    "print(np.square(y_test.T[1] - y2_pred).mean(axis=0))"
   ]
  },
  {
   "cell_type": "code",
   "execution_count": 11,
   "metadata": {},
   "outputs": [
    {
     "name": "stdout",
     "output_type": "stream",
     "text": [
      "[2. 2. 1. 1. 0. 1. 4. 3. 4. 1. 4. 0. 1. 0. 3. 1. 1. 3. 1. 2. 1. 1. 3. 1.\n",
      " 1. 1. 1. 0. 1. 1. 1. 4. 1. 0. 1. 1. 4. 0. 1. 0. 4. 2. 1. 1. 1. 1. 1. 1.\n",
      " 1. 1. 1. 0. 1. 1. 4. 1. 1. 4. 1. 1. 4. 1. 1. 0. 1.]\n",
      "0.27692307692307694\n"
     ]
    }
   ],
   "source": [
    "#linearRegression part (for energy regressor)\n",
    "from sklearn.linear_model import LinearRegression\n",
    "from sklearn.preprocessing import PolynomialFeatures\n",
    "import numpy as np\n",
    "lr = KNN.KNN(num_neighbor =6)\n",
    "lr.train(x_train_rd, y_train.T[2])\n",
    "y3_pred = lr.infer((scaler.transform(x_test)))\n",
    "print(np.round(y3_pred))\n",
    "print(accuracy_score(y_test.T[2], np.round(y3_pred)))"
   ]
  },
  {
   "cell_type": "code",
   "execution_count": null,
   "metadata": {},
   "outputs": [],
   "source": [
    "mr = MusicRecognition.MusicRecognition(knn, lr, pca)\n",
    "saver.saveObj(\"cache/mr.bin\",mr)"
   ]
  },
  {
   "cell_type": "code",
   "execution_count": 14,
   "metadata": {},
   "outputs": [
    {
     "name": "stdout",
     "output_type": "stream",
     "text": [
      "[10. 10. 10. 10. 10. 10. 10. 10. 10. 10. 10. 10. 10. 10. 10. 10. 10. 10.\n",
      " 10. 10. 10. 10. 10. 10. 10. 10. 10. 10. 10. 10. 10. 10. 10. 10. 10. 10.\n",
      " 10. 10. 10. 10. 10. 14. 10. 10. 10. 10. 10. 10. 10. 10. 10. 10. 10. 10.\n",
      " 10. 10. 10. 10. 10. 10. 10. 10. 10. 10. 10.]\n",
      "0.26153846153846155\n"
     ]
    }
   ],
   "source": [
    "from sklearn.pipeline import make_pipeline\n",
    "from sklearn.svm import SVC\n",
    "\n",
    "svm = SVC(gamma='auto', kernel='rbf', degree=15)\n",
    "    # print(x_train)\n",
    "svm.fit(x_train_rd, y_train.T[1])\n",
    "y1_pred = svm.predict((scaler.transform(x_test)))\n",
    "print(y1_pred)\n",
    "    # print(loss.hamming_score(y_test, y_pred))\n",
    "print(accuracy_score(y_test.T[1], y1_pred))"
   ]
  },
  {
   "cell_type": "code",
   "execution_count": null,
   "metadata": {},
   "outputs": [],
   "source": []
  }
 ],
 "metadata": {
  "kernelspec": {
   "display_name": "Python 3",
   "language": "python",
   "name": "python3"
  },
  "language_info": {
   "codemirror_mode": {
    "name": "ipython",
    "version": 3
   },
   "file_extension": ".py",
   "mimetype": "text/x-python",
   "name": "python",
   "nbconvert_exporter": "python",
   "pygments_lexer": "ipython3",
   "version": "3.7.8"
  }
 },
 "nbformat": 4,
 "nbformat_minor": 4
}
