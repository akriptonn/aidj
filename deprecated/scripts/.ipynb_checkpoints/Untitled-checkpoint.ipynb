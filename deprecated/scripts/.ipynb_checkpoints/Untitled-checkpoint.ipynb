{
 "cells": [
  {
   "cell_type": "code",
   "execution_count": 1,
   "metadata": {},
   "outputs": [],
   "source": [
    "#define path\n",
    "wesley_ds = \"/files\"\n",
    "kaggle_ds = \"/archive/Data/genres_original\"\n",
    "main_path = \"../raw_dataset\""
   ]
  },
  {
   "cell_type": "code",
   "execution_count": 2,
   "metadata": {},
   "outputs": [],
   "source": [
    "#choose the dataset\n",
    "chooser = wesley_ds"
   ]
  },
  {
   "cell_type": "code",
   "execution_count": 3,
   "metadata": {},
   "outputs": [],
   "source": [
    "DATASET_PATH = main_path+chooser\n",
    "# DATASET_PATH = \"../../../Music\"\n",
    "JSON_PATH = '../pr_dataset/myjson2.json'\n",
    "SAMPLE_RATE = sr =  22050\n",
    "DURATION = 30 #measured in seconds \n",
    "SAMPLES_PER_TRACK = SAMPLE_RATE*DURATION"
   ]
  },
  {
   "cell_type": "code",
   "execution_count": null,
   "metadata": {},
   "outputs": [],
   "source": [
    "# This Python 3 environment comes with many helpful analytics libraries installed\n",
    "# It is defined by the kaggle/python Docker image: https://github.com/kaggle/docker-python\n",
    "# For example, here's several helpful packages to load\n",
    "\n",
    "import numpy as np # linear algebra\n",
    "import pandas as pd # data processing, CSV file I/O (e.g. pd.read_csv)\n",
    "\n",
    "# Input data files are available in the read-only \"../input/\" directory\n",
    "# For example, running this (by clicking run or pressing Shift+Enter) will list all files under the input directory\n",
    "\n",
    "import os\n",
    "for dirname, _, filenames in os.walk(main_path+chooser):\n",
    "    for filename in filenames:\n",
    "        #print(os.path.join(dirname, filename))\n",
    "        print(filename)\n",
    "# You can write up to 5GB to the current directory (/kaggle/working/) that gets preserved as output when you create a version using \"Save & Run All\" \n",
    "# You can also write temporary files to /kaggle/temp/, but they won't be saved outside of the current session\n"
   ]
  },
  {
   "cell_type": "code",
   "execution_count": 4,
   "metadata": {},
   "outputs": [],
   "source": [
    "import pandas as pd\n",
    "import numpy as np\n",
    "import matplotlib.pyplot as plt\n",
    "import soundfile as sf\n",
    "import librosa\n",
    "import librosa.display\n",
    "from IPython.display import Audio\n",
    "# from tqdm import tqdm \n",
    "from sklearn.model_selection import train_test_split, TimeSeriesSplit\n",
    "import tensorflow as tf\n",
    "from tensorflow import keras\n",
    "from tensorflow.keras.models import Sequential\n",
    "from tensorflow.keras.layers import Dense, Flatten, Conv2D, MaxPooling2D, Dropout, LSTM, Bidirectional, GRU, BatchNormalization, LeakyReLU\n",
    "from tensorflow.keras.utils import to_categorical\n",
    "import os\n",
    "import math\n",
    "import json\n",
    "import random"
   ]
  },
  {
   "cell_type": "code",
   "execution_count": null,
   "metadata": {},
   "outputs": [],
   "source": [
    "def save_mfcc(dataset_path, json_path, n_mfcc=13, n_fft=4084, hop_length=1024, num_segments=10):\n",
    "    #dictionary to store data\n",
    "    data = {\n",
    "        'mapping' : [],\n",
    "        'mfcc' : [],\n",
    "        'labels' : []\n",
    "    }\n",
    "    \n",
    "    count = 0 # To keep track of our progress\n",
    "    num_samples_per_segment = int(SAMPLES_PER_TRACK / num_segments) \n",
    "    expected_num_mfcc_vectors_per_segment = math.ceil(num_samples_per_segment / hop_length)\n",
    "    \n",
    "    #Loop through all the genres\n",
    "    for i, (dirpath, dirnames, filenames) in enumerate(os.walk(dataset_path)):\n",
    "        \n",
    "        #ensure that we're not at the root level\n",
    "        if dirpath not in dataset_path:\n",
    "\n",
    "            #save the semantic label\n",
    "            dirpath_components = dirpath.split('/')\n",
    "            semantic_label = dirpath_components[-1]\n",
    "            data['mapping'].append(semantic_label)\n",
    "            print('\\nProcessing {}'.format(semantic_label))\n",
    "            \n",
    "            #process files for a specific genre \n",
    "            for f in filenames:\n",
    "#                 if f.endswith('.wav') and f != 'jazz.00054.wav': # Since file jazz.00054.wav is an empty file\n",
    "                if True: # Since file jazz.00054.wav is an empty file\n",
    "                    file_path = os.path.join(dirpath,f)\n",
    "                    \n",
    "                    #loading the audio file \n",
    "                    # we are using the soundfile library since it is faster than librosa\n",
    "                    signal, sr = librosa.load(file_path) # len(signal) = 661794  # sr is 22050 by default \n",
    "                    midptr = int(signal.shape[0]/2)\n",
    "                    bptr = midptr - (SAMPLE_RATE*DURATION) #set as OFFSET\n",
    "#                     hptr = midptr + (SAMPLE_RATE*duration)\n",
    "                    #print(signal,sr)\n",
    "                    #process segments extracting mfcc and storing data\n",
    "                    for s in range(num_segments): \n",
    "                        # Since num_segments is defined as 5. Every 30 sec file is divided into 5 segments of length 6sec \n",
    "                        # Start sample would keep track of the index of the first element of each 6 second batch\n",
    "                        # finish sample would keep track of the index of the last element of each 6 second batch\n",
    "                        # And then with the help of python's slice functionality we will extract that 6 second batch from every 30 sec signal\n",
    "                        start_sample = bptr + num_samples_per_segment * s   \n",
    "                        finish_sample = num_samples_per_segment + start_sample\n",
    "                        \n",
    "                        # Next, we will pass each segment in order to extract MFCC. The parameter n_mfcc defines the number of mfcc \n",
    "                        # we need to extract, Usually n_mfcc is set b/w 13 to 40. The other parameters n_fft and hop length are \n",
    "                        # indivisual topics of discussion. Will be discussed in later Notbooks. \n",
    "                        mfcc = librosa.feature.mfcc(signal[start_sample : finish_sample],\n",
    "                                                   sr = sr,\n",
    "                                                   n_fft = n_fft,\n",
    "                                                   n_mfcc = n_mfcc,\n",
    "                                                   hop_length = hop_length)\n",
    "\n",
    "                        mfcc = mfcc.T\n",
    "                        # store mfcc for segment if it has the expected length\n",
    "                        if len(mfcc) == expected_num_mfcc_vectors_per_segment:\n",
    "                            print(mfcc.shape)\n",
    "                            data['mfcc'].append(mfcc.tolist())\n",
    "                            data['labels'].append(i)\n",
    "                            print('Processing {}, segment:{}'.format(file_path, s))\n",
    "                            count += 1\n",
    "                            print(count)\n",
    "    with open(json_path, 'w') as fp:\n",
    "        json.dump(data, fp, indent=4)"
   ]
  },
  {
   "cell_type": "code",
   "execution_count": null,
   "metadata": {},
   "outputs": [],
   "source": [
    "# Let's run the above function \n",
    "save_mfcc(DATASET_PATH, JSON_PATH, num_segments=10)"
   ]
  },
  {
   "cell_type": "code",
   "execution_count": 5,
   "metadata": {},
   "outputs": [],
   "source": [
    "# loading the saved Json file\n",
    "def load_data(path):\n",
    "    with open(path, 'r') as fp:\n",
    "        data = json.load(fp)\n",
    "        \n",
    "    #Convert lists into numpy arrays\n",
    "    inputs = data['mfcc']\n",
    "    targets = data['labels'] \n",
    "    return np.array(inputs), np.array(targets)"
   ]
  },
  {
   "cell_type": "code",
   "execution_count": null,
   "metadata": {},
   "outputs": [],
   "source": []
  },
  {
   "cell_type": "code",
   "execution_count": 6,
   "metadata": {},
   "outputs": [],
   "source": [
    "inputs, targets = load_data(JSON_PATH)"
   ]
  },
  {
   "cell_type": "code",
   "execution_count": 7,
   "metadata": {
    "scrolled": true
   },
   "outputs": [
    {
     "name": "stdout",
     "output_type": "stream",
     "text": [
      "[[[ 2.14072616e+01  6.67258947e+01  2.97258605e+01 ... -8.57448504e+00\n",
      "   -1.57755677e+00 -4.94587338e+00]\n",
      "  [ 3.07572078e+01  5.23091250e+01  3.89966963e+01 ... -2.12680036e+00\n",
      "    6.16240602e+00  8.14609254e-01]\n",
      "  [-5.60983702e+00  1.05013424e+01  4.24299082e+01 ...  1.32480420e+00\n",
      "    1.33671936e+01  3.76280255e+00]\n",
      "  ...\n",
      "  [ 1.39197889e+01  9.06260339e+01  2.07068415e+01 ...  6.09766610e+00\n",
      "    4.98689832e+00 -4.17833809e+00]\n",
      "  [-7.90029448e+01  5.14671405e+01  5.52346291e+00 ...  1.09467828e+00\n",
      "    2.03547542e+01  1.82178077e+01]\n",
      "  [-1.01789304e+02  2.69560376e+01 -1.43455708e+01 ...  4.34714808e+00\n",
      "    2.58664966e+01  2.71645234e+01]]\n",
      "\n",
      " [[-8.57086022e+01 -1.66599448e+01 -4.00433750e+01 ...  1.46792267e-01\n",
      "    1.88251551e+01  1.68434966e+01]\n",
      "  [ 1.01857786e+01 -6.48726464e+01 -5.87159710e+01 ...  4.70629492e+00\n",
      "    1.64398939e+01  1.58211969e+01]\n",
      "  [ 3.67405252e+01 -8.48920266e+01 -6.32467712e+01 ... -2.61447730e+00\n",
      "    7.25607017e+00  8.14229922e+00]\n",
      "  ...\n",
      "  [ 1.07602814e+02 -1.01804613e+01 -9.56606230e+00 ... -4.17691435e+00\n",
      "   -2.35815777e-01 -6.91172315e+00]\n",
      "  [ 8.96900195e+01 -1.98341490e+01  1.61208156e-01 ... -1.85636183e+00\n",
      "    9.21548611e-01 -4.59479171e+00]\n",
      "  [ 8.12533927e+01 -1.94083038e+01 -4.52218091e+00 ...  2.92558542e+00\n",
      "    3.44580557e+00 -6.28142732e+00]]\n",
      "\n",
      " [[ 8.12865643e+01 -1.17682194e+00  2.19808563e+01 ... -7.93794771e-01\n",
      "    5.05630301e+00 -6.67802599e+00]\n",
      "  [ 5.18007087e+01  3.35645432e+00  1.38036563e+01 ... -1.56947131e-01\n",
      "    7.71012415e+00 -5.98079259e+00]\n",
      "  [ 9.31465128e+01  2.12479765e+01 -1.84893359e+01 ... -4.75570050e+00\n",
      "    1.62113498e+00 -9.69492335e+00]\n",
      "  ...\n",
      "  [ 3.17219758e+01  5.36677699e+01 -1.10427379e+01 ... -1.39127594e+01\n",
      "   -5.68172588e+00 -1.91900050e+01]\n",
      "  [ 9.93754095e+01  6.92247098e+01  5.44853170e-01 ... -5.03043367e+00\n",
      "    2.26466509e+00 -1.03438064e+01]\n",
      "  [ 6.66231121e+01  5.98756638e+01  1.68973670e+01 ...  1.92318500e+00\n",
      "    9.46105510e+00 -1.23065125e+00]]\n",
      "\n",
      " ...\n",
      "\n",
      " [[ 1.23149078e+01  1.04749835e+02  4.47192445e+01 ...  3.11073638e+00\n",
      "    6.81191970e+00 -3.49908384e-01]\n",
      "  [-3.79349443e+00  1.09892790e+02  3.93607847e+01 ...  5.27810076e+00\n",
      "    1.36863668e+01  5.82940567e+00]\n",
      "  [ 5.72927971e+00  9.46530504e+01  1.61248609e+01 ...  1.17298208e+01\n",
      "    1.62156759e+01  9.64497054e+00]\n",
      "  ...\n",
      "  [ 1.10898370e+02  8.83271828e+01  2.80872586e+01 ...  4.38450062e+00\n",
      "    4.89721638e+00 -1.04653879e+01]\n",
      "  [ 3.40716474e+01  8.96871749e+01  1.82497164e+01 ...  4.53146569e+00\n",
      "    1.16886581e+01  8.20737537e+00]\n",
      "  [ 7.44199085e+01  5.84504819e+01  2.44160750e+01 ...  4.07442892e+00\n",
      "    1.25397097e+01  1.05178521e+01]]\n",
      "\n",
      " [[ 3.89764479e+01  7.75804156e+01  1.00318022e+01 ...  1.10043751e+00\n",
      "    9.47168148e+00  9.63027069e+00]\n",
      "  [ 7.37002196e+01  5.05869036e+01  2.06766542e+01 ...  4.76273725e+00\n",
      "    1.33376686e+01  9.44131911e+00]\n",
      "  [ 1.06245127e+02  3.15788175e+01  3.01219510e+01 ...  2.51512284e+00\n",
      "    1.24978199e+01  4.59839015e+00]\n",
      "  ...\n",
      "  [ 6.84106064e+01  5.10499042e+01 -3.79453345e+00 ...  2.00930263e+00\n",
      "    1.03899974e+01  7.17591985e+00]\n",
      "  [ 1.07700299e+02  3.73297536e+01  1.34466527e+01 ...  2.23944658e+00\n",
      "    6.92036469e+00 -8.57363375e-02]\n",
      "  [ 1.16520365e+02  3.47054407e+01  2.05073754e+01 ... -2.64668009e+00\n",
      "    5.23431612e+00 -2.21875509e+00]]\n",
      "\n",
      " [[ 7.47679575e+01  5.23118713e+01 -8.13567314e+00 ... -2.03234529e+00\n",
      "    9.20381070e+00  3.23597837e+00]\n",
      "  [ 1.11873299e+02  4.25865704e+01  8.28749755e+00 ... -3.28884249e+00\n",
      "    6.05207706e+00  2.97525482e+00]\n",
      "  [ 1.12056718e+02  4.14124246e+01  8.96832550e+00 ... -1.53916639e+00\n",
      "    8.15154802e+00  4.14230035e+00]\n",
      "  ...\n",
      "  [ 2.16625622e+01  1.46149465e+01 -6.70169875e+01 ... -4.22410579e+00\n",
      "    1.31717882e+00 -8.49087378e+00]\n",
      "  [ 2.88606637e+01  1.31581889e+01 -6.36788598e+01 ... -4.08754508e+00\n",
      "    5.49031737e+00 -3.21922765e+00]\n",
      "  [ 3.58328508e+01  1.74735785e+01 -5.63604566e+01 ... -4.05872832e+00\n",
      "    6.43027240e+00 -1.83176484e+00]]]\n"
     ]
    }
   ],
   "source": [
    "print(inputs)"
   ]
  },
  {
   "cell_type": "code",
   "execution_count": 8,
   "metadata": {},
   "outputs": [
    {
     "data": {
      "text/plain": [
       "(7170, 65, 13)"
      ]
     },
     "execution_count": 8,
     "metadata": {},
     "output_type": "execute_result"
    }
   ],
   "source": [
    "inputs.shape"
   ]
  },
  {
   "cell_type": "code",
   "execution_count": 9,
   "metadata": {},
   "outputs": [
    {
     "data": {
      "text/plain": [
       "(array([1, 2, 3, 4, 5]), array([1100, 3080,  480,  910, 1600], dtype=int64))"
      ]
     },
     "execution_count": 9,
     "metadata": {},
     "output_type": "execute_result"
    }
   ],
   "source": [
    "np.unique(targets, return_counts=True)"
   ]
  },
  {
   "cell_type": "code",
   "execution_count": 10,
   "metadata": {},
   "outputs": [],
   "source": [
    "# Converting labels from 15-24 to 0-9\n",
    "v = min(np.unique(targets))\n",
    "for i in range(len(targets)):\n",
    "    if targets[i] == v:\n",
    "        targets[i] = 0\n",
    "    else:\n",
    "        new = targets[i] - v\n",
    "        targets[i] = new"
   ]
  },
  {
   "cell_type": "code",
   "execution_count": 11,
   "metadata": {},
   "outputs": [
    {
     "data": {
      "text/plain": [
       "(array([0, 1, 2, 3, 4]), array([1100, 3080,  480,  910, 1600], dtype=int64))"
      ]
     },
     "execution_count": 11,
     "metadata": {},
     "output_type": "execute_result"
    }
   ],
   "source": [
    "np.unique(targets, return_counts=True)"
   ]
  },
  {
   "cell_type": "code",
   "execution_count": 12,
   "metadata": {},
   "outputs": [
    {
     "data": {
      "text/plain": [
       "(65, 13)"
      ]
     },
     "execution_count": 12,
     "metadata": {},
     "output_type": "execute_result"
    }
   ],
   "source": [
    "# tss = TimeSeriesSplit()\n",
    "# for train_index, test_index in tss.split(inputs):\n",
    "#     print(train_index, test_index)\n",
    "inputs_train, inputs_test, targets_train, targets_test = train_test_split(inputs, targets, test_size=0.2)\n",
    "inputs_train[1].shape"
   ]
  },
  {
   "cell_type": "code",
   "execution_count": 13,
   "metadata": {},
   "outputs": [],
   "source": [
    "# Adding Noise \n",
    "for i in range(inputs_train.shape[0]):\n",
    "    s = np.random.rand(inputs_train.shape[1], inputs_train.shape[2])\n",
    "    inputs_train[i] = inputs_train[i] + s"
   ]
  },
  {
   "cell_type": "code",
   "execution_count": 49,
   "metadata": {},
   "outputs": [
    {
     "name": "stdout",
     "output_type": "stream",
     "text": [
      "Model: \"sequential_10\"\n",
      "_________________________________________________________________\n",
      "Layer (type)                 Output Shape              Param #   \n",
      "=================================================================\n",
      "gru_10 (GRU)                 (None, 500)               772500    \n",
      "_________________________________________________________________\n",
      "dropout_10 (Dropout)         (None, 500)               0         \n",
      "_________________________________________________________________\n",
      "dense_10 (Dense)             (None, 5)                 2505      \n",
      "=================================================================\n",
      "Total params: 775,005\n",
      "Trainable params: 775,005\n",
      "Non-trainable params: 0\n",
      "_________________________________________________________________\n"
     ]
    }
   ],
   "source": [
    "model = Sequential()\n",
    "\n",
    "\n",
    "model.add(GRU(500, input_shape=(inputs.shape[1], inputs.shape[2])))\n",
    "\n",
    "# model.add(GRU(100, return_sequences=True, input_shape=(inputs.shape[1], inputs.shape[2])))\n",
    "# model.add(GRU(200, return_sequences=True))\n",
    "# model.add(Dropout(0.2))\n",
    "# model.add(BatchNormalization())\n",
    "# model.add(GRU(200))\n",
    "\n",
    "model.add(Dropout(0.4))\n",
    "# model.add(BatchNormalization())\n",
    "\n",
    "model.add(Dense(5, 'sigmoid'))\n",
    "\n",
    "model.compile(optimizer=tf.keras.optimizers.Adam(),\n",
    "             loss = 'sparse_categorical_crossentropy',\n",
    "             metrics=['accuracy'])\n",
    "\n",
    "\n",
    "\n",
    "model.summary()"
   ]
  },
  {
   "cell_type": "code",
   "execution_count": 50,
   "metadata": {},
   "outputs": [
    {
     "name": "stdout",
     "output_type": "stream",
     "text": [
      "Train on 5736 samples, validate on 1434 samples\n",
      "Epoch 1/35\n",
      "5736/5736 [==============================] - 5s 906us/sample - loss: 1.3984 - accuracy: 0.4250 - val_loss: 1.2526 - val_accuracy: 0.4742\n",
      "Epoch 2/35\n",
      "5736/5736 [==============================] - 2s 390us/sample - loss: 1.2424 - accuracy: 0.4573 - val_loss: 1.1848 - val_accuracy: 0.4888\n",
      "Epoch 3/35\n",
      "5736/5736 [==============================] - 2s 391us/sample - loss: 1.1612 - accuracy: 0.4930 - val_loss: 1.1358 - val_accuracy: 0.5216\n",
      "Epoch 4/35\n",
      "5736/5736 [==============================] - 2s 387us/sample - loss: 1.0630 - accuracy: 0.5589 - val_loss: 1.0720 - val_accuracy: 0.5614\n",
      "Epoch 5/35\n",
      "5736/5736 [==============================] - 2s 390us/sample - loss: 0.9677 - accuracy: 0.6016 - val_loss: 1.0082 - val_accuracy: 0.5872\n",
      "Epoch 6/35\n",
      "5736/5736 [==============================] - 2s 392us/sample - loss: 0.8437 - accuracy: 0.6522 - val_loss: 0.9284 - val_accuracy: 0.6374\n",
      "Epoch 7/35\n",
      "5736/5736 [==============================] - 2s 396us/sample - loss: 0.7376 - accuracy: 0.7066 - val_loss: 0.9141 - val_accuracy: 0.6332\n",
      "Epoch 8/35\n",
      "5736/5736 [==============================] - 2s 398us/sample - loss: 0.6288 - accuracy: 0.7453 - val_loss: 0.8330 - val_accuracy: 0.6736\n",
      "Epoch 9/35\n",
      "5736/5736 [==============================] - 2s 397us/sample - loss: 0.5404 - accuracy: 0.7911 - val_loss: 0.8432 - val_accuracy: 0.7050\n",
      "Epoch 10/35\n",
      "5736/5736 [==============================] - 2s 402us/sample - loss: 0.4460 - accuracy: 0.8285 - val_loss: 0.8765 - val_accuracy: 0.6987\n",
      "Epoch 11/35\n",
      "5736/5736 [==============================] - 2s 401us/sample - loss: 0.3944 - accuracy: 0.8541 - val_loss: 0.8358 - val_accuracy: 0.7197\n",
      "Epoch 12/35\n",
      "5736/5736 [==============================] - 2s 401us/sample - loss: 0.3281 - accuracy: 0.8733 - val_loss: 0.8100 - val_accuracy: 0.7287\n",
      "Epoch 13/35\n",
      "5736/5736 [==============================] - 2s 401us/sample - loss: 0.2530 - accuracy: 0.9048 - val_loss: 0.8689 - val_accuracy: 0.7350\n",
      "Epoch 14/35\n",
      "5736/5736 [==============================] - 2s 402us/sample - loss: 0.2075 - accuracy: 0.9257 - val_loss: 0.7397 - val_accuracy: 0.7601\n",
      "Epoch 15/35\n",
      "5736/5736 [==============================] - 2s 409us/sample - loss: 0.2167 - accuracy: 0.9182 - val_loss: 0.8169 - val_accuracy: 0.7406\n",
      "Epoch 16/35\n",
      "5736/5736 [==============================] - 2s 400us/sample - loss: 0.1674 - accuracy: 0.9383 - val_loss: 0.7778 - val_accuracy: 0.7748\n",
      "Epoch 17/35\n",
      "5736/5736 [==============================] - 2s 401us/sample - loss: 0.1544 - accuracy: 0.9426 - val_loss: 0.8693 - val_accuracy: 0.7608\n",
      "Epoch 18/35\n",
      "5736/5736 [==============================] - 2s 404us/sample - loss: 0.1553 - accuracy: 0.9397 - val_loss: 0.7639 - val_accuracy: 0.7671\n",
      "Epoch 19/35\n",
      "5736/5736 [==============================] - 2s 405us/sample - loss: 0.1329 - accuracy: 0.9507 - val_loss: 0.8869 - val_accuracy: 0.7699\n",
      "Epoch 20/35\n",
      "5736/5736 [==============================] - 2s 417us/sample - loss: 0.1489 - accuracy: 0.9426 - val_loss: 0.7737 - val_accuracy: 0.7685\n",
      "Epoch 21/35\n",
      "5736/5736 [==============================] - 2s 417us/sample - loss: 0.1243 - accuracy: 0.9524 - val_loss: 0.8407 - val_accuracy: 0.7894\n",
      "Epoch 22/35\n",
      "5736/5736 [==============================] - 2s 412us/sample - loss: 0.1072 - accuracy: 0.9576 - val_loss: 0.8863 - val_accuracy: 0.7803\n",
      "Epoch 23/35\n",
      "5736/5736 [==============================] - 2s 406us/sample - loss: 0.0996 - accuracy: 0.9587 - val_loss: 0.9354 - val_accuracy: 0.7657\n",
      "Epoch 24/35\n",
      "5736/5736 [==============================] - 2s 405us/sample - loss: 0.1072 - accuracy: 0.9555 - val_loss: 0.7965 - val_accuracy: 0.7845\n",
      "Epoch 25/35\n",
      "5736/5736 [==============================] - 2s 405us/sample - loss: 0.0825 - accuracy: 0.9648 - val_loss: 0.8738 - val_accuracy: 0.7838\n",
      "Epoch 26/35\n",
      "5736/5736 [==============================] - 2s 405us/sample - loss: 0.1242 - accuracy: 0.9536 - val_loss: 0.8706 - val_accuracy: 0.7810\n",
      "Epoch 27/35\n",
      "5736/5736 [==============================] - 2s 404us/sample - loss: 0.0979 - accuracy: 0.9590 - val_loss: 0.9213 - val_accuracy: 0.7748\n",
      "Epoch 28/35\n",
      "5736/5736 [==============================] - 2s 405us/sample - loss: 0.0756 - accuracy: 0.9676 - val_loss: 0.9596 - val_accuracy: 0.7789\n",
      "Epoch 29/35\n",
      "5736/5736 [==============================] - 2s 413us/sample - loss: 0.0682 - accuracy: 0.9691 - val_loss: 0.9285 - val_accuracy: 0.7964\n",
      "Epoch 30/35\n",
      "5736/5736 [==============================] - 2s 407us/sample - loss: 0.0708 - accuracy: 0.9686 - val_loss: 1.0593 - val_accuracy: 0.7615\n",
      "Epoch 31/35\n",
      "5736/5736 [==============================] - 2s 409us/sample - loss: 0.1139 - accuracy: 0.9561 - val_loss: 0.9011 - val_accuracy: 0.7692\n",
      "Epoch 32/35\n",
      "5736/5736 [==============================] - 2s 407us/sample - loss: 0.0980 - accuracy: 0.9550 - val_loss: 0.8260 - val_accuracy: 0.8020\n",
      "Epoch 33/35\n",
      "5736/5736 [==============================] - 2s 422us/sample - loss: 0.0720 - accuracy: 0.9662 - val_loss: 0.8393 - val_accuracy: 0.8047\n",
      "Epoch 34/35\n",
      "5736/5736 [==============================] - 2s 413us/sample - loss: 0.0541 - accuracy: 0.9733 - val_loss: 0.9268 - val_accuracy: 0.8026\n",
      "Epoch 35/35\n",
      "5736/5736 [==============================] - 2s 412us/sample - loss: 0.0472 - accuracy: 0.9745 - val_loss: 0.8988 - val_accuracy: 0.8103\n"
     ]
    }
   ],
   "source": [
    "history = model.fit(inputs_train, targets_train,\n",
    "          validation_data=(inputs_test, targets_test),\n",
    "          epochs = 35,\n",
    "          batch_size=100)"
   ]
  },
  {
   "cell_type": "code",
   "execution_count": 51,
   "metadata": {},
   "outputs": [
    {
     "data": {
      "image/png": "[encoded data removed]",
      "text/plain": [
       "<Figure size 432x288 with 1 Axes>"
      ]
     },
     "metadata": {
      "needs_background": "light"
     },
     "output_type": "display_data"
    },
    {
     "data": {
      "image/png": "[encoded data removed]",
      "text/plain": [
       "<Figure size 432x288 with 1 Axes>"
      ]
     },
     "metadata": {
      "needs_background": "light"
     },
     "output_type": "display_data"
    }
   ],
   "source": [
    "plt.plot(history.history['accuracy'])\n",
    "plt.plot(history.history['val_accuracy'])\n",
    "plt.title('model accuracy')\n",
    "plt.ylabel('accuracy')\n",
    "plt.xlabel('epoch')\n",
    "plt.legend(['train', 'test'], loc='upper left')\n",
    "plt.show()\n",
    "# summarize history for loss\n",
    "plt.plot(history.history['loss'])\n",
    "plt.plot(history.history['val_loss'])\n",
    "plt.title('model loss')\n",
    "plt.ylabel('loss')\n",
    "plt.xlabel('epoch')\n",
    "plt.legend(['train', 'test'], loc='upper left')\n",
    "plt.show()\n"
   ]
  },
  {
   "cell_type": "code",
   "execution_count": null,
   "metadata": {},
   "outputs": [],
   "source": [
    "#Fine-tuning\n",
    "\n",
    "model.add(Dense(5, 'sigmoid'))\n",
    "model.compile(optimizer=keras.optimizers.Adam(1e-5),  # Very low learning rate\n",
    "              loss = 'sparse_categorical_crossentropy',\n",
    "              metrics=['accuracy'])\n"
   ]
  },
  {
   "cell_type": "code",
   "execution_count": null,
   "metadata": {},
   "outputs": [],
   "source": [
    "from sklearn.metrics import confusion_matrix\n",
    "import seaborn as sns\n",
    "predictions_one_hot = model.predict(inputs_test)\n",
    "print(targets_test.shape, predictions_one_hot.shape)\n",
    "# cm = confusion_matrix(targets_test, predictions_one_hot.argmax(axis=1))\n",
    "# print(cm)\n",
    "con_mat = tf.math.confusion_matrix(labels=targets_test, predictions=predictions_one_hot.argmax(axis=1)).numpy()\n",
    "con_mat_norm = np.around(con_mat.astype('float') / con_mat.sum(axis=1)[:, np.newaxis], decimals=2)\n",
    "\n",
    "con_mat_df = pd.DataFrame(con_mat_norm,\n",
    "                     index = [0,1,2,3,4], \n",
    "                     columns = [0,1,2,3,4])\n",
    "figure = plt.figure(figsize=(8, 8))\n",
    "sns.heatmap(con_mat_df, annot=True,cmap=plt.cm.Blues)\n",
    "plt.tight_layout()\n",
    "plt.ylabel('True label')\n",
    "plt.xlabel('Predicted label')\n",
    "plt.show()"
   ]
  },
  {
   "cell_type": "code",
   "execution_count": 52,
   "metadata": {},
   "outputs": [
    {
     "ename": "AttributeError",
     "evalue": "cffi library 'C:\\Users\\KRPTN\\Anaconda3\\envs\\tf_2\\Library\\bin\\sndfile.dll' has no function, constant or global variable named 'sf_wchar_open'",
     "output_type": "error",
     "traceback": [
      "\u001b[1;31m---------------------------------------------------------------------------\u001b[0m",
      "\u001b[1;31mAttributeError\u001b[0m                            Traceback (most recent call last)",
      "\u001b[1;32m<ipython-input-52-e129e9c60a57>\u001b[0m in \u001b[0;36m<module>\u001b[1;34m\u001b[0m\n\u001b[1;32m----> 1\u001b[1;33m \u001b[0msignal\u001b[0m\u001b[1;33m,\u001b[0m \u001b[0msr\u001b[0m \u001b[1;33m=\u001b[0m \u001b[0mlibrosa\u001b[0m\u001b[1;33m.\u001b[0m\u001b[0mload\u001b[0m\u001b[1;33m(\u001b[0m\u001b[1;34m\"../raw_dataset/files/BIG ROOM/01 Agus Zack _ Devbanz - Workout (Extended M.mp3\"\u001b[0m\u001b[1;33m)\u001b[0m \u001b[1;31m# len(signal) = 661794  # sr is 22050 by default\u001b[0m\u001b[1;33m\u001b[0m\u001b[1;33m\u001b[0m\u001b[0m\n\u001b[0m",
      "\u001b[1;32m~\\Anaconda3\\envs\\tf_2\\lib\\site-packages\\librosa\\core\\audio.py\u001b[0m in \u001b[0;36mload\u001b[1;34m(path, sr, mono, offset, duration, dtype, res_type)\u001b[0m\n\u001b[0;32m    144\u001b[0m \u001b[1;33m\u001b[0m\u001b[0m\n\u001b[0;32m    145\u001b[0m     \u001b[1;32mtry\u001b[0m\u001b[1;33m:\u001b[0m\u001b[1;33m\u001b[0m\u001b[1;33m\u001b[0m\u001b[0m\n\u001b[1;32m--> 146\u001b[1;33m         \u001b[1;32mwith\u001b[0m \u001b[0msf\u001b[0m\u001b[1;33m.\u001b[0m\u001b[0mSoundFile\u001b[0m\u001b[1;33m(\u001b[0m\u001b[0mpath\u001b[0m\u001b[1;33m)\u001b[0m \u001b[1;32mas\u001b[0m \u001b[0msf_desc\u001b[0m\u001b[1;33m:\u001b[0m\u001b[1;33m\u001b[0m\u001b[1;33m\u001b[0m\u001b[0m\n\u001b[0m\u001b[0;32m    147\u001b[0m             \u001b[0msr_native\u001b[0m \u001b[1;33m=\u001b[0m \u001b[0msf_desc\u001b[0m\u001b[1;33m.\u001b[0m\u001b[0msamplerate\u001b[0m\u001b[1;33m\u001b[0m\u001b[1;33m\u001b[0m\u001b[0m\n\u001b[0;32m    148\u001b[0m             \u001b[1;32mif\u001b[0m \u001b[0moffset\u001b[0m\u001b[1;33m:\u001b[0m\u001b[1;33m\u001b[0m\u001b[1;33m\u001b[0m\u001b[0m\n",
      "\u001b[1;32m~\\Anaconda3\\envs\\tf_2\\lib\\site-packages\\soundfile.py\u001b[0m in \u001b[0;36m__init__\u001b[1;34m(self, file, mode, samplerate, channels, subtype, endian, format, closefd)\u001b[0m\n\u001b[0;32m    625\u001b[0m         self._info = _create_info_struct(file, mode, samplerate, channels,\n\u001b[0;32m    626\u001b[0m                                          format, subtype, endian)\n\u001b[1;32m--> 627\u001b[1;33m         \u001b[0mself\u001b[0m\u001b[1;33m.\u001b[0m\u001b[0m_file\u001b[0m \u001b[1;33m=\u001b[0m \u001b[0mself\u001b[0m\u001b[1;33m.\u001b[0m\u001b[0m_open\u001b[0m\u001b[1;33m(\u001b[0m\u001b[0mfile\u001b[0m\u001b[1;33m,\u001b[0m \u001b[0mmode_int\u001b[0m\u001b[1;33m,\u001b[0m \u001b[0mclosefd\u001b[0m\u001b[1;33m)\u001b[0m\u001b[1;33m\u001b[0m\u001b[1;33m\u001b[0m\u001b[0m\n\u001b[0m\u001b[0;32m    628\u001b[0m         \u001b[1;32mif\u001b[0m \u001b[0mset\u001b[0m\u001b[1;33m(\u001b[0m\u001b[0mmode\u001b[0m\u001b[1;33m)\u001b[0m\u001b[1;33m.\u001b[0m\u001b[0missuperset\u001b[0m\u001b[1;33m(\u001b[0m\u001b[1;34m'r+'\u001b[0m\u001b[1;33m)\u001b[0m \u001b[1;32mand\u001b[0m \u001b[0mself\u001b[0m\u001b[1;33m.\u001b[0m\u001b[0mseekable\u001b[0m\u001b[1;33m(\u001b[0m\u001b[1;33m)\u001b[0m\u001b[1;33m:\u001b[0m\u001b[1;33m\u001b[0m\u001b[1;33m\u001b[0m\u001b[0m\n\u001b[0;32m    629\u001b[0m             \u001b[1;31m# Move write position to 0 (like in Python file objects)\u001b[0m\u001b[1;33m\u001b[0m\u001b[1;33m\u001b[0m\u001b[1;33m\u001b[0m\u001b[0m\n",
      "\u001b[1;32m~\\Anaconda3\\envs\\tf_2\\lib\\site-packages\\soundfile.py\u001b[0m in \u001b[0;36m_open\u001b[1;34m(self, file, mode_int, closefd)\u001b[0m\n\u001b[0;32m   1168\u001b[0m             \u001b[1;32mif\u001b[0m \u001b[0misinstance\u001b[0m\u001b[1;33m(\u001b[0m\u001b[0mfile\u001b[0m\u001b[1;33m,\u001b[0m \u001b[0m_unicode\u001b[0m\u001b[1;33m)\u001b[0m\u001b[1;33m:\u001b[0m\u001b[1;33m\u001b[0m\u001b[1;33m\u001b[0m\u001b[0m\n\u001b[0;32m   1169\u001b[0m                 \u001b[1;32mif\u001b[0m \u001b[0m_sys\u001b[0m\u001b[1;33m.\u001b[0m\u001b[0mplatform\u001b[0m \u001b[1;33m==\u001b[0m \u001b[1;34m'win32'\u001b[0m\u001b[1;33m:\u001b[0m\u001b[1;33m\u001b[0m\u001b[1;33m\u001b[0m\u001b[0m\n\u001b[1;32m-> 1170\u001b[1;33m                     \u001b[0mopenfunction\u001b[0m \u001b[1;33m=\u001b[0m \u001b[0m_snd\u001b[0m\u001b[1;33m.\u001b[0m\u001b[0msf_wchar_open\u001b[0m\u001b[1;33m\u001b[0m\u001b[1;33m\u001b[0m\u001b[0m\n\u001b[0m\u001b[0;32m   1171\u001b[0m                 \u001b[1;32melse\u001b[0m\u001b[1;33m:\u001b[0m\u001b[1;33m\u001b[0m\u001b[1;33m\u001b[0m\u001b[0m\n\u001b[0;32m   1172\u001b[0m                     \u001b[0mfile\u001b[0m \u001b[1;33m=\u001b[0m \u001b[0mfile\u001b[0m\u001b[1;33m.\u001b[0m\u001b[0mencode\u001b[0m\u001b[1;33m(\u001b[0m\u001b[0m_sys\u001b[0m\u001b[1;33m.\u001b[0m\u001b[0mgetfilesystemencoding\u001b[0m\u001b[1;33m(\u001b[0m\u001b[1;33m)\u001b[0m\u001b[1;33m)\u001b[0m\u001b[1;33m\u001b[0m\u001b[1;33m\u001b[0m\u001b[0m\n",
      "\u001b[1;31mAttributeError\u001b[0m: cffi library 'C:\\Users\\KRPTN\\Anaconda3\\envs\\tf_2\\Library\\bin\\sndfile.dll' has no function, constant or global variable named 'sf_wchar_open'"
     ]
    }
   ],
   "source": [
    "signal, sr = librosa.load(\"../raw_dataset/files/BIG ROOM/01 Agus Zack _ Devbanz - Workout (Extended M.mp3\") # len(signal) = 661794  # sr is 22050 by default "
   ]
  },
  {
   "cell_type": "code",
   "execution_count": null,
   "metadata": {},
   "outputs": [],
   "source": [
    "signal.shape[0]\n",
    "mfcc = librosa.feature.mfcc(signal[start_sample : finish_sample],\n",
    "                                                   sr = sr,\n",
    "                                                   n_fft = n_fft,\n",
    "                                                   n_mfcc = n_mfcc,\n",
    "                                                   hop_length = hop_length)\n",
    "import matplotlib.pyplot as plt\n",
    "import numpy as np\n",
    "from matplotlib import cm\n",
    "\n",
    "(rate,sig) = wav.read(\"file.wav\")\n",
    "mfcc_feat = mfcc\n",
    "\n",
    "ig, ax = plt.subplots()\n",
    "mfcc_data= np.swapaxes(mfcc_feat, 0 ,1)\n",
    "cax = ax.imshow(mfcc_data, interpolation='nearest', cmap=cm.coolwarm, origin='lower', aspect='auto')\n",
    "ax.set_title('MFCC')\n",
    "#Showing mfcc_data\n",
    "plt.show()\n",
    "#Showing mfcc_feat\n",
    "plt.plot(mfcc_feat)\n",
    "plt.show()"
   ]
  },
  {
   "cell_type": "code",
   "execution_count": null,
   "metadata": {},
   "outputs": [],
   "source": []
  }
 ],
 "metadata": {
  "kernelspec": {
   "display_name": "Python 3",
   "language": "python",
   "name": "python3"
  },
  "language_info": {
   "codemirror_mode": {
    "name": "ipython",
    "version": 3
   },
   "file_extension": ".py",
   "mimetype": "text/x-python",
   "name": "python",
   "nbconvert_exporter": "python",
   "pygments_lexer": "ipython3",
   "version": "3.7.8"
  }
 },
 "nbformat": 4,
 "nbformat_minor": 4
}
