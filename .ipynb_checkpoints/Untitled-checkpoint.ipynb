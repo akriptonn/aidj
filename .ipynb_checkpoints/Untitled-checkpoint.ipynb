{
 "cells": [
  {
   "cell_type": "code",
   "execution_count": null,
   "metadata": {},
   "outputs": [],
   "source": [
    "#Load The library"
   ]
  },
  {
   "cell_type": "code",
   "execution_count": 1,
   "metadata": {},
   "outputs": [],
   "source": [
    "import mss"
   ]
  },
  {
   "cell_type": "code",
   "execution_count": null,
   "metadata": {},
   "outputs": [],
   "source": []
  },
  {
   "cell_type": "code",
   "execution_count": 2,
   "metadata": {},
   "outputs": [
    {
     "name": "stdout",
     "output_type": "stream",
     "text": [
      "\n",
      "Processing tesuto\n"
     ]
    },
    {
     "name": "stderr",
     "output_type": "stream",
     "text": [
      "/home/akriptonn/anaconda3/envs/aidj/lib/python3.8/site-packages/librosa/core/audio.py:162: UserWarning: PySoundFile failed. Trying audioread instead.\n",
      "  warnings.warn(\"PySoundFile failed. Trying audioread instead.\")\n"
     ]
    },
    {
     "name": "stdout",
     "output_type": "stream",
     "text": [
      "(65, 13)\n",
      "(65, 13)\n",
      "(65, 13)\n",
      "(65, 13)\n",
      "(65, 13)\n",
      "(65, 13)\n",
      "(65, 13)\n",
      "(65, 13)\n",
      "(65, 13)\n",
      "(65, 13)\n"
     ]
    },
    {
     "name": "stderr",
     "output_type": "stream",
     "text": [
      "/home/akriptonn/anaconda3/envs/aidj/lib/python3.8/site-packages/librosa/core/audio.py:162: UserWarning: PySoundFile failed. Trying audioread instead.\n",
      "  warnings.warn(\"PySoundFile failed. Trying audioread instead.\")\n"
     ]
    },
    {
     "name": "stdout",
     "output_type": "stream",
     "text": [
      "(65, 13)\n",
      "(65, 13)\n",
      "(65, 13)\n",
      "(65, 13)\n",
      "(65, 13)\n",
      "(65, 13)\n",
      "(65, 13)\n",
      "(65, 13)\n",
      "(65, 13)\n",
      "(65, 13)\n"
     ]
    },
    {
     "name": "stderr",
     "output_type": "stream",
     "text": [
      "/home/akriptonn/anaconda3/envs/aidj/lib/python3.8/site-packages/librosa/core/audio.py:162: UserWarning: PySoundFile failed. Trying audioread instead.\n",
      "  warnings.warn(\"PySoundFile failed. Trying audioread instead.\")\n"
     ]
    },
    {
     "name": "stdout",
     "output_type": "stream",
     "text": [
      "(65, 13)\n",
      "(65, 13)\n",
      "(65, 13)\n",
      "(65, 13)\n",
      "(65, 13)\n",
      "(65, 13)\n",
      "(65, 13)\n",
      "(65, 13)\n",
      "(65, 13)\n",
      "(65, 13)\n",
      "[3, 3, 3]\n",
      "['../Thesis/Dataset/tesuto/13355827_Like_This_Club_Mix.mp3', '../Thesis/Dataset/tesuto/13587149_Click_Original_Mix.mp3', '../Thesis/Dataset/tesuto/21. Guru Josh Projekt vs Blinders and more -.mp3']\n",
      "(0, 3)\n",
      "(1, 3)\n",
      "(2, 3)\n",
      "['../Thesis/Dataset/tesuto/13355827_Like_This_Club_Mix.mp3', '../Thesis/Dataset/tesuto/13587149_Click_Original_Mix.mp3', '../Thesis/Dataset/tesuto/21. Guru Josh Projekt vs Blinders and more -.mp3']\n"
     ]
    }
   ],
   "source": [
    "ms = mss.MusicSelectionSystem('config/mss.json','../Thesis/Dataset/tesuto')"
   ]
  },
  {
   "cell_type": "code",
   "execution_count": 3,
   "metadata": {},
   "outputs": [
    {
     "data": {
      "text/plain": [
       "[[[], [], [], [0, 1, 2], [], []],\n",
       " [[],\n",
       "  [],\n",
       "  [],\n",
       "  [0],\n",
       "  [],\n",
       "  [],\n",
       "  [],\n",
       "  [2],\n",
       "  [1],\n",
       "  [],\n",
       "  [],\n",
       "  [],\n",
       "  [],\n",
       "  [],\n",
       "  [],\n",
       "  [],\n",
       "  [],\n",
       "  [],\n",
       "  [],\n",
       "  [],\n",
       "  [],\n",
       "  [],\n",
       "  [],\n",
       "  [],\n",
       "  []]]"
      ]
     },
     "execution_count": 3,
     "metadata": {},
     "output_type": "execute_result"
    }
   ],
   "source": [
    "ms.Database.getList()\n",
    "ms.Database.getFreshList()"
   ]
  },
  {
   "cell_type": "code",
   "execution_count": 17,
   "metadata": {},
   "outputs": [
    {
     "name": "stdout",
     "output_type": "stream",
     "text": [
      "flushed\n",
      "1 3\n",
      "Not found\n",
      "Not found\n",
      "0 []\n",
      "0 []\n",
      "0 []\n",
      "0 [0]\n",
      "(4, 2, 15)\n",
      "0 []\n",
      "0 []\n",
      "0 []\n",
      "0 [0]\n",
      "3\n"
     ]
    },
    {
     "data": {
      "text/plain": [
       "'../Thesis/Dataset/tesuto/13355827_Like_This_Club_Mix.mp3'"
      ]
     },
     "execution_count": 17,
     "metadata": {},
     "output_type": "execute_result"
    }
   ],
   "source": [
    "\n",
    "ms.getNextMusic(ignore_empty=False, care_key=True, crowd=3)"
   ]
  },
  {
   "cell_type": "code",
   "execution_count": null,
   "metadata": {},
   "outputs": [],
   "source": [
    "outp = ['1A', '2A', '3A', '4A', '5A', '6A', '7A', '8A', '9A', '10A', '11A', '12A', '1B', '2B', '3B', '4B', '5B', '6B', '7B', '8B', '9B', '10B', '11B', '12B']"
   ]
  },
  {
   "cell_type": "code",
   "execution_count": null,
   "metadata": {},
   "outputs": [],
   "source": [
    "for index in range(24):\n",
    "    t1, t2, t3 = ms.__generate_key__(index)\n",
    "    print(outp[int(index)],outp[int(t1)],outp[int(t2)],outp[int(t3)] )"
   ]
  },
  {
   "cell_type": "code",
   "execution_count": null,
   "metadata": {},
   "outputs": [],
   "source": [
    "len(outp)"
   ]
  },
  {
   "cell_type": "code",
   "execution_count": null,
   "metadata": {},
   "outputs": [],
   "source": []
  }
 ],
 "metadata": {
  "kernelspec": {
   "display_name": "Python 3",
   "language": "python",
   "name": "python3"
  },
  "language_info": {
   "codemirror_mode": {
    "name": "ipython",
    "version": 3
   },
   "file_extension": ".py",
   "mimetype": "text/x-python",
   "name": "python",
   "nbconvert_exporter": "python",
   "pygments_lexer": "ipython3",
   "version": "3.8.5"
  }
 },
 "nbformat": 4,
 "nbformat_minor": 4
}
